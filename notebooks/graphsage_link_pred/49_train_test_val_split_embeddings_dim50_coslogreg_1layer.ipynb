{
 "cells": [
  {
   "cell_type": "code",
   "execution_count": 1,
   "metadata": {},
   "outputs": [
    {
     "name": "stderr",
     "output_type": "stream",
     "text": [
      "Using backend: pytorch\n"
     ]
    }
   ],
   "source": [
    "import pandas as pd\n",
    "import numpy as np\n",
    "from sklearn.metrics import accuracy_score\n",
    "import torch\n",
    "import torch.nn.functional as F\n",
    "from ogb.nodeproppred import PygNodePropPredDataset, Evaluator\n",
    "import torch_geometric.transforms as T\n",
    "from torch_geometric.utils import negative_sampling\n",
    "from torch_geometric.data import DataLoader\n",
    "from torch_geometric.nn import SAGEConv"
   ]
  },
  {
   "cell_type": "code",
   "execution_count": 2,
   "metadata": {},
   "outputs": [
    {
     "data": {
      "text/plain": [
       "PygNodePropPredDataset()"
      ]
     },
     "execution_count": 2,
     "metadata": {},
     "output_type": "execute_result"
    }
   ],
   "source": [
    "dataset = PygNodePropPredDataset(name='ogbn-arxiv', \n",
    "                                 root='../../data/dataset/',\n",
    "                                 #transform=T.ToSparseTensor()\n",
    "                                 )\n",
    "dataset"
   ]
  },
  {
   "cell_type": "code",
   "execution_count": 3,
   "metadata": {},
   "outputs": [
    {
     "data": {
      "text/plain": [
       "True"
      ]
     },
     "execution_count": 3,
     "metadata": {},
     "output_type": "execute_result"
    }
   ],
   "source": [
    "torch.cuda.is_available()"
   ]
  },
  {
   "cell_type": "code",
   "execution_count": 4,
   "metadata": {},
   "outputs": [
    {
     "data": {
      "text/plain": [
       "Data(edge_index=[2, 1166243], node_year=[169343, 1], x=[169343, 128], y=[169343, 1])"
      ]
     },
     "execution_count": 4,
     "metadata": {},
     "output_type": "execute_result"
    }
   ],
   "source": [
    "data = dataset[0]\n",
    "data"
   ]
  },
  {
   "cell_type": "code",
   "execution_count": 5,
   "metadata": {},
   "outputs": [
    {
     "data": {
      "text/plain": [
       "torch_geometric.data.data.Data"
      ]
     },
     "execution_count": 5,
     "metadata": {},
     "output_type": "execute_result"
    }
   ],
   "source": [
    "type(data)"
   ]
  },
  {
   "cell_type": "code",
   "execution_count": 6,
   "metadata": {},
   "outputs": [
    {
     "data": {
      "text/plain": [
       "{'train': tensor([     0,      1,      2,  ..., 169145, 169148, 169251]),\n",
       " 'valid': tensor([   349,    357,    366,  ..., 169185, 169261, 169296]),\n",
       " 'test': tensor([   346,    398,    451,  ..., 169340, 169341, 169342])}"
      ]
     },
     "execution_count": 6,
     "metadata": {},
     "output_type": "execute_result"
    }
   ],
   "source": [
    "split_idx = dataset.get_idx_split()\n",
    "split_idx"
   ]
  },
  {
   "cell_type": "code",
   "execution_count": 7,
   "metadata": {},
   "outputs": [],
   "source": [
    "all_edges = data.edge_index"
   ]
  },
  {
   "cell_type": "code",
   "execution_count": 8,
   "metadata": {},
   "outputs": [
    {
     "data": {
      "text/plain": [
       "torch.Size([2, 1166243])"
      ]
     },
     "execution_count": 8,
     "metadata": {},
     "output_type": "execute_result"
    }
   ],
   "source": [
    "all_edges.shape"
   ]
  },
  {
   "cell_type": "code",
   "execution_count": 9,
   "metadata": {},
   "outputs": [
    {
     "data": {
      "text/plain": [
       "tensor([620901, 244106, 151922,  ..., 667426,  64372, 582625])"
      ]
     },
     "execution_count": 9,
     "metadata": {},
     "output_type": "execute_result"
    }
   ],
   "source": [
    "torch.manual_seed(12345)\n",
    "idx = torch.randperm(data.edge_index.size(1))\n",
    "idx"
   ]
  },
  {
   "cell_type": "code",
   "execution_count": 10,
   "metadata": {},
   "outputs": [
    {
     "data": {
      "text/plain": [
       "(29156, 29156)"
      ]
     },
     "execution_count": 10,
     "metadata": {},
     "output_type": "execute_result"
    }
   ],
   "source": [
    "n_val_edges = n_test_edges = int(data.edge_index.size(1) * 0.025)\n",
    "n_val_edges, n_test_edges"
   ]
  },
  {
   "cell_type": "code",
   "execution_count": 11,
   "metadata": {},
   "outputs": [
    {
     "data": {
      "text/plain": [
       "(tensor([620901, 244106, 151922,  ..., 406803, 294223, 329780]),\n",
       " tensor([  72465,  954986,  819672,  ...,  383355,  221124, 1049776]))"
      ]
     },
     "execution_count": 11,
     "metadata": {},
     "output_type": "execute_result"
    }
   ],
   "source": [
    "val_idx = idx[:n_val_edges]\n",
    "test_idx = idx[n_val_edges:(n_val_edges + n_test_edges)]\n",
    "val_idx, test_idx"
   ]
  },
  {
   "cell_type": "code",
   "execution_count": 12,
   "metadata": {},
   "outputs": [
    {
     "data": {
      "text/plain": [
       "tensor([[126442, 142022,  45460,  ...,  16499,  41597,  64196],\n",
       "        [167681, 104032,  26564,  ...,  76002, 149932, 137760]])"
      ]
     },
     "execution_count": 12,
     "metadata": {},
     "output_type": "execute_result"
    }
   ],
   "source": [
    "val_edges = data.edge_index[:, val_idx]\n",
    "test_edges = data.edge_index[:, test_idx]\n",
    "val_edges"
   ]
  },
  {
   "cell_type": "code",
   "execution_count": 13,
   "metadata": {},
   "outputs": [
    {
     "data": {
      "text/plain": [
       "29156"
      ]
     },
     "execution_count": 13,
     "metadata": {},
     "output_type": "execute_result"
    }
   ],
   "source": [
    "val_edges.size(1)"
   ]
  },
  {
   "cell_type": "code",
   "execution_count": 14,
   "metadata": {},
   "outputs": [],
   "source": [
    "neg_val_edges = negative_sampling(all_edges, num_nodes=data.x.size(0),\n",
    "                                  num_neg_samples=val_edges.size(1), method='sparse')\n",
    "neg_test_edges = negative_sampling(all_edges, num_nodes=data.x.size(0),\n",
    "                                   num_neg_samples=test_edges.size(1), method='sparse')"
   ]
  },
  {
   "cell_type": "code",
   "execution_count": 15,
   "metadata": {},
   "outputs": [
    {
     "data": {
      "text/plain": [
       "tensor([ 620901,  244106,  151922,  ...,  383355,  221124, 1049776])"
      ]
     },
     "execution_count": 15,
     "metadata": {},
     "output_type": "execute_result"
    }
   ],
   "source": [
    "remove_idx = torch.cat([val_idx, test_idx])\n",
    "remove_idx"
   ]
  },
  {
   "cell_type": "code",
   "execution_count": 16,
   "metadata": {},
   "outputs": [],
   "source": [
    "def remove_rows(tensor, indices):\n",
    "    mask = torch.ones(tensor.size(1), dtype=torch.bool)\n",
    "    mask[indices] = False\n",
    "    return tensor[:, mask]"
   ]
  },
  {
   "cell_type": "code",
   "execution_count": 17,
   "metadata": {
    "scrolled": true
   },
   "outputs": [
    {
     "data": {
      "text/plain": [
       "torch.Size([2, 1107931])"
      ]
     },
     "execution_count": 17,
     "metadata": {},
     "output_type": "execute_result"
    }
   ],
   "source": [
    "data.edge_index = remove_rows(data.edge_index, remove_idx)\n",
    "data.edge_index.size()"
   ]
  },
  {
   "cell_type": "code",
   "execution_count": 18,
   "metadata": {},
   "outputs": [
    {
     "data": {
      "text/plain": [
       "Data(adj_t=[169343, 169343, nnz=1107931], node_year=[169343, 1], x=[169343, 128], y=[169343, 1])"
      ]
     },
     "execution_count": 18,
     "metadata": {},
     "output_type": "execute_result"
    }
   ],
   "source": [
    "T.ToSparseTensor()(data)\n",
    "data"
   ]
  },
  {
   "cell_type": "code",
   "execution_count": 19,
   "metadata": {},
   "outputs": [],
   "source": [
    "data.adj_t = data.adj_t.to_symmetric()"
   ]
  },
  {
   "cell_type": "code",
   "execution_count": 20,
   "metadata": {},
   "outputs": [
    {
     "data": {
      "text/plain": [
       "tensor([[   411,    640,   1162,  ..., 163274,  27824, 158981],\n",
       "        [     0,      0,      0,  ..., 169341, 169342, 169342]])"
      ]
     },
     "execution_count": 20,
     "metadata": {},
     "output_type": "execute_result"
    }
   ],
   "source": [
    "row, col, _ = data.adj_t.coo()\n",
    "edge_index = torch.stack([col, row], dim=0)\n",
    "edge_index"
   ]
  },
  {
   "cell_type": "code",
   "execution_count": 21,
   "metadata": {},
   "outputs": [],
   "source": [
    "class SAGE(torch.nn.Module):\n",
    "    def __init__(self, in_channels, out_channels,\n",
    "                 dropout):\n",
    "        super(SAGE, self).__init__()\n",
    "\n",
    "        self.convs = torch.nn.ModuleList()\n",
    "        self.convs.append(SAGEConv(in_channels, out_channels))\n",
    "\n",
    "        self.dropout = dropout\n",
    "\n",
    "    def reset_parameters(self):\n",
    "        for conv in self.convs:\n",
    "            conv.reset_parameters()\n",
    "\n",
    "    def forward(self, x, adj_t):\n",
    "        for conv in self.convs[:-1]:\n",
    "            x = conv(x, adj_t)\n",
    "            x = F.relu(x)\n",
    "            x = F.dropout(x, p=self.dropout, training=self.training)\n",
    "        x = self.convs[-1](x, adj_t)\n",
    "        return x\n",
    "\n",
    "\n",
    "class LinkPredictor(torch.nn.Module):\n",
    "    def __init__(self, out_channels, bias=True):\n",
    "        super(LinkPredictor, self).__init__()\n",
    "        self.lin = torch.nn.Linear(1, out_channels, bias=bias)\n",
    "\n",
    "    def reset_parameters(self):\n",
    "        self.lin.weight.data.fill_(1)\n",
    "        self.lin.bias.data.fill_(0)\n",
    "\n",
    "    def forward(self, x_i, x_j):\n",
    "        cos_sim = torch.sum(\n",
    "            torch.mul(F.normalize(x_i), \n",
    "                      F.normalize(x_j)), \n",
    "            dim=1,\n",
    "            keepdim=True\n",
    "        )\n",
    "        x = self.lin(cos_sim)\n",
    "        return torch.sigmoid(x)"
   ]
  },
  {
   "cell_type": "code",
   "execution_count": 22,
   "metadata": {},
   "outputs": [],
   "source": [
    "device=0\n",
    "log_steps=1\n",
    "num_layers=1\n",
    "hidden_channels=50\n",
    "dropout=0.5\n",
    "batch_size=128 * 1024\n",
    "lr=0.005\n",
    "epochs=300\n",
    "eval_steps=5\n",
    "runs=10"
   ]
  },
  {
   "cell_type": "code",
   "execution_count": 23,
   "metadata": {},
   "outputs": [
    {
     "data": {
      "text/plain": [
       "device(type='cuda', index=0)"
      ]
     },
     "execution_count": 23,
     "metadata": {},
     "output_type": "execute_result"
    }
   ],
   "source": [
    "device = f'cuda:{device}' if torch.cuda.is_available() else 'cpu'\n",
    "device = torch.device(device)\n",
    "device"
   ]
  },
  {
   "cell_type": "code",
   "execution_count": 24,
   "metadata": {},
   "outputs": [],
   "source": [
    "adj_t = data.adj_t.to(device)"
   ]
  },
  {
   "cell_type": "code",
   "execution_count": 25,
   "metadata": {},
   "outputs": [
    {
     "data": {
      "text/plain": [
       "<torch._C.Generator at 0x7fa7be9b8410>"
      ]
     },
     "execution_count": 25,
     "metadata": {},
     "output_type": "execute_result"
    }
   ],
   "source": [
    "torch.manual_seed(12345)"
   ]
  },
  {
   "cell_type": "code",
   "execution_count": 26,
   "metadata": {},
   "outputs": [],
   "source": [
    "model = SAGE(hidden_channels, hidden_channels,\n",
    "             dropout).to(device)"
   ]
  },
  {
   "cell_type": "code",
   "execution_count": 27,
   "metadata": {},
   "outputs": [],
   "source": [
    "emb = torch.nn.Embedding(data.num_nodes, hidden_channels).to(device)"
   ]
  },
  {
   "cell_type": "code",
   "execution_count": 28,
   "metadata": {},
   "outputs": [],
   "source": [
    "predictor = LinkPredictor(1).to(device)"
   ]
  },
  {
   "cell_type": "code",
   "execution_count": 29,
   "metadata": {},
   "outputs": [
    {
     "data": {
      "text/plain": [
       "Parameter containing:\n",
       "tensor([[0.6750]], device='cuda:0', requires_grad=True)"
      ]
     },
     "execution_count": 29,
     "metadata": {},
     "output_type": "execute_result"
    }
   ],
   "source": [
    "predictor.lin.weight"
   ]
  },
  {
   "cell_type": "code",
   "execution_count": 30,
   "metadata": {},
   "outputs": [
    {
     "data": {
      "text/plain": [
       "(169343, 50)"
      ]
     },
     "execution_count": 30,
     "metadata": {},
     "output_type": "execute_result"
    }
   ],
   "source": [
    "emb.weight.size(0), emb.weight.size(1)"
   ]
  },
  {
   "cell_type": "code",
   "execution_count": 31,
   "metadata": {
    "scrolled": true
   },
   "outputs": [
    {
     "data": {
      "text/plain": [
       "Parameter containing:\n",
       "tensor([[ 3.8116e-03, -1.7777e-04,  2.6052e-03,  ..., -9.5538e-04,\n",
       "         -5.6698e-03,  2.9117e-03],\n",
       "        [ 4.8286e-03,  5.7555e-03,  4.1475e-03,  ...,  2.2556e-03,\n",
       "          2.7162e-03,  4.5704e-03],\n",
       "        [ 1.6921e-03, -1.5087e-03,  3.1802e-03,  ..., -4.9685e-03,\n",
       "         -5.1306e-04, -9.3337e-04],\n",
       "        ...,\n",
       "        [ 4.1685e-03,  3.3565e-03,  3.5653e-03,  ...,  3.1168e-03,\n",
       "         -1.2510e-03, -3.7040e-03],\n",
       "        [-6.9713e-04,  2.8990e-03,  4.6939e-03,  ...,  3.2265e-03,\n",
       "          2.1993e-03,  4.2817e-03],\n",
       "        [ 4.2867e-03, -3.3813e-03,  3.8860e-05,  ...,  2.8638e-03,\n",
       "          5.3680e-04, -6.6582e-05]], device='cuda:0', requires_grad=True)"
      ]
     },
     "execution_count": 31,
     "metadata": {},
     "output_type": "execute_result"
    }
   ],
   "source": [
    "torch.nn.init.xavier_uniform_(emb.weight)"
   ]
  },
  {
   "cell_type": "code",
   "execution_count": 32,
   "metadata": {},
   "outputs": [],
   "source": [
    "model.reset_parameters()\n",
    "predictor.reset_parameters()"
   ]
  },
  {
   "cell_type": "code",
   "execution_count": 33,
   "metadata": {},
   "outputs": [
    {
     "data": {
      "text/plain": [
       "Parameter containing:\n",
       "tensor([[1.]], device='cuda:0', requires_grad=True)"
      ]
     },
     "execution_count": 33,
     "metadata": {},
     "output_type": "execute_result"
    }
   ],
   "source": [
    "predictor.lin.weight"
   ]
  },
  {
   "cell_type": "code",
   "execution_count": 34,
   "metadata": {},
   "outputs": [
    {
     "data": {
      "text/plain": [
       "Parameter containing:\n",
       "tensor([0.], device='cuda:0', requires_grad=True)"
      ]
     },
     "execution_count": 34,
     "metadata": {},
     "output_type": "execute_result"
    }
   ],
   "source": [
    "predictor.lin.bias"
   ]
  },
  {
   "cell_type": "code",
   "execution_count": 35,
   "metadata": {},
   "outputs": [],
   "source": [
    "optimizer = torch.optim.Adam(\n",
    "    list(model.parameters()) + list(emb.parameters()) +\n",
    "    list(predictor.parameters()), lr=lr)"
   ]
  },
  {
   "cell_type": "code",
   "execution_count": 36,
   "metadata": {},
   "outputs": [],
   "source": [
    "def train(model, predictor, x, adj_t, optimizer, batch_size):\n",
    "\n",
    "    row, col, _ = adj_t.coo()\n",
    "    edge_index = torch.stack([col, row], dim=0)\n",
    "\n",
    "    model.train()\n",
    "    predictor.train()\n",
    "\n",
    "    pos_train_edge = edge_index.t().to(x.device)\n",
    "\n",
    "    total_loss = total_examples = 0\n",
    "    for perm in DataLoader(range(pos_train_edge.size(0)), batch_size,\n",
    "                           shuffle=True):\n",
    "        optimizer.zero_grad()\n",
    "\n",
    "        h = model(x, adj_t)\n",
    "\n",
    "        edge = pos_train_edge[perm].t()\n",
    "\n",
    "        pos_out = predictor(h[edge[0]], h[edge[1]])\n",
    "        pos_loss = -torch.log(pos_out + 1e-15).mean()\n",
    "\n",
    "        edge = negative_sampling(edge_index, num_nodes=x.size(0),\n",
    "                                 num_neg_samples=perm.size(0), method='sparse')\n",
    "\n",
    "        neg_out = predictor(h[edge[0]], h[edge[1]])\n",
    "        neg_loss = -torch.log(1 - neg_out + 1e-15).mean()\n",
    "\n",
    "        loss = pos_loss + neg_loss\n",
    "        loss.backward()\n",
    "\n",
    "        torch.nn.utils.clip_grad_norm_(x, 1.0)\n",
    "        torch.nn.utils.clip_grad_norm_(model.parameters(), 1.0)\n",
    "        torch.nn.utils.clip_grad_norm_(predictor.parameters(), 1.0)\n",
    "\n",
    "        optimizer.step()\n",
    "\n",
    "        num_examples = pos_out.size(0)\n",
    "        total_loss += loss.item() * num_examples\n",
    "        total_examples += num_examples\n",
    "\n",
    "    return total_loss / total_examples"
   ]
  },
  {
   "cell_type": "code",
   "execution_count": 37,
   "metadata": {},
   "outputs": [
    {
     "data": {
      "text/plain": [
       "tensor([[126442, 142022,  45460,   1964,  59023],\n",
       "        [167681, 104032,  26564,  13902, 105460]])"
      ]
     },
     "execution_count": 37,
     "metadata": {},
     "output_type": "execute_result"
    }
   ],
   "source": [
    "edge = val_edges[:, 0:5]\n",
    "edge"
   ]
  },
  {
   "cell_type": "code",
   "execution_count": 38,
   "metadata": {},
   "outputs": [],
   "source": [
    "def test(model, predictor, x, adj_t, batch_size, val_edges, test_edges, neg_val_edges, neg_test_edges):\n",
    "    model.eval()\n",
    "    predictor.eval()\n",
    "    \n",
    "    h = model(x, adj_t)\n",
    "    \n",
    "    val_pos_out = predictor(h[val_edges[0]], h[val_edges[1]])\n",
    "    val_pos_loss = -torch.log(val_pos_out + 1e-15).mean()\n",
    "    \n",
    "    val_neg_out = predictor(h[neg_val_edges[0]], h[neg_val_edges[1]])\n",
    "    val_neg_loss = -torch.log(1 - val_neg_out + 1e-15).mean()\n",
    "    \n",
    "    \n",
    "    test_pos_out = predictor(h[test_edges[0]], h[test_edges[1]])\n",
    "    test_pos_loss = -torch.log(test_pos_out + 1e-15).mean()\n",
    "    \n",
    "    test_neg_out = predictor(h[neg_test_edges[0]], h[neg_test_edges[1]])\n",
    "    test_neg_loss = -torch.log(1 - test_neg_out + 1e-15).mean()\n",
    "    \n",
    "    return val_pos_loss + val_neg_loss, test_pos_loss + test_neg_loss"
   ]
  },
  {
   "cell_type": "code",
   "execution_count": 39,
   "metadata": {},
   "outputs": [],
   "source": [
    "def save_models(model, predictor, embedding, epoch):\n",
    "    torch.save(model, f'../../models/graphsage_link_pred/49_model_epoch{epoch:04d}.pt')\n",
    "    torch.save(embedding, f'../../models/graphsage_link_pred/49_embedding_epoch{epoch:04d}.pt')\n",
    "    torch.save(predictor, f'../../models/graphsage_link_pred/49_predictor_epoch{epoch:04d}.pt')"
   ]
  },
  {
   "cell_type": "code",
   "execution_count": 40,
   "metadata": {},
   "outputs": [],
   "source": [
    "losses = pd.DataFrame(columns=[\n",
    "    'epoch',\n",
    "    'train_loss',\n",
    "    'valid_loss',\n",
    "    'test_loss'\n",
    "])"
   ]
  },
  {
   "cell_type": "code",
   "execution_count": null,
   "metadata": {},
   "outputs": [],
   "source": []
  },
  {
   "cell_type": "code",
   "execution_count": null,
   "metadata": {},
   "outputs": [],
   "source": []
  },
  {
   "cell_type": "code",
   "execution_count": null,
   "metadata": {},
   "outputs": [],
   "source": []
  },
  {
   "cell_type": "code",
   "execution_count": null,
   "metadata": {},
   "outputs": [],
   "source": []
  },
  {
   "cell_type": "code",
   "execution_count": 41,
   "metadata": {},
   "outputs": [
    {
     "name": "stdout",
     "output_type": "stream",
     "text": [
      "Epoch: 0005, Train Loss: 0.9797, Valid loss: 1.0032, Test loss: 0.9987\n",
      "Epoch: 0010, Train Loss: 0.8461, Valid loss: 0.8801, Test loss: 0.8738\n",
      "Epoch: 0015, Train Loss: 0.7411, Valid loss: 0.7860, Test loss: 0.7819\n",
      "Epoch: 0020, Train Loss: 0.6569, Valid loss: 0.7120, Test loss: 0.7091\n",
      "Epoch: 0025, Train Loss: 0.5894, Valid loss: 0.6546, Test loss: 0.6511\n",
      "Epoch: 0030, Train Loss: 0.5331, Valid loss: 0.6079, Test loss: 0.6048\n",
      "Epoch: 0035, Train Loss: 0.4854, Valid loss: 0.5694, Test loss: 0.5664\n",
      "Epoch: 0040, Train Loss: 0.4452, Valid loss: 0.5373, Test loss: 0.5357\n",
      "Epoch: 0045, Train Loss: 0.4110, Valid loss: 0.5113, Test loss: 0.5094\n",
      "Epoch: 0050, Train Loss: 0.3809, Valid loss: 0.4887, Test loss: 0.4862\n",
      "Epoch: 0055, Train Loss: 0.3550, Valid loss: 0.4705, Test loss: 0.4674\n",
      "Epoch: 0060, Train Loss: 0.3322, Valid loss: 0.4535, Test loss: 0.4519\n",
      "Epoch: 0065, Train Loss: 0.3121, Valid loss: 0.4411, Test loss: 0.4388\n",
      "Epoch: 0070, Train Loss: 0.2934, Valid loss: 0.4301, Test loss: 0.4269\n",
      "Epoch: 0075, Train Loss: 0.2770, Valid loss: 0.4200, Test loss: 0.4165\n",
      "Epoch: 0080, Train Loss: 0.2622, Valid loss: 0.4110, Test loss: 0.4078\n",
      "Epoch: 0085, Train Loss: 0.2483, Valid loss: 0.4039, Test loss: 0.4008\n",
      "Epoch: 0090, Train Loss: 0.2366, Valid loss: 0.3971, Test loss: 0.3944\n",
      "Epoch: 0095, Train Loss: 0.2258, Valid loss: 0.3921, Test loss: 0.3900\n",
      "Epoch: 0100, Train Loss: 0.2154, Valid loss: 0.3873, Test loss: 0.3857\n",
      "Epoch: 0105, Train Loss: 0.2058, Valid loss: 0.3847, Test loss: 0.3829\n",
      "Epoch: 0110, Train Loss: 0.1971, Valid loss: 0.3819, Test loss: 0.3797\n",
      "Epoch: 0115, Train Loss: 0.1890, Valid loss: 0.3788, Test loss: 0.3767\n",
      "Epoch: 0120, Train Loss: 0.1817, Valid loss: 0.3768, Test loss: 0.3748\n",
      "Epoch: 0125, Train Loss: 0.1748, Valid loss: 0.3747, Test loss: 0.3732\n",
      "Epoch: 0130, Train Loss: 0.1682, Valid loss: 0.3737, Test loss: 0.3714\n",
      "Epoch: 0135, Train Loss: 0.1619, Valid loss: 0.3734, Test loss: 0.3715\n",
      "Epoch: 0140, Train Loss: 0.1561, Valid loss: 0.3739, Test loss: 0.3718\n",
      "Epoch: 0145, Train Loss: 0.1512, Valid loss: 0.3734, Test loss: 0.3717\n",
      "Epoch: 0150, Train Loss: 0.1460, Valid loss: 0.3743, Test loss: 0.3721\n",
      "Epoch: 0155, Train Loss: 0.1412, Valid loss: 0.3745, Test loss: 0.3730\n",
      "Epoch: 0160, Train Loss: 0.1366, Valid loss: 0.3762, Test loss: 0.3752\n",
      "Epoch: 0165, Train Loss: 0.1327, Valid loss: 0.3783, Test loss: 0.3773\n",
      "Epoch: 0170, Train Loss: 0.1285, Valid loss: 0.3789, Test loss: 0.3778\n",
      "Epoch: 0175, Train Loss: 0.1244, Valid loss: 0.3811, Test loss: 0.3800\n",
      "Epoch: 0180, Train Loss: 0.1207, Valid loss: 0.3820, Test loss: 0.3804\n",
      "Epoch: 0185, Train Loss: 0.1173, Valid loss: 0.3835, Test loss: 0.3821\n",
      "Epoch: 0190, Train Loss: 0.1140, Valid loss: 0.3855, Test loss: 0.3840\n",
      "Epoch: 0195, Train Loss: 0.1109, Valid loss: 0.3887, Test loss: 0.3867\n",
      "Epoch: 0200, Train Loss: 0.1076, Valid loss: 0.3916, Test loss: 0.3902\n",
      "Epoch: 0205, Train Loss: 0.1044, Valid loss: 0.3943, Test loss: 0.3926\n",
      "Epoch: 0210, Train Loss: 0.1015, Valid loss: 0.3961, Test loss: 0.3940\n",
      "Epoch: 0215, Train Loss: 0.0989, Valid loss: 0.3989, Test loss: 0.3973\n",
      "Epoch: 0220, Train Loss: 0.0962, Valid loss: 0.4020, Test loss: 0.4003\n",
      "Epoch: 0225, Train Loss: 0.0939, Valid loss: 0.4048, Test loss: 0.4028\n",
      "Epoch: 0230, Train Loss: 0.0915, Valid loss: 0.4085, Test loss: 0.4070\n",
      "Epoch: 0235, Train Loss: 0.0891, Valid loss: 0.4134, Test loss: 0.4116\n",
      "Epoch: 0240, Train Loss: 0.0870, Valid loss: 0.4169, Test loss: 0.4150\n",
      "Epoch: 0245, Train Loss: 0.0846, Valid loss: 0.4194, Test loss: 0.4186\n",
      "Epoch: 0250, Train Loss: 0.0827, Valid loss: 0.4249, Test loss: 0.4239\n",
      "Epoch: 0255, Train Loss: 0.0806, Valid loss: 0.4290, Test loss: 0.4270\n",
      "Epoch: 0260, Train Loss: 0.0789, Valid loss: 0.4334, Test loss: 0.4312\n",
      "Epoch: 0265, Train Loss: 0.0769, Valid loss: 0.4393, Test loss: 0.4371\n",
      "Epoch: 0270, Train Loss: 0.0753, Valid loss: 0.4433, Test loss: 0.4397\n",
      "Epoch: 0275, Train Loss: 0.0737, Valid loss: 0.4483, Test loss: 0.4447\n",
      "Epoch: 0280, Train Loss: 0.0718, Valid loss: 0.4525, Test loss: 0.4495\n",
      "Epoch: 0285, Train Loss: 0.0703, Valid loss: 0.4594, Test loss: 0.4566\n",
      "Epoch: 0290, Train Loss: 0.0687, Valid loss: 0.4602, Test loss: 0.4584\n",
      "Epoch: 0295, Train Loss: 0.0673, Valid loss: 0.4664, Test loss: 0.4641\n",
      "Epoch: 0300, Train Loss: 0.0658, Valid loss: 0.4705, Test loss: 0.4693\n"
     ]
    }
   ],
   "source": [
    "for epoch in range(1, 1 + epochs):\n",
    "    loss = train(model, predictor, emb.weight, adj_t,\n",
    "                 optimizer, batch_size)\n",
    "    \n",
    "    if epoch % eval_steps == 0:\n",
    "        valid_loss, test_loss = test(model, predictor, emb.weight, adj_t, batch_size, \n",
    "                                     val_edges, test_edges, neg_val_edges, neg_test_edges)\n",
    "        save_models(model, predictor, emb, epoch)\n",
    "        print(f'Epoch: {epoch:04d}, '\n",
    "              f'Train Loss: {loss:.4f}, '\n",
    "              f'Valid loss: {valid_loss:.4f}, '\n",
    "              f'Test loss: {test_loss:.4f}')\n",
    "        losses = losses.append({\n",
    "            'epoch': epoch,\n",
    "            'train_loss': loss,\n",
    "            'valid_loss': valid_loss.item(), \n",
    "            'test_loss': test_loss.item()\n",
    "        }, ignore_index=True)"
   ]
  },
  {
   "cell_type": "code",
   "execution_count": 42,
   "metadata": {},
   "outputs": [],
   "source": [
    "losses.to_csv('../../data/results/graphsage_link_pred/49_losses.csv', index=False)"
   ]
  }
 ],
 "metadata": {
  "kernelspec": {
   "display_name": "Python 3 (ipykernel)",
   "language": "python",
   "name": "python3"
  },
  "language_info": {
   "codemirror_mode": {
    "name": "ipython",
    "version": 3
   },
   "file_extension": ".py",
   "mimetype": "text/x-python",
   "name": "python",
   "nbconvert_exporter": "python",
   "pygments_lexer": "ipython3",
   "version": "3.8.10"
  }
 },
 "nbformat": 4,
 "nbformat_minor": 4
}
