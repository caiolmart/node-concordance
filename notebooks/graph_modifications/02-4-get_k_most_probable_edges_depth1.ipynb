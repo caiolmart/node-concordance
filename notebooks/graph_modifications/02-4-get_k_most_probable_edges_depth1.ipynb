{
 "cells": [
  {
   "cell_type": "code",
   "execution_count": 1,
   "id": "bbcf865e-32c9-481a-b7fb-661fac566cd0",
   "metadata": {},
   "outputs": [],
   "source": [
    "%load_ext autoreload\n",
    "%autoreload 2"
   ]
  },
  {
   "cell_type": "code",
   "execution_count": 2,
   "id": "d6d50784-ae0a-4e9a-923f-a8a5da84c41f",
   "metadata": {},
   "outputs": [],
   "source": [
    "import os\n",
    "\n",
    "while 'notebooks' in os.getcwd():\n",
    "    os.chdir('..')\n",
    "\n",
    "import json\n",
    "import torch\n",
    "import torch_geometric.transforms as T\n",
    "from ogb.nodeproppred import PygNodePropPredDataset, Evaluator\n",
    "from sklearn.metrics import roc_auc_score\n",
    "import logging\n",
    "import matplotlib.pyplot as plt\n",
    "import plotly.express as px\n",
    "import plotly.offline as pyo\n",
    "import numpy as np\n",
    "import pandas as pd\n",
    "from torch_geometric.loader import ShaDowKHopSampler, NeighborLoader\n",
    "from torch_geometric.utils import k_hop_subgraph\n",
    "\n",
    "from src.torch_geo_models import GraphSAGE, LinkPredictor\n",
    "from src.data.gamma.arxiv import load_data, get_val_test_edges, prepare_adjencency, get_edge_index_from_adjencency\n",
    "from src.train.gamma import GammaGraphSage"
   ]
  },
  {
   "cell_type": "code",
   "execution_count": 3,
   "id": "d302740f-dfae-4604-a1a7-75925122e68f",
   "metadata": {},
   "outputs": [],
   "source": [
    "logging.basicConfig(\n",
    "    format='%(asctime)s - %(levelname)s : %(message)s',\n",
    "    level=logging.INFO,\n",
    "    datefmt='%Y-%m-%d %H:%M:%S'\n",
    ")"
   ]
  },
  {
   "cell_type": "code",
   "execution_count": 4,
   "id": "5aac4a89-f43d-494e-92dd-4f8c0cb7d24e",
   "metadata": {},
   "outputs": [
    {
     "data": {
      "text/plain": [
       "True"
      ]
     },
     "execution_count": 4,
     "metadata": {},
     "output_type": "execute_result"
    }
   ],
   "source": [
    "torch.cuda.is_available()"
   ]
  },
  {
   "cell_type": "code",
   "execution_count": 5,
   "id": "5d7b6cb5-686a-4bba-99c0-7e954a656f4b",
   "metadata": {},
   "outputs": [
    {
     "data": {
      "text/plain": [
       "device(type='cuda', index=0)"
      ]
     },
     "execution_count": 5,
     "metadata": {},
     "output_type": "execute_result"
    }
   ],
   "source": [
    "device = f'cuda:0' if torch.cuda.is_available() else 'cpu'\n",
    "# device = 'cpu'\n",
    "device = torch.device(device)\n",
    "device"
   ]
  },
  {
   "cell_type": "code",
   "execution_count": 6,
   "id": "ae5d0c86-2999-481d-be04-cd5bec978265",
   "metadata": {},
   "outputs": [],
   "source": [
    "depth = 1\n",
    "k = 50\n",
    "out_path = f'data/graph_modifications/02-1-k{k}_best_edges.csv'"
   ]
  },
  {
   "cell_type": "markdown",
   "id": "3ee35052-8c79-4ad5-bef5-0d0759048428",
   "metadata": {
    "tags": []
   },
   "source": [
    "## Data Loading"
   ]
  },
  {
   "cell_type": "code",
   "execution_count": 7,
   "id": "2b7ad8fa-618c-469c-8929-5edd87b008cf",
   "metadata": {},
   "outputs": [],
   "source": [
    "data = load_data()\n",
    "data = prepare_adjencency(data, to_symmetric=True).to(device)"
   ]
  },
  {
   "cell_type": "code",
   "execution_count": 8,
   "id": "c6d41aa9-3b8e-432d-a1e3-6847f38c8c0a",
   "metadata": {
    "tags": []
   },
   "outputs": [
    {
     "data": {
      "text/plain": [
       "tensor(13161., device='cuda:0')"
      ]
     },
     "execution_count": 8,
     "metadata": {},
     "output_type": "execute_result"
    }
   ],
   "source": [
    "data.adj_t.sum(dim=1).max()"
   ]
  },
  {
   "cell_type": "markdown",
   "id": "b3b580b0-f3a6-46d5-b72f-69c8e3476c95",
   "metadata": {},
   "source": [
    "## Load $\\Gamma$ function"
   ]
  },
  {
   "cell_type": "code",
   "execution_count": 9,
   "id": "932d5203-4b4f-4c4b-8fbf-b6f3cb53ff8d",
   "metadata": {},
   "outputs": [],
   "source": [
    "best_model_metrics = json.load(open('models/gamma_graph_sage/best_model_info.json'))"
   ]
  },
  {
   "cell_type": "markdown",
   "id": "43257c1c-2765-4853-959c-17164e9adde8",
   "metadata": {},
   "source": [
    "### Load model"
   ]
  },
  {
   "cell_type": "code",
   "execution_count": 10,
   "id": "842d9ba5-dc48-40e6-a99a-205ae577cf99",
   "metadata": {},
   "outputs": [],
   "source": [
    "gamma = GammaGraphSage.load_model(\n",
    "    int(best_model_metrics['run']),\n",
    "    int(best_model_metrics['epoch']),\n",
    "    device,\n",
    "    data.num_nodes)"
   ]
  },
  {
   "cell_type": "markdown",
   "id": "a6e03dd4-834a-49f2-a1c6-279f01687c94",
   "metadata": {},
   "source": [
    "## Rewire graph"
   ]
  },
  {
   "cell_type": "code",
   "execution_count": 11,
   "id": "15fffa1e-c7ea-45e4-b455-e470a06abb40",
   "metadata": {},
   "outputs": [],
   "source": [
    "row, col, edge_attr = data.adj_t.t().coo()\n",
    "edge_index = torch.stack([row, col], dim=0).to(data.adj_t.device())"
   ]
  },
  {
   "cell_type": "code",
   "execution_count": 12,
   "id": "32d94cc0-bce0-40f9-9daf-dfae717965d7",
   "metadata": {},
   "outputs": [],
   "source": [
    "def get_node_k_highest_gamma_edges(node, k, depth, edge_index, data):\n",
    "    khop_nodes, _, _, _ = k_hop_subgraph(node, depth, edge_index)\n",
    "    target = khop_nodes[khop_nodes != node]\n",
    "    source = torch.tensor([node] * target.size()[0]).to(data.adj_t.device())\n",
    "    \n",
    "    gamma_preds = gamma.forward(\n",
    "        torch.stack([source, target]).to(data.adj_t.device()),\n",
    "        data.adj_t).detach()\n",
    "    \n",
    "    node_neighborhood = torch.stack([\n",
    "        source,\n",
    "        target,\n",
    "        gamma_preds.squeeze(dim=1)\n",
    "    ])\n",
    "    \n",
    "    sorted_indices = node_neighborhood[2,:].sort(descending=True)[1]\n",
    "    \n",
    "    sorted_neighborhood = node_neighborhood[:, sorted_indices]\n",
    "    \n",
    "    n_edges = min(k, sorted_neighborhood.size(1))\n",
    "    \n",
    "    return sorted_neighborhood[:, :n_edges]\n",
    "        "
   ]
  },
  {
   "cell_type": "code",
   "execution_count": 13,
   "id": "a5e85a8c-9278-49a2-9d12-af79b280f801",
   "metadata": {},
   "outputs": [
    {
     "name": "stdout",
     "output_type": "stream",
     "text": [
      "1/169343\n",
      "10001/169343\n",
      "20001/169343\n",
      "30001/169343\n",
      "40001/169343\n",
      "50001/169343\n",
      "60001/169343\n",
      "70001/169343\n",
      "80001/169343\n",
      "90001/169343\n",
      "100001/169343\n",
      "110001/169343\n",
      "120001/169343\n",
      "130001/169343\n",
      "140001/169343\n",
      "150001/169343\n",
      "160001/169343\n"
     ]
    }
   ],
   "source": [
    "node_edges_dict = {}\n",
    "for node in range(data.num_nodes):\n",
    "    if node % 10000 == 0:\n",
    "        print(f'{node + 1}/{data.num_nodes}')\n",
    "    node_edges_dict[node] = get_node_k_highest_gamma_edges(\n",
    "            node,\n",
    "            k,\n",
    "            depth,\n",
    "            edge_index,\n",
    "            data)\\\n",
    "        .detach()\\\n",
    "        .cpu()\\\n",
    "        .numpy()"
   ]
  },
  {
   "cell_type": "markdown",
   "id": "98d0d850-f774-40e5-913b-6355940b85f8",
   "metadata": {},
   "source": [
    "## Save output"
   ]
  },
  {
   "cell_type": "code",
   "execution_count": 14,
   "id": "f12903ab-1df0-479a-9dbb-f9b52c616cf6",
   "metadata": {},
   "outputs": [],
   "source": [
    "for it, edges_info in enumerate(node_edges_dict.values()):\n",
    "    edges_df = pd.DataFrame(\n",
    "        edges_info.T.tolist(),\n",
    "        columns=['source', 'target', 'weight'])\n",
    "    \n",
    "    if it == 0:\n",
    "        edges_df.to_csv(out_path, index=False)\n",
    "    else:\n",
    "        edges_df.to_csv(out_path, mode='a', header=False, index=False)"
   ]
  },
  {
   "cell_type": "markdown",
   "id": "f0c2e8b5-1777-40bd-8269-990a6243e0f8",
   "metadata": {},
   "source": [
    "## Statistics"
   ]
  },
  {
   "cell_type": "code",
   "execution_count": 15,
   "id": "c2e1611f-9639-4b5a-a731-1967beaf7bb2",
   "metadata": {},
   "outputs": [
    {
     "name": "stdout",
     "output_type": "stream",
     "text": [
      "(1833170, 3)\n"
     ]
    },
    {
     "data": {
      "text/html": [
       "<div>\n",
       "<style scoped>\n",
       "    .dataframe tbody tr th:only-of-type {\n",
       "        vertical-align: middle;\n",
       "    }\n",
       "\n",
       "    .dataframe tbody tr th {\n",
       "        vertical-align: top;\n",
       "    }\n",
       "\n",
       "    .dataframe thead th {\n",
       "        text-align: right;\n",
       "    }\n",
       "</style>\n",
       "<table border=\"1\" class=\"dataframe\">\n",
       "  <thead>\n",
       "    <tr style=\"text-align: right;\">\n",
       "      <th></th>\n",
       "      <th>source</th>\n",
       "      <th>target</th>\n",
       "      <th>weight</th>\n",
       "    </tr>\n",
       "  </thead>\n",
       "  <tbody>\n",
       "    <tr>\n",
       "      <th>0</th>\n",
       "      <td>0.0</td>\n",
       "      <td>161310.0</td>\n",
       "      <td>0.790365</td>\n",
       "    </tr>\n",
       "    <tr>\n",
       "      <th>1</th>\n",
       "      <td>0.0</td>\n",
       "      <td>113080.0</td>\n",
       "      <td>0.790083</td>\n",
       "    </tr>\n",
       "    <tr>\n",
       "      <th>2</th>\n",
       "      <td>0.0</td>\n",
       "      <td>139581.0</td>\n",
       "      <td>0.790068</td>\n",
       "    </tr>\n",
       "    <tr>\n",
       "      <th>3</th>\n",
       "      <td>0.0</td>\n",
       "      <td>21760.0</td>\n",
       "      <td>0.789761</td>\n",
       "    </tr>\n",
       "    <tr>\n",
       "      <th>4</th>\n",
       "      <td>0.0</td>\n",
       "      <td>10839.0</td>\n",
       "      <td>0.789665</td>\n",
       "    </tr>\n",
       "  </tbody>\n",
       "</table>\n",
       "</div>"
      ],
      "text/plain": [
       "   source    target    weight\n",
       "0     0.0  161310.0  0.790365\n",
       "1     0.0  113080.0  0.790083\n",
       "2     0.0  139581.0  0.790068\n",
       "3     0.0   21760.0  0.789761\n",
       "4     0.0   10839.0  0.789665"
      ]
     },
     "execution_count": 15,
     "metadata": {},
     "output_type": "execute_result"
    }
   ],
   "source": [
    "edges_df = pd.read_csv(out_path)\n",
    "print(edges_df.shape)\n",
    "edges_df.head()"
   ]
  },
  {
   "cell_type": "markdown",
   "id": "b26e4ba8-8449-4614-9933-e4a90b55fd2a",
   "metadata": {},
   "source": [
    "### Number of neighbors for each node"
   ]
  },
  {
   "cell_type": "code",
   "execution_count": 16,
   "id": "aeec204c-584d-4351-a6fe-085f3879940e",
   "metadata": {},
   "outputs": [
    {
     "data": {
      "text/plain": [
       "count    169343.000000\n",
       "mean         10.825189\n",
       "std          11.853353\n",
       "min           1.000000\n",
       "1%            1.000000\n",
       "2.5%          1.000000\n",
       "5%            1.000000\n",
       "10%           1.000000\n",
       "15%           2.000000\n",
       "50%           6.000000\n",
       "max          50.000000\n",
       "Name: target, dtype: float64"
      ]
     },
     "execution_count": 16,
     "metadata": {},
     "output_type": "execute_result"
    }
   ],
   "source": [
    "edges_df.groupby('source')\\\n",
    "    ['target']\\\n",
    "    .count()\\\n",
    "    .describe(percentiles=[0.01, 0.025, 0.05, 0.1, 0.15])"
   ]
  },
  {
   "cell_type": "code",
   "execution_count": 17,
   "id": "4b2543fa-3c2c-48f6-9ac3-7dc6f4a5561e",
   "metadata": {},
   "outputs": [
    {
     "data": {
      "text/plain": [
       "count    169343.000000\n",
       "mean          0.746161\n",
       "std           0.040491\n",
       "min           0.179753\n",
       "1%            0.597941\n",
       "2.5%          0.636711\n",
       "5%            0.665462\n",
       "10%           0.694090\n",
       "15%           0.710534\n",
       "50%           0.758221\n",
       "max           0.790425\n",
       "Name: weight, dtype: float64"
      ]
     },
     "execution_count": 17,
     "metadata": {},
     "output_type": "execute_result"
    }
   ],
   "source": [
    "edges_df.groupby('source')\\\n",
    "    ['weight']\\\n",
    "    .mean()\\\n",
    "    .describe(percentiles=[0.01, 0.025, 0.05, 0.1, 0.15])"
   ]
  },
  {
   "cell_type": "code",
   "execution_count": 18,
   "id": "b1933eae-af0e-4d3b-99ae-501b6cc7b092",
   "metadata": {},
   "outputs": [
    {
     "data": {
      "text/plain": [
       "count    169343.000000\n",
       "mean          0.754544\n",
       "std           0.039317\n",
       "min           0.179753\n",
       "1%            0.598716\n",
       "2.5%          0.642632\n",
       "5%            0.675819\n",
       "10%           0.706741\n",
       "15%           0.723408\n",
       "50%           0.767649\n",
       "max           0.790529\n",
       "Name: weight, dtype: float64"
      ]
     },
     "execution_count": 18,
     "metadata": {},
     "output_type": "execute_result"
    }
   ],
   "source": [
    "edges_df.groupby('source')\\\n",
    "    ['weight']\\\n",
    "    .median()\\\n",
    "    .describe(percentiles=[0.01, 0.025, 0.05, 0.1, 0.15])"
   ]
  },
  {
   "cell_type": "markdown",
   "id": "084faa2d-98c6-49a2-9fda-311d03cd9f60",
   "metadata": {
    "tags": []
   },
   "source": [
    "## Calculate $\\Theta$ of the new graph"
   ]
  },
  {
   "cell_type": "code",
   "execution_count": 19,
   "id": "54cae7a5-58b2-43b1-9dae-e9f29d95b856",
   "metadata": {},
   "outputs": [
    {
     "data": {
      "text/plain": [
       "0.6542198061943054"
      ]
     },
     "execution_count": 19,
     "metadata": {},
     "output_type": "execute_result"
    }
   ],
   "source": [
    "graph_theta = gamma.is_same_class(edge_index, data.y).float().mean().item()\n",
    "graph_theta"
   ]
  },
  {
   "cell_type": "code",
   "execution_count": 20,
   "id": "30658e68-0823-4264-9c93-671a19c317b4",
   "metadata": {},
   "outputs": [
    {
     "data": {
      "text/html": [
       "<div>\n",
       "<style scoped>\n",
       "    .dataframe tbody tr th:only-of-type {\n",
       "        vertical-align: middle;\n",
       "    }\n",
       "\n",
       "    .dataframe tbody tr th {\n",
       "        vertical-align: top;\n",
       "    }\n",
       "\n",
       "    .dataframe thead th {\n",
       "        text-align: right;\n",
       "    }\n",
       "</style>\n",
       "<table border=\"1\" class=\"dataframe\">\n",
       "  <thead>\n",
       "    <tr style=\"text-align: right;\">\n",
       "      <th></th>\n",
       "      <th>source</th>\n",
       "      <th>target</th>\n",
       "      <th>weight</th>\n",
       "      <th>rank</th>\n",
       "    </tr>\n",
       "  </thead>\n",
       "  <tbody>\n",
       "    <tr>\n",
       "      <th>0</th>\n",
       "      <td>0.0</td>\n",
       "      <td>161310.0</td>\n",
       "      <td>0.790365</td>\n",
       "      <td>1.0</td>\n",
       "    </tr>\n",
       "    <tr>\n",
       "      <th>1</th>\n",
       "      <td>0.0</td>\n",
       "      <td>113080.0</td>\n",
       "      <td>0.790083</td>\n",
       "      <td>2.0</td>\n",
       "    </tr>\n",
       "    <tr>\n",
       "      <th>2</th>\n",
       "      <td>0.0</td>\n",
       "      <td>139581.0</td>\n",
       "      <td>0.790068</td>\n",
       "      <td>3.0</td>\n",
       "    </tr>\n",
       "    <tr>\n",
       "      <th>3</th>\n",
       "      <td>0.0</td>\n",
       "      <td>21760.0</td>\n",
       "      <td>0.789761</td>\n",
       "      <td>4.0</td>\n",
       "    </tr>\n",
       "    <tr>\n",
       "      <th>4</th>\n",
       "      <td>0.0</td>\n",
       "      <td>10839.0</td>\n",
       "      <td>0.789665</td>\n",
       "      <td>5.0</td>\n",
       "    </tr>\n",
       "  </tbody>\n",
       "</table>\n",
       "</div>"
      ],
      "text/plain": [
       "   source    target    weight  rank\n",
       "0     0.0  161310.0  0.790365   1.0\n",
       "1     0.0  113080.0  0.790083   2.0\n",
       "2     0.0  139581.0  0.790068   3.0\n",
       "3     0.0   21760.0  0.789761   4.0\n",
       "4     0.0   10839.0  0.789665   5.0"
      ]
     },
     "execution_count": 20,
     "metadata": {},
     "output_type": "execute_result"
    }
   ],
   "source": [
    "edges_df['rank'] = edges_df\\\n",
    "    .groupby('source')\\\n",
    "    ['weight']\\\n",
    "    .rank(ascending=False, method='first')\n",
    "edges_df.head()"
   ]
  },
  {
   "cell_type": "code",
   "execution_count": 21,
   "id": "7e7d556a-82da-4572-99bc-a7ceba59e5e0",
   "metadata": {},
   "outputs": [
    {
     "data": {
      "text/plain": [
       "(1833170, 4)"
      ]
     },
     "execution_count": 21,
     "metadata": {},
     "output_type": "execute_result"
    }
   ],
   "source": [
    "edges_df.shape"
   ]
  },
  {
   "cell_type": "code",
   "execution_count": 22,
   "id": "a2fb4661-09e9-4668-877d-1a5ee912aef1",
   "metadata": {},
   "outputs": [],
   "source": [
    "thetas = {}\n",
    "for sub_k in range(1, k + 1):\n",
    "    k_edges_df = edges_df.query(f'rank <= {sub_k}')\n",
    "    \n",
    "    edges = k_edges_df[['source', 'target']].astype(int).values.T\n",
    "    thetas[sub_k] = gamma.is_same_class(edges, data.y).float().mean().item()"
   ]
  },
  {
   "cell_type": "code",
   "execution_count": 23,
   "id": "a0386516-a1b0-4755-a5aa-46a53a503292",
   "metadata": {},
   "outputs": [
    {
     "data": {
      "text/html": [
       "<div>\n",
       "<style scoped>\n",
       "    .dataframe tbody tr th:only-of-type {\n",
       "        vertical-align: middle;\n",
       "    }\n",
       "\n",
       "    .dataframe tbody tr th {\n",
       "        vertical-align: top;\n",
       "    }\n",
       "\n",
       "    .dataframe thead th {\n",
       "        text-align: right;\n",
       "    }\n",
       "</style>\n",
       "<table border=\"1\" class=\"dataframe\">\n",
       "  <thead>\n",
       "    <tr style=\"text-align: right;\">\n",
       "      <th></th>\n",
       "      <th>theta</th>\n",
       "    </tr>\n",
       "  </thead>\n",
       "  <tbody>\n",
       "    <tr>\n",
       "      <th>1</th>\n",
       "      <td>0.685538</td>\n",
       "    </tr>\n",
       "    <tr>\n",
       "      <th>2</th>\n",
       "      <td>0.685078</td>\n",
       "    </tr>\n",
       "    <tr>\n",
       "      <th>3</th>\n",
       "      <td>0.684755</td>\n",
       "    </tr>\n",
       "    <tr>\n",
       "      <th>4</th>\n",
       "      <td>0.683910</td>\n",
       "    </tr>\n",
       "    <tr>\n",
       "      <th>5</th>\n",
       "      <td>0.682940</td>\n",
       "    </tr>\n",
       "  </tbody>\n",
       "</table>\n",
       "</div>"
      ],
      "text/plain": [
       "      theta\n",
       "1  0.685538\n",
       "2  0.685078\n",
       "3  0.684755\n",
       "4  0.683910\n",
       "5  0.682940"
      ]
     },
     "execution_count": 23,
     "metadata": {},
     "output_type": "execute_result"
    }
   ],
   "source": [
    "k_best_thetas = pd.DataFrame.from_dict(thetas, orient='index', columns=['theta'])\n",
    "k_best_thetas.head()"
   ]
  },
  {
   "cell_type": "code",
   "execution_count": 24,
   "id": "593252ab-2f88-415f-9014-6d6a6fc9c5e8",
   "metadata": {},
   "outputs": [
    {
     "data": {
      "text/plain": [
       "Text(0, 0.5, '$\\\\Theta$')"
      ]
     },
     "execution_count": 24,
     "metadata": {},
     "output_type": "execute_result"
    },
    {
     "data": {
      "image/png": "[encoded data removed]",
      "text/plain": [
       "<Figure size 900x576 with 1 Axes>"
      ]
     },
     "metadata": {
      "needs_background": "light"
     },
     "output_type": "display_data"
    }
   ],
   "source": [
    "plt.figure(figsize=(12.5, 8))\n",
    "plt.rcParams.update({'font.size': 16})\n",
    "plt.title('$\\Theta$ of $k$ highest $\\Omega$ edges')\n",
    "plt.plot(k_best_thetas, lw=3, marker='o')\n",
    "plt.hlines(graph_theta, 0, k, ls='--', color='black', lw=3)\n",
    "plt.xlabel('$k$')\n",
    "plt.ylabel('$\\Theta$')"
   ]
  }
 ],
 "metadata": {
  "kernelspec": {
   "display_name": "ArXiv Paper Classification",
   "language": "python",
   "name": "arxiv-paperclassification"
  },
  "language_info": {
   "codemirror_mode": {
    "name": "ipython",
    "version": 3
   },
   "file_extension": ".py",
   "mimetype": "text/x-python",
   "name": "python",
   "nbconvert_exporter": "python",
   "pygments_lexer": "ipython3",
   "version": "3.8.10"
  }
 },
 "nbformat": 4,
 "nbformat_minor": 5
}
