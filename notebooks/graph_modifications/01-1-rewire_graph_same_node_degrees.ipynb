{
 "cells": [
  {
   "cell_type": "code",
   "execution_count": 1,
   "id": "bbcf865e-32c9-481a-b7fb-661fac566cd0",
   "metadata": {},
   "outputs": [],
   "source": [
    "%load_ext autoreload\n",
    "%autoreload 2"
   ]
  },
  {
   "cell_type": "code",
   "execution_count": 2,
   "id": "d6d50784-ae0a-4e9a-923f-a8a5da84c41f",
   "metadata": {},
   "outputs": [],
   "source": [
    "import os\n",
    "\n",
    "while 'notebooks' in os.getcwd():\n",
    "    os.chdir('..')\n",
    "\n",
    "import json\n",
    "import torch\n",
    "import torch_geometric.transforms as T\n",
    "from ogb.nodeproppred import PygNodePropPredDataset, Evaluator\n",
    "from sklearn.metrics import roc_auc_score\n",
    "import logging\n",
    "import matplotlib.pyplot as plt\n",
    "import plotly.express as px\n",
    "import plotly.offline as pyo\n",
    "import numpy as np\n",
    "import pandas as pd\n",
    "from torch_geometric.loader import ShaDowKHopSampler, NeighborLoader\n",
    "from torch_geometric.utils import k_hop_subgraph\n",
    "\n",
    "from src.torch_geo_models import GraphSAGE, LinkPredictor\n",
    "from src.data.gamma.arxiv import load_data, get_val_test_edges, prepare_adjencency, get_edge_index_from_adjencency\n",
    "from src.train.gamma import GammaGraphSage"
   ]
  },
  {
   "cell_type": "code",
   "execution_count": 3,
   "id": "d302740f-dfae-4604-a1a7-75925122e68f",
   "metadata": {},
   "outputs": [],
   "source": [
    "logging.basicConfig(\n",
    "    format='%(asctime)s - %(levelname)s : %(message)s',\n",
    "    level=logging.INFO,\n",
    "    datefmt='%Y-%m-%d %H:%M:%S'\n",
    ")"
   ]
  },
  {
   "cell_type": "code",
   "execution_count": 4,
   "id": "5aac4a89-f43d-494e-92dd-4f8c0cb7d24e",
   "metadata": {},
   "outputs": [
    {
     "data": {
      "text/plain": [
       "True"
      ]
     },
     "execution_count": 4,
     "metadata": {},
     "output_type": "execute_result"
    }
   ],
   "source": [
    "torch.cuda.is_available()"
   ]
  },
  {
   "cell_type": "code",
   "execution_count": 5,
   "id": "5d7b6cb5-686a-4bba-99c0-7e954a656f4b",
   "metadata": {},
   "outputs": [
    {
     "data": {
      "text/plain": [
       "device(type='cuda', index=0)"
      ]
     },
     "execution_count": 5,
     "metadata": {},
     "output_type": "execute_result"
    }
   ],
   "source": [
    "device = f'cuda:0' if torch.cuda.is_available() else 'cpu'\n",
    "# device = 'cpu'\n",
    "device = torch.device(device)\n",
    "device"
   ]
  },
  {
   "cell_type": "markdown",
   "id": "3ee35052-8c79-4ad5-bef5-0d0759048428",
   "metadata": {
    "tags": []
   },
   "source": [
    "## Data Loading"
   ]
  },
  {
   "cell_type": "code",
   "execution_count": 6,
   "id": "2b7ad8fa-618c-469c-8929-5edd87b008cf",
   "metadata": {},
   "outputs": [],
   "source": [
    "data = load_data()\n",
    "data = prepare_adjencency(data, to_symmetric=True).to(device)"
   ]
  },
  {
   "cell_type": "code",
   "execution_count": 7,
   "id": "c6d41aa9-3b8e-432d-a1e3-6847f38c8c0a",
   "metadata": {
    "tags": []
   },
   "outputs": [
    {
     "data": {
      "text/plain": [
       "tensor(13161., device='cuda:0')"
      ]
     },
     "execution_count": 7,
     "metadata": {},
     "output_type": "execute_result"
    }
   ],
   "source": [
    "data.adj_t.sum(dim=1).max()"
   ]
  },
  {
   "cell_type": "markdown",
   "id": "b3b580b0-f3a6-46d5-b72f-69c8e3476c95",
   "metadata": {},
   "source": [
    "## Load $\\Gamma$ function"
   ]
  },
  {
   "cell_type": "code",
   "execution_count": 8,
   "id": "932d5203-4b4f-4c4b-8fbf-b6f3cb53ff8d",
   "metadata": {},
   "outputs": [],
   "source": [
    "best_model_metrics = json.load(open('models/gamma_graph_sage/best_model_info.json'))"
   ]
  },
  {
   "cell_type": "markdown",
   "id": "43257c1c-2765-4853-959c-17164e9adde8",
   "metadata": {},
   "source": [
    "### Load model"
   ]
  },
  {
   "cell_type": "code",
   "execution_count": 9,
   "id": "842d9ba5-dc48-40e6-a99a-205ae577cf99",
   "metadata": {},
   "outputs": [],
   "source": [
    "gamma = GammaGraphSage.load_model(\n",
    "    int(best_model_metrics['run']),\n",
    "    int(best_model_metrics['epoch']),\n",
    "    device,\n",
    "    data.num_nodes)"
   ]
  },
  {
   "cell_type": "markdown",
   "id": "a6e03dd4-834a-49f2-a1c6-279f01687c94",
   "metadata": {},
   "source": [
    "## Rewire graph"
   ]
  },
  {
   "cell_type": "code",
   "execution_count": 31,
   "id": "15fffa1e-c7ea-45e4-b455-e470a06abb40",
   "metadata": {},
   "outputs": [],
   "source": [
    "row, col, edge_attr = data.adj_t.t().coo()\n",
    "edge_index = torch.stack([row, col], dim=0).to(data.adj_t.device())"
   ]
  },
  {
   "cell_type": "code",
   "execution_count": 11,
   "id": "32d94cc0-bce0-40f9-9daf-dfae717965d7",
   "metadata": {},
   "outputs": [],
   "source": [
    "def get_node_highest_gamma_edges(node, depth, edge_index, data):\n",
    "    khop_nodes, _, _, _ = k_hop_subgraph(node, depth, edge_index)\n",
    "    target = khop_nodes[khop_nodes != node]\n",
    "    source = torch.tensor([node] * target.size()[0]).to(data.adj_t.device())\n",
    "    \n",
    "    gamma_preds = gamma.forward(\n",
    "        torch.stack([source, target]).to(data.adj_t.device()),\n",
    "        data.adj_t).detach()\n",
    "    \n",
    "    node_neighborhood = torch.stack([\n",
    "        source,\n",
    "        target,\n",
    "        gamma_preds.squeeze()\n",
    "    ])\n",
    "    \n",
    "    sorted_indices = node_neighborhood[2,:].sort(descending=True)[1]\n",
    "    \n",
    "    sorted_neighborhood = node_neighborhood[:, sorted_indices]\n",
    "    \n",
    "    return sorted_neighborhood[:, :data.adj_t[node].sum().int()]\n",
    "        "
   ]
  },
  {
   "cell_type": "code",
   "execution_count": 12,
   "id": "bfd7359b-3254-43ef-bdd1-e04427234dc9",
   "metadata": {},
   "outputs": [
    {
     "data": {
      "text/plain": [
       "169343"
      ]
     },
     "execution_count": 12,
     "metadata": {},
     "output_type": "execute_result"
    }
   ],
   "source": [
    "data.num_nodes"
   ]
  },
  {
   "cell_type": "code",
   "execution_count": 13,
   "id": "a5e85a8c-9278-49a2-9d12-af79b280f801",
   "metadata": {},
   "outputs": [
    {
     "name": "stdout",
     "output_type": "stream",
     "text": [
      "1/169343\n",
      "10001/169343\n",
      "20001/169343\n",
      "30001/169343\n",
      "40001/169343\n",
      "50001/169343\n",
      "60001/169343\n",
      "70001/169343\n",
      "80001/169343\n",
      "90001/169343\n",
      "100001/169343\n",
      "110001/169343\n",
      "120001/169343\n",
      "130001/169343\n",
      "140001/169343\n",
      "150001/169343\n",
      "160001/169343\n"
     ]
    }
   ],
   "source": [
    "node_edges_dict = {}\n",
    "depth = 3\n",
    "for node in range(data.num_nodes):\n",
    "    if node % 10000 == 0:\n",
    "        print(f'{node + 1}/{data.num_nodes}')\n",
    "    node_edges_dict[node] = get_node_highest_gamma_edges(node, depth, edge_index, data).detach().cpu().numpy()"
   ]
  },
  {
   "cell_type": "code",
   "execution_count": 18,
   "id": "5ec23700-6c16-4db9-9757-19171559e6ee",
   "metadata": {},
   "outputs": [
    {
     "data": {
      "text/plain": [
       "(tensor([     0,     14,     31,  ..., 169339, 169340, 169341], device='cuda:0'),\n",
       " tensor([[     0,      0,      0,  ..., 169341, 169341, 169341],\n",
       "         [   411,    640,   1162,  ..., 140574, 147834, 163274]],\n",
       "        device='cuda:0'),\n",
       " tensor([0], device='cuda:0'),\n",
       " tensor([ True,  True,  True,  ...,  True, False, False], device='cuda:0'))"
      ]
     },
     "execution_count": 18,
     "metadata": {},
     "output_type": "execute_result"
    }
   ],
   "source": [
    "k_hop_subgraph(0, depth, edge_index)"
   ]
  },
  {
   "cell_type": "code",
   "execution_count": 55,
   "id": "f12903ab-1df0-479a-9dbb-f9b52c616cf6",
   "metadata": {},
   "outputs": [],
   "source": [
    "out_path = 'data/graph_modifications/01-1-rewired_edges_same_degrees.csv'\n",
    "for it, edges_info in enumerate(node_edges_dict.values()):\n",
    "    edges_df = pd.DataFrame(\n",
    "        edges_info.T.tolist(),\n",
    "        columns=['source', 'target', 'weight'])\n",
    "    \n",
    "    if it == 0:\n",
    "        edges_df.to_csv(out_path, index=False)\n",
    "    else:\n",
    "        edges_df.to_csv(out_path, mode='a', header=False, index=False)"
   ]
  },
  {
   "cell_type": "markdown",
   "id": "59923484-602b-4164-bc79-e27e4024db67",
   "metadata": {
    "tags": []
   },
   "source": [
    "## Calculate $\\Omega$ of the new graph"
   ]
  },
  {
   "cell_type": "code",
   "execution_count": 11,
   "id": "b3c610ff-af28-4e6a-9c5b-a68ce93f328c",
   "metadata": {},
   "outputs": [
    {
     "name": "stdout",
     "output_type": "stream",
     "text": [
      "(2315598, 3)\n"
     ]
    },
    {
     "data": {
      "text/html": [
       "<div>\n",
       "<style scoped>\n",
       "    .dataframe tbody tr th:only-of-type {\n",
       "        vertical-align: middle;\n",
       "    }\n",
       "\n",
       "    .dataframe tbody tr th {\n",
       "        vertical-align: top;\n",
       "    }\n",
       "\n",
       "    .dataframe thead th {\n",
       "        text-align: right;\n",
       "    }\n",
       "</style>\n",
       "<table border=\"1\" class=\"dataframe\">\n",
       "  <thead>\n",
       "    <tr style=\"text-align: right;\">\n",
       "      <th></th>\n",
       "      <th>source</th>\n",
       "      <th>target</th>\n",
       "      <th>weight</th>\n",
       "    </tr>\n",
       "  </thead>\n",
       "  <tbody>\n",
       "    <tr>\n",
       "      <th>0</th>\n",
       "      <td>0.0</td>\n",
       "      <td>161310.0</td>\n",
       "      <td>0.790365</td>\n",
       "    </tr>\n",
       "    <tr>\n",
       "      <th>1</th>\n",
       "      <td>0.0</td>\n",
       "      <td>113080.0</td>\n",
       "      <td>0.790083</td>\n",
       "    </tr>\n",
       "    <tr>\n",
       "      <th>2</th>\n",
       "      <td>0.0</td>\n",
       "      <td>139581.0</td>\n",
       "      <td>0.790068</td>\n",
       "    </tr>\n",
       "    <tr>\n",
       "      <th>3</th>\n",
       "      <td>0.0</td>\n",
       "      <td>21760.0</td>\n",
       "      <td>0.789761</td>\n",
       "    </tr>\n",
       "    <tr>\n",
       "      <th>4</th>\n",
       "      <td>0.0</td>\n",
       "      <td>10839.0</td>\n",
       "      <td>0.789665</td>\n",
       "    </tr>\n",
       "  </tbody>\n",
       "</table>\n",
       "</div>"
      ],
      "text/plain": [
       "   source    target    weight\n",
       "0     0.0  161310.0  0.790365\n",
       "1     0.0  113080.0  0.790083\n",
       "2     0.0  139581.0  0.790068\n",
       "3     0.0   21760.0  0.789761\n",
       "4     0.0   10839.0  0.789665"
      ]
     },
     "execution_count": 11,
     "metadata": {},
     "output_type": "execute_result"
    }
   ],
   "source": [
    "out_path = 'data/graph_modifications/01-1-rewired_edges_same_degrees.csv'\n",
    "edges_df = pd.read_csv(out_path)\n",
    "print(edges_df.shape)\n",
    "edges_df.head()"
   ]
  },
  {
   "cell_type": "code",
   "execution_count": 32,
   "id": "9cdb2cd4-1ef1-4b89-b732-342320613a78",
   "metadata": {},
   "outputs": [
    {
     "data": {
      "text/plain": [
       "tensor(0.6542, device='cuda:0')"
      ]
     },
     "execution_count": 32,
     "metadata": {},
     "output_type": "execute_result"
    }
   ],
   "source": [
    "gamma.is_same_class(edge_index, data.y).float().mean()"
   ]
  },
  {
   "cell_type": "code",
   "execution_count": 30,
   "id": "e9a375e5-b70c-4199-ac10-393162555b57",
   "metadata": {},
   "outputs": [
    {
     "data": {
      "text/plain": [
       "tensor(0.7010, device='cuda:0')"
      ]
     },
     "execution_count": 30,
     "metadata": {},
     "output_type": "execute_result"
    }
   ],
   "source": [
    "edges = edges_df[['source', 'target']].astype(int).values.T\n",
    "gamma.is_same_class(edges, data.y).float().mean()"
   ]
  }
 ],
 "metadata": {
  "kernelspec": {
   "display_name": "ArXiv Paper Classification",
   "language": "python",
   "name": "arxiv-paperclassification"
  },
  "language_info": {
   "codemirror_mode": {
    "name": "ipython",
    "version": 3
   },
   "file_extension": ".py",
   "mimetype": "text/x-python",
   "name": "python",
   "nbconvert_exporter": "python",
   "pygments_lexer": "ipython3",
   "version": "3.8.10"
  }
 },
 "nbformat": 4,
 "nbformat_minor": 5
}
