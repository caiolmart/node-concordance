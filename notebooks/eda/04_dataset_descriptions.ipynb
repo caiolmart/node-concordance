{
 "cells": [
  {
   "cell_type": "code",
   "execution_count": 1,
   "metadata": {},
   "outputs": [],
   "source": [
    "%load_ext autoreload\n",
    "%autoreload 2"
   ]
  },
  {
   "cell_type": "code",
   "execution_count": 74,
   "metadata": {},
   "outputs": [],
   "source": [
    "import os\n",
    "while 'notebooks' in os.getcwd():\n",
    "    os.chdir('..')\n",
    "\n",
    "import pandas as pd\n",
    "from IPython.display import Markdown, display, Latex"
   ]
  },
  {
   "cell_type": "code",
   "execution_count": 3,
   "metadata": {},
   "outputs": [
    {
     "name": "stderr",
     "output_type": "stream",
     "text": [
      "WARNING:root:The OGB package is out of date. Your version is 1.3.5, while the latest version is 1.3.6.\n"
     ]
    }
   ],
   "source": [
    "from src.data.gamma import structural_arxiv, structural_citeseer, structural_cora, structural_pubmed"
   ]
  },
  {
   "cell_type": "code",
   "execution_count": 111,
   "metadata": {},
   "outputs": [],
   "source": [
    "total_nodes = {}\n",
    "total_edges = {}\n",
    "n_classes = {}\n",
    "n_features = {}\n",
    "\n",
    "homophily = {}\n",
    "\n",
    "train_nodes = {}\n",
    "valid_nodes = {}\n",
    "test_nodes = {}\n",
    "\n",
    "train_edges = {}\n",
    "valid_edges = {}\n",
    "test_edges = {}"
   ]
  },
  {
   "attachments": {},
   "cell_type": "markdown",
   "metadata": {},
   "source": [
    "## Arxiv"
   ]
  },
  {
   "cell_type": "code",
   "execution_count": 112,
   "metadata": {},
   "outputs": [],
   "source": [
    "dataset_name = 'ogbn-arxiv'"
   ]
  },
  {
   "cell_type": "code",
   "execution_count": 113,
   "metadata": {},
   "outputs": [],
   "source": [
    "dataset = structural_arxiv.load_dataset()\n",
    "data, edges_train, edges_val, edges_test = structural_arxiv.get_train_val_test_edges(dataset)"
   ]
  },
  {
   "cell_type": "code",
   "execution_count": 114,
   "metadata": {},
   "outputs": [
    {
     "data": {
      "text/plain": [
       "0.6550830602645874"
      ]
     },
     "execution_count": 114,
     "metadata": {},
     "output_type": "execute_result"
    }
   ],
   "source": [
    "((data.y[data.edge_index[0]] == data.y[data.edge_index[1]]) * 1.0).mean().item()"
   ]
  },
  {
   "cell_type": "code",
   "execution_count": 115,
   "metadata": {},
   "outputs": [],
   "source": [
    "n_classes[dataset_name] = data.y.unique().shape[0]\n",
    "n_features[dataset_name] = data.x.shape[1]\n",
    "\n",
    "total_nodes[dataset_name] = data.num_nodes\n",
    "total_edges[dataset_name] = data.num_edges\n",
    "homophily[dataset_name] = (\n",
    "    ((data.y[data.edge_index[0]] == data.y[data.edge_index[1]]) * 1.0)\n",
    "    .mean()\n",
    "    .item()\n",
    ")\n",
    "\n",
    "train_nodes[dataset_name] = dataset.get_idx_split()[\"train\"].shape[0]\n",
    "valid_nodes[dataset_name] = dataset.get_idx_split()[\"valid\"].shape[0]\n",
    "test_nodes[dataset_name] = dataset.get_idx_split()[\"test\"].shape[0]\n",
    "\n",
    "train_edges[dataset_name] = edges_train.shape[1]\n",
    "valid_edges[dataset_name] = edges_val.shape[1]\n",
    "test_edges[dataset_name] = edges_test.shape[1]"
   ]
  },
  {
   "cell_type": "code",
   "execution_count": 116,
   "metadata": {},
   "outputs": [
    {
     "name": "stdout",
     "output_type": "stream",
     "text": [
      "Arxiv dataset has 90941 train nodes, 29799 valid nodes and 48603 test nodes.\n",
      "Arxiv dataset has 374839 train edges, 247627 valid edges and 543777 test edges.\n"
     ]
    }
   ],
   "source": [
    "print(\n",
    "    f\"Arxiv dataset has {train_nodes[dataset_name]} train nodes, \"\n",
    "    f\"{valid_nodes[dataset_name]} valid nodes and \"\n",
    "    f\"{test_nodes[dataset_name]} test nodes.\"\n",
    ")\n",
    "print(\n",
    "    f\"Arxiv dataset has {train_edges[dataset_name]} train edges, \"\n",
    "    f\"{valid_edges[dataset_name]} valid edges and \"\n",
    "    f\"{test_edges[dataset_name]} test edges.\"\n",
    ")"
   ]
  },
  {
   "attachments": {},
   "cell_type": "markdown",
   "metadata": {},
   "source": [
    "## Cora, Citeseer, Pubmed"
   ]
  },
  {
   "cell_type": "code",
   "execution_count": 117,
   "metadata": {},
   "outputs": [],
   "source": [
    "dataset_name_module_dict = {\n",
    "    \"Cora\": structural_cora,\n",
    "    \"Citeseer\": structural_citeseer,\n",
    "    \"Pubmed\": structural_pubmed,\n",
    "}\n",
    "\n",
    "for dataset_name, module in dataset_name_module_dict.items():\n",
    "    dataset = module.load_dataset()\n",
    "    data, edges_train, edges_val, edges_test = module.get_train_val_test_edges(\n",
    "        dataset\n",
    "    )\n",
    "\n",
    "    n_classes[dataset_name] = data.y.unique().shape[0]\n",
    "    n_features[dataset_name] = data.x.shape[1]\n",
    "    total_nodes[dataset_name] = data.num_nodes\n",
    "    total_edges[dataset_name] = data.num_edges\n",
    "    homophily[dataset_name] = (\n",
    "        ((data.y[data.edge_index[0]] == data.y[data.edge_index[1]]) * 1.0)\n",
    "        .mean()\n",
    "        .item()\n",
    "    )\n",
    "\n",
    "    train_nodes[dataset_name] = data.train_mask.sum().item()\n",
    "    valid_nodes[dataset_name] = data.val_mask.sum().item()\n",
    "    test_nodes[dataset_name] = data.test_mask.sum().item()\n",
    "\n",
    "    train_edges[dataset_name] = edges_train.shape[1]\n",
    "    valid_edges[dataset_name] = edges_val.shape[1]\n",
    "    test_edges[dataset_name] = edges_test.shape[1]"
   ]
  },
  {
   "cell_type": "code",
   "execution_count": 118,
   "metadata": {},
   "outputs": [
    {
     "data": {
      "text/plain": [
       "tensor([[0.0000, 0.0000, 0.0000,  ..., 0.0000, 0.0000, 0.0000],\n",
       "        [0.0000, 0.0000, 0.0000,  ..., 0.0000, 0.0000, 0.0000],\n",
       "        [0.1046, 0.0000, 0.0000,  ..., 0.0000, 0.0000, 0.0000],\n",
       "        ...,\n",
       "        [0.0000, 0.0194, 0.0080,  ..., 0.0000, 0.0000, 0.0000],\n",
       "        [0.1078, 0.0000, 0.0000,  ..., 0.0000, 0.0000, 0.0000],\n",
       "        [0.0000, 0.0266, 0.0000,  ..., 0.0000, 0.0000, 0.0000]])"
      ]
     },
     "execution_count": 118,
     "metadata": {},
     "output_type": "execute_result"
    }
   ],
   "source": [
    "data.x"
   ]
  },
  {
   "cell_type": "code",
   "execution_count": 119,
   "metadata": {},
   "outputs": [
    {
     "data": {
      "text/plain": [
       "3"
      ]
     },
     "execution_count": 119,
     "metadata": {},
     "output_type": "execute_result"
    }
   ],
   "source": [
    "data.y.unique().shape[0]"
   ]
  },
  {
   "attachments": {},
   "cell_type": "markdown",
   "metadata": {},
   "source": [
    "## Summary"
   ]
  },
  {
   "cell_type": "code",
   "execution_count": 123,
   "metadata": {},
   "outputs": [
    {
     "data": {
      "text/html": [
       "<div>\n",
       "<style scoped>\n",
       "    .dataframe tbody tr th:only-of-type {\n",
       "        vertical-align: middle;\n",
       "    }\n",
       "\n",
       "    .dataframe tbody tr th {\n",
       "        vertical-align: top;\n",
       "    }\n",
       "\n",
       "    .dataframe thead th {\n",
       "        text-align: right;\n",
       "    }\n",
       "</style>\n",
       "<table border=\"1\" class=\"dataframe\">\n",
       "  <thead>\n",
       "    <tr style=\"text-align: right;\">\n",
       "      <th></th>\n",
       "      <th>$|X_i|$</th>\n",
       "      <th>$|\\{Y\\}|$</th>\n",
       "      <th>$h$</th>\n",
       "      <th>$|V|$</th>\n",
       "      <th>$|V_{Train}|$</th>\n",
       "      <th>$|V_{Validation}|$</th>\n",
       "      <th>$|V_{Test}|$</th>\n",
       "      <th>$|E|$</th>\n",
       "      <th>$|E_{Train}|$</th>\n",
       "      <th>$|E_{Validation}|$</th>\n",
       "      <th>$|E_{Test}|$</th>\n",
       "    </tr>\n",
       "  </thead>\n",
       "  <tbody>\n",
       "    <tr>\n",
       "      <th>ogbn-arxiv</th>\n",
       "      <td>128</td>\n",
       "      <td>40</td>\n",
       "      <td>0.655</td>\n",
       "      <td>169,343</td>\n",
       "      <td>90,941</td>\n",
       "      <td>29,799</td>\n",
       "      <td>48,603</td>\n",
       "      <td>1,166,243</td>\n",
       "      <td>374,839</td>\n",
       "      <td>247,627</td>\n",
       "      <td>543,777</td>\n",
       "    </tr>\n",
       "    <tr>\n",
       "      <th>Cora</th>\n",
       "      <td>1433</td>\n",
       "      <td>7</td>\n",
       "      <td>0.810</td>\n",
       "      <td>2,708</td>\n",
       "      <td>1,208</td>\n",
       "      <td>500</td>\n",
       "      <td>1,000</td>\n",
       "      <td>10,556</td>\n",
       "      <td>2,308</td>\n",
       "      <td>2,130</td>\n",
       "      <td>6,118</td>\n",
       "    </tr>\n",
       "    <tr>\n",
       "      <th>Citeseer</th>\n",
       "      <td>3703</td>\n",
       "      <td>6</td>\n",
       "      <td>0.736</td>\n",
       "      <td>3,327</td>\n",
       "      <td>1,827</td>\n",
       "      <td>500</td>\n",
       "      <td>1,000</td>\n",
       "      <td>9,104</td>\n",
       "      <td>2,642</td>\n",
       "      <td>1,712</td>\n",
       "      <td>4,750</td>\n",
       "    </tr>\n",
       "    <tr>\n",
       "      <th>Pubmed</th>\n",
       "      <td>500</td>\n",
       "      <td>3</td>\n",
       "      <td>0.802</td>\n",
       "      <td>19,717</td>\n",
       "      <td>18,217</td>\n",
       "      <td>500</td>\n",
       "      <td>1,000</td>\n",
       "      <td>88,648</td>\n",
       "      <td>75,472</td>\n",
       "      <td>4,140</td>\n",
       "      <td>9,036</td>\n",
       "    </tr>\n",
       "  </tbody>\n",
       "</table>\n",
       "</div>"
      ],
      "text/plain": [
       "            $|X_i|$  $|\\{Y\\}|$    $h$    $|V|$ $|V_{Train}|$  \\\n",
       "ogbn-arxiv      128         40  0.655  169,343        90,941   \n",
       "Cora           1433          7  0.810    2,708         1,208   \n",
       "Citeseer       3703          6  0.736    3,327         1,827   \n",
       "Pubmed          500          3  0.802   19,717        18,217   \n",
       "\n",
       "           $|V_{Validation}|$ $|V_{Test}|$      $|E|$ $|E_{Train}|$  \\\n",
       "ogbn-arxiv             29,799       48,603  1,166,243       374,839   \n",
       "Cora                      500        1,000     10,556         2,308   \n",
       "Citeseer                  500        1,000      9,104         2,642   \n",
       "Pubmed                    500        1,000     88,648        75,472   \n",
       "\n",
       "           $|E_{Validation}|$ $|E_{Test}|$  \n",
       "ogbn-arxiv            247,627      543,777  \n",
       "Cora                    2,130        6,118  \n",
       "Citeseer                1,712        4,750  \n",
       "Pubmed                  4,140        9,036  "
      ]
     },
     "execution_count": 123,
     "metadata": {},
     "output_type": "execute_result"
    }
   ],
   "source": [
    "summary_df = pd.concat(\n",
    "    [\n",
    "        pd.Series(n_features).astype(int).rename(\"$|X_i|$\"),\n",
    "        pd.Series(n_classes).astype(int).rename(\"$|\\{Y\\}|$\"),\n",
    "        pd.Series(homophily).round(3).rename(\"$h$\"),\n",
    "        pd.Series(total_nodes).astype(int).apply(lambda x : \"{:,}\".format(x)).rename(\"$|V|$\"),\n",
    "        pd.Series(train_nodes).astype(int).apply(lambda x : \"{:,}\".format(x)).rename(\"$|V_{Train}|$\"),\n",
    "        pd.Series(valid_nodes).astype(int).apply(lambda x : \"{:,}\".format(x)).rename(\"$|V_{Validation}|$\"),\n",
    "        pd.Series(test_nodes).astype(int).apply(lambda x : \"{:,}\".format(x)).rename(\"$|V_{Test}|$\"),\n",
    "        pd.Series(total_edges).astype(int).apply(lambda x : \"{:,}\".format(x)).rename(\"$|E|$\"),\n",
    "        pd.Series(train_edges).astype(int).apply(lambda x : \"{:,}\".format(x)).rename(\"$|E_{Train}|$\"),\n",
    "        pd.Series(valid_edges).astype(int).apply(lambda x : \"{:,}\".format(x)).rename(\"$|E_{Validation}|$\"),\n",
    "        pd.Series(test_edges).astype(int).apply(lambda x : \"{:,}\".format(x)).rename(\"$|E_{Test}|$\"),\n",
    "    ],\n",
    "    axis=1,\n",
    ")\n",
    "\n",
    "summary_df"
   ]
  },
  {
   "cell_type": "code",
   "execution_count": 107,
   "metadata": {},
   "outputs": [
    {
     "name": "stdout",
     "output_type": "stream",
     "text": [
      "\\begin{tabular}{lrrllllllll}\n",
      " & $|\\{Y\\}|$ & $h$ & $|V|$ & $|V_{Train}|$ & $|V_{Validation}|$ & $|V_{Test}|$ & $|E|$ & $|E_{Train}|$ & $|E_{Validation}|$ & $|E_{Test}|$ \\\\\n",
      "ogbn-arxiv & 40 & 0.655000 & 169,343 & 90,941 & 29,799 & 48,603 & 1,166,243 & 374,839 & 247,627 & 543,777 \\\\\n",
      "Cora & 7 & 0.810000 & 2,708 & 1,208 & 500 & 1,000 & 10,556 & 2,308 & 2,130 & 6,118 \\\\\n",
      "Citeseer & 6 & 0.736000 & 3,327 & 1,827 & 500 & 1,000 & 9,104 & 2,642 & 1,712 & 4,750 \\\\\n",
      "Pubmed & 3 & 0.802000 & 19,717 & 18,217 & 500 & 1,000 & 88,648 & 75,472 & 4,140 & 9,036 \\\\\n",
      "\\end{tabular}\n",
      "\n"
     ]
    }
   ],
   "source": [
    "print(summary_df.style.to_latex())"
   ]
  },
  {
   "attachments": {},
   "cell_type": "markdown",
   "metadata": {},
   "source": [
    "\\begin{table}\n",
    "    \\resizebox{\\columnwidth}{!}{%\n",
    "        \\centering\n",
    "        \\begin{tabular}{lrrrrrrrrr}\n",
    "            \\toprule\n",
    "                                &           &  \\multicolumn{4}{c}{$|V|$}                        & \\multicolumn{4}{c}{$|E|$} \\\\\n",
    "                                               \\cmidrule(lr){3-6}                                 \\cmidrule(lr){7-10}\n",
    "            Dataset             & $|\\{Y\\}|$ & $h$   & Total     & Train     & Validation    & Test      & Total     & Train     & Validation    & Test \\\\\n",
    "            \\midrule\n",
    "            \\texttt{ogbn-arxiv} & 40        & 0.655 & 169,343   & 90,941    & 29,799        & 48,603    & 1,166,243 & 374,839   & 247,627       & 543,777 \\\\\n",
    "            Cora                & 7         & 0.810 & 2,708     & 1,208     & 500           & 1,000     & 10,556    & 2,308     & 2,130         & 6,118 \\\\\n",
    "            Citeseer            & 6         & 0.736 & 3,327     & 1,827     & 500           & 1,000     & 9,104     & 2,642     & 1,712         & 4,750 \\\\\n",
    "            Pubmed              & 3         & 0.802 & 19,717    & 18,217    & 500           & 1,000     & 88,648    & 75,472    & 4,140         & 9,036 \\\\\n",
    "            \\bottomrule\n",
    "        \\end{tabular}%\n",
    "    }\n",
    "    \\caption{Descriptive statistics of the datasets used.}\n",
    "\\end{table}"
   ]
  }
 ],
 "metadata": {
  "kernelspec": {
   "display_name": "Arxiv Paper Classification Env",
   "language": "python",
   "name": "arxiv-env"
  },
  "language_info": {
   "codemirror_mode": {
    "name": "ipython",
    "version": 3
   },
   "file_extension": ".py",
   "mimetype": "text/x-python",
   "name": "python",
   "nbconvert_exporter": "python",
   "pygments_lexer": "ipython3",
   "version": "3.10.6"
  },
  "orig_nbformat": 4
 },
 "nbformat": 4,
 "nbformat_minor": 2
}
