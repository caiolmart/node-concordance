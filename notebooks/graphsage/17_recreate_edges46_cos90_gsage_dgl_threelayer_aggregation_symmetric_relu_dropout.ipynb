{
 "cells": [
  {
   "cell_type": "code",
   "execution_count": 1,
   "metadata": {},
   "outputs": [],
   "source": [
    "import os"
   ]
  },
  {
   "cell_type": "code",
   "execution_count": 2,
   "metadata": {},
   "outputs": [],
   "source": [
    "os.chdir('../..')"
   ]
  },
  {
   "cell_type": "code",
   "execution_count": 3,
   "metadata": {},
   "outputs": [
    {
     "name": "stderr",
     "output_type": "stream",
     "text": [
      "Using backend: pytorch\n"
     ]
    }
   ],
   "source": [
    "import numpy as np\n",
    "from sklearn.metrics import accuracy_score\n",
    "import torch\n",
    "import torch.nn.functional as F\n",
    "import dgl\n",
    "from ogb.nodeproppred import DglNodePropPredDataset, Evaluator\n",
    "import faiss\n",
    "\n",
    "from dgl.nn.pytorch.conv import SAGEConv"
   ]
  },
  {
   "cell_type": "code",
   "execution_count": 4,
   "metadata": {},
   "outputs": [
    {
     "data": {
      "text/plain": [
       "DglNodePropPredDataset(1)"
      ]
     },
     "execution_count": 4,
     "metadata": {},
     "output_type": "execute_result"
    }
   ],
   "source": [
    "dataset = DglNodePropPredDataset(name='ogbn-arxiv', \n",
    "                                 root='data/dataset_dgl/')\n",
    "dataset"
   ]
  },
  {
   "cell_type": "code",
   "execution_count": 5,
   "metadata": {
    "scrolled": true
   },
   "outputs": [
    {
     "data": {
      "text/plain": [
       "True"
      ]
     },
     "execution_count": 5,
     "metadata": {},
     "output_type": "execute_result"
    }
   ],
   "source": [
    "torch.cuda.is_available()"
   ]
  },
  {
   "cell_type": "code",
   "execution_count": 6,
   "metadata": {},
   "outputs": [],
   "source": [
    "device = 'cuda:0' if torch.cuda.is_available() else 'cpu'\n",
    "device = torch.device(device)"
   ]
  },
  {
   "cell_type": "code",
   "execution_count": 7,
   "metadata": {},
   "outputs": [
    {
     "data": {
      "text/plain": [
       "Graph(num_nodes=169343, num_edges=1166243,\n",
       "      ndata_schemes={'year': Scheme(shape=(1,), dtype=torch.int64), 'feat': Scheme(shape=(128,), dtype=torch.float32)}\n",
       "      edata_schemes={})"
      ]
     },
     "execution_count": 7,
     "metadata": {},
     "output_type": "execute_result"
    }
   ],
   "source": [
    "graph = dataset[0][0]\n",
    "graph"
   ]
  },
  {
   "cell_type": "code",
   "execution_count": 8,
   "metadata": {},
   "outputs": [
    {
     "data": {
      "text/plain": [
       "tensor(13.7737)"
      ]
     },
     "execution_count": 8,
     "metadata": {},
     "output_type": "execute_result"
    }
   ],
   "source": [
    "torch.mean(graph.out_degrees() + graph.in_degrees() * 1.)"
   ]
  },
  {
   "cell_type": "markdown",
   "metadata": {},
   "source": [
    "## Build Graph from graph sage embedding distances"
   ]
  },
  {
   "cell_type": "code",
   "execution_count": 10,
   "metadata": {},
   "outputs": [],
   "source": [
    "output_emb_file = 'models/graphsage_link_pred/full_graphsage_linkpred_46_h.npy'\n",
    "max_k = 1000\n",
    "min_k = 1\n",
    "min_cossim = 0.9"
   ]
  },
  {
   "cell_type": "code",
   "execution_count": 11,
   "metadata": {},
   "outputs": [],
   "source": [
    "embeddings = np.load(output_emb_file)"
   ]
  },
  {
   "cell_type": "code",
   "execution_count": 12,
   "metadata": {},
   "outputs": [],
   "source": [
    "emb_norm = embeddings / np.linalg.norm(embeddings, axis=1)[:, None]"
   ]
  },
  {
   "cell_type": "code",
   "execution_count": 13,
   "metadata": {},
   "outputs": [],
   "source": [
    "index_cos = faiss.IndexFlatIP(emb_norm.shape[1])"
   ]
  },
  {
   "cell_type": "code",
   "execution_count": 14,
   "metadata": {},
   "outputs": [],
   "source": [
    "index_cos.train(emb_norm)\n",
    "index_cos.add(emb_norm)"
   ]
  },
  {
   "cell_type": "code",
   "execution_count": 15,
   "metadata": {},
   "outputs": [
    {
     "data": {
      "text/plain": [
       "169343"
      ]
     },
     "execution_count": 15,
     "metadata": {},
     "output_type": "execute_result"
    }
   ],
   "source": [
    "index_cos.ntotal"
   ]
  },
  {
   "cell_type": "code",
   "execution_count": 16,
   "metadata": {},
   "outputs": [],
   "source": [
    "distances, indices = index_cos.search(emb_norm, max_k + 1)"
   ]
  },
  {
   "cell_type": "code",
   "execution_count": 17,
   "metadata": {},
   "outputs": [],
   "source": [
    "mask = (distances > min_cossim)[:, 1:]\n",
    "mask[:, :min_k] = True"
   ]
  },
  {
   "cell_type": "code",
   "execution_count": 18,
   "metadata": {},
   "outputs": [
    {
     "data": {
      "text/plain": [
       "array([938,   6, 255, ...,  43, 805,  29])"
      ]
     },
     "execution_count": 18,
     "metadata": {},
     "output_type": "execute_result"
    }
   ],
   "source": [
    "mask.sum(axis=1)"
   ]
  },
  {
   "cell_type": "code",
   "execution_count": 19,
   "metadata": {},
   "outputs": [
    {
     "data": {
      "text/plain": [
       "1"
      ]
     },
     "execution_count": 19,
     "metadata": {},
     "output_type": "execute_result"
    }
   ],
   "source": [
    "mask.sum(axis=1).min()"
   ]
  },
  {
   "cell_type": "code",
   "execution_count": 20,
   "metadata": {},
   "outputs": [
    {
     "name": "stdout",
     "output_type": "stream",
     "text": [
      "(12221268,)\n"
     ]
    },
    {
     "data": {
      "text/plain": [
       "array([     0,      0,      0, ..., 169342, 169342, 169342])"
      ]
     },
     "execution_count": 20,
     "metadata": {},
     "output_type": "execute_result"
    }
   ],
   "source": [
    "u = np.repeat(indices[:, 0], mask.sum(axis=1))\n",
    "print(u.shape)\n",
    "u"
   ]
  },
  {
   "cell_type": "code",
   "execution_count": 21,
   "metadata": {},
   "outputs": [
    {
     "name": "stdout",
     "output_type": "stream",
     "text": [
      "(12221268,)\n"
     ]
    },
    {
     "data": {
      "text/plain": [
       "array([ 79872,  10839, 158210, ...,  97498,  90378,  89648])"
      ]
     },
     "execution_count": 21,
     "metadata": {},
     "output_type": "execute_result"
    }
   ],
   "source": [
    "v = indices[:,1:].reshape(-1)[mask.reshape(-1)]\n",
    "print(v.shape)\n",
    "v"
   ]
  },
  {
   "cell_type": "code",
   "execution_count": 22,
   "metadata": {},
   "outputs": [],
   "source": [
    "graph.remove_edges(graph.edge_ids(graph.edges()[0], graph.edges()[1]))"
   ]
  },
  {
   "cell_type": "code",
   "execution_count": 23,
   "metadata": {},
   "outputs": [
    {
     "data": {
      "text/plain": [
       "(tensor([], dtype=torch.int64), tensor([], dtype=torch.int64))"
      ]
     },
     "execution_count": 23,
     "metadata": {},
     "output_type": "execute_result"
    }
   ],
   "source": [
    "graph.edges()"
   ]
  },
  {
   "cell_type": "code",
   "execution_count": 24,
   "metadata": {},
   "outputs": [],
   "source": [
    "graph.add_edges(u, v)"
   ]
  },
  {
   "cell_type": "code",
   "execution_count": 25,
   "metadata": {},
   "outputs": [
    {
     "data": {
      "text/plain": [
       "(tensor([     0,      0,      0,  ..., 169342, 169342, 169342]),\n",
       " tensor([ 79872,  10839, 158210,  ...,  97498,  90378,  89648]))"
      ]
     },
     "execution_count": 25,
     "metadata": {},
     "output_type": "execute_result"
    }
   ],
   "source": [
    "graph.edges()"
   ]
  },
  {
   "cell_type": "markdown",
   "metadata": {},
   "source": [
    "## Model"
   ]
  },
  {
   "cell_type": "code",
   "execution_count": 26,
   "metadata": {},
   "outputs": [],
   "source": [
    "split_idx = dataset.get_idx_split()"
   ]
  },
  {
   "cell_type": "code",
   "execution_count": 27,
   "metadata": {},
   "outputs": [],
   "source": [
    "torch.cuda.set_device(device)"
   ]
  },
  {
   "cell_type": "code",
   "execution_count": 28,
   "metadata": {},
   "outputs": [],
   "source": [
    "features = graph.ndata['feat'].cuda()\n",
    "labels = dataset.labels.cuda()\n",
    "train_mask = split_idx['train'].cuda()\n",
    "val_mask = split_idx['valid'].cuda()\n",
    "test_mask = split_idx['test'].cuda()"
   ]
  },
  {
   "cell_type": "code",
   "execution_count": 29,
   "metadata": {},
   "outputs": [
    {
     "name": "stderr",
     "output_type": "stream",
     "text": [
      "<ipython-input-29-fa10932ea454>:1: UserWarning: This overload of nonzero is deprecated:\n",
      "\tnonzero()\n",
      "Consider using one of the following signatures instead:\n",
      "\tnonzero(*, bool as_tuple) (Triggered internally at  /pytorch/torch/csrc/utils/python_arg_parser.cpp:882.)\n",
      "  train_nid = train_mask.nonzero().squeeze()\n"
     ]
    }
   ],
   "source": [
    "train_nid = train_mask.nonzero().squeeze()\n",
    "val_nid = val_mask.nonzero().squeeze()\n",
    "test_nid = test_mask.nonzero().squeeze()"
   ]
  },
  {
   "cell_type": "code",
   "execution_count": 30,
   "metadata": {},
   "outputs": [],
   "source": [
    "n_edges = graph.number_of_edges()"
   ]
  },
  {
   "cell_type": "code",
   "execution_count": 31,
   "metadata": {},
   "outputs": [],
   "source": [
    "graph = graph.int().to(device)"
   ]
  },
  {
   "cell_type": "code",
   "execution_count": 32,
   "metadata": {},
   "outputs": [],
   "source": [
    "n_iters = 3000\n",
    "epochs = 1000\n",
    "log_steps = 100\n",
    "input_dim = features.shape[1]\n",
    "hidden_channels = input_dim * 2\n",
    "output_dim = dataset.num_classes\n",
    "lr_rate = 0.001"
   ]
  },
  {
   "cell_type": "code",
   "execution_count": 33,
   "metadata": {},
   "outputs": [],
   "source": [
    "class ThreeLayer(torch.nn.Module):\n",
    "    def __init__(self, input_dim, hidden_channels, output_dim, dropout):\n",
    "        super(ThreeLayer, self).__init__()\n",
    "        \n",
    "        self.convs = torch.nn.ModuleList()\n",
    "        self.bns = torch.nn.ModuleList()\n",
    "        \n",
    "        self.convs.append(SAGEConv(input_dim, hidden_channels, 'mean'))\n",
    "        self.bns.append(torch.nn.BatchNorm1d(hidden_channels))\n",
    "        \n",
    "        self.convs.append(SAGEConv(hidden_channels, hidden_channels, 'mean'))\n",
    "        self.bns.append(torch.nn.BatchNorm1d(hidden_channels))\n",
    "        \n",
    "        self.convs.append(SAGEConv(hidden_channels, output_dim, 'mean'))\n",
    "        \n",
    "        self.dropout = dropout\n",
    "        \n",
    "\n",
    "    def forward(self, graph, x):\n",
    "        x = self.convs[0](graph, x)\n",
    "        x = self.bns[0](x)\n",
    "        x = F.relu(x)\n",
    "        x = F.dropout(x, p=self.dropout, training=self.training)\n",
    "        \n",
    "        x = self.convs[1](graph, x)\n",
    "        x = self.bns[1](x)\n",
    "        x = F.relu(x)\n",
    "        x = F.dropout(x, p=self.dropout, training=self.training)\n",
    "        \n",
    "        x = self.convs[2](graph, x)\n",
    "        return x.log_softmax(dim=-1)"
   ]
  },
  {
   "cell_type": "code",
   "execution_count": 34,
   "metadata": {},
   "outputs": [],
   "source": [
    "model = ThreeLayer(input_dim,\n",
    "                   hidden_channels,\n",
    "                   output_dim,\n",
    "                   0.5).cuda()"
   ]
  },
  {
   "cell_type": "code",
   "execution_count": 35,
   "metadata": {},
   "outputs": [],
   "source": [
    "def train(model, graph, features, train_mask, optimizer):\n",
    "    model.train()\n",
    "\n",
    "    optimizer.zero_grad()\n",
    "    out = model(graph, features)[train_mask]\n",
    "    loss = F.nll_loss(out, labels.squeeze(1)[train_mask])\n",
    "    loss.backward()\n",
    "    optimizer.step()\n",
    "\n",
    "    return loss.item()"
   ]
  },
  {
   "cell_type": "code",
   "execution_count": 36,
   "metadata": {},
   "outputs": [],
   "source": [
    "@torch.no_grad()\n",
    "def test(model, graph, features, labels, train_mask, val_mask, test_mask, evaluator):\n",
    "    model.eval()\n",
    "\n",
    "    out = model(graph, features)\n",
    "    y_pred = out.argmax(dim=-1, keepdim=True)\n",
    "\n",
    "    train_acc = evaluator.eval({\n",
    "        'y_true': labels[train_mask],\n",
    "        'y_pred': y_pred[train_mask],\n",
    "    })['acc']\n",
    "    valid_acc = evaluator.eval({\n",
    "        'y_true': labels[val_mask],\n",
    "        'y_pred': y_pred[val_mask],\n",
    "    })['acc']\n",
    "    test_acc = evaluator.eval({\n",
    "        'y_true': labels[test_mask],\n",
    "        'y_pred': y_pred[test_mask],\n",
    "    })['acc']\n",
    "\n",
    "    return train_acc, valid_acc, test_acc"
   ]
  },
  {
   "cell_type": "code",
   "execution_count": 37,
   "metadata": {},
   "outputs": [],
   "source": [
    "evaluator = Evaluator(name='ogbn-arxiv')"
   ]
  },
  {
   "cell_type": "code",
   "execution_count": 38,
   "metadata": {},
   "outputs": [
    {
     "name": "stdout",
     "output_type": "stream",
     "text": [
      "Epoch: 100, Loss: 1.4220, Train: 66.24%, Valid: 65.66% Test: 63.98%\n",
      "Epoch: 200, Loss: 1.2235, Train: 68.88%, Valid: 67.38% Test: 66.01%\n",
      "Epoch: 300, Loss: 1.1276, Train: 70.44%, Valid: 68.03% Test: 66.81%\n",
      "Epoch: 400, Loss: 1.0681, Train: 71.54%, Valid: 68.38% Test: 67.23%\n",
      "Epoch: 500, Loss: 1.0217, Train: 72.55%, Valid: 68.64% Test: 67.51%\n",
      "Epoch: 600, Loss: 0.9900, Train: 73.50%, Valid: 68.91% Test: 67.60%\n",
      "Epoch: 700, Loss: 0.9555, Train: 74.36%, Valid: 69.16% Test: 68.05%\n",
      "Epoch: 800, Loss: 0.9255, Train: 75.22%, Valid: 69.27% Test: 68.05%\n",
      "Epoch: 900, Loss: 0.8994, Train: 76.03%, Valid: 69.61% Test: 68.31%\n",
      "Epoch: 1000, Loss: 0.8777, Train: 76.84%, Valid: 69.58% Test: 68.33%\n"
     ]
    }
   ],
   "source": [
    "optimizer = torch.optim.Adam(model.parameters(), lr=lr_rate)\n",
    "for epoch in range(1, 1 + epochs):\n",
    "    loss = train(model, graph, features, train_mask, optimizer)\n",
    "    result = test(model, graph, features, labels, train_mask, val_mask, test_mask, evaluator)\n",
    "\n",
    "    if epoch % log_steps == 0:\n",
    "        train_acc, valid_acc, test_acc = result\n",
    "        print(f'Epoch: {epoch:02d}, '\n",
    "              f'Loss: {loss:.4f}, '\n",
    "              f'Train: {100 * train_acc:.2f}%, '\n",
    "              f'Valid: {100 * valid_acc:.2f}% '\n",
    "              f'Test: {100 * test_acc:.2f}%')"
   ]
  },
  {
   "cell_type": "code",
   "execution_count": 40,
   "metadata": {},
   "outputs": [
    {
     "name": "stdout",
     "output_type": "stream",
     "text": [
      "Epoch: 1100, Loss: 0.8497, Train: 77.55%, Valid: 69.74% Test: 68.29%\n",
      "Epoch: 1200, Loss: 0.8392, Train: 78.26%, Valid: 69.67% Test: 68.37%\n",
      "Epoch: 1300, Loss: 0.8177, Train: 78.92%, Valid: 69.74% Test: 68.28%\n",
      "Epoch: 1400, Loss: 0.7998, Train: 79.57%, Valid: 69.57% Test: 68.24%\n",
      "Epoch: 1500, Loss: 0.7869, Train: 80.07%, Valid: 69.61% Test: 68.26%\n",
      "Epoch: 1600, Loss: 0.7718, Train: 80.61%, Valid: 69.51% Test: 68.21%\n",
      "Epoch: 1700, Loss: 0.7582, Train: 81.07%, Valid: 69.49% Test: 67.97%\n",
      "Epoch: 1800, Loss: 0.7443, Train: 81.54%, Valid: 69.66% Test: 68.15%\n",
      "Epoch: 1900, Loss: 0.7349, Train: 81.91%, Valid: 69.55% Test: 68.12%\n",
      "Epoch: 2000, Loss: 0.7276, Train: 82.31%, Valid: 69.84% Test: 68.52%\n"
     ]
    }
   ],
   "source": [
    "extra_epochs = 1000\n",
    "for epoch in range(1 + epochs, 1 + epochs + extra_epochs):\n",
    "    loss = train(model, graph, features, train_mask, optimizer)\n",
    "    result = test(model, graph, features, labels, train_mask, val_mask, test_mask, evaluator)\n",
    "\n",
    "    if epoch % log_steps == 0:\n",
    "        train_acc, valid_acc, test_acc = result\n",
    "        print(f'Epoch: {epoch:02d}, '\n",
    "              f'Loss: {loss:.4f}, '\n",
    "              f'Train: {100 * train_acc:.2f}%, '\n",
    "              f'Valid: {100 * valid_acc:.2f}% '\n",
    "              f'Test: {100 * test_acc:.2f}%')"
   ]
  }
 ],
 "metadata": {
  "kernelspec": {
   "display_name": "Python 3 (ipykernel)",
   "language": "python",
   "name": "python3"
  },
  "language_info": {
   "codemirror_mode": {
    "name": "ipython",
    "version": 3
   },
   "file_extension": ".py",
   "mimetype": "text/x-python",
   "name": "python",
   "nbconvert_exporter": "python",
   "pygments_lexer": "ipython3",
   "version": "3.8.10"
  }
 },
 "nbformat": 4,
 "nbformat_minor": 4
}
