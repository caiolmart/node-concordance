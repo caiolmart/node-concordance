{
 "cells": [
  {
   "cell_type": "code",
   "execution_count": 1,
   "id": "bbcf865e-32c9-481a-b7fb-661fac566cd0",
   "metadata": {},
   "outputs": [],
   "source": [
    "%load_ext autoreload\n",
    "%autoreload 2"
   ]
  },
  {
   "cell_type": "code",
   "execution_count": 2,
   "id": "d6d50784-ae0a-4e9a-923f-a8a5da84c41f",
   "metadata": {},
   "outputs": [
    {
     "name": "stderr",
     "output_type": "stream",
     "text": [
      "Using backend: pytorch\n"
     ]
    }
   ],
   "source": [
    "import os\n",
    "\n",
    "while 'notebooks' in os.getcwd():\n",
    "    os.chdir('..')\n",
    "\n",
    "import torch\n",
    "import torch_geometric.transforms as T\n",
    "from ogb.nodeproppred import PygNodePropPredDataset, Evaluator\n",
    "from sklearn.metrics import roc_auc_score\n",
    "import logging\n",
    "import matplotlib.pyplot as plt\n",
    "import plotly.express as px\n",
    "import plotly.offline as pyo\n",
    "import numpy as np\n",
    "\n",
    "from src.torch_geo_models import GraphSAGE, LinkPredictor\n",
    "from src.data.gamma.arxiv import load_data, get_val_test_edges, prepare_adjencency, get_edge_index_from_adjencency\n",
    "from src.train.gamma import GammaGraphSage"
   ]
  },
  {
   "cell_type": "code",
   "execution_count": 3,
   "id": "d302740f-dfae-4604-a1a7-75925122e68f",
   "metadata": {},
   "outputs": [],
   "source": [
    "logging.basicConfig(\n",
    "    format='%(asctime)s - %(levelname)s : %(message)s',\n",
    "    level=logging.INFO,\n",
    "    datefmt='%Y-%m-%d %H:%M:%S'\n",
    ")"
   ]
  },
  {
   "cell_type": "code",
   "execution_count": 4,
   "id": "5aac4a89-f43d-494e-92dd-4f8c0cb7d24e",
   "metadata": {},
   "outputs": [
    {
     "data": {
      "text/plain": [
       "True"
      ]
     },
     "execution_count": 4,
     "metadata": {},
     "output_type": "execute_result"
    }
   ],
   "source": [
    "torch.cuda.is_available()"
   ]
  },
  {
   "cell_type": "code",
   "execution_count": 5,
   "id": "5d7b6cb5-686a-4bba-99c0-7e954a656f4b",
   "metadata": {},
   "outputs": [
    {
     "data": {
      "text/plain": [
       "device(type='cuda', index=0)"
      ]
     },
     "execution_count": 5,
     "metadata": {},
     "output_type": "execute_result"
    }
   ],
   "source": [
    "device = f'cuda:0' if torch.cuda.is_available() else 'cpu'\n",
    "device = torch.device(device)\n",
    "device"
   ]
  },
  {
   "cell_type": "markdown",
   "id": "3ee35052-8c79-4ad5-bef5-0d0759048428",
   "metadata": {
    "tags": []
   },
   "source": [
    "## Data Loading"
   ]
  },
  {
   "cell_type": "code",
   "execution_count": 6,
   "id": "2b7ad8fa-618c-469c-8929-5edd87b008cf",
   "metadata": {},
   "outputs": [],
   "source": [
    "data = load_data()\n",
    "\n",
    "data, edges_val, edges_test, neg_edges_val, neg_edges_test =\\\n",
    "    get_val_test_edges(data, remove_from_data=True, device=device)\n",
    "\n",
    "data = prepare_adjencency(data, to_symmetric=True)\n",
    "\n",
    "edge_index = get_edge_index_from_adjencency(data, device)"
   ]
  },
  {
   "cell_type": "markdown",
   "id": "0ccb85c6-136f-4385-a097-ee4418cc4a2d",
   "metadata": {
    "tags": []
   },
   "source": [
    "## Training"
   ]
  },
  {
   "cell_type": "code",
   "execution_count": null,
   "id": "441a1252-f15d-4c3d-a606-d3e2d29ff268",
   "metadata": {
    "tags": []
   },
   "outputs": [
    {
     "name": "stderr",
     "output_type": "stream",
     "text": [
      "2022-05-24 22:41:53 - INFO : Run: 0000, Epoch: 0001, Train Loss: 1.3988, Valid loss: 1.1481, Test loss: 1.1483, Train AUC: 0.5862, Valid AUC: 0.5845, Test AUC: 0.5808\n"
     ]
    }
   ],
   "source": [
    "for run in range(30):\n",
    "    gamma = GammaGraphSage(device, data.num_nodes, run=run)\n",
    "    torch.cuda.empty_cache()\n",
    "    gamma.train(edge_index,\n",
    "                edges_val,\n",
    "                edges_test,\n",
    "                neg_edges_val,\n",
    "                neg_edges_test,\n",
    "                data.adj_t,\n",
    "                data.y)"
   ]
  },
  {
   "cell_type": "markdown",
   "id": "77be1a49-7bc1-4409-97a4-ce6d102a0444",
   "metadata": {
    "tags": []
   },
   "source": [
    "## Results"
   ]
  },
  {
   "cell_type": "code",
   "execution_count": null,
   "id": "48be4053-2061-4e2f-8ce5-668f58a0f11a",
   "metadata": {},
   "outputs": [],
   "source": [
    "metrics = GammaGraphSage.read_metrics()\n",
    "print(metrics.shape)\n",
    "metrics.head()"
   ]
  },
  {
   "cell_type": "markdown",
   "id": "a192e1e1-12ad-4b8b-8b67-813d8a3620ad",
   "metadata": {},
   "source": [
    "### Sumarize metrics per epoch"
   ]
  },
  {
   "cell_type": "code",
   "execution_count": null,
   "id": "48fa2701-7a12-4640-aa6a-e9edeec11ce3",
   "metadata": {},
   "outputs": [],
   "source": [
    "metrics_cols = metrics.columns[2:]\n",
    "metrics_cols"
   ]
  },
  {
   "cell_type": "code",
   "execution_count": null,
   "id": "fcf0f79b-aede-4cbd-9a63-05ebddc97f4a",
   "metadata": {},
   "outputs": [],
   "source": [
    "metrics['loss_train'] = metrics\\\n",
    "    .replace('None', np.nan)\\\n",
    "    ['loss_train']\\\n",
    "    .astype(float)"
   ]
  },
  {
   "cell_type": "code",
   "execution_count": null,
   "id": "11b19732-a74b-402a-b31f-8c13285cf8e5",
   "metadata": {},
   "outputs": [],
   "source": [
    "epoch_metrics = metrics\\\n",
    "    .fillna(-1)\\\n",
    "    .groupby('epoch')\\\n",
    "    [metrics_cols]\\\n",
    "    .agg(['mean', 'std'])\n",
    "epoch_metrics.columns = [f'{x[0]}_{x[1]}' for x in epoch_metrics.columns]\n",
    "epoch_metrics.head()"
   ]
  },
  {
   "cell_type": "code",
   "execution_count": null,
   "id": "e9865cb0-1e31-431c-9476-4c6b044202e0",
   "metadata": {},
   "outputs": [],
   "source": [
    "epoch_metrics.sort_values('auc_val_mean', ascending=False).head()"
   ]
  },
  {
   "cell_type": "code",
   "execution_count": null,
   "id": "ba5b3ca3-a0a9-45d1-800e-f6946c03b034",
   "metadata": {},
   "outputs": [],
   "source": [
    "plt.rcParams['font.size'] = '14'\n",
    "fig, ax1 = plt.subplots(1, 1, figsize=(16, 10))\n",
    "\n",
    "ax1.set_title('Gamma metrics')\n",
    "\n",
    "ax1.errorbar(\n",
    "    epoch_metrics.index[1:],\n",
    "    epoch_metrics['loss_train_mean'][1:],\n",
    "    yerr=epoch_metrics['loss_train_std'][1:],\n",
    "    ls='-',\n",
    "    label='Train')\n",
    "\n",
    "ax1.errorbar(\n",
    "    epoch_metrics.index,\n",
    "    epoch_metrics['loss_val_mean'],\n",
    "    yerr=epoch_metrics['loss_val_std'],\n",
    "    ls='-',\n",
    "    label='Validation')\n",
    "\n",
    "ax1.errorbar(\n",
    "    epoch_metrics.index,\n",
    "    epoch_metrics['loss_test_mean'],\n",
    "    yerr=epoch_metrics['loss_test_std'],\n",
    "    ls='-',\n",
    "    label='Test')\n",
    "\n",
    "ax1.legend(loc='upper right', title='Loss', bbox_to_anchor=[0.85, 1])\n",
    "ax1.set_ylabel('Loss')\n",
    "ax1.set_xlabel('Epoch')\n",
    "\n",
    "ax2 = ax1.twinx()\n",
    "\n",
    "ax2.errorbar(\n",
    "    epoch_metrics.index[1:],\n",
    "    epoch_metrics['auc_train_mean'][1:],\n",
    "    yerr=epoch_metrics['auc_train_std'][1:],\n",
    "    ls=':',\n",
    "    label='Train')\n",
    "\n",
    "ax2.errorbar(\n",
    "    epoch_metrics.index,\n",
    "    epoch_metrics['auc_val_mean'],\n",
    "    yerr=epoch_metrics['auc_val_std'],\n",
    "    ls=':',\n",
    "    label='Validation')\n",
    "\n",
    "ax2.errorbar(\n",
    "    epoch_metrics.index,\n",
    "    epoch_metrics['auc_test_mean'],\n",
    "    yerr=epoch_metrics['auc_test_std'],\n",
    "    ls=':',\n",
    "    label='Test')\n",
    "\n",
    "ax2.legend(loc='upper right', title='ROC AUC', bbox_to_anchor=[1, 1])\n",
    "ax2.set_ylabel('ROC AUC')\n",
    "\n",
    "plt.savefig('reports/images/gamma_training_metrics.pdf')"
   ]
  },
  {
   "cell_type": "markdown",
   "id": "3480bc58-26a6-485c-9e21-3907c9de5128",
   "metadata": {},
   "source": [
    "### Best model"
   ]
  },
  {
   "cell_type": "code",
   "execution_count": null,
   "id": "226adefb-7c5d-4114-bf17-36bde19c248e",
   "metadata": {},
   "outputs": [],
   "source": [
    "best_model_metrics = metrics.sort_values('auc_val', ascending=False).iloc[0]\n",
    "best_model_metrics"
   ]
  },
  {
   "cell_type": "code",
   "execution_count": null,
   "id": "48d73797-48d5-4868-b4df-e954b193469e",
   "metadata": {},
   "outputs": [],
   "source": [
    "gamma = GammaGraphSage.load_model(\n",
    "    best_model_metrics['run'],\n",
    "    best_model_metrics['epoch'],\n",
    "    device,\n",
    "    data.num_nodes)"
   ]
  },
  {
   "cell_type": "code",
   "execution_count": null,
   "id": "8f82c3c6-6638-4a89-866d-ae00a230d5bc",
   "metadata": {},
   "outputs": [],
   "source": [
    "gamma.forward(edge_index, data.adj_t)"
   ]
  },
  {
   "cell_type": "code",
   "execution_count": null,
   "id": "ead5f9d2-c07d-4dab-bef2-7746d2f288ae",
   "metadata": {},
   "outputs": [],
   "source": [
    "gamma.eval(\n",
    "            edge_index,\n",
    "            edges_val,\n",
    "            edges_test,\n",
    "            neg_edges_val,\n",
    "            neg_edges_test,\n",
    "            data.adj_t,\n",
    "            data.y)"
   ]
  },
  {
   "cell_type": "code",
   "execution_count": null,
   "id": "0735e035-7613-49e8-ae91-6c13f4df6cc0",
   "metadata": {},
   "outputs": [],
   "source": [
    "type(gamma.predictor)"
   ]
  },
  {
   "cell_type": "code",
   "execution_count": null,
   "id": "0ff5140b-78b3-4836-a6b1-1cf02231f303",
   "metadata": {},
   "outputs": [],
   "source": [
    "data = load_data()\n",
    "data = prepare_adjencency(data, to_symmetric=True)"
   ]
  },
  {
   "cell_type": "code",
   "execution_count": null,
   "id": "66853dbe-de0d-4f22-a4a9-fdbcbf8554af",
   "metadata": {},
   "outputs": [],
   "source": [
    "gamma.forward(data.edge_index, data.adj_t)"
   ]
  },
  {
   "cell_type": "code",
   "execution_count": null,
   "id": "209ed598-432f-48c6-8ac9-eae960c77a15",
   "metadata": {},
   "outputs": [],
   "source": [
    "data.edge_index"
   ]
  },
  {
   "cell_type": "code",
   "execution_count": null,
   "id": "eaead53c-7165-422a-b2bc-6ffeee319e9b",
   "metadata": {},
   "outputs": [],
   "source": [
    "data.num_nodes"
   ]
  }
 ],
 "metadata": {
  "kernelspec": {
   "display_name": "ArXiv Paper Classification",
   "language": "python",
   "name": "arxiv-paperclassification"
  },
  "language_info": {
   "codemirror_mode": {
    "name": "ipython",
    "version": 3
   },
   "file_extension": ".py",
   "mimetype": "text/x-python",
   "name": "python",
   "nbconvert_exporter": "python",
   "pygments_lexer": "ipython3",
   "version": "3.8.10"
  }
 },
 "nbformat": 4,
 "nbformat_minor": 5
}
