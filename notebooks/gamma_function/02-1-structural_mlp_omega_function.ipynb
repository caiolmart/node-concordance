{
 "cells": [
  {
   "cell_type": "code",
   "execution_count": 1,
   "id": "bbcf865e-32c9-481a-b7fb-661fac566cd0",
   "metadata": {},
   "outputs": [],
   "source": [
    "%load_ext autoreload\n",
    "%autoreload 2"
   ]
  },
  {
   "cell_type": "code",
   "execution_count": 2,
   "id": "d6d50784-ae0a-4e9a-923f-a8a5da84c41f",
   "metadata": {},
   "outputs": [
    {
     "name": "stderr",
     "output_type": "stream",
     "text": [
      "/home/caiolmartinelli/.cache/pypoetry/virtualenvs/arxiv-paperclassification-f16XUvnj-py3.10/lib/python3.10/site-packages/tqdm/auto.py:22: TqdmWarning: IProgress not found. Please update jupyter and ipywidgets. See https://ipywidgets.readthedocs.io/en/stable/user_install.html\n",
      "  from .autonotebook import tqdm as notebook_tqdm\n"
     ]
    }
   ],
   "source": [
    "import os\n",
    "\n",
    "while 'notebooks' in os.getcwd():\n",
    "    os.chdir('..')\n",
    "\n",
    "import torch\n",
    "import torch_geometric.transforms as T\n",
    "from ogb.nodeproppred import PygNodePropPredDataset, Evaluator\n",
    "from sklearn.metrics import roc_auc_score\n",
    "import logging\n",
    "import matplotlib.pyplot as plt\n",
    "import seaborn as sns\n",
    "import plotly.express as px\n",
    "import plotly.offline as pyo\n",
    "import numpy as np\n",
    "import pandas as pd\n",
    "\n",
    "from src.torch_geo_models import DotMLPRelu\n",
    "from src.data.gamma.structural_arxiv import load_dataset, get_train_val_test_edges, prepare_adjencency, get_edge_index_from_adjencency\n",
    "from src.train.structural_omega.mlp import StructuralOmegaMLP"
   ]
  },
  {
   "cell_type": "code",
   "execution_count": 3,
   "id": "d302740f-dfae-4604-a1a7-75925122e68f",
   "metadata": {},
   "outputs": [],
   "source": [
    "logging.basicConfig(\n",
    "    format='%(asctime)s - %(levelname)s : %(message)s',\n",
    "    level=logging.INFO,\n",
    "    datefmt='%Y-%m-%d %H:%M:%S',\n",
    "    filename='logs/omega_function/02-1-structural_mlp_gamma_function.log'\n",
    ")"
   ]
  },
  {
   "cell_type": "code",
   "execution_count": 4,
   "id": "5aac4a89-f43d-494e-92dd-4f8c0cb7d24e",
   "metadata": {},
   "outputs": [
    {
     "data": {
      "text/plain": [
       "True"
      ]
     },
     "execution_count": 4,
     "metadata": {},
     "output_type": "execute_result"
    }
   ],
   "source": [
    "torch.cuda.is_available()"
   ]
  },
  {
   "cell_type": "code",
   "execution_count": 5,
   "id": "5d7b6cb5-686a-4bba-99c0-7e954a656f4b",
   "metadata": {},
   "outputs": [
    {
     "data": {
      "text/plain": [
       "device(type='cuda', index=0)"
      ]
     },
     "execution_count": 5,
     "metadata": {},
     "output_type": "execute_result"
    }
   ],
   "source": [
    "device = f'cuda:0' if torch.cuda.is_available() else 'cpu'\n",
    "device = torch.device(device)\n",
    "device"
   ]
  },
  {
   "cell_type": "markdown",
   "id": "3ee35052-8c79-4ad5-bef5-0d0759048428",
   "metadata": {
    "tags": []
   },
   "source": [
    "## Data Loading"
   ]
  },
  {
   "cell_type": "code",
   "execution_count": 6,
   "id": "2b7ad8fa-618c-469c-8929-5edd87b008cf",
   "metadata": {},
   "outputs": [],
   "source": [
    "dataset = load_dataset()"
   ]
  },
  {
   "cell_type": "code",
   "execution_count": 7,
   "id": "ec6c5c36",
   "metadata": {},
   "outputs": [],
   "source": [
    "data, edges_train, edges_val, edges_test = get_train_val_test_edges(dataset, device=device)"
   ]
  },
  {
   "cell_type": "code",
   "execution_count": 8,
   "id": "05c5250e",
   "metadata": {},
   "outputs": [],
   "source": [
    "data = prepare_adjencency(data)"
   ]
  },
  {
   "cell_type": "markdown",
   "id": "0ccb85c6-136f-4385-a097-ee4418cc4a2d",
   "metadata": {
    "tags": []
   },
   "source": [
    "## Training"
   ]
  },
  {
   "cell_type": "code",
   "execution_count": 9,
   "id": "b0f70547",
   "metadata": {},
   "outputs": [],
   "source": [
    "for run in range(30):\n",
    "    for n_layers in range(1, 6):\n",
    "        omega = StructuralOmegaMLP(device, n_layers=n_layers, run=run)\n",
    "        torch.cuda.empty_cache()\n",
    "        omega.train(edges_train,\n",
    "                    edges_val,\n",
    "                    edges_test,\n",
    "                    data.x,\n",
    "                    data.y)"
   ]
  },
  {
   "cell_type": "markdown",
   "id": "77be1a49-7bc1-4409-97a4-ce6d102a0444",
   "metadata": {
    "tags": []
   },
   "source": [
    "## Results"
   ]
  },
  {
   "cell_type": "code",
   "execution_count": 3,
   "id": "48be4053-2061-4e2f-8ce5-668f58a0f11a",
   "metadata": {},
   "outputs": [
    {
     "name": "stdout",
     "output_type": "stream",
     "text": [
      "(1530, 8)\n"
     ]
    },
    {
     "data": {
      "text/html": [
       "<div>\n",
       "<style scoped>\n",
       "    .dataframe tbody tr th:only-of-type {\n",
       "        vertical-align: middle;\n",
       "    }\n",
       "\n",
       "    .dataframe tbody tr th {\n",
       "        vertical-align: top;\n",
       "    }\n",
       "\n",
       "    .dataframe thead th {\n",
       "        text-align: right;\n",
       "    }\n",
       "</style>\n",
       "<table border=\"1\" class=\"dataframe\">\n",
       "  <thead>\n",
       "    <tr style=\"text-align: right;\">\n",
       "      <th></th>\n",
       "      <th>run</th>\n",
       "      <th>epoch</th>\n",
       "      <th>loss_train</th>\n",
       "      <th>loss_val</th>\n",
       "      <th>loss_test</th>\n",
       "      <th>auc_train</th>\n",
       "      <th>auc_val</th>\n",
       "      <th>auc_test</th>\n",
       "    </tr>\n",
       "  </thead>\n",
       "  <tbody>\n",
       "    <tr>\n",
       "      <th>0</th>\n",
       "      <td>0</td>\n",
       "      <td>0</td>\n",
       "      <td>0.680634</td>\n",
       "      <td>0.683013</td>\n",
       "      <td>0.683172</td>\n",
       "      <td>0.498187</td>\n",
       "      <td>0.521686</td>\n",
       "      <td>0.531116</td>\n",
       "    </tr>\n",
       "    <tr>\n",
       "      <th>1</th>\n",
       "      <td>0</td>\n",
       "      <td>100</td>\n",
       "      <td>0.612302</td>\n",
       "      <td>0.642013</td>\n",
       "      <td>0.647826</td>\n",
       "      <td>0.629803</td>\n",
       "      <td>0.618531</td>\n",
       "      <td>0.601035</td>\n",
       "    </tr>\n",
       "    <tr>\n",
       "      <th>2</th>\n",
       "      <td>0</td>\n",
       "      <td>200</td>\n",
       "      <td>0.601142</td>\n",
       "      <td>0.631587</td>\n",
       "      <td>0.639440</td>\n",
       "      <td>0.655608</td>\n",
       "      <td>0.646527</td>\n",
       "      <td>0.622371</td>\n",
       "    </tr>\n",
       "    <tr>\n",
       "      <th>3</th>\n",
       "      <td>0</td>\n",
       "      <td>300</td>\n",
       "      <td>0.593682</td>\n",
       "      <td>0.624176</td>\n",
       "      <td>0.633884</td>\n",
       "      <td>0.665546</td>\n",
       "      <td>0.656417</td>\n",
       "      <td>0.630171</td>\n",
       "    </tr>\n",
       "    <tr>\n",
       "      <th>4</th>\n",
       "      <td>0</td>\n",
       "      <td>400</td>\n",
       "      <td>0.588695</td>\n",
       "      <td>0.618983</td>\n",
       "      <td>0.630240</td>\n",
       "      <td>0.671847</td>\n",
       "      <td>0.662889</td>\n",
       "      <td>0.635605</td>\n",
       "    </tr>\n",
       "  </tbody>\n",
       "</table>\n",
       "</div>"
      ],
      "text/plain": [
       "   run  epoch  loss_train  loss_val  loss_test  auc_train   auc_val  auc_test\n",
       "0    0      0    0.680634  0.683013   0.683172   0.498187  0.521686  0.531116\n",
       "1    0    100    0.612302  0.642013   0.647826   0.629803  0.618531  0.601035\n",
       "2    0    200    0.601142  0.631587   0.639440   0.655608  0.646527  0.622371\n",
       "3    0    300    0.593682  0.624176   0.633884   0.665546  0.656417  0.630171\n",
       "4    0    400    0.588695  0.618983   0.630240   0.671847  0.662889  0.635605"
      ]
     },
     "execution_count": 3,
     "metadata": {},
     "output_type": "execute_result"
    }
   ],
   "source": [
    "metrics = StructuralOmegaMLP.read_metrics()\n",
    "print(metrics.shape)\n",
    "metrics.head()"
   ]
  },
  {
   "cell_type": "markdown",
   "id": "a192e1e1-12ad-4b8b-8b67-813d8a3620ad",
   "metadata": {},
   "source": [
    "### Sumarize metrics per epoch"
   ]
  },
  {
   "cell_type": "code",
   "execution_count": 4,
   "id": "48fa2701-7a12-4640-aa6a-e9edeec11ce3",
   "metadata": {},
   "outputs": [
    {
     "data": {
      "text/plain": [
       "Index(['loss_train', 'loss_val', 'loss_test', 'auc_train', 'auc_val',\n",
       "       'auc_test'],\n",
       "      dtype='object')"
      ]
     },
     "execution_count": 4,
     "metadata": {},
     "output_type": "execute_result"
    }
   ],
   "source": [
    "metrics_cols = metrics.columns[2:]\n",
    "metrics_cols"
   ]
  },
  {
   "cell_type": "code",
   "execution_count": 5,
   "id": "fcf0f79b-aede-4cbd-9a63-05ebddc97f4a",
   "metadata": {},
   "outputs": [],
   "source": [
    "metrics['loss_train'] = metrics\\\n",
    "    .replace('None', np.nan)\\\n",
    "    ['loss_train']\\\n",
    "    .astype(float)"
   ]
  },
  {
   "cell_type": "code",
   "execution_count": 6,
   "id": "11b19732-a74b-402a-b31f-8c13285cf8e5",
   "metadata": {},
   "outputs": [
    {
     "data": {
      "text/html": [
       "<div>\n",
       "<style scoped>\n",
       "    .dataframe tbody tr th:only-of-type {\n",
       "        vertical-align: middle;\n",
       "    }\n",
       "\n",
       "    .dataframe tbody tr th {\n",
       "        vertical-align: top;\n",
       "    }\n",
       "\n",
       "    .dataframe thead th {\n",
       "        text-align: right;\n",
       "    }\n",
       "</style>\n",
       "<table border=\"1\" class=\"dataframe\">\n",
       "  <thead>\n",
       "    <tr style=\"text-align: right;\">\n",
       "      <th></th>\n",
       "      <th>loss_train_mean</th>\n",
       "      <th>loss_train_std</th>\n",
       "      <th>loss_val_mean</th>\n",
       "      <th>loss_val_std</th>\n",
       "      <th>loss_test_mean</th>\n",
       "      <th>loss_test_std</th>\n",
       "      <th>auc_train_mean</th>\n",
       "      <th>auc_train_std</th>\n",
       "      <th>auc_val_mean</th>\n",
       "      <th>auc_val_std</th>\n",
       "      <th>auc_test_mean</th>\n",
       "      <th>auc_test_std</th>\n",
       "    </tr>\n",
       "    <tr>\n",
       "      <th>epoch</th>\n",
       "      <th></th>\n",
       "      <th></th>\n",
       "      <th></th>\n",
       "      <th></th>\n",
       "      <th></th>\n",
       "      <th></th>\n",
       "      <th></th>\n",
       "      <th></th>\n",
       "      <th></th>\n",
       "      <th></th>\n",
       "      <th></th>\n",
       "      <th></th>\n",
       "    </tr>\n",
       "  </thead>\n",
       "  <tbody>\n",
       "    <tr>\n",
       "      <th>0</th>\n",
       "      <td>0.696141</td>\n",
       "      <td>0.014643</td>\n",
       "      <td>0.695578</td>\n",
       "      <td>0.011986</td>\n",
       "      <td>0.695469</td>\n",
       "      <td>0.011515</td>\n",
       "      <td>0.494279</td>\n",
       "      <td>0.036438</td>\n",
       "      <td>0.498121</td>\n",
       "      <td>0.035261</td>\n",
       "      <td>0.500220</td>\n",
       "      <td>0.029915</td>\n",
       "    </tr>\n",
       "    <tr>\n",
       "      <th>100</th>\n",
       "      <td>0.613126</td>\n",
       "      <td>0.001068</td>\n",
       "      <td>0.643171</td>\n",
       "      <td>0.000935</td>\n",
       "      <td>0.648898</td>\n",
       "      <td>0.000758</td>\n",
       "      <td>0.627622</td>\n",
       "      <td>0.007188</td>\n",
       "      <td>0.610486</td>\n",
       "      <td>0.008743</td>\n",
       "      <td>0.592564</td>\n",
       "      <td>0.007292</td>\n",
       "    </tr>\n",
       "    <tr>\n",
       "      <th>200</th>\n",
       "      <td>0.602430</td>\n",
       "      <td>0.001344</td>\n",
       "      <td>0.633164</td>\n",
       "      <td>0.001279</td>\n",
       "      <td>0.640785</td>\n",
       "      <td>0.001004</td>\n",
       "      <td>0.654069</td>\n",
       "      <td>0.002580</td>\n",
       "      <td>0.642648</td>\n",
       "      <td>0.002805</td>\n",
       "      <td>0.618456</td>\n",
       "      <td>0.002376</td>\n",
       "    </tr>\n",
       "    <tr>\n",
       "      <th>300</th>\n",
       "      <td>0.595002</td>\n",
       "      <td>0.001291</td>\n",
       "      <td>0.625761</td>\n",
       "      <td>0.001298</td>\n",
       "      <td>0.635137</td>\n",
       "      <td>0.000953</td>\n",
       "      <td>0.663934</td>\n",
       "      <td>0.001763</td>\n",
       "      <td>0.653710</td>\n",
       "      <td>0.001724</td>\n",
       "      <td>0.627578</td>\n",
       "      <td>0.001462</td>\n",
       "    </tr>\n",
       "    <tr>\n",
       "      <th>400</th>\n",
       "      <td>0.589894</td>\n",
       "      <td>0.001138</td>\n",
       "      <td>0.620407</td>\n",
       "      <td>0.001178</td>\n",
       "      <td>0.631290</td>\n",
       "      <td>0.000809</td>\n",
       "      <td>0.670326</td>\n",
       "      <td>0.001467</td>\n",
       "      <td>0.660739</td>\n",
       "      <td>0.001422</td>\n",
       "      <td>0.633595</td>\n",
       "      <td>0.001219</td>\n",
       "    </tr>\n",
       "  </tbody>\n",
       "</table>\n",
       "</div>"
      ],
      "text/plain": [
       "       loss_train_mean  loss_train_std  loss_val_mean  loss_val_std  \\\n",
       "epoch                                                                 \n",
       "0             0.696141        0.014643       0.695578      0.011986   \n",
       "100           0.613126        0.001068       0.643171      0.000935   \n",
       "200           0.602430        0.001344       0.633164      0.001279   \n",
       "300           0.595002        0.001291       0.625761      0.001298   \n",
       "400           0.589894        0.001138       0.620407      0.001178   \n",
       "\n",
       "       loss_test_mean  loss_test_std  auc_train_mean  auc_train_std  \\\n",
       "epoch                                                                 \n",
       "0            0.695469       0.011515        0.494279       0.036438   \n",
       "100          0.648898       0.000758        0.627622       0.007188   \n",
       "200          0.640785       0.001004        0.654069       0.002580   \n",
       "300          0.635137       0.000953        0.663934       0.001763   \n",
       "400          0.631290       0.000809        0.670326       0.001467   \n",
       "\n",
       "       auc_val_mean  auc_val_std  auc_test_mean  auc_test_std  \n",
       "epoch                                                          \n",
       "0          0.498121     0.035261       0.500220      0.029915  \n",
       "100        0.610486     0.008743       0.592564      0.007292  \n",
       "200        0.642648     0.002805       0.618456      0.002376  \n",
       "300        0.653710     0.001724       0.627578      0.001462  \n",
       "400        0.660739     0.001422       0.633595      0.001219  "
      ]
     },
     "execution_count": 6,
     "metadata": {},
     "output_type": "execute_result"
    }
   ],
   "source": [
    "epoch_metrics = metrics\\\n",
    "    .fillna(-1)\\\n",
    "    .groupby('epoch')\\\n",
    "    [metrics_cols]\\\n",
    "    .agg(['mean', 'std'])\n",
    "epoch_metrics.columns = [f'{x[0]}_{x[1]}' for x in epoch_metrics.columns]\n",
    "epoch_metrics.head()"
   ]
  },
  {
   "cell_type": "code",
   "execution_count": 7,
   "id": "e9865cb0-1e31-431c-9476-4c6b044202e0",
   "metadata": {},
   "outputs": [
    {
     "data": {
      "text/html": [
       "<div>\n",
       "<style scoped>\n",
       "    .dataframe tbody tr th:only-of-type {\n",
       "        vertical-align: middle;\n",
       "    }\n",
       "\n",
       "    .dataframe tbody tr th {\n",
       "        vertical-align: top;\n",
       "    }\n",
       "\n",
       "    .dataframe thead th {\n",
       "        text-align: right;\n",
       "    }\n",
       "</style>\n",
       "<table border=\"1\" class=\"dataframe\">\n",
       "  <thead>\n",
       "    <tr style=\"text-align: right;\">\n",
       "      <th></th>\n",
       "      <th>loss_train_mean</th>\n",
       "      <th>loss_train_std</th>\n",
       "      <th>loss_val_mean</th>\n",
       "      <th>loss_val_std</th>\n",
       "      <th>loss_test_mean</th>\n",
       "      <th>loss_test_std</th>\n",
       "      <th>auc_train_mean</th>\n",
       "      <th>auc_train_std</th>\n",
       "      <th>auc_val_mean</th>\n",
       "      <th>auc_val_std</th>\n",
       "      <th>auc_test_mean</th>\n",
       "      <th>auc_test_std</th>\n",
       "    </tr>\n",
       "    <tr>\n",
       "      <th>epoch</th>\n",
       "      <th></th>\n",
       "      <th></th>\n",
       "      <th></th>\n",
       "      <th></th>\n",
       "      <th></th>\n",
       "      <th></th>\n",
       "      <th></th>\n",
       "      <th></th>\n",
       "      <th></th>\n",
       "      <th></th>\n",
       "      <th></th>\n",
       "      <th></th>\n",
       "    </tr>\n",
       "  </thead>\n",
       "  <tbody>\n",
       "    <tr>\n",
       "      <th>3300</th>\n",
       "      <td>0.575882</td>\n",
       "      <td>0.000004</td>\n",
       "      <td>0.606199</td>\n",
       "      <td>0.000006</td>\n",
       "      <td>0.623764</td>\n",
       "      <td>0.000010</td>\n",
       "      <td>0.688430</td>\n",
       "      <td>0.000006</td>\n",
       "      <td>0.679619</td>\n",
       "      <td>0.000019</td>\n",
       "      <td>0.651190</td>\n",
       "      <td>0.000019</td>\n",
       "    </tr>\n",
       "    <tr>\n",
       "      <th>3400</th>\n",
       "      <td>0.575880</td>\n",
       "      <td>0.000003</td>\n",
       "      <td>0.606195</td>\n",
       "      <td>0.000006</td>\n",
       "      <td>0.623767</td>\n",
       "      <td>0.000010</td>\n",
       "      <td>0.688432</td>\n",
       "      <td>0.000005</td>\n",
       "      <td>0.679619</td>\n",
       "      <td>0.000019</td>\n",
       "      <td>0.651189</td>\n",
       "      <td>0.000019</td>\n",
       "    </tr>\n",
       "    <tr>\n",
       "      <th>3200</th>\n",
       "      <td>0.575885</td>\n",
       "      <td>0.000004</td>\n",
       "      <td>0.606204</td>\n",
       "      <td>0.000007</td>\n",
       "      <td>0.623761</td>\n",
       "      <td>0.000011</td>\n",
       "      <td>0.688427</td>\n",
       "      <td>0.000007</td>\n",
       "      <td>0.679617</td>\n",
       "      <td>0.000019</td>\n",
       "      <td>0.651188</td>\n",
       "      <td>0.000019</td>\n",
       "    </tr>\n",
       "    <tr>\n",
       "      <th>3500</th>\n",
       "      <td>0.575877</td>\n",
       "      <td>0.000003</td>\n",
       "      <td>0.606193</td>\n",
       "      <td>0.000006</td>\n",
       "      <td>0.623770</td>\n",
       "      <td>0.000009</td>\n",
       "      <td>0.688434</td>\n",
       "      <td>0.000005</td>\n",
       "      <td>0.679617</td>\n",
       "      <td>0.000019</td>\n",
       "      <td>0.651187</td>\n",
       "      <td>0.000019</td>\n",
       "    </tr>\n",
       "    <tr>\n",
       "      <th>3600</th>\n",
       "      <td>0.575876</td>\n",
       "      <td>0.000003</td>\n",
       "      <td>0.606191</td>\n",
       "      <td>0.000006</td>\n",
       "      <td>0.623773</td>\n",
       "      <td>0.000009</td>\n",
       "      <td>0.688436</td>\n",
       "      <td>0.000004</td>\n",
       "      <td>0.679613</td>\n",
       "      <td>0.000020</td>\n",
       "      <td>0.651184</td>\n",
       "      <td>0.000020</td>\n",
       "    </tr>\n",
       "  </tbody>\n",
       "</table>\n",
       "</div>"
      ],
      "text/plain": [
       "       loss_train_mean  loss_train_std  loss_val_mean  loss_val_std  \\\n",
       "epoch                                                                 \n",
       "3300          0.575882        0.000004       0.606199      0.000006   \n",
       "3400          0.575880        0.000003       0.606195      0.000006   \n",
       "3200          0.575885        0.000004       0.606204      0.000007   \n",
       "3500          0.575877        0.000003       0.606193      0.000006   \n",
       "3600          0.575876        0.000003       0.606191      0.000006   \n",
       "\n",
       "       loss_test_mean  loss_test_std  auc_train_mean  auc_train_std  \\\n",
       "epoch                                                                 \n",
       "3300         0.623764       0.000010        0.688430       0.000006   \n",
       "3400         0.623767       0.000010        0.688432       0.000005   \n",
       "3200         0.623761       0.000011        0.688427       0.000007   \n",
       "3500         0.623770       0.000009        0.688434       0.000005   \n",
       "3600         0.623773       0.000009        0.688436       0.000004   \n",
       "\n",
       "       auc_val_mean  auc_val_std  auc_test_mean  auc_test_std  \n",
       "epoch                                                          \n",
       "3300       0.679619     0.000019       0.651190      0.000019  \n",
       "3400       0.679619     0.000019       0.651189      0.000019  \n",
       "3200       0.679617     0.000019       0.651188      0.000019  \n",
       "3500       0.679617     0.000019       0.651187      0.000019  \n",
       "3600       0.679613     0.000020       0.651184      0.000020  "
      ]
     },
     "execution_count": 7,
     "metadata": {},
     "output_type": "execute_result"
    }
   ],
   "source": [
    "epoch_metrics.sort_values('auc_val_mean', ascending=False).head()"
   ]
  },
  {
   "cell_type": "code",
   "execution_count": 8,
   "id": "ba5b3ca3-a0a9-45d1-800e-f6946c03b034",
   "metadata": {},
   "outputs": [
    {
     "name": "stderr",
     "output_type": "stream",
     "text": [
      "/tmp/ipykernel_175982/1395549313.py:8: FutureWarning:\n",
      "\n",
      "The behavior of `series[i:j]` with an integer-dtype index is deprecated. In a future version, this will be treated as *label-based* indexing, consistent with e.g. `series[i]` lookups. To retain the old behavior, use `series.iloc[i:j]`. To get the future behavior, use `series.loc[i:j]`.\n",
      "\n",
      "/tmp/ipykernel_175982/1395549313.py:9: FutureWarning:\n",
      "\n",
      "The behavior of `series[i:j]` with an integer-dtype index is deprecated. In a future version, this will be treated as *label-based* indexing, consistent with e.g. `series[i]` lookups. To retain the old behavior, use `series.iloc[i:j]`. To get the future behavior, use `series.loc[i:j]`.\n",
      "\n",
      "/tmp/ipykernel_175982/1395549313.py:56: FutureWarning:\n",
      "\n",
      "The behavior of `series[i:j]` with an integer-dtype index is deprecated. In a future version, this will be treated as *label-based* indexing, consistent with e.g. `series[i]` lookups. To retain the old behavior, use `series.iloc[i:j]`. To get the future behavior, use `series.loc[i:j]`.\n",
      "\n",
      "/tmp/ipykernel_175982/1395549313.py:57: FutureWarning:\n",
      "\n",
      "The behavior of `series[i:j]` with an integer-dtype index is deprecated. In a future version, this will be treated as *label-based* indexing, consistent with e.g. `series[i]` lookups. To retain the old behavior, use `series.iloc[i:j]`. To get the future behavior, use `series.loc[i:j]`.\n",
      "\n"
     ]
    },
    {
     "data": {
      "image/png": "[encoded data removed]",
      "text/plain": [
       "<Figure size 1600x1000 with 2 Axes>"
      ]
     },
     "metadata": {},
     "output_type": "display_data"
    }
   ],
   "source": [
    "plt.rcParams['font.size'] = '14'\n",
    "fig, ax1 = plt.subplots(1, 1, figsize=(16, 10))\n",
    "\n",
    "ax1.set_title('Omega metrics')\n",
    "\n",
    "ax1.errorbar(\n",
    "    epoch_metrics.index[1:],\n",
    "    epoch_metrics['loss_train_mean'][1:],\n",
    "    yerr=epoch_metrics['loss_train_std'][1:],\n",
    "    ls='-',\n",
    "    label='Train')\n",
    "\n",
    "ax1.errorbar(\n",
    "    epoch_metrics.index,\n",
    "    epoch_metrics['loss_val_mean'],\n",
    "    yerr=epoch_metrics['loss_val_std'],\n",
    "    ls='-',\n",
    "    label='Validation')\n",
    "\n",
    "ax1.errorbar(\n",
    "    epoch_metrics.index,\n",
    "    epoch_metrics['loss_test_mean'],\n",
    "    yerr=epoch_metrics['loss_test_std'],\n",
    "    ls='-',\n",
    "    label='Test')\n",
    "\n",
    "# ax1.plot(\n",
    "#     epoch_metrics.index[1:],\n",
    "#     epoch_metrics['loss_train_mean'][1:],\n",
    "#     # yerr=epoch_metrics['loss_train_std'][1:],\n",
    "#     ls='-',\n",
    "#     label='Train')\n",
    "\n",
    "# ax1.plot(\n",
    "#     epoch_metrics.index,\n",
    "#     epoch_metrics['loss_val_mean'],\n",
    "#     # yerr=epoch_metrics['loss_val_std'],\n",
    "#     ls='-',\n",
    "#     label='Validation')\n",
    "\n",
    "# ax1.plot(\n",
    "#     epoch_metrics.index,\n",
    "#     epoch_metrics['loss_test_mean'],\n",
    "#     # yerr=epoch_metrics['loss_test_std'],\n",
    "#     ls='-',\n",
    "#     label='Test')\n",
    "\n",
    "ax1.legend(loc='center right', title='Loss', bbox_to_anchor=[0.85, 0.5])\n",
    "ax1.set_ylabel('Loss')\n",
    "ax1.set_xlabel('Epoch')\n",
    "\n",
    "ax2 = ax1.twinx()\n",
    "\n",
    "ax2.errorbar(\n",
    "    epoch_metrics.index[1:],\n",
    "    epoch_metrics['auc_train_mean'][1:],\n",
    "    yerr=epoch_metrics['auc_train_std'][1:],\n",
    "    ls=':',\n",
    "    label='Train')\n",
    "\n",
    "ax2.errorbar(\n",
    "    epoch_metrics.index,\n",
    "    epoch_metrics['auc_val_mean'],\n",
    "    yerr=epoch_metrics['auc_val_std'],\n",
    "    ls=':',\n",
    "    label='Validation')\n",
    "\n",
    "ax2.errorbar(\n",
    "    epoch_metrics.index,\n",
    "    epoch_metrics['auc_test_mean'],\n",
    "    yerr=epoch_metrics['auc_test_std'],\n",
    "    ls=':',\n",
    "    label='Test')\n",
    "\n",
    "# ax2.plot(\n",
    "#     epoch_metrics.index[1:],\n",
    "#     epoch_metrics['auc_train_mean'][1:],\n",
    "#     # yerr=epoch_metrics['auc_train_std'][1:],\n",
    "#     ls=':',\n",
    "#     label='Train')\n",
    "\n",
    "# ax2.plot(\n",
    "#     epoch_metrics.index,\n",
    "#     epoch_metrics['auc_val_mean'],\n",
    "#     # yerr=epoch_metrics['auc_val_std'],\n",
    "#     ls=':',\n",
    "#     label='Validation')\n",
    "\n",
    "# ax2.plot(\n",
    "#     epoch_metrics.index,\n",
    "#     epoch_metrics['auc_test_mean'],\n",
    "#     # yerr=epoch_metrics['auc_test_std'],\n",
    "#     ls=':',\n",
    "#     label='Test')\n",
    "\n",
    "ax2.legend(loc='center right', title='ROC AUC', bbox_to_anchor=[1, 0.5])\n",
    "ax2.set_ylabel('ROC AUC')\n",
    "\n",
    "plt.savefig('reports/images/structural_omega_dotmlp_training_metrics.pdf')"
   ]
  },
  {
   "cell_type": "markdown",
   "id": "3480bc58-26a6-485c-9e21-3907c9de5128",
   "metadata": {},
   "source": [
    "## Score Best model"
   ]
  },
  {
   "cell_type": "code",
   "execution_count": 9,
   "id": "226adefb-7c5d-4114-bf17-36bde19c248e",
   "metadata": {},
   "outputs": [
    {
     "data": {
      "text/plain": [
       "run             25.000000\n",
       "epoch         3400.000000\n",
       "loss_train       0.575887\n",
       "loss_val         0.606179\n",
       "loss_test        0.623743\n",
       "auc_train        0.688420\n",
       "auc_val          0.679668\n",
       "auc_test         0.651238\n",
       "Name: 1309, dtype: float64"
      ]
     },
     "execution_count": 9,
     "metadata": {},
     "output_type": "execute_result"
    }
   ],
   "source": [
    "best_model_metrics = metrics.sort_values('auc_val', ascending=False).iloc[0]\n",
    "best_model_metrics"
   ]
  },
  {
   "cell_type": "code",
   "execution_count": 10,
   "id": "d78c11cf-7d81-4892-85ba-781548106b08",
   "metadata": {},
   "outputs": [],
   "source": [
    "best_model_metrics.to_json('models/structural_omega_mlp/best_model_info.json')"
   ]
  }
 ],
 "metadata": {
  "kernelspec": {
   "display_name": "Arxiv Paper Classification Env",
   "language": "python",
   "name": "arxiv-env"
  },
  "language_info": {
   "codemirror_mode": {
    "name": "ipython",
    "version": 3
   },
   "file_extension": ".py",
   "mimetype": "text/x-python",
   "name": "python",
   "nbconvert_exporter": "python",
   "pygments_lexer": "ipython3",
   "version": "3.10.6"
  }
 },
 "nbformat": 4,
 "nbformat_minor": 5
}
