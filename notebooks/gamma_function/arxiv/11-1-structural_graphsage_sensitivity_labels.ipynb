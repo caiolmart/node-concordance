{
 "cells": [
  {
   "cell_type": "code",
   "execution_count": 1,
   "id": "674a9be4",
   "metadata": {},
   "outputs": [],
   "source": [
    "%load_ext autoreload\n",
    "%autoreload 2"
   ]
  },
  {
   "cell_type": "code",
   "execution_count": 2,
   "id": "62314877",
   "metadata": {},
   "outputs": [],
   "source": [
    "import os\n",
    "while 'notebooks' in os.getcwd():\n",
    "    os.chdir('..')\n",
    "\n",
    "import logging\n",
    "dataset_name = 'ogbn-arxiv'\n",
    "logging.basicConfig(\n",
    "    format='%(asctime)s - %(levelname)s : %(message)s',\n",
    "    level=logging.INFO,\n",
    "    datefmt='%Y-%m-%d %H:%M:%S',\n",
    "    filename=f'logs/omega_function/{dataset_name}/11-1-structural_graph_sage_sensitivity_labels.log'\n",
    ")"
   ]
  },
  {
   "cell_type": "code",
   "execution_count": 3,
   "id": "d6d50784-ae0a-4e9a-923f-a8a5da84c41f",
   "metadata": {},
   "outputs": [],
   "source": [
    "import torch\n",
    "import torch_geometric.transforms as T\n",
    "from ogb.nodeproppred import PygNodePropPredDataset, Evaluator\n",
    "from sklearn.metrics import roc_auc_score\n",
    "import logging\n",
    "import matplotlib.pyplot as plt\n",
    "import seaborn as sns\n",
    "import plotly.express as px\n",
    "import plotly.offline as pyo\n",
    "import numpy as np\n",
    "import pandas as pd\n",
    "\n",
    "from src.data.gamma.structural_arxiv import load_dataset, get_train_val_test_edges, prepare_adjencency, get_edge_index_from_adjencency\n",
    "from src.train.structural_omega.graph_sage import StructuralOmegaGraphSageCosSim"
   ]
  },
  {
   "cell_type": "code",
   "execution_count": 4,
   "id": "5aac4a89-f43d-494e-92dd-4f8c0cb7d24e",
   "metadata": {},
   "outputs": [
    {
     "data": {
      "text/plain": [
       "True"
      ]
     },
     "execution_count": 4,
     "metadata": {},
     "output_type": "execute_result"
    }
   ],
   "source": [
    "torch.cuda.is_available()"
   ]
  },
  {
   "cell_type": "code",
   "execution_count": 5,
   "id": "5d7b6cb5-686a-4bba-99c0-7e954a656f4b",
   "metadata": {},
   "outputs": [
    {
     "data": {
      "text/plain": [
       "device(type='cuda', index=0)"
      ]
     },
     "execution_count": 5,
     "metadata": {},
     "output_type": "execute_result"
    }
   ],
   "source": [
    "device = f'cuda:0' if torch.cuda.is_available() else 'cpu'\n",
    "device = torch.device(device)\n",
    "device"
   ]
  },
  {
   "attachments": {},
   "cell_type": "markdown",
   "id": "3ee35052-8c79-4ad5-bef5-0d0759048428",
   "metadata": {
    "tags": []
   },
   "source": [
    "## Data Loading"
   ]
  },
  {
   "cell_type": "code",
   "execution_count": 37,
   "id": "2b7ad8fa-618c-469c-8929-5edd87b008cf",
   "metadata": {},
   "outputs": [],
   "source": [
    "dataset = load_dataset()"
   ]
  },
  {
   "cell_type": "code",
   "execution_count": 38,
   "id": "ec6c5c36",
   "metadata": {},
   "outputs": [],
   "source": [
    "data = dataset[0].to(device)\n",
    "edge_index = data.edge_index"
   ]
  },
  {
   "cell_type": "code",
   "execution_count": 39,
   "id": "05c5250e",
   "metadata": {},
   "outputs": [],
   "source": [
    "data = prepare_adjencency(data)"
   ]
  },
  {
   "attachments": {},
   "cell_type": "markdown",
   "id": "23630b9f",
   "metadata": {},
   "source": [
    "## Split by year"
   ]
  },
  {
   "cell_type": "code",
   "execution_count": 41,
   "id": "621743f7",
   "metadata": {},
   "outputs": [],
   "source": [
    "year_map = dict(\n",
    "    zip(range(data.num_nodes), data.node_year.cpu().numpy().squeeze())\n",
    ")"
   ]
  },
  {
   "cell_type": "code",
   "execution_count": 42,
   "id": "b412138c",
   "metadata": {},
   "outputs": [
    {
     "data": {
      "text/html": [
       "<div>\n",
       "<style scoped>\n",
       "    .dataframe tbody tr th:only-of-type {\n",
       "        vertical-align: middle;\n",
       "    }\n",
       "\n",
       "    .dataframe tbody tr th {\n",
       "        vertical-align: top;\n",
       "    }\n",
       "\n",
       "    .dataframe thead th {\n",
       "        text-align: right;\n",
       "    }\n",
       "</style>\n",
       "<table border=\"1\" class=\"dataframe\">\n",
       "  <thead>\n",
       "    <tr style=\"text-align: right;\">\n",
       "      <th></th>\n",
       "      <th></th>\n",
       "      <th>year_i</th>\n",
       "      <th>year_j</th>\n",
       "      <th>max_year</th>\n",
       "    </tr>\n",
       "    <tr>\n",
       "      <th>i</th>\n",
       "      <th>j</th>\n",
       "      <th></th>\n",
       "      <th></th>\n",
       "      <th></th>\n",
       "    </tr>\n",
       "  </thead>\n",
       "  <tbody>\n",
       "    <tr>\n",
       "      <th>104447</th>\n",
       "      <th>13091</th>\n",
       "      <td>2011</td>\n",
       "      <td>2008</td>\n",
       "      <td>2011</td>\n",
       "    </tr>\n",
       "    <tr>\n",
       "      <th>15858</th>\n",
       "      <th>47283</th>\n",
       "      <td>2014</td>\n",
       "      <td>2007</td>\n",
       "      <td>2014</td>\n",
       "    </tr>\n",
       "    <tr>\n",
       "      <th rowspan=\"3\" valign=\"top\">107156</th>\n",
       "      <th>69161</th>\n",
       "      <td>2013</td>\n",
       "      <td>2014</td>\n",
       "      <td>2014</td>\n",
       "    </tr>\n",
       "    <tr>\n",
       "      <th>136440</th>\n",
       "      <td>2013</td>\n",
       "      <td>2013</td>\n",
       "      <td>2013</td>\n",
       "    </tr>\n",
       "    <tr>\n",
       "      <th>107366</th>\n",
       "      <td>2013</td>\n",
       "      <td>2011</td>\n",
       "      <td>2013</td>\n",
       "    </tr>\n",
       "    <tr>\n",
       "      <th>...</th>\n",
       "      <th>...</th>\n",
       "      <td>...</td>\n",
       "      <td>...</td>\n",
       "      <td>...</td>\n",
       "    </tr>\n",
       "    <tr>\n",
       "      <th rowspan=\"5\" valign=\"top\">45118</th>\n",
       "      <th>79124</th>\n",
       "      <td>2020</td>\n",
       "      <td>2015</td>\n",
       "      <td>2020</td>\n",
       "    </tr>\n",
       "    <tr>\n",
       "      <th>147994</th>\n",
       "      <td>2020</td>\n",
       "      <td>2014</td>\n",
       "      <td>2020</td>\n",
       "    </tr>\n",
       "    <tr>\n",
       "      <th>162473</th>\n",
       "      <td>2020</td>\n",
       "      <td>2016</td>\n",
       "      <td>2020</td>\n",
       "    </tr>\n",
       "    <tr>\n",
       "      <th>162537</th>\n",
       "      <td>2020</td>\n",
       "      <td>2014</td>\n",
       "      <td>2020</td>\n",
       "    </tr>\n",
       "    <tr>\n",
       "      <th>72717</th>\n",
       "      <td>2020</td>\n",
       "      <td>2018</td>\n",
       "      <td>2020</td>\n",
       "    </tr>\n",
       "  </tbody>\n",
       "</table>\n",
       "<p>1166243 rows × 3 columns</p>\n",
       "</div>"
      ],
      "text/plain": [
       "               year_i  year_j  max_year\n",
       "i      j                               \n",
       "104447 13091     2011    2008      2011\n",
       "15858  47283     2014    2007      2014\n",
       "107156 69161     2013    2014      2014\n",
       "       136440    2013    2013      2013\n",
       "       107366    2013    2011      2013\n",
       "...               ...     ...       ...\n",
       "45118  79124     2020    2015      2020\n",
       "       147994    2020    2014      2020\n",
       "       162473    2020    2016      2020\n",
       "       162537    2020    2014      2020\n",
       "       72717     2020    2018      2020\n",
       "\n",
       "[1166243 rows x 3 columns]"
      ]
     },
     "execution_count": 42,
     "metadata": {},
     "output_type": "execute_result"
    }
   ],
   "source": [
    "edge_df_index = pd.MultiIndex.from_arrays(\n",
    "    edge_index.cpu().numpy(), names=[\"i\", \"j\"]\n",
    ")\n",
    "edge_df = pd.DataFrame(index=edge_df_index)\n",
    "edge_df[\"year_i\"] = edge_df.index.get_level_values(\"i\").map(year_map)\n",
    "edge_df[\"year_j\"] = edge_df.index.get_level_values(\"j\").map(year_map)\n",
    "edge_df[\"max_year\"] = edge_df[[\"year_i\", \"year_j\"]].max(axis=1)\n",
    "edge_df"
   ]
  },
  {
   "cell_type": "code",
   "execution_count": 43,
   "id": "5b775b42",
   "metadata": {},
   "outputs": [],
   "source": [
    "def get_train_val_test_edges(edge_index, edges_df, threshold_year: int):\n",
    "    train_mask = edges_df[\"max_year\"] < threshold_year\n",
    "    validation_mask = edges_df[\"max_year\"] == threshold_year\n",
    "    test_mask = edges_df[\"max_year\"] > threshold_year\n",
    "\n",
    "    edges_train = edge_index[:, train_mask.values]\n",
    "    edges_val = edge_index[:, validation_mask.values]\n",
    "    edges_test = edge_index[:, test_mask.values]\n",
    "    return edges_train, edges_val, edges_test"
   ]
  },
  {
   "cell_type": "code",
   "execution_count": 44,
   "id": "1af6f589",
   "metadata": {},
   "outputs": [
    {
     "name": "stdout",
     "output_type": "stream",
     "text": [
      "Train edges: 13749\n",
      "Validation edges: 7341\n",
      "Test edges: 1145153\n"
     ]
    }
   ],
   "source": [
    "edges_train, edges_val, edges_test = get_train_val_test_edges(edge_index, edge_df, 2010)\n",
    "print(f'Train edges: {edges_train.shape[1]}')\n",
    "print(f'Validation edges: {edges_val.shape[1]}')\n",
    "print(f'Test edges: {edges_test.shape[1]}')"
   ]
  },
  {
   "cell_type": "code",
   "execution_count": 40,
   "id": "067b61a6",
   "metadata": {},
   "outputs": [],
   "source": [
    "edges_per_threshold = pd.DataFrame(\n",
    "    columns=[\"Train\", \"Validation\", \"Test\"],\n",
    "    index=pd.Index([], name=\"$t$\"),\n",
    ")\n",
    "nodes_per_threshold = pd.DataFrame(\n",
    "    columns=[\"Train\", \"Validation\", \"Test\"],\n",
    "    index=pd.Index([], name=\"$t$\"),\n",
    ")\n",
    "year_series = pd.Series(year_map)\n",
    "for year in range(2009, 2020):\n",
    "    edges_train, edges_val, edges_test = get_train_val_test_edges(\n",
    "        edge_index, edge_df, year\n",
    "    )\n",
    "    nodes_train = (year_series < year).sum()\n",
    "    nodes_val = (year_series == year).sum()\n",
    "    nodes_test = (year_series > year).sum()\n",
    "    edges_per_threshold.loc[year] = [\n",
    "        edges_train.shape[1],\n",
    "        edges_val.shape[1],\n",
    "        edges_test.shape[1],\n",
    "    ]\n",
    "    nodes_per_threshold.loc[year] = [nodes_train, nodes_val, nodes_test]"
   ]
  },
  {
   "cell_type": "code",
   "execution_count": 41,
   "id": "d9ad676d",
   "metadata": {},
   "outputs": [
    {
     "data": {
      "image/png": "[encoded data removed]",
      "text/plain": [
       "<Figure size 640x480 with 1 Axes>"
      ]
     },
     "metadata": {},
     "output_type": "display_data"
    }
   ],
   "source": [
    "nodes_per_threshold.plot()\n",
    "plt.yscale(\"log\")"
   ]
  },
  {
   "cell_type": "code",
   "execution_count": 42,
   "id": "1fab8d51",
   "metadata": {},
   "outputs": [
    {
     "data": {
      "image/png": "[encoded data removed]",
      "text/plain": [
       "<Figure size 640x480 with 1 Axes>"
      ]
     },
     "metadata": {},
     "output_type": "display_data"
    }
   ],
   "source": [
    "edges_per_threshold.plot()\n",
    "plt.yscale(\"log\")"
   ]
  },
  {
   "cell_type": "code",
   "execution_count": 45,
   "id": "9f121f36",
   "metadata": {},
   "outputs": [
    {
     "data": {
      "image/png": "[encoded data removed]",
      "text/plain": [
       "<Figure size 1600x600 with 2 Axes>"
      ]
     },
     "metadata": {},
     "output_type": "display_data"
    }
   ],
   "source": [
    "plt.rcParams['font.size'] = '14'\n",
    "fig, (ax1, ax2) = plt.subplots(1, 2, figsize=(16, 6))\n",
    "fig.suptitle(\"Number of Nodes and Edges per Threshold Year ($t$)\")\n",
    "\n",
    "nodes_per_threshold.plot(ax=ax1)\n",
    "ax1.set_yscale(\"log\")\n",
    "ax1.set_ylabel(\"Number of Nodes\")\n",
    "\n",
    "edges_per_threshold.plot(ax=ax2)\n",
    "ax2.set_yscale(\"log\")\n",
    "ax2.set_ylabel(\"Number of Edges\")\n",
    "\n",
    "plt.savefig(f'reports/images/number_of_edges_and_nodes_per_threshold_year.pdf')"
   ]
  },
  {
   "cell_type": "code",
   "execution_count": 46,
   "id": "fc5070e5",
   "metadata": {},
   "outputs": [
    {
     "data": {
      "text/html": [
       "<div>\n",
       "<style scoped>\n",
       "    .dataframe tbody tr th:only-of-type {\n",
       "        vertical-align: middle;\n",
       "    }\n",
       "\n",
       "    .dataframe tbody tr th {\n",
       "        vertical-align: top;\n",
       "    }\n",
       "\n",
       "    .dataframe thead th {\n",
       "        text-align: right;\n",
       "    }\n",
       "</style>\n",
       "<table border=\"1\" class=\"dataframe\">\n",
       "  <thead>\n",
       "    <tr style=\"text-align: right;\">\n",
       "      <th></th>\n",
       "      <th>Train</th>\n",
       "      <th>Validation</th>\n",
       "      <th>Test</th>\n",
       "    </tr>\n",
       "    <tr>\n",
       "      <th>$t$</th>\n",
       "      <th></th>\n",
       "      <th></th>\n",
       "      <th></th>\n",
       "    </tr>\n",
       "  </thead>\n",
       "  <tbody>\n",
       "    <tr>\n",
       "      <th>2009</th>\n",
       "      <td>6911</td>\n",
       "      <td>2499</td>\n",
       "      <td>159933</td>\n",
       "    </tr>\n",
       "    <tr>\n",
       "      <th>2010</th>\n",
       "      <td>9410</td>\n",
       "      <td>3564</td>\n",
       "      <td>156369</td>\n",
       "    </tr>\n",
       "    <tr>\n",
       "      <th>2011</th>\n",
       "      <td>12974</td>\n",
       "      <td>4427</td>\n",
       "      <td>151942</td>\n",
       "    </tr>\n",
       "    <tr>\n",
       "      <th>2012</th>\n",
       "      <td>17401</td>\n",
       "      <td>6435</td>\n",
       "      <td>145507</td>\n",
       "    </tr>\n",
       "    <tr>\n",
       "      <th>2013</th>\n",
       "      <td>23836</td>\n",
       "      <td>8135</td>\n",
       "      <td>137372</td>\n",
       "    </tr>\n",
       "    <tr>\n",
       "      <th>2014</th>\n",
       "      <td>31971</td>\n",
       "      <td>9154</td>\n",
       "      <td>128218</td>\n",
       "    </tr>\n",
       "    <tr>\n",
       "      <th>2015</th>\n",
       "      <td>41125</td>\n",
       "      <td>12035</td>\n",
       "      <td>116183</td>\n",
       "    </tr>\n",
       "    <tr>\n",
       "      <th>2016</th>\n",
       "      <td>53160</td>\n",
       "      <td>16339</td>\n",
       "      <td>99844</td>\n",
       "    </tr>\n",
       "    <tr>\n",
       "      <th>2017</th>\n",
       "      <td>69499</td>\n",
       "      <td>21442</td>\n",
       "      <td>78402</td>\n",
       "    </tr>\n",
       "    <tr>\n",
       "      <th>2018</th>\n",
       "      <td>90941</td>\n",
       "      <td>29799</td>\n",
       "      <td>48603</td>\n",
       "    </tr>\n",
       "    <tr>\n",
       "      <th>2019</th>\n",
       "      <td>120740</td>\n",
       "      <td>39711</td>\n",
       "      <td>8892</td>\n",
       "    </tr>\n",
       "  </tbody>\n",
       "</table>\n",
       "</div>"
      ],
      "text/plain": [
       "       Train  Validation    Test\n",
       "$t$                             \n",
       "2009    6911        2499  159933\n",
       "2010    9410        3564  156369\n",
       "2011   12974        4427  151942\n",
       "2012   17401        6435  145507\n",
       "2013   23836        8135  137372\n",
       "2014   31971        9154  128218\n",
       "2015   41125       12035  116183\n",
       "2016   53160       16339   99844\n",
       "2017   69499       21442   78402\n",
       "2018   90941       29799   48603\n",
       "2019  120740       39711    8892"
      ]
     },
     "execution_count": 46,
     "metadata": {},
     "output_type": "execute_result"
    }
   ],
   "source": [
    "nodes_per_threshold"
   ]
  },
  {
   "cell_type": "code",
   "execution_count": 47,
   "id": "ccd2ad5b",
   "metadata": {},
   "outputs": [
    {
     "data": {
      "text/html": [
       "<div>\n",
       "<style scoped>\n",
       "    .dataframe tbody tr th:only-of-type {\n",
       "        vertical-align: middle;\n",
       "    }\n",
       "\n",
       "    .dataframe tbody tr th {\n",
       "        vertical-align: top;\n",
       "    }\n",
       "\n",
       "    .dataframe thead th {\n",
       "        text-align: right;\n",
       "    }\n",
       "</style>\n",
       "<table border=\"1\" class=\"dataframe\">\n",
       "  <thead>\n",
       "    <tr style=\"text-align: right;\">\n",
       "      <th></th>\n",
       "      <th>Train</th>\n",
       "      <th>Validation</th>\n",
       "      <th>Test</th>\n",
       "    </tr>\n",
       "    <tr>\n",
       "      <th>$t$</th>\n",
       "      <th></th>\n",
       "      <th></th>\n",
       "      <th></th>\n",
       "    </tr>\n",
       "  </thead>\n",
       "  <tbody>\n",
       "    <tr>\n",
       "      <th>2009</th>\n",
       "      <td>9215</td>\n",
       "      <td>4534</td>\n",
       "      <td>1152494</td>\n",
       "    </tr>\n",
       "    <tr>\n",
       "      <th>2010</th>\n",
       "      <td>13749</td>\n",
       "      <td>7341</td>\n",
       "      <td>1145153</td>\n",
       "    </tr>\n",
       "    <tr>\n",
       "      <th>2011</th>\n",
       "      <td>21090</td>\n",
       "      <td>10571</td>\n",
       "      <td>1134582</td>\n",
       "    </tr>\n",
       "    <tr>\n",
       "      <th>2012</th>\n",
       "      <td>31661</td>\n",
       "      <td>15674</td>\n",
       "      <td>1118908</td>\n",
       "    </tr>\n",
       "    <tr>\n",
       "      <th>2013</th>\n",
       "      <td>47335</td>\n",
       "      <td>24334</td>\n",
       "      <td>1094574</td>\n",
       "    </tr>\n",
       "    <tr>\n",
       "      <th>2014</th>\n",
       "      <td>71669</td>\n",
       "      <td>30647</td>\n",
       "      <td>1063927</td>\n",
       "    </tr>\n",
       "    <tr>\n",
       "      <th>2015</th>\n",
       "      <td>102316</td>\n",
       "      <td>49910</td>\n",
       "      <td>1014017</td>\n",
       "    </tr>\n",
       "    <tr>\n",
       "      <th>2016</th>\n",
       "      <td>152226</td>\n",
       "      <td>84937</td>\n",
       "      <td>929080</td>\n",
       "    </tr>\n",
       "    <tr>\n",
       "      <th>2017</th>\n",
       "      <td>237163</td>\n",
       "      <td>137676</td>\n",
       "      <td>791404</td>\n",
       "    </tr>\n",
       "    <tr>\n",
       "      <th>2018</th>\n",
       "      <td>374839</td>\n",
       "      <td>247627</td>\n",
       "      <td>543777</td>\n",
       "    </tr>\n",
       "    <tr>\n",
       "      <th>2019</th>\n",
       "      <td>622466</td>\n",
       "      <td>438731</td>\n",
       "      <td>105046</td>\n",
       "    </tr>\n",
       "  </tbody>\n",
       "</table>\n",
       "</div>"
      ],
      "text/plain": [
       "       Train  Validation     Test\n",
       "$t$                              \n",
       "2009    9215        4534  1152494\n",
       "2010   13749        7341  1145153\n",
       "2011   21090       10571  1134582\n",
       "2012   31661       15674  1118908\n",
       "2013   47335       24334  1094574\n",
       "2014   71669       30647  1063927\n",
       "2015  102316       49910  1014017\n",
       "2016  152226       84937   929080\n",
       "2017  237163      137676   791404\n",
       "2018  374839      247627   543777\n",
       "2019  622466      438731   105046"
      ]
     },
     "execution_count": 47,
     "metadata": {},
     "output_type": "execute_result"
    }
   ],
   "source": [
    "edges_per_threshold"
   ]
  },
  {
   "attachments": {},
   "cell_type": "markdown",
   "id": "0ccb85c6-136f-4385-a097-ee4418cc4a2d",
   "metadata": {
    "tags": []
   },
   "source": [
    "## Training"
   ]
  },
  {
   "cell_type": "code",
   "execution_count": 6,
   "id": "7f37616b",
   "metadata": {},
   "outputs": [],
   "source": [
    "n_layers_graph_sage = 1\n",
    "# run = 2009 the run will be the threshold year"
   ]
  },
  {
   "cell_type": "code",
   "execution_count": 13,
   "id": "b0f70547",
   "metadata": {},
   "outputs": [],
   "source": [
    "for year in range(2009, 2020):\n",
    "    edges_train, edges_val, edges_test = get_train_val_test_edges(\n",
    "        edge_index, edge_df, year\n",
    "    )\n",
    "    omega = StructuralOmegaGraphSageCosSim(\n",
    "        device,\n",
    "        dataset=\"ogbn-arxiv\",\n",
    "        n_layers_graph_sage=n_layers_graph_sage,\n",
    "        run=year,\n",
    "        epochs=2000,\n",
    "        eval_steps=10,\n",
    "    )\n",
    "    torch.cuda.empty_cache()\n",
    "    omega.train(edges_train, edges_val, edges_test, data.x, data.y, data.adj_t)"
   ]
  },
  {
   "attachments": {},
   "cell_type": "markdown",
   "id": "77be1a49-7bc1-4409-97a4-ce6d102a0444",
   "metadata": {
    "tags": []
   },
   "source": [
    "## Results"
   ]
  },
  {
   "attachments": {},
   "cell_type": "markdown",
   "id": "43f2f1ab",
   "metadata": {},
   "source": [
    "### For a Layer Number"
   ]
  },
  {
   "cell_type": "code",
   "execution_count": 7,
   "id": "48be4053-2061-4e2f-8ce5-668f58a0f11a",
   "metadata": {},
   "outputs": [
    {
     "name": "stdout",
     "output_type": "stream",
     "text": [
      "(2211, 8)\n"
     ]
    },
    {
     "data": {
      "text/html": [
       "<div>\n",
       "<style scoped>\n",
       "    .dataframe tbody tr th:only-of-type {\n",
       "        vertical-align: middle;\n",
       "    }\n",
       "\n",
       "    .dataframe tbody tr th {\n",
       "        vertical-align: top;\n",
       "    }\n",
       "\n",
       "    .dataframe thead th {\n",
       "        text-align: right;\n",
       "    }\n",
       "</style>\n",
       "<table border=\"1\" class=\"dataframe\">\n",
       "  <thead>\n",
       "    <tr style=\"text-align: right;\">\n",
       "      <th></th>\n",
       "      <th>run</th>\n",
       "      <th>epoch</th>\n",
       "      <th>loss_train</th>\n",
       "      <th>loss_val</th>\n",
       "      <th>loss_test</th>\n",
       "      <th>auc_train</th>\n",
       "      <th>auc_val</th>\n",
       "      <th>auc_test</th>\n",
       "    </tr>\n",
       "  </thead>\n",
       "  <tbody>\n",
       "    <tr>\n",
       "      <th>255</th>\n",
       "      <td>2009</td>\n",
       "      <td>0</td>\n",
       "      <td>0.569364</td>\n",
       "      <td>0.553153</td>\n",
       "      <td>0.650903</td>\n",
       "      <td>0.603859</td>\n",
       "      <td>0.636798</td>\n",
       "      <td>0.577466</td>\n",
       "    </tr>\n",
       "    <tr>\n",
       "      <th>256</th>\n",
       "      <td>2009</td>\n",
       "      <td>10</td>\n",
       "      <td>0.542549</td>\n",
       "      <td>0.529912</td>\n",
       "      <td>0.632238</td>\n",
       "      <td>0.743863</td>\n",
       "      <td>0.764618</td>\n",
       "      <td>0.614202</td>\n",
       "    </tr>\n",
       "    <tr>\n",
       "      <th>257</th>\n",
       "      <td>2009</td>\n",
       "      <td>20</td>\n",
       "      <td>0.513340</td>\n",
       "      <td>0.514963</td>\n",
       "      <td>0.626196</td>\n",
       "      <td>0.814635</td>\n",
       "      <td>0.785367</td>\n",
       "      <td>0.624744</td>\n",
       "    </tr>\n",
       "    <tr>\n",
       "      <th>258</th>\n",
       "      <td>2009</td>\n",
       "      <td>30</td>\n",
       "      <td>0.490566</td>\n",
       "      <td>0.505629</td>\n",
       "      <td>0.625522</td>\n",
       "      <td>0.849583</td>\n",
       "      <td>0.788629</td>\n",
       "      <td>0.623993</td>\n",
       "    </tr>\n",
       "    <tr>\n",
       "      <th>259</th>\n",
       "      <td>2009</td>\n",
       "      <td>40</td>\n",
       "      <td>0.471926</td>\n",
       "      <td>0.499039</td>\n",
       "      <td>0.625697</td>\n",
       "      <td>0.870160</td>\n",
       "      <td>0.787685</td>\n",
       "      <td>0.628059</td>\n",
       "    </tr>\n",
       "  </tbody>\n",
       "</table>\n",
       "</div>"
      ],
      "text/plain": [
       "      run  epoch  loss_train  loss_val  loss_test  auc_train   auc_val  \\\n",
       "255  2009      0    0.569364  0.553153   0.650903   0.603859  0.636798   \n",
       "256  2009     10    0.542549  0.529912   0.632238   0.743863  0.764618   \n",
       "257  2009     20    0.513340  0.514963   0.626196   0.814635  0.785367   \n",
       "258  2009     30    0.490566  0.505629   0.625522   0.849583  0.788629   \n",
       "259  2009     40    0.471926  0.499039   0.625697   0.870160  0.787685   \n",
       "\n",
       "     auc_test  \n",
       "255  0.577466  \n",
       "256  0.614202  \n",
       "257  0.624744  \n",
       "258  0.623993  \n",
       "259  0.628059  "
      ]
     },
     "execution_count": 7,
     "metadata": {},
     "output_type": "execute_result"
    }
   ],
   "source": [
    "metrics = StructuralOmegaGraphSageCosSim.read_metrics(\n",
    "    n_layers_graph_sage=n_layers_graph_sage, dataset=\"ogbn-arxiv\"\n",
    ").query('run > 2000')\n",
    "print(metrics.shape)\n",
    "metrics.head()"
   ]
  },
  {
   "cell_type": "code",
   "execution_count": 8,
   "id": "dd66e585",
   "metadata": {},
   "outputs": [
    {
     "data": {
      "text/html": [
       "<div>\n",
       "<style scoped>\n",
       "    .dataframe tbody tr th:only-of-type {\n",
       "        vertical-align: middle;\n",
       "    }\n",
       "\n",
       "    .dataframe tbody tr th {\n",
       "        vertical-align: top;\n",
       "    }\n",
       "\n",
       "    .dataframe thead th {\n",
       "        text-align: right;\n",
       "    }\n",
       "</style>\n",
       "<table border=\"1\" class=\"dataframe\">\n",
       "  <thead>\n",
       "    <tr style=\"text-align: right;\">\n",
       "      <th></th>\n",
       "      <th>epoch</th>\n",
       "      <th>loss_train</th>\n",
       "      <th>loss_val</th>\n",
       "      <th>loss_test</th>\n",
       "      <th>auc_train</th>\n",
       "      <th>auc_val</th>\n",
       "      <th>auc_test</th>\n",
       "    </tr>\n",
       "    <tr>\n",
       "      <th>threshold_year</th>\n",
       "      <th></th>\n",
       "      <th></th>\n",
       "      <th></th>\n",
       "      <th></th>\n",
       "      <th></th>\n",
       "      <th></th>\n",
       "      <th></th>\n",
       "    </tr>\n",
       "  </thead>\n",
       "  <tbody>\n",
       "    <tr>\n",
       "      <th>2009</th>\n",
       "      <td>30.0</td>\n",
       "      <td>0.490566</td>\n",
       "      <td>0.505629</td>\n",
       "      <td>0.625522</td>\n",
       "      <td>0.849583</td>\n",
       "      <td>0.788629</td>\n",
       "      <td>0.623993</td>\n",
       "    </tr>\n",
       "    <tr>\n",
       "      <th>2010</th>\n",
       "      <td>690.0</td>\n",
       "      <td>0.274721</td>\n",
       "      <td>0.477067</td>\n",
       "      <td>0.716782</td>\n",
       "      <td>0.955551</td>\n",
       "      <td>0.780667</td>\n",
       "      <td>0.616176</td>\n",
       "    </tr>\n",
       "    <tr>\n",
       "      <th>2011</th>\n",
       "      <td>530.0</td>\n",
       "      <td>0.333978</td>\n",
       "      <td>0.522027</td>\n",
       "      <td>0.688758</td>\n",
       "      <td>0.923515</td>\n",
       "      <td>0.773187</td>\n",
       "      <td>0.612029</td>\n",
       "    </tr>\n",
       "    <tr>\n",
       "      <th>2012</th>\n",
       "      <td>540.0</td>\n",
       "      <td>0.366556</td>\n",
       "      <td>0.536586</td>\n",
       "      <td>0.655466</td>\n",
       "      <td>0.901761</td>\n",
       "      <td>0.747309</td>\n",
       "      <td>0.623701</td>\n",
       "    </tr>\n",
       "    <tr>\n",
       "      <th>2013</th>\n",
       "      <td>1170.0</td>\n",
       "      <td>0.369389</td>\n",
       "      <td>0.547651</td>\n",
       "      <td>0.667593</td>\n",
       "      <td>0.892089</td>\n",
       "      <td>0.731915</td>\n",
       "      <td>0.625636</td>\n",
       "    </tr>\n",
       "    <tr>\n",
       "      <th>2014</th>\n",
       "      <td>1850.0</td>\n",
       "      <td>0.394601</td>\n",
       "      <td>0.566015</td>\n",
       "      <td>0.670079</td>\n",
       "      <td>0.871491</td>\n",
       "      <td>0.734897</td>\n",
       "      <td>0.636899</td>\n",
       "    </tr>\n",
       "    <tr>\n",
       "      <th>2015</th>\n",
       "      <td>860.0</td>\n",
       "      <td>0.435427</td>\n",
       "      <td>0.536401</td>\n",
       "      <td>0.612351</td>\n",
       "      <td>0.845436</td>\n",
       "      <td>0.755138</td>\n",
       "      <td>0.683205</td>\n",
       "    </tr>\n",
       "    <tr>\n",
       "      <th>2016</th>\n",
       "      <td>1250.0</td>\n",
       "      <td>0.445544</td>\n",
       "      <td>0.512826</td>\n",
       "      <td>0.581350</td>\n",
       "      <td>0.838006</td>\n",
       "      <td>0.784688</td>\n",
       "      <td>0.730580</td>\n",
       "    </tr>\n",
       "    <tr>\n",
       "      <th>2017</th>\n",
       "      <td>930.0</td>\n",
       "      <td>0.461335</td>\n",
       "      <td>0.504387</td>\n",
       "      <td>0.554922</td>\n",
       "      <td>0.829277</td>\n",
       "      <td>0.803257</td>\n",
       "      <td>0.759650</td>\n",
       "    </tr>\n",
       "    <tr>\n",
       "      <th>2018</th>\n",
       "      <td>1780.0</td>\n",
       "      <td>0.462193</td>\n",
       "      <td>0.512517</td>\n",
       "      <td>0.545337</td>\n",
       "      <td>0.831762</td>\n",
       "      <td>0.803364</td>\n",
       "      <td>0.774518</td>\n",
       "    </tr>\n",
       "    <tr>\n",
       "      <th>2019</th>\n",
       "      <td>1670.0</td>\n",
       "      <td>0.474574</td>\n",
       "      <td>0.520637</td>\n",
       "      <td>0.543108</td>\n",
       "      <td>0.826949</td>\n",
       "      <td>0.795791</td>\n",
       "      <td>0.777837</td>\n",
       "    </tr>\n",
       "  </tbody>\n",
       "</table>\n",
       "</div>"
      ],
      "text/plain": [
       "                 epoch  loss_train  loss_val  loss_test  auc_train   auc_val  \\\n",
       "threshold_year                                                                 \n",
       "2009              30.0    0.490566  0.505629   0.625522   0.849583  0.788629   \n",
       "2010             690.0    0.274721  0.477067   0.716782   0.955551  0.780667   \n",
       "2011             530.0    0.333978  0.522027   0.688758   0.923515  0.773187   \n",
       "2012             540.0    0.366556  0.536586   0.655466   0.901761  0.747309   \n",
       "2013            1170.0    0.369389  0.547651   0.667593   0.892089  0.731915   \n",
       "2014            1850.0    0.394601  0.566015   0.670079   0.871491  0.734897   \n",
       "2015             860.0    0.435427  0.536401   0.612351   0.845436  0.755138   \n",
       "2016            1250.0    0.445544  0.512826   0.581350   0.838006  0.784688   \n",
       "2017             930.0    0.461335  0.504387   0.554922   0.829277  0.803257   \n",
       "2018            1780.0    0.462193  0.512517   0.545337   0.831762  0.803364   \n",
       "2019            1670.0    0.474574  0.520637   0.543108   0.826949  0.795791   \n",
       "\n",
       "                auc_test  \n",
       "threshold_year            \n",
       "2009            0.623993  \n",
       "2010            0.616176  \n",
       "2011            0.612029  \n",
       "2012            0.623701  \n",
       "2013            0.625636  \n",
       "2014            0.636899  \n",
       "2015            0.683205  \n",
       "2016            0.730580  \n",
       "2017            0.759650  \n",
       "2018            0.774518  \n",
       "2019            0.777837  "
      ]
     },
     "execution_count": 8,
     "metadata": {},
     "output_type": "execute_result"
    }
   ],
   "source": [
    "def get_best_model_row(year_df):\n",
    "    return year_df.sort_values('auc_val', ascending=False).iloc[0].drop('run')\n",
    "\n",
    "best_models = metrics.groupby('run').apply(get_best_model_row).rename_axis('threshold_year')\n",
    "best_models"
   ]
  },
  {
   "cell_type": "code",
   "execution_count": 9,
   "id": "47de0611",
   "metadata": {},
   "outputs": [
    {
     "data": {
      "text/plain": [
       "<AxesSubplot: xlabel='threshold_year'>"
      ]
     },
     "execution_count": 9,
     "metadata": {},
     "output_type": "execute_result"
    },
    {
     "data": {
      "image/png": "[encoded data removed]",
      "text/plain": [
       "<Figure size 640x480 with 1 Axes>"
      ]
     },
     "metadata": {},
     "output_type": "display_data"
    }
   ],
   "source": [
    "best_models['auc_test'].plot()"
   ]
  },
  {
   "attachments": {},
   "cell_type": "markdown",
   "id": "aa643327",
   "metadata": {},
   "source": [
    "## Comparing with $\\Omega_p^{1-\\textrm{GraphSage}}$"
   ]
  },
  {
   "cell_type": "code",
   "execution_count": 48,
   "id": "2db655fd",
   "metadata": {},
   "outputs": [],
   "source": [
    "positional_path = f\"data/results/{dataset_name}/positional_graph_sage/1layers_sensitivity_aucs.parquet\"\n",
    "positional_auc_df = pd.read_parquet(positional_path)"
   ]
  },
  {
   "cell_type": "code",
   "execution_count": 50,
   "id": "4bbd1b5e",
   "metadata": {},
   "outputs": [],
   "source": [
    "positional_test_auc_dict = {}\n",
    "for year in range(2009, 2020):\n",
    "    year_df = positional_auc_df.query(f'year == {year}')\n",
    "    max_val_row = year_df.sort_values('train_val_auc', ascending=False).iloc[0]\n",
    "    train_val_auc, val_auc, test_auc = max_val_row.values\n",
    "    positional_test_auc_dict[year] = test_auc"
   ]
  },
  {
   "cell_type": "code",
   "execution_count": 72,
   "id": "0776a113",
   "metadata": {},
   "outputs": [
    {
     "data": {
      "text/plain": [
       "0.6892442970269241"
      ]
     },
     "execution_count": 72,
     "metadata": {},
     "output_type": "execute_result"
    }
   ],
   "source": [
    "positional_test_auc_dict[2015]"
   ]
  },
  {
   "cell_type": "code",
   "execution_count": 71,
   "id": "1116a341",
   "metadata": {},
   "outputs": [
    {
     "data": {
      "image/png": "[encoded data removed]",
      "text/plain": [
       "<Figure size 1000x600 with 1 Axes>"
      ]
     },
     "metadata": {},
     "output_type": "display_data"
    }
   ],
   "source": [
    "fig, ax = plt.subplots(1, 1, figsize=(10, 6))\n",
    "fig.suptitle(\"Test ROC-AUC Performance by Threshold Year ($t$)\")\n",
    "\n",
    "lw=3\n",
    "\n",
    "pd.Series(positional_test_auc_dict).plot(\n",
    "    ax=ax,\n",
    "    label=\"$\\Omega_p^{1-GraphSage}$\",\n",
    "    lw=lw,\n",
    ")\n",
    "best_models[\"auc_test\"].plot(\n",
    "    ax=ax,\n",
    "    label=\"$\\Omega_s^{1-GraphSage}$\",\n",
    "    lw=lw,\n",
    ")\n",
    "\n",
    "ax.set_ylabel(\"ROC-AUC\")\n",
    "ax.set_xlabel(\"$t$\")\n",
    "ax.grid(zorder=2)\n",
    "plt.legend()\n",
    "\n",
    "plt.savefig(f\"reports/images/positional_structural_sensitivity_perfomance.pdf\")"
   ]
  },
  {
   "cell_type": "markdown",
   "id": "958a3a12",
   "metadata": {},
   "source": [
    "## Ensemble for $t=2015$"
   ]
  },
  {
   "cell_type": "markdown",
   "id": "bd2c26a6",
   "metadata": {},
   "source": [
    "### Positional predictions"
   ]
  },
  {
   "cell_type": "code",
   "execution_count": 20,
   "id": "e4a4cc8c",
   "metadata": {},
   "outputs": [],
   "source": [
    "n_layers = 1\n",
    "dataset_name = 'ogbn-arxiv'\n",
    "t = 2015"
   ]
  },
  {
   "cell_type": "markdown",
   "id": "7f6bdf0c",
   "metadata": {},
   "source": [
    "#### Getting chosen epoch"
   ]
  },
  {
   "cell_type": "code",
   "execution_count": 13,
   "id": "aaffdd59",
   "metadata": {},
   "outputs": [],
   "source": [
    "output_path = f\"data/results/{dataset_name}/positional_graph_sage/{n_layers}layers_sensitivity_aucs.parquet\""
   ]
  },
  {
   "cell_type": "code",
   "execution_count": 15,
   "id": "822f499f",
   "metadata": {},
   "outputs": [
    {
     "data": {
      "text/html": [
       "<div>\n",
       "<style scoped>\n",
       "    .dataframe tbody tr th:only-of-type {\n",
       "        vertical-align: middle;\n",
       "    }\n",
       "\n",
       "    .dataframe tbody tr th {\n",
       "        vertical-align: top;\n",
       "    }\n",
       "\n",
       "    .dataframe thead th {\n",
       "        text-align: right;\n",
       "    }\n",
       "</style>\n",
       "<table border=\"1\" class=\"dataframe\">\n",
       "  <thead>\n",
       "    <tr style=\"text-align: right;\">\n",
       "      <th></th>\n",
       "      <th></th>\n",
       "      <th>train_val_auc</th>\n",
       "      <th>val_auc</th>\n",
       "      <th>test_auc</th>\n",
       "    </tr>\n",
       "    <tr>\n",
       "      <th>epoch</th>\n",
       "      <th>year</th>\n",
       "      <th></th>\n",
       "      <th></th>\n",
       "      <th></th>\n",
       "    </tr>\n",
       "  </thead>\n",
       "  <tbody>\n",
       "    <tr>\n",
       "      <th rowspan=\"5\" valign=\"top\">1</th>\n",
       "      <th>2009</th>\n",
       "      <td>0.556878</td>\n",
       "      <td>0.544989</td>\n",
       "      <td>0.542157</td>\n",
       "    </tr>\n",
       "    <tr>\n",
       "      <th>2010</th>\n",
       "      <td>0.564802</td>\n",
       "      <td>0.578818</td>\n",
       "      <td>0.542690</td>\n",
       "    </tr>\n",
       "    <tr>\n",
       "      <th>2011</th>\n",
       "      <td>0.567295</td>\n",
       "      <td>0.578977</td>\n",
       "      <td>0.543009</td>\n",
       "    </tr>\n",
       "    <tr>\n",
       "      <th>2012</th>\n",
       "      <td>0.570445</td>\n",
       "      <td>0.580087</td>\n",
       "      <td>0.543334</td>\n",
       "    </tr>\n",
       "    <tr>\n",
       "      <th>2013</th>\n",
       "      <td>0.567192</td>\n",
       "      <td>0.561868</td>\n",
       "      <td>0.544527</td>\n",
       "    </tr>\n",
       "  </tbody>\n",
       "</table>\n",
       "</div>"
      ],
      "text/plain": [
       "            train_val_auc   val_auc  test_auc\n",
       "epoch year                                   \n",
       "1     2009       0.556878  0.544989  0.542157\n",
       "      2010       0.564802  0.578818  0.542690\n",
       "      2011       0.567295  0.578977  0.543009\n",
       "      2012       0.570445  0.580087  0.543334\n",
       "      2013       0.567192  0.561868  0.544527"
      ]
     },
     "execution_count": 15,
     "metadata": {},
     "output_type": "execute_result"
    }
   ],
   "source": [
    "positional_aucs_df = pd.read_parquet(output_path)\n",
    "positional_aucs_df.head()"
   ]
  },
  {
   "cell_type": "code",
   "execution_count": 22,
   "id": "c6560e5d",
   "metadata": {},
   "outputs": [
    {
     "data": {
      "text/plain": [
       "48"
      ]
     },
     "execution_count": 22,
     "metadata": {},
     "output_type": "execute_result"
    }
   ],
   "source": [
    "positional_epoch = (\n",
    "    positional_aucs_df.query(f\"year == {t}\")\n",
    "    .droplevel(\"year\")[\"val_auc\"]\n",
    "    .idxmax()\n",
    ")\n",
    "positional_epoch"
   ]
  },
  {
   "cell_type": "code",
   "execution_count": 23,
   "id": "8f5b3da1",
   "metadata": {},
   "outputs": [
    {
     "data": {
      "text/plain": [
       "train_val_auc    0.649926\n",
       "val_auc          0.669768\n",
       "test_auc         0.689522\n",
       "Name: (48, 2015), dtype: float64"
      ]
     },
     "execution_count": 23,
     "metadata": {},
     "output_type": "execute_result"
    }
   ],
   "source": [
    "positional_aucs_df.loc[(positional_epoch, t)]"
   ]
  },
  {
   "cell_type": "markdown",
   "id": "e64c4949",
   "metadata": {},
   "source": [
    "#### Getting predictions"
   ]
  },
  {
   "cell_type": "code",
   "execution_count": 24,
   "id": "237097fe",
   "metadata": {},
   "outputs": [
    {
     "data": {
      "text/plain": [
       "'data/scored_omega/ogbn-arxiv/positional_graph_sage_all_epochs/1layers_epoch_048.parquet'"
      ]
     },
     "execution_count": 24,
     "metadata": {},
     "output_type": "execute_result"
    }
   ],
   "source": [
    "data_path_pat = f\"data/scored_omega/{dataset_name}/positional_graph_sage_all_epochs/{n_layers}layers_epoch_{positional_epoch:03d}.parquet\"\n",
    "data_path_pat"
   ]
  },
  {
   "cell_type": "code",
   "execution_count": 57,
   "id": "edd8ec75",
   "metadata": {},
   "outputs": [
    {
     "data": {
      "text/html": [
       "<div>\n",
       "<style scoped>\n",
       "    .dataframe tbody tr th:only-of-type {\n",
       "        vertical-align: middle;\n",
       "    }\n",
       "\n",
       "    .dataframe tbody tr th {\n",
       "        vertical-align: top;\n",
       "    }\n",
       "\n",
       "    .dataframe thead th {\n",
       "        text-align: right;\n",
       "    }\n",
       "</style>\n",
       "<table border=\"1\" class=\"dataframe\">\n",
       "  <thead>\n",
       "    <tr style=\"text-align: right;\">\n",
       "      <th></th>\n",
       "      <th></th>\n",
       "      <th>positional_pred</th>\n",
       "    </tr>\n",
       "  </thead>\n",
       "  <tbody>\n",
       "    <tr>\n",
       "      <th>104447</th>\n",
       "      <th>13091</th>\n",
       "      <td>0.707728</td>\n",
       "    </tr>\n",
       "    <tr>\n",
       "      <th>15858</th>\n",
       "      <th>47283</th>\n",
       "      <td>0.600977</td>\n",
       "    </tr>\n",
       "    <tr>\n",
       "      <th rowspan=\"3\" valign=\"top\">107156</th>\n",
       "      <th>69161</th>\n",
       "      <td>0.534724</td>\n",
       "    </tr>\n",
       "    <tr>\n",
       "      <th>136440</th>\n",
       "      <td>0.726247</td>\n",
       "    </tr>\n",
       "    <tr>\n",
       "      <th>107366</th>\n",
       "      <td>0.713375</td>\n",
       "    </tr>\n",
       "  </tbody>\n",
       "</table>\n",
       "</div>"
      ],
      "text/plain": [
       "               positional_pred\n",
       "104447 13091          0.707728\n",
       "15858  47283          0.600977\n",
       "107156 69161          0.534724\n",
       "       136440         0.726247\n",
       "       107366         0.713375"
      ]
     },
     "execution_count": 57,
     "metadata": {},
     "output_type": "execute_result"
    }
   ],
   "source": [
    "positional_preds = pd.read_parquet(data_path_pat).rename(\n",
    "    columns={\"pred\": \"positional_pred\"}\n",
    ")\n",
    "positional_preds.head()"
   ]
  },
  {
   "cell_type": "markdown",
   "id": "f2fef796",
   "metadata": {},
   "source": [
    "### Structural predictions"
   ]
  },
  {
   "cell_type": "code",
   "execution_count": 34,
   "id": "cfb4bf13",
   "metadata": {},
   "outputs": [
    {
     "data": {
      "text/plain": [
       "860"
      ]
     },
     "execution_count": 34,
     "metadata": {},
     "output_type": "execute_result"
    }
   ],
   "source": [
    "structural_epoch = int(best_models.loc[t]['epoch'])\n",
    "structural_epoch"
   ]
  },
  {
   "cell_type": "code",
   "execution_count": 35,
   "id": "53061212",
   "metadata": {},
   "outputs": [],
   "source": [
    "structural_model = StructuralOmegaGraphSageCosSim.load_model(\n",
    "    device=device,\n",
    "    dataset=\"ogbn-arxiv\",\n",
    "    n_layers_graph_sage=n_layers_graph_sage,\n",
    "    run=t,\n",
    "    epoch=structural_epoch,\n",
    ")"
   ]
  },
  {
   "cell_type": "code",
   "execution_count": 45,
   "id": "a94995da",
   "metadata": {},
   "outputs": [],
   "source": [
    "edges_train, edges_val, edges_test = get_train_val_test_edges(\n",
    "    edge_index, edge_df, t\n",
    ")"
   ]
  },
  {
   "cell_type": "code",
   "execution_count": 48,
   "id": "463edfa5",
   "metadata": {},
   "outputs": [
    {
     "data": {
      "text/plain": [
       "array([[0.5909227 ],\n",
       "       [0.64900506],\n",
       "       [0.6032943 ],\n",
       "       [0.644334  ],\n",
       "       [0.7816249 ]], dtype=float32)"
      ]
     },
     "execution_count": 48,
     "metadata": {},
     "output_type": "execute_result"
    }
   ],
   "source": [
    "preds = structural_model.forward(edges_test, data.x, data.adj_t)\n",
    "preds = preds.detach().cpu().numpy()\n",
    "preds[:5]"
   ]
  },
  {
   "cell_type": "code",
   "execution_count": 51,
   "id": "44b4a1ca",
   "metadata": {},
   "outputs": [
    {
     "data": {
      "text/plain": [
       "array([[105794,  21184,  82079,  62345,  62345],\n",
       "       [142957,  78407,  87455,  25187, 166777]])"
      ]
     },
     "execution_count": 51,
     "metadata": {},
     "output_type": "execute_result"
    }
   ],
   "source": [
    "edges_test.detach().cpu().numpy()[:, :5]"
   ]
  },
  {
   "cell_type": "code",
   "execution_count": 58,
   "id": "fc1f33e5",
   "metadata": {},
   "outputs": [
    {
     "data": {
      "text/html": [
       "<div>\n",
       "<style scoped>\n",
       "    .dataframe tbody tr th:only-of-type {\n",
       "        vertical-align: middle;\n",
       "    }\n",
       "\n",
       "    .dataframe tbody tr th {\n",
       "        vertical-align: top;\n",
       "    }\n",
       "\n",
       "    .dataframe thead th {\n",
       "        text-align: right;\n",
       "    }\n",
       "</style>\n",
       "<table border=\"1\" class=\"dataframe\">\n",
       "  <thead>\n",
       "    <tr style=\"text-align: right;\">\n",
       "      <th></th>\n",
       "      <th></th>\n",
       "      <th>structural_pred</th>\n",
       "    </tr>\n",
       "  </thead>\n",
       "  <tbody>\n",
       "    <tr>\n",
       "      <th>105794</th>\n",
       "      <th>142957</th>\n",
       "      <td>0.590923</td>\n",
       "    </tr>\n",
       "    <tr>\n",
       "      <th>21184</th>\n",
       "      <th>78407</th>\n",
       "      <td>0.649005</td>\n",
       "    </tr>\n",
       "    <tr>\n",
       "      <th>82079</th>\n",
       "      <th>87455</th>\n",
       "      <td>0.603294</td>\n",
       "    </tr>\n",
       "    <tr>\n",
       "      <th rowspan=\"2\" valign=\"top\">62345</th>\n",
       "      <th>25187</th>\n",
       "      <td>0.644334</td>\n",
       "    </tr>\n",
       "    <tr>\n",
       "      <th>166777</th>\n",
       "      <td>0.781625</td>\n",
       "    </tr>\n",
       "  </tbody>\n",
       "</table>\n",
       "</div>"
      ],
      "text/plain": [
       "               structural_pred\n",
       "105794 142957         0.590923\n",
       "21184  78407          0.649005\n",
       "82079  87455          0.603294\n",
       "62345  25187          0.644334\n",
       "       166777         0.781625"
      ]
     },
     "execution_count": 58,
     "metadata": {},
     "output_type": "execute_result"
    }
   ],
   "source": [
    "index = pd.MultiIndex.from_arrays(\n",
    "    edges_test.detach().cpu().numpy()\n",
    ")\n",
    "structural_preds = pd.DataFrame(preds, index=index, columns=['structural_pred'])\n",
    "structural_preds.head()"
   ]
  },
  {
   "cell_type": "markdown",
   "id": "7d3d4c61",
   "metadata": {},
   "source": [
    "### Ensemble"
   ]
  },
  {
   "cell_type": "markdown",
   "id": "c048a6b3",
   "metadata": {},
   "source": [
    "#### Joining data"
   ]
  },
  {
   "cell_type": "code",
   "execution_count": 62,
   "id": "487f863e",
   "metadata": {},
   "outputs": [
    {
     "data": {
      "text/html": [
       "<div>\n",
       "<style scoped>\n",
       "    .dataframe tbody tr th:only-of-type {\n",
       "        vertical-align: middle;\n",
       "    }\n",
       "\n",
       "    .dataframe tbody tr th {\n",
       "        vertical-align: top;\n",
       "    }\n",
       "\n",
       "    .dataframe thead th {\n",
       "        text-align: right;\n",
       "    }\n",
       "</style>\n",
       "<table border=\"1\" class=\"dataframe\">\n",
       "  <thead>\n",
       "    <tr style=\"text-align: right;\">\n",
       "      <th></th>\n",
       "      <th></th>\n",
       "      <th>structural_pred</th>\n",
       "      <th>positional_pred</th>\n",
       "    </tr>\n",
       "    <tr>\n",
       "      <th>i</th>\n",
       "      <th>j</th>\n",
       "      <th></th>\n",
       "      <th></th>\n",
       "    </tr>\n",
       "  </thead>\n",
       "  <tbody>\n",
       "    <tr>\n",
       "      <th>105794</th>\n",
       "      <th>142957</th>\n",
       "      <td>0.590923</td>\n",
       "      <td>0.705832</td>\n",
       "    </tr>\n",
       "    <tr>\n",
       "      <th>21184</th>\n",
       "      <th>78407</th>\n",
       "      <td>0.649005</td>\n",
       "      <td>0.756541</td>\n",
       "    </tr>\n",
       "    <tr>\n",
       "      <th>82079</th>\n",
       "      <th>87455</th>\n",
       "      <td>0.603294</td>\n",
       "      <td>0.762574</td>\n",
       "    </tr>\n",
       "    <tr>\n",
       "      <th rowspan=\"2\" valign=\"top\">62345</th>\n",
       "      <th>25187</th>\n",
       "      <td>0.644334</td>\n",
       "      <td>0.754852</td>\n",
       "    </tr>\n",
       "    <tr>\n",
       "      <th>166777</th>\n",
       "      <td>0.781625</td>\n",
       "      <td>0.760878</td>\n",
       "    </tr>\n",
       "  </tbody>\n",
       "</table>\n",
       "</div>"
      ],
      "text/plain": [
       "               structural_pred  positional_pred\n",
       "i      j                                       \n",
       "105794 142957         0.590923         0.705832\n",
       "21184  78407          0.649005         0.756541\n",
       "82079  87455          0.603294         0.762574\n",
       "62345  25187          0.644334         0.754852\n",
       "       166777         0.781625         0.760878"
      ]
     },
     "execution_count": 62,
     "metadata": {},
     "output_type": "execute_result"
    }
   ],
   "source": [
    "full_df = structural_preds.merge(\n",
    "    positional_preds, left_index=True, right_index=True\n",
    ").rename_axis(['i', 'j'])\n",
    "full_df.head()"
   ]
  },
  {
   "cell_type": "markdown",
   "id": "beb0a511",
   "metadata": {},
   "source": [
    "#### Getting target"
   ]
  },
  {
   "cell_type": "code",
   "execution_count": 65,
   "id": "5d33e310",
   "metadata": {},
   "outputs": [
    {
     "data": {
      "text/html": [
       "<div>\n",
       "<style scoped>\n",
       "    .dataframe tbody tr th:only-of-type {\n",
       "        vertical-align: middle;\n",
       "    }\n",
       "\n",
       "    .dataframe tbody tr th {\n",
       "        vertical-align: top;\n",
       "    }\n",
       "\n",
       "    .dataframe thead th {\n",
       "        text-align: right;\n",
       "    }\n",
       "</style>\n",
       "<table border=\"1\" class=\"dataframe\">\n",
       "  <thead>\n",
       "    <tr style=\"text-align: right;\">\n",
       "      <th></th>\n",
       "      <th></th>\n",
       "      <th>structural_pred</th>\n",
       "      <th>positional_pred</th>\n",
       "      <th>is_same_class</th>\n",
       "    </tr>\n",
       "    <tr>\n",
       "      <th>i</th>\n",
       "      <th>j</th>\n",
       "      <th></th>\n",
       "      <th></th>\n",
       "      <th></th>\n",
       "    </tr>\n",
       "  </thead>\n",
       "  <tbody>\n",
       "    <tr>\n",
       "      <th>105794</th>\n",
       "      <th>142957</th>\n",
       "      <td>0.590923</td>\n",
       "      <td>0.705832</td>\n",
       "      <td>0</td>\n",
       "    </tr>\n",
       "    <tr>\n",
       "      <th>21184</th>\n",
       "      <th>78407</th>\n",
       "      <td>0.649005</td>\n",
       "      <td>0.756541</td>\n",
       "      <td>1</td>\n",
       "    </tr>\n",
       "    <tr>\n",
       "      <th>82079</th>\n",
       "      <th>87455</th>\n",
       "      <td>0.603294</td>\n",
       "      <td>0.762574</td>\n",
       "      <td>1</td>\n",
       "    </tr>\n",
       "    <tr>\n",
       "      <th rowspan=\"2\" valign=\"top\">62345</th>\n",
       "      <th>25187</th>\n",
       "      <td>0.644334</td>\n",
       "      <td>0.754852</td>\n",
       "      <td>1</td>\n",
       "    </tr>\n",
       "    <tr>\n",
       "      <th>166777</th>\n",
       "      <td>0.781625</td>\n",
       "      <td>0.760878</td>\n",
       "      <td>1</td>\n",
       "    </tr>\n",
       "  </tbody>\n",
       "</table>\n",
       "</div>"
      ],
      "text/plain": [
       "               structural_pred  positional_pred  is_same_class\n",
       "i      j                                                      \n",
       "105794 142957         0.590923         0.705832              0\n",
       "21184  78407          0.649005         0.756541              1\n",
       "82079  87455          0.603294         0.762574              1\n",
       "62345  25187          0.644334         0.754852              1\n",
       "       166777         0.781625         0.760878              1"
      ]
     },
     "execution_count": 65,
     "metadata": {},
     "output_type": "execute_result"
    }
   ],
   "source": [
    "full_df[\"is_same_class\"] = (\n",
    "    data.y.squeeze()[full_df.index.get_level_values(\"i\").values]\n",
    "    .detach()\n",
    "    .cpu()\n",
    "    .numpy()\n",
    "    == data.y.squeeze()[full_df.index.get_level_values(\"j\").values]\n",
    "    .detach()\n",
    "    .cpu()\n",
    "    .numpy()\n",
    ").astype(int)\n",
    "full_df.head()"
   ]
  },
  {
   "cell_type": "code",
   "execution_count": 71,
   "id": "bdd031b0",
   "metadata": {},
   "outputs": [
    {
     "data": {
      "text/plain": [
       "0.6832054796217903"
      ]
     },
     "execution_count": 71,
     "metadata": {},
     "output_type": "execute_result"
    }
   ],
   "source": [
    "structural_auc = roc_auc_score(full_df[\"is_same_class\"], full_df[\"structural_pred\"])\n",
    "structural_auc"
   ]
  },
  {
   "cell_type": "code",
   "execution_count": 72,
   "id": "2870469a",
   "metadata": {},
   "outputs": [
    {
     "data": {
      "text/plain": [
       "0.6895218468020154"
      ]
     },
     "execution_count": 72,
     "metadata": {},
     "output_type": "execute_result"
    }
   ],
   "source": [
    "positional_auc = roc_auc_score(full_df[\"is_same_class\"], full_df[\"positional_pred\"])\n",
    "positional_auc"
   ]
  },
  {
   "cell_type": "code",
   "execution_count": 73,
   "id": "db77456d",
   "metadata": {},
   "outputs": [],
   "source": [
    "auc_dict = {}\n",
    "for p in np.linspace(0, 1, 51):\n",
    "    score = (\n",
    "        full_df[\"positional_pred\"]\n",
    "        .mul(p)\n",
    "        .add(full_df[\"structural_pred\"].mul(1 - p))\n",
    "    )\n",
    "    auc = roc_auc_score(full_df[\"is_same_class\"], score)\n",
    "    auc_dict[p] = auc"
   ]
  },
  {
   "cell_type": "code",
   "execution_count": 74,
   "id": "8e7b3740",
   "metadata": {},
   "outputs": [
    {
     "data": {
      "text/html": [
       "<div>\n",
       "<style scoped>\n",
       "    .dataframe tbody tr th:only-of-type {\n",
       "        vertical-align: middle;\n",
       "    }\n",
       "\n",
       "    .dataframe tbody tr th {\n",
       "        vertical-align: top;\n",
       "    }\n",
       "\n",
       "    .dataframe thead th {\n",
       "        text-align: right;\n",
       "    }\n",
       "</style>\n",
       "<table border=\"1\" class=\"dataframe\">\n",
       "  <thead>\n",
       "    <tr style=\"text-align: right;\">\n",
       "      <th></th>\n",
       "      <th>ROC-AUC</th>\n",
       "    </tr>\n",
       "    <tr>\n",
       "      <th>p</th>\n",
       "      <th></th>\n",
       "    </tr>\n",
       "  </thead>\n",
       "  <tbody>\n",
       "    <tr>\n",
       "      <th>0.00</th>\n",
       "      <td>0.683205</td>\n",
       "    </tr>\n",
       "    <tr>\n",
       "      <th>0.02</th>\n",
       "      <td>0.683670</td>\n",
       "    </tr>\n",
       "    <tr>\n",
       "      <th>0.04</th>\n",
       "      <td>0.684148</td>\n",
       "    </tr>\n",
       "    <tr>\n",
       "      <th>0.06</th>\n",
       "      <td>0.684638</td>\n",
       "    </tr>\n",
       "    <tr>\n",
       "      <th>0.08</th>\n",
       "      <td>0.685141</td>\n",
       "    </tr>\n",
       "  </tbody>\n",
       "</table>\n",
       "</div>"
      ],
      "text/plain": [
       "       ROC-AUC\n",
       "p             \n",
       "0.00  0.683205\n",
       "0.02  0.683670\n",
       "0.04  0.684148\n",
       "0.06  0.684638\n",
       "0.08  0.685141"
      ]
     },
     "execution_count": 74,
     "metadata": {},
     "output_type": "execute_result"
    }
   ],
   "source": [
    "auc_df = pd.Series(auc_dict).rename(\"ROC-AUC\").rename_axis(\"p\").to_frame()\n",
    "auc_df.head()"
   ]
  },
  {
   "cell_type": "code",
   "execution_count": 80,
   "id": "98ead0ee",
   "metadata": {},
   "outputs": [
    {
     "data": {
      "text/html": [
       "<div>\n",
       "<style scoped>\n",
       "    .dataframe tbody tr th:only-of-type {\n",
       "        vertical-align: middle;\n",
       "    }\n",
       "\n",
       "    .dataframe tbody tr th {\n",
       "        vertical-align: top;\n",
       "    }\n",
       "\n",
       "    .dataframe thead th {\n",
       "        text-align: right;\n",
       "    }\n",
       "</style>\n",
       "<table border=\"1\" class=\"dataframe\">\n",
       "  <thead>\n",
       "    <tr style=\"text-align: right;\">\n",
       "      <th></th>\n",
       "      <th>ROC-AUC</th>\n",
       "    </tr>\n",
       "    <tr>\n",
       "      <th>p</th>\n",
       "      <th></th>\n",
       "    </tr>\n",
       "  </thead>\n",
       "  <tbody>\n",
       "    <tr>\n",
       "      <th>0.90</th>\n",
       "      <td>0.718663</td>\n",
       "    </tr>\n",
       "    <tr>\n",
       "      <th>0.88</th>\n",
       "      <td>0.718588</td>\n",
       "    </tr>\n",
       "    <tr>\n",
       "      <th>0.92</th>\n",
       "      <td>0.718159</td>\n",
       "    </tr>\n",
       "    <tr>\n",
       "      <th>0.86</th>\n",
       "      <td>0.718142</td>\n",
       "    </tr>\n",
       "    <tr>\n",
       "      <th>0.84</th>\n",
       "      <td>0.717453</td>\n",
       "    </tr>\n",
       "  </tbody>\n",
       "</table>\n",
       "</div>"
      ],
      "text/plain": [
       "       ROC-AUC\n",
       "p             \n",
       "0.90  0.718663\n",
       "0.88  0.718588\n",
       "0.92  0.718159\n",
       "0.86  0.718142\n",
       "0.84  0.717453"
      ]
     },
     "execution_count": 80,
     "metadata": {},
     "output_type": "execute_result"
    }
   ],
   "source": [
    "auc_df.sort_values(\"ROC-AUC\", ascending=False).head()"
   ]
  },
  {
   "cell_type": "code",
   "execution_count": 103,
   "id": "6ccc81ac",
   "metadata": {},
   "outputs": [
    {
     "data": {
      "text/html": [
       "<div>\n",
       "<style scoped>\n",
       "    .dataframe tbody tr th:only-of-type {\n",
       "        vertical-align: middle;\n",
       "    }\n",
       "\n",
       "    .dataframe tbody tr th {\n",
       "        vertical-align: top;\n",
       "    }\n",
       "\n",
       "    .dataframe thead th {\n",
       "        text-align: right;\n",
       "    }\n",
       "</style>\n",
       "<table border=\"1\" class=\"dataframe\">\n",
       "  <thead>\n",
       "    <tr style=\"text-align: right;\">\n",
       "      <th></th>\n",
       "      <th>ROC-AUC</th>\n",
       "    </tr>\n",
       "    <tr>\n",
       "      <th>p</th>\n",
       "      <th></th>\n",
       "    </tr>\n",
       "  </thead>\n",
       "  <tbody>\n",
       "    <tr>\n",
       "      <th>0.24</th>\n",
       "      <td>0.689706</td>\n",
       "    </tr>\n",
       "    <tr>\n",
       "      <th>0.26</th>\n",
       "      <td>0.690353</td>\n",
       "    </tr>\n",
       "    <tr>\n",
       "      <th>0.28</th>\n",
       "      <td>0.691018</td>\n",
       "    </tr>\n",
       "    <tr>\n",
       "      <th>0.30</th>\n",
       "      <td>0.691703</td>\n",
       "    </tr>\n",
       "    <tr>\n",
       "      <th>0.32</th>\n",
       "      <td>0.692408</td>\n",
       "    </tr>\n",
       "    <tr>\n",
       "      <th>0.34</th>\n",
       "      <td>0.693134</td>\n",
       "    </tr>\n",
       "    <tr>\n",
       "      <th>0.36</th>\n",
       "      <td>0.693881</td>\n",
       "    </tr>\n",
       "    <tr>\n",
       "      <th>0.38</th>\n",
       "      <td>0.694650</td>\n",
       "    </tr>\n",
       "    <tr>\n",
       "      <th>0.40</th>\n",
       "      <td>0.695443</td>\n",
       "    </tr>\n",
       "    <tr>\n",
       "      <th>0.42</th>\n",
       "      <td>0.696258</td>\n",
       "    </tr>\n",
       "    <tr>\n",
       "      <th>0.44</th>\n",
       "      <td>0.697098</td>\n",
       "    </tr>\n",
       "    <tr>\n",
       "      <th>0.46</th>\n",
       "      <td>0.697962</td>\n",
       "    </tr>\n",
       "    <tr>\n",
       "      <th>0.48</th>\n",
       "      <td>0.698850</td>\n",
       "    </tr>\n",
       "    <tr>\n",
       "      <th>0.50</th>\n",
       "      <td>0.699764</td>\n",
       "    </tr>\n",
       "    <tr>\n",
       "      <th>0.52</th>\n",
       "      <td>0.700703</td>\n",
       "    </tr>\n",
       "    <tr>\n",
       "      <th>0.54</th>\n",
       "      <td>0.701667</td>\n",
       "    </tr>\n",
       "    <tr>\n",
       "      <th>0.56</th>\n",
       "      <td>0.702656</td>\n",
       "    </tr>\n",
       "    <tr>\n",
       "      <th>0.58</th>\n",
       "      <td>0.703669</td>\n",
       "    </tr>\n",
       "    <tr>\n",
       "      <th>0.60</th>\n",
       "      <td>0.704706</td>\n",
       "    </tr>\n",
       "    <tr>\n",
       "      <th>0.62</th>\n",
       "      <td>0.705766</td>\n",
       "    </tr>\n",
       "    <tr>\n",
       "      <th>0.64</th>\n",
       "      <td>0.706845</td>\n",
       "    </tr>\n",
       "    <tr>\n",
       "      <th>0.66</th>\n",
       "      <td>0.707942</td>\n",
       "    </tr>\n",
       "    <tr>\n",
       "      <th>0.68</th>\n",
       "      <td>0.709054</td>\n",
       "    </tr>\n",
       "    <tr>\n",
       "      <th>0.70</th>\n",
       "      <td>0.710176</td>\n",
       "    </tr>\n",
       "    <tr>\n",
       "      <th>0.72</th>\n",
       "      <td>0.711302</td>\n",
       "    </tr>\n",
       "    <tr>\n",
       "      <th>0.74</th>\n",
       "      <td>0.712423</td>\n",
       "    </tr>\n",
       "    <tr>\n",
       "      <th>0.76</th>\n",
       "      <td>0.713531</td>\n",
       "    </tr>\n",
       "    <tr>\n",
       "      <th>0.78</th>\n",
       "      <td>0.714610</td>\n",
       "    </tr>\n",
       "    <tr>\n",
       "      <th>0.80</th>\n",
       "      <td>0.715642</td>\n",
       "    </tr>\n",
       "    <tr>\n",
       "      <th>0.82</th>\n",
       "      <td>0.716602</td>\n",
       "    </tr>\n",
       "    <tr>\n",
       "      <th>0.84</th>\n",
       "      <td>0.717453</td>\n",
       "    </tr>\n",
       "    <tr>\n",
       "      <th>0.86</th>\n",
       "      <td>0.718142</td>\n",
       "    </tr>\n",
       "    <tr>\n",
       "      <th>0.88</th>\n",
       "      <td>0.718588</td>\n",
       "    </tr>\n",
       "    <tr>\n",
       "      <th>0.90</th>\n",
       "      <td>0.718663</td>\n",
       "    </tr>\n",
       "    <tr>\n",
       "      <th>0.92</th>\n",
       "      <td>0.718159</td>\n",
       "    </tr>\n",
       "    <tr>\n",
       "      <th>0.94</th>\n",
       "      <td>0.716718</td>\n",
       "    </tr>\n",
       "    <tr>\n",
       "      <th>0.96</th>\n",
       "      <td>0.713628</td>\n",
       "    </tr>\n",
       "    <tr>\n",
       "      <th>0.98</th>\n",
       "      <td>0.707124</td>\n",
       "    </tr>\n",
       "  </tbody>\n",
       "</table>\n",
       "</div>"
      ],
      "text/plain": [
       "       ROC-AUC\n",
       "p             \n",
       "0.24  0.689706\n",
       "0.26  0.690353\n",
       "0.28  0.691018\n",
       "0.30  0.691703\n",
       "0.32  0.692408\n",
       "0.34  0.693134\n",
       "0.36  0.693881\n",
       "0.38  0.694650\n",
       "0.40  0.695443\n",
       "0.42  0.696258\n",
       "0.44  0.697098\n",
       "0.46  0.697962\n",
       "0.48  0.698850\n",
       "0.50  0.699764\n",
       "0.52  0.700703\n",
       "0.54  0.701667\n",
       "0.56  0.702656\n",
       "0.58  0.703669\n",
       "0.60  0.704706\n",
       "0.62  0.705766\n",
       "0.64  0.706845\n",
       "0.66  0.707942\n",
       "0.68  0.709054\n",
       "0.70  0.710176\n",
       "0.72  0.711302\n",
       "0.74  0.712423\n",
       "0.76  0.713531\n",
       "0.78  0.714610\n",
       "0.80  0.715642\n",
       "0.82  0.716602\n",
       "0.84  0.717453\n",
       "0.86  0.718142\n",
       "0.88  0.718588\n",
       "0.90  0.718663\n",
       "0.92  0.718159\n",
       "0.94  0.716718\n",
       "0.96  0.713628\n",
       "0.98  0.707124"
      ]
     },
     "execution_count": 103,
     "metadata": {},
     "output_type": "execute_result"
    }
   ],
   "source": [
    "auc_df.query('`ROC-AUC` > @positional_auc')"
   ]
  },
  {
   "cell_type": "code",
   "execution_count": 110,
   "id": "05db3981",
   "metadata": {},
   "outputs": [
    {
     "name": "stdout",
     "output_type": "stream",
     "text": [
      "Relative difference: 4.2%\n"
     ]
    }
   ],
   "source": [
    "rel_diff = auc_df['ROC-AUC'].max()/positional_auc - 1\n",
    "print(f'Relative difference: {rel_diff:.1%}')"
   ]
  },
  {
   "cell_type": "code",
   "execution_count": 112,
   "id": "58e770c4",
   "metadata": {},
   "outputs": [
    {
     "name": "stdout",
     "output_type": "stream",
     "text": [
      "Absolute difference: 0.03\n"
     ]
    }
   ],
   "source": [
    "abs_diff = auc_df['ROC-AUC'].max() - positional_auc\n",
    "print(f'Absolute difference: {abs_diff:.1}')"
   ]
  },
  {
   "cell_type": "code",
   "execution_count": 114,
   "id": "1c1b4471",
   "metadata": {},
   "outputs": [
    {
     "data": {
      "image/png": "[encoded data removed]",
      "text/plain": [
       "<Figure size 800x500 with 1 Axes>"
      ]
     },
     "metadata": {},
     "output_type": "display_data"
    },
    {
     "data": {
      "text/plain": [
       "<Figure size 640x480 with 0 Axes>"
      ]
     },
     "metadata": {},
     "output_type": "display_data"
    }
   ],
   "source": [
    "fig, ax = plt.subplots(1, 1, figsize=(8, 5))\n",
    "\n",
    "auc_df.reset_index().plot(\n",
    "    kind=\"scatter\",\n",
    "    x=\"p\",\n",
    "    y=\"ROC-AUC\",\n",
    "    label=\"Ensemble AUC\",\n",
    "    ax=ax,\n",
    ")\n",
    "\n",
    "ax.hlines(\n",
    "    structural_auc,\n",
    "    xmin=0,\n",
    "    xmax=1,\n",
    "    ls=\"--\",\n",
    "    color=\"red\",\n",
    "    label=\"Structural AUC\",\n",
    ")\n",
    "ax.hlines(\n",
    "    positional_auc,\n",
    "    xmin=0,\n",
    "    xmax=1,\n",
    "    ls=\"--\",\n",
    "    color=\"black\",\n",
    "    label=\"Positional AUC\",\n",
    ")\n",
    "\n",
    "plt.legend()\n",
    "plt.title(\n",
    "    \"$t=2015$ | ROC-AUC of ensemble: $p\\Omega_p^{1-GraphSage} + (1-p)\\Omega_s^{1-GraphSage}$\"\n",
    ")\n",
    "plt.show()\n",
    "\n",
    "plt.savefig('reports/images/ogbn-arxiv/t=2015_auc_ensemble.pdf')"
   ]
  }
 ],
 "metadata": {
  "kernelspec": {
   "display_name": "Arxiv Paper Classification Env",
   "language": "python",
   "name": "arxiv-env"
  },
  "language_info": {
   "codemirror_mode": {
    "name": "ipython",
    "version": 3
   },
   "file_extension": ".py",
   "mimetype": "text/x-python",
   "name": "python",
   "nbconvert_exporter": "python",
   "pygments_lexer": "ipython3",
   "version": "3.10.6"
  }
 },
 "nbformat": 4,
 "nbformat_minor": 5
}
