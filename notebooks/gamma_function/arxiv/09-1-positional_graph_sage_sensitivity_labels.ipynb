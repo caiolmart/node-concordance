{
 "cells": [
  {
   "cell_type": "code",
   "execution_count": 1,
   "id": "bbcf865e-32c9-481a-b7fb-661fac566cd0",
   "metadata": {},
   "outputs": [],
   "source": [
    "%load_ext autoreload\n",
    "%autoreload 2"
   ]
  },
  {
   "cell_type": "code",
   "execution_count": 2,
   "id": "29fbc05f",
   "metadata": {},
   "outputs": [],
   "source": [
    "import os\n",
    "while 'notebooks' in os.getcwd():\n",
    "    os.chdir('..')\n",
    "\n",
    "import logging\n",
    "dataset_name = 'ogbn-arxiv'\n",
    "logging.basicConfig(\n",
    "    format='%(asctime)s - %(levelname)s : %(message)s',\n",
    "    level=logging.INFO,\n",
    "    datefmt='%Y-%m-%d %H:%M:%S',\n",
    "    filename=f'logs/omega_function/{dataset_name}/09-1-positional_graph_sage_sensitivity_labels.log'\n",
    ")"
   ]
  },
  {
   "cell_type": "code",
   "execution_count": 3,
   "id": "34977d74",
   "metadata": {},
   "outputs": [],
   "source": [
    "logging.info('test')"
   ]
  },
  {
   "cell_type": "code",
   "execution_count": 4,
   "id": "d6d50784-ae0a-4e9a-923f-a8a5da84c41f",
   "metadata": {},
   "outputs": [],
   "source": [
    "\n",
    "import pandas as pd\n",
    "import numpy as np\n",
    "import plotly.offline as pyo\n",
    "import plotly.express as px\n",
    "import seaborn as sns\n",
    "import matplotlib.pyplot as plt\n",
    "from sklearn.metrics import roc_auc_score\n",
    "from ogb.nodeproppred import PygNodePropPredDataset, Evaluator\n",
    "import torch_geometric.transforms as T\n",
    "import torch\n",
    "\n",
    "from src.torch_geo_models import GraphSAGE, LinkPredictor\n",
    "from src.train.positional_omega.graph_sage import PositionalOmegaGraphSageCosSim\n",
    "from src.data.gamma.positional_arxiv import load_dataset, get_train_val_test_edges_auc,\\\n",
    "    get_val_test_edges_link_pred, prepare_adjencency, get_edge_index_from_adjencency,\\\n",
    "    get_train_val_test_edges_year"
   ]
  },
  {
   "cell_type": "code",
   "execution_count": 5,
   "id": "a5aaf3c5",
   "metadata": {},
   "outputs": [],
   "source": [
    "dataset_name = 'ogbn-arxiv'"
   ]
  },
  {
   "cell_type": "code",
   "execution_count": 6,
   "id": "5aac4a89-f43d-494e-92dd-4f8c0cb7d24e",
   "metadata": {},
   "outputs": [
    {
     "data": {
      "text/plain": [
       "True"
      ]
     },
     "execution_count": 6,
     "metadata": {},
     "output_type": "execute_result"
    }
   ],
   "source": [
    "torch.cuda.is_available()"
   ]
  },
  {
   "cell_type": "code",
   "execution_count": 7,
   "id": "5d7b6cb5-686a-4bba-99c0-7e954a656f4b",
   "metadata": {},
   "outputs": [
    {
     "data": {
      "text/plain": [
       "device(type='cuda', index=0)"
      ]
     },
     "execution_count": 7,
     "metadata": {},
     "output_type": "execute_result"
    }
   ],
   "source": [
    "device = f'cuda:0' if torch.cuda.is_available() else 'cpu'\n",
    "device = torch.device(device)\n",
    "device"
   ]
  },
  {
   "attachments": {},
   "cell_type": "markdown",
   "id": "3ee35052-8c79-4ad5-bef5-0d0759048428",
   "metadata": {
    "tags": []
   },
   "source": [
    "## Data Loading"
   ]
  },
  {
   "cell_type": "code",
   "execution_count": 9,
   "id": "2b7ad8fa-618c-469c-8929-5edd87b008cf",
   "metadata": {},
   "outputs": [],
   "source": [
    "dataset = load_dataset()\n",
    "\n",
    "data, edges_train_auc, edges_val_auc, edges_test_auc =\\\n",
    "    get_train_val_test_edges_auc(dataset, device=device)\n",
    "\n",
    "data, edges_val, edges_test, neg_edges_val, neg_edges_test =\\\n",
    "    get_val_test_edges_link_pred(data, remove_from_data=True, device=device)\n",
    "\n",
    "data = prepare_adjencency(data, to_symmetric=True)\n",
    "\n",
    "edge_index = get_edge_index_from_adjencency(data, device)"
   ]
  },
  {
   "attachments": {},
   "cell_type": "markdown",
   "id": "0ccb85c6-136f-4385-a097-ee4418cc4a2d",
   "metadata": {
    "tags": []
   },
   "source": [
    "## Training"
   ]
  },
  {
   "cell_type": "code",
   "execution_count": 13,
   "id": "ab122880",
   "metadata": {},
   "outputs": [],
   "source": [
    "run = 999\n",
    "n_layers = 1"
   ]
  },
  {
   "cell_type": "code",
   "execution_count": 22,
   "id": "1b07760c",
   "metadata": {},
   "outputs": [],
   "source": [
    "omega = PositionalOmegaGraphSageCosSim(\n",
    "    device=device,\n",
    "    num_nodes=data.num_nodes,\n",
    "    dataset='ogbn-arxiv',\n",
    "    n_layers=n_layers,\n",
    "    run=run\n",
    ")\n",
    "omega.train(\n",
    "    edge_index,\n",
    "    edges_val,\n",
    "    edges_test,\n",
    "    neg_edges_val,\n",
    "    neg_edges_test,\n",
    "    edges_train_auc,\n",
    "    edges_val_auc,\n",
    "    edges_test_auc,\n",
    "    data.adj_t,\n",
    "    data.y\n",
    ")\n"
   ]
  },
  {
   "attachments": {},
   "cell_type": "markdown",
   "id": "b88449a4",
   "metadata": {},
   "source": [
    "## Score all models"
   ]
  },
  {
   "cell_type": "code",
   "execution_count": 10,
   "id": "bdf2b5c2",
   "metadata": {},
   "outputs": [],
   "source": [
    "dataset = load_dataset()\n",
    "data = dataset[0]\n",
    "edge_index = data.edge_index.to(device)\n",
    "data = prepare_adjencency(data).to(device)"
   ]
  },
  {
   "cell_type": "code",
   "execution_count": 26,
   "id": "e46a4527",
   "metadata": {},
   "outputs": [],
   "source": [
    "omega = PositionalOmegaGraphSageCosSim.load_model(\n",
    "    run=run,\n",
    "    epoch=199,\n",
    "    device=device,\n",
    "    dataset='ogbn-arxiv',\n",
    "    num_nodes=data.num_nodes,\n",
    "    n_layers=1\n",
    ")"
   ]
  },
  {
   "cell_type": "code",
   "execution_count": 27,
   "id": "625f03ff",
   "metadata": {},
   "outputs": [],
   "source": [
    "out = omega.forward(edge_index, data.adj_t)"
   ]
  },
  {
   "cell_type": "code",
   "execution_count": 28,
   "id": "dd69751a",
   "metadata": {},
   "outputs": [
    {
     "data": {
      "text/plain": [
       "device(type='cuda', index=0)"
      ]
     },
     "execution_count": 28,
     "metadata": {},
     "output_type": "execute_result"
    }
   ],
   "source": [
    "out.device"
   ]
  },
  {
   "cell_type": "code",
   "execution_count": 29,
   "id": "66713cc4",
   "metadata": {},
   "outputs": [
    {
     "data": {
      "text/plain": [
       "torch.Size([2, 1166243])"
      ]
     },
     "execution_count": 29,
     "metadata": {},
     "output_type": "execute_result"
    }
   ],
   "source": [
    "dataset[0].edge_index.size()"
   ]
  },
  {
   "cell_type": "code",
   "execution_count": 30,
   "id": "3b9436e6",
   "metadata": {},
   "outputs": [
    {
     "data": {
      "text/html": [
       "<div>\n",
       "<style scoped>\n",
       "    .dataframe tbody tr th:only-of-type {\n",
       "        vertical-align: middle;\n",
       "    }\n",
       "\n",
       "    .dataframe tbody tr th {\n",
       "        vertical-align: top;\n",
       "    }\n",
       "\n",
       "    .dataframe thead th {\n",
       "        text-align: right;\n",
       "    }\n",
       "</style>\n",
       "<table border=\"1\" class=\"dataframe\">\n",
       "  <thead>\n",
       "    <tr style=\"text-align: right;\">\n",
       "      <th></th>\n",
       "      <th></th>\n",
       "      <th>pred</th>\n",
       "    </tr>\n",
       "  </thead>\n",
       "  <tbody>\n",
       "    <tr>\n",
       "      <th>104447</th>\n",
       "      <th>15858</th>\n",
       "      <td>0.891854</td>\n",
       "    </tr>\n",
       "    <tr>\n",
       "      <th rowspan=\"2\" valign=\"top\">107156</th>\n",
       "      <th>107156</th>\n",
       "      <td>0.780740</td>\n",
       "    </tr>\n",
       "    <tr>\n",
       "      <th>107156</th>\n",
       "      <td>0.695411</td>\n",
       "    </tr>\n",
       "    <tr>\n",
       "      <th rowspan=\"2\" valign=\"top\">141536</th>\n",
       "      <th>141536</th>\n",
       "      <td>0.888620</td>\n",
       "    </tr>\n",
       "    <tr>\n",
       "      <th>141536</th>\n",
       "      <td>0.862701</td>\n",
       "    </tr>\n",
       "    <tr>\n",
       "      <th>...</th>\n",
       "      <th>...</th>\n",
       "      <td>...</td>\n",
       "    </tr>\n",
       "    <tr>\n",
       "      <th>144525</th>\n",
       "      <th>49499</th>\n",
       "      <td>0.853161</td>\n",
       "    </tr>\n",
       "    <tr>\n",
       "      <th>29457</th>\n",
       "      <th>144665</th>\n",
       "      <td>0.911772</td>\n",
       "    </tr>\n",
       "    <tr>\n",
       "      <th>135414</th>\n",
       "      <th>79124</th>\n",
       "      <td>0.910210</td>\n",
       "    </tr>\n",
       "    <tr>\n",
       "      <th>147994</th>\n",
       "      <th>162473</th>\n",
       "      <td>0.876775</td>\n",
       "    </tr>\n",
       "    <tr>\n",
       "      <th>162537</th>\n",
       "      <th>72717</th>\n",
       "      <td>0.865294</td>\n",
       "    </tr>\n",
       "  </tbody>\n",
       "</table>\n",
       "<p>1166243 rows × 1 columns</p>\n",
       "</div>"
      ],
      "text/plain": [
       "                   pred\n",
       "104447 15858   0.891854\n",
       "107156 107156  0.780740\n",
       "       107156  0.695411\n",
       "141536 141536  0.888620\n",
       "       141536  0.862701\n",
       "...                 ...\n",
       "144525 49499   0.853161\n",
       "29457  144665  0.911772\n",
       "135414 79124   0.910210\n",
       "147994 162473  0.876775\n",
       "162537 72717   0.865294\n",
       "\n",
       "[1166243 rows x 1 columns]"
      ]
     },
     "execution_count": 30,
     "metadata": {},
     "output_type": "execute_result"
    }
   ],
   "source": [
    "index = pd.MultiIndex.from_tuples(edge_index.cpu().numpy().reshape(-1, 2).tolist())\n",
    "preds = out.detach().cpu().numpy()\n",
    "df = pd.DataFrame(preds, columns=['pred'], index=index)\n",
    "df"
   ]
  },
  {
   "cell_type": "code",
   "execution_count": 31,
   "id": "54848935",
   "metadata": {},
   "outputs": [],
   "source": [
    "index = pd.MultiIndex.from_tuples(\n",
    "    edge_index.cpu().numpy().T.tolist()\n",
    ")\n",
    "for epoch in range(1, 201):\n",
    "    omega = PositionalOmegaGraphSageCosSim.load_model(\n",
    "        run=run,\n",
    "        epoch=epoch,\n",
    "        device=device,\n",
    "        dataset=\"ogbn-arxiv\",\n",
    "        num_nodes=data.num_nodes,\n",
    "        n_layers=n_layers,\n",
    "    )\n",
    "    out = omega.forward(edge_index, data.adj_t)\n",
    "    preds = out.detach().cpu().numpy()\n",
    "    df = pd.DataFrame(preds, columns=[\"pred\"], index=index)\n",
    "    df.to_parquet(\n",
    "        f\"data/scored_omega/{dataset_name}/positional_graph_sage_all_epochs/{n_layers}layers_epoch_{epoch:03d}.parquet\"\n",
    "    )"
   ]
  },
  {
   "cell_type": "code",
   "execution_count": 43,
   "id": "55ffc3df",
   "metadata": {},
   "outputs": [
    {
     "data": {
      "text/plain": [
       "0.6556223442270903"
      ]
     },
     "execution_count": 43,
     "metadata": {},
     "output_type": "execute_result"
    }
   ],
   "source": [
    "preds = omega.forward(edges_test_auc, data.adj_t).detach().cpu().numpy().squeeze()\n",
    "target = omega.is_same_class(edges_test_auc, data.y).detach().cpu().numpy().squeeze()\n",
    "roc_auc_score(target, preds)"
   ]
  },
  {
   "cell_type": "code",
   "execution_count": 44,
   "id": "f93cff17",
   "metadata": {},
   "outputs": [
    {
     "data": {
      "text/plain": [
       "0.6556223442270903"
      ]
     },
     "execution_count": 44,
     "metadata": {},
     "output_type": "execute_result"
    }
   ],
   "source": [
    "roc_auc_score(target, preds)"
   ]
  },
  {
   "cell_type": "code",
   "execution_count": 48,
   "id": "ae4e66c0",
   "metadata": {},
   "outputs": [
    {
     "data": {
      "text/plain": [
       "array([0, 1, 1, ..., 1, 1, 1])"
      ]
     },
     "execution_count": 48,
     "metadata": {},
     "output_type": "execute_result"
    }
   ],
   "source": [
    "target"
   ]
  },
  {
   "cell_type": "code",
   "execution_count": 75,
   "id": "d97eba2a",
   "metadata": {},
   "outputs": [],
   "source": [
    "year_map = dict(zip(range(data.num_nodes), data.node_year.cpu().numpy().squeeze()))\n",
    "\n",
    "test_df = pd.read_parquet(\n",
    "    f\"data/scored_omega/{dataset_name}/positional_graph_sage_all_epochs/{n_layers}layers_epoch_{epoch:03d}.parquet\"\n",
    ")\n",
    "test_df = test_df.rename_axis([\"i\", \"j\"])\n",
    "test_df = test_df.loc[edges_test_auc.detach().cpu().numpy().T.tolist()]\n",
    "test_df[\"year_i\"] = test_df.index.get_level_values(\"i\").map(year_map)\n",
    "test_df[\"year_j\"] = test_df.index.get_level_values(\"j\").map(year_map)\n",
    "test_df[\"is_same_class\"] = (\n",
    "    data.y.squeeze()[test_df.index.get_level_values('i').values]\n",
    "    == data.y.squeeze()[test_df.index.get_level_values('j').values]\n",
    ").cpu().numpy()"
   ]
  },
  {
   "cell_type": "code",
   "execution_count": 76,
   "id": "7aa56097",
   "metadata": {},
   "outputs": [
    {
     "data": {
      "text/plain": [
       "0.6556223442270903"
      ]
     },
     "execution_count": 76,
     "metadata": {},
     "output_type": "execute_result"
    }
   ],
   "source": [
    "roc_auc_score(test_df['is_same_class'], test_df['pred'])"
   ]
  },
  {
   "attachments": {},
   "cell_type": "markdown",
   "id": "ce313895",
   "metadata": {},
   "source": [
    "## Compute ROC-AUC score for all models"
   ]
  },
  {
   "cell_type": "code",
   "execution_count": 11,
   "id": "10cccf2d",
   "metadata": {},
   "outputs": [],
   "source": [
    "year_map = dict(zip(range(data.num_nodes), data.node_year.cpu().numpy().squeeze()))"
   ]
  },
  {
   "cell_type": "code",
   "execution_count": 14,
   "id": "ac03219f",
   "metadata": {},
   "outputs": [],
   "source": [
    "epoch = 199\n",
    "df = pd.read_parquet(\n",
    "    f\"data/scored_omega/{dataset_name}/positional_graph_sage_all_epochs/{n_layers}layers_epoch_{epoch:03d}.parquet\"\n",
    ")"
   ]
  },
  {
   "cell_type": "code",
   "execution_count": 15,
   "id": "8dd46547",
   "metadata": {},
   "outputs": [
    {
     "data": {
      "text/html": [
       "<div>\n",
       "<style scoped>\n",
       "    .dataframe tbody tr th:only-of-type {\n",
       "        vertical-align: middle;\n",
       "    }\n",
       "\n",
       "    .dataframe tbody tr th {\n",
       "        vertical-align: top;\n",
       "    }\n",
       "\n",
       "    .dataframe thead th {\n",
       "        text-align: right;\n",
       "    }\n",
       "</style>\n",
       "<table border=\"1\" class=\"dataframe\">\n",
       "  <thead>\n",
       "    <tr style=\"text-align: right;\">\n",
       "      <th></th>\n",
       "      <th></th>\n",
       "      <th>pred</th>\n",
       "      <th>year_i</th>\n",
       "      <th>year_j</th>\n",
       "      <th>max_year</th>\n",
       "      <th>is_same_class</th>\n",
       "    </tr>\n",
       "    <tr>\n",
       "      <th>i</th>\n",
       "      <th>j</th>\n",
       "      <th></th>\n",
       "      <th></th>\n",
       "      <th></th>\n",
       "      <th></th>\n",
       "      <th></th>\n",
       "    </tr>\n",
       "  </thead>\n",
       "  <tbody>\n",
       "    <tr>\n",
       "      <th>104447</th>\n",
       "      <th>13091</th>\n",
       "      <td>0.891854</td>\n",
       "      <td>2011</td>\n",
       "      <td>2008</td>\n",
       "      <td>2011</td>\n",
       "      <td>True</td>\n",
       "    </tr>\n",
       "    <tr>\n",
       "      <th>15858</th>\n",
       "      <th>47283</th>\n",
       "      <td>0.780740</td>\n",
       "      <td>2014</td>\n",
       "      <td>2007</td>\n",
       "      <td>2014</td>\n",
       "      <td>False</td>\n",
       "    </tr>\n",
       "    <tr>\n",
       "      <th rowspan=\"3\" valign=\"top\">107156</th>\n",
       "      <th>69161</th>\n",
       "      <td>0.695411</td>\n",
       "      <td>2013</td>\n",
       "      <td>2014</td>\n",
       "      <td>2014</td>\n",
       "      <td>False</td>\n",
       "    </tr>\n",
       "    <tr>\n",
       "      <th>136440</th>\n",
       "      <td>0.888620</td>\n",
       "      <td>2013</td>\n",
       "      <td>2013</td>\n",
       "      <td>2013</td>\n",
       "      <td>False</td>\n",
       "    </tr>\n",
       "    <tr>\n",
       "      <th>107366</th>\n",
       "      <td>0.862701</td>\n",
       "      <td>2013</td>\n",
       "      <td>2011</td>\n",
       "      <td>2013</td>\n",
       "      <td>False</td>\n",
       "    </tr>\n",
       "  </tbody>\n",
       "</table>\n",
       "</div>"
      ],
      "text/plain": [
       "                   pred  year_i  year_j  max_year  is_same_class\n",
       "i      j                                                        \n",
       "104447 13091   0.891854    2011    2008      2011           True\n",
       "15858  47283   0.780740    2014    2007      2014          False\n",
       "107156 69161   0.695411    2013    2014      2014          False\n",
       "       136440  0.888620    2013    2013      2013          False\n",
       "       107366  0.862701    2013    2011      2013          False"
      ]
     },
     "execution_count": 15,
     "metadata": {},
     "output_type": "execute_result"
    }
   ],
   "source": [
    "df = df.rename_axis([\"i\", \"j\"])\n",
    "df[\"year_i\"] = df.index.get_level_values(\"i\").map(year_map)\n",
    "df[\"year_j\"] = df.index.get_level_values(\"j\").map(year_map)\n",
    "df[\"max_year\"] = df[[\"year_i\", \"year_j\"]].max(axis=1)\n",
    "df[\"is_same_class\"] = (\n",
    "    data.y.squeeze()[df.index.get_level_values('i').values]\n",
    "    == data.y.squeeze()[df.index.get_level_values('j').values]\n",
    ").cpu().numpy()\n",
    "df.head()"
   ]
  },
  {
   "cell_type": "code",
   "execution_count": 16,
   "id": "9d568ca6",
   "metadata": {},
   "outputs": [
    {
     "data": {
      "text/plain": [
       "'data/scored_omega/ogbn-arxiv/positional_graph_sage_all_epochs/1layers_epoch_{epoch:03d}.parquet'"
      ]
     },
     "execution_count": 16,
     "metadata": {},
     "output_type": "execute_result"
    }
   ],
   "source": [
    "data_path_pat = f\"data/scored_omega/{dataset_name}/positional_graph_sage_all_epochs/{n_layers}layers_epoch_{{epoch:03d}}.parquet\"\n",
    "data_path_pat"
   ]
  },
  {
   "cell_type": "code",
   "execution_count": 17,
   "id": "85befffa",
   "metadata": {},
   "outputs": [
    {
     "data": {
      "text/plain": [
       "Text(0.5, 1.0, 'Edge Amounts per Year Threshold')"
      ]
     },
     "execution_count": 17,
     "metadata": {},
     "output_type": "execute_result"
    },
    {
     "data": {
      "image/png": "[encoded data removed]",
      "text/plain": [
       "<Figure size 640x480 with 1 Axes>"
      ]
     },
     "metadata": {},
     "output_type": "display_data"
    }
   ],
   "source": [
    "edge_amounts = pd.DataFrame(columns=['Train', 'Validation', 'Test'])\n",
    "for year in range(2009, 2020):\n",
    "    train_amount = (df['max_year'] < year).sum()\n",
    "    validation_amount = (df['max_year'] == year).sum()\n",
    "    test_amount = (df['max_year'] > year).sum()\n",
    "    edge_amounts.loc[year] = [train_amount, validation_amount, test_amount]\n",
    "\n",
    "edge_amounts.plot()\n",
    "plt.title('Edge Amounts per Year Threshold')"
   ]
  },
  {
   "cell_type": "code",
   "execution_count": 18,
   "id": "85259cda",
   "metadata": {},
   "outputs": [
    {
     "data": {
      "text/html": [
       "<div>\n",
       "<style scoped>\n",
       "    .dataframe tbody tr th:only-of-type {\n",
       "        vertical-align: middle;\n",
       "    }\n",
       "\n",
       "    .dataframe tbody tr th {\n",
       "        vertical-align: top;\n",
       "    }\n",
       "\n",
       "    .dataframe thead th {\n",
       "        text-align: right;\n",
       "    }\n",
       "</style>\n",
       "<table border=\"1\" class=\"dataframe\">\n",
       "  <thead>\n",
       "    <tr style=\"text-align: right;\">\n",
       "      <th></th>\n",
       "      <th></th>\n",
       "      <th>train_val_auc</th>\n",
       "      <th>val_auc</th>\n",
       "      <th>test_auc</th>\n",
       "    </tr>\n",
       "    <tr>\n",
       "      <th>epoch</th>\n",
       "      <th>year</th>\n",
       "      <th></th>\n",
       "      <th></th>\n",
       "      <th></th>\n",
       "    </tr>\n",
       "  </thead>\n",
       "  <tbody>\n",
       "    <tr>\n",
       "      <th rowspan=\"5\" valign=\"top\">1</th>\n",
       "      <th>2009</th>\n",
       "      <td>0.556878</td>\n",
       "      <td>0.544989</td>\n",
       "      <td>0.542157</td>\n",
       "    </tr>\n",
       "    <tr>\n",
       "      <th>2010</th>\n",
       "      <td>0.564802</td>\n",
       "      <td>0.578818</td>\n",
       "      <td>0.54269</td>\n",
       "    </tr>\n",
       "    <tr>\n",
       "      <th>2011</th>\n",
       "      <td>0.567295</td>\n",
       "      <td>0.578977</td>\n",
       "      <td>0.543009</td>\n",
       "    </tr>\n",
       "    <tr>\n",
       "      <th>2012</th>\n",
       "      <td>0.570445</td>\n",
       "      <td>0.580087</td>\n",
       "      <td>0.543334</td>\n",
       "    </tr>\n",
       "    <tr>\n",
       "      <th>2013</th>\n",
       "      <td>0.567192</td>\n",
       "      <td>0.561868</td>\n",
       "      <td>0.544527</td>\n",
       "    </tr>\n",
       "    <tr>\n",
       "      <th>...</th>\n",
       "      <th>...</th>\n",
       "      <td>...</td>\n",
       "      <td>...</td>\n",
       "      <td>...</td>\n",
       "    </tr>\n",
       "    <tr>\n",
       "      <th rowspan=\"5\" valign=\"top\">200</th>\n",
       "      <th>2015</th>\n",
       "      <td>0.623055</td>\n",
       "      <td>0.6407</td>\n",
       "      <td>0.657126</td>\n",
       "    </tr>\n",
       "    <tr>\n",
       "      <th>2016</th>\n",
       "      <td>0.633688</td>\n",
       "      <td>0.65049</td>\n",
       "      <td>0.657386</td>\n",
       "    </tr>\n",
       "    <tr>\n",
       "      <th>2017</th>\n",
       "      <td>0.645487</td>\n",
       "      <td>0.662135</td>\n",
       "      <td>0.656404</td>\n",
       "    </tr>\n",
       "    <tr>\n",
       "      <th>2018</th>\n",
       "      <td>0.652086</td>\n",
       "      <td>0.658117</td>\n",
       "      <td>0.655622</td>\n",
       "    </tr>\n",
       "    <tr>\n",
       "      <th>2019</th>\n",
       "      <td>0.654578</td>\n",
       "      <td>0.656507</td>\n",
       "      <td>0.651902</td>\n",
       "    </tr>\n",
       "  </tbody>\n",
       "</table>\n",
       "<p>2200 rows × 3 columns</p>\n",
       "</div>"
      ],
      "text/plain": [
       "           train_val_auc   val_auc  test_auc\n",
       "epoch year                                  \n",
       "1     2009      0.556878  0.544989  0.542157\n",
       "      2010      0.564802  0.578818   0.54269\n",
       "      2011      0.567295  0.578977  0.543009\n",
       "      2012      0.570445  0.580087  0.543334\n",
       "      2013      0.567192  0.561868  0.544527\n",
       "...                  ...       ...       ...\n",
       "200   2015      0.623055    0.6407  0.657126\n",
       "      2016      0.633688   0.65049  0.657386\n",
       "      2017      0.645487  0.662135  0.656404\n",
       "      2018      0.652086  0.658117  0.655622\n",
       "      2019      0.654578  0.656507  0.651902\n",
       "\n",
       "[2200 rows x 3 columns]"
      ]
     },
     "execution_count": 18,
     "metadata": {},
     "output_type": "execute_result"
    }
   ],
   "source": [
    "def get_df(epoch):\n",
    "    path = data_path_pat.format(epoch=epoch)\n",
    "    df = pd.read_parquet(path)\n",
    "    df = df.rename_axis([\"i\", \"j\"])\n",
    "    df[\"year_i\"] = df.index.get_level_values(\"i\").map(year_map)\n",
    "    df[\"year_j\"] = df.index.get_level_values(\"j\").map(year_map)\n",
    "    df[\"max_year\"] = df[[\"year_i\", \"year_j\"]].max(axis=1)\n",
    "    df[\"is_same_class\"] = (\n",
    "        (\n",
    "            data.y.squeeze()[df.index.get_level_values(\"i\").values]\n",
    "            == data.y.squeeze()[df.index.get_level_values(\"j\").values]\n",
    "        )\n",
    "        .cpu()\n",
    "        .numpy()\n",
    "    )\n",
    "    return df\n",
    "\n",
    "output_path = f\"data/results/{dataset_name}/positional_graph_sage/{n_layers}layers_sensitivity_aucs.parquet\"\n",
    "\n",
    "if os.path.exists(output_path):\n",
    "    model_auc_df = pd.read_parquet(output_path)\n",
    "else:\n",
    "    model_auc_df = pd.DataFrame(\n",
    "        columns=[\"train_val_auc\", \"val_auc\", \"test_auc\"],\n",
    "        index=pd.MultiIndex.from_product(\n",
    "            [range(1, 201), range(2009, 2020)], names=[\"epoch\", \"year\"]\n",
    "        ),\n",
    "    )\n",
    "    logging.info(\"Calculating AUCs for all epochs and threshold years.\")\n",
    "    for epoch in range(1, 201):\n",
    "        logging.info(f\"Epoch {epoch}\")\n",
    "        df = get_df(epoch)\n",
    "        for year in range(2009, 2020):\n",
    "            logging.info(f\"Year {year}\")\n",
    "            train_mask = df[\"max_year\"] < year\n",
    "            validation_mask = df[\"max_year\"] == year\n",
    "            train_validation_mask = train_mask | validation_mask\n",
    "            test_mask = df[\"max_year\"] > year\n",
    "            val_df = df[validation_mask]\n",
    "            train_val_df = df[train_validation_mask]\n",
    "            test_df = df[test_mask]\n",
    "            auc_validation = roc_auc_score(val_df[\"is_same_class\"], val_df[\"pred\"])\n",
    "            auc_train_validation = roc_auc_score(\n",
    "                train_val_df[\"is_same_class\"], train_val_df[\"pred\"]\n",
    "            )\n",
    "            auc_test = roc_auc_score(test_df[\"is_same_class\"], test_df[\"pred\"])\n",
    "            model_auc_df.loc[(epoch, year)] = [\n",
    "                auc_train_validation,\n",
    "                auc_validation,\n",
    "                auc_test,\n",
    "            ]\n",
    "    model_auc_df.to_parquet(output_path)\n",
    "\n",
    "model_auc_df"
   ]
  },
  {
   "cell_type": "code",
   "execution_count": 20,
   "id": "3196b177",
   "metadata": {},
   "outputs": [],
   "source": [
    "output_path = f\"data/results/{dataset_name}/positional_graph_sage/{n_layers}layers_sensitivity_aucs.parquet\"\n",
    "model_auc_df.to_parquet(output_path)"
   ]
  },
  {
   "cell_type": "code",
   "execution_count": 19,
   "id": "0813f4e7",
   "metadata": {},
   "outputs": [
    {
     "data": {
      "text/html": [
       "<div>\n",
       "<style scoped>\n",
       "    .dataframe tbody tr th:only-of-type {\n",
       "        vertical-align: middle;\n",
       "    }\n",
       "\n",
       "    .dataframe tbody tr th {\n",
       "        vertical-align: top;\n",
       "    }\n",
       "\n",
       "    .dataframe thead th {\n",
       "        text-align: right;\n",
       "    }\n",
       "</style>\n",
       "<table border=\"1\" class=\"dataframe\">\n",
       "  <thead>\n",
       "    <tr style=\"text-align: right;\">\n",
       "      <th></th>\n",
       "      <th></th>\n",
       "      <th>train_val_auc</th>\n",
       "      <th>val_auc</th>\n",
       "      <th>test_auc</th>\n",
       "    </tr>\n",
       "    <tr>\n",
       "      <th>epoch</th>\n",
       "      <th>year</th>\n",
       "      <th></th>\n",
       "      <th></th>\n",
       "      <th></th>\n",
       "    </tr>\n",
       "  </thead>\n",
       "  <tbody>\n",
       "    <tr>\n",
       "      <th rowspan=\"5\" valign=\"top\">1</th>\n",
       "      <th>2019</th>\n",
       "      <td>0.54093</td>\n",
       "      <td>0.551275</td>\n",
       "      <td>0.542077</td>\n",
       "    </tr>\n",
       "    <tr>\n",
       "      <th>2009</th>\n",
       "      <td>0.556878</td>\n",
       "      <td>0.544989</td>\n",
       "      <td>0.542157</td>\n",
       "    </tr>\n",
       "    <tr>\n",
       "      <th>2010</th>\n",
       "      <td>0.564802</td>\n",
       "      <td>0.578818</td>\n",
       "      <td>0.54269</td>\n",
       "    </tr>\n",
       "    <tr>\n",
       "      <th>2011</th>\n",
       "      <td>0.567295</td>\n",
       "      <td>0.578977</td>\n",
       "      <td>0.543009</td>\n",
       "    </tr>\n",
       "    <tr>\n",
       "      <th>2012</th>\n",
       "      <td>0.570445</td>\n",
       "      <td>0.580087</td>\n",
       "      <td>0.543334</td>\n",
       "    </tr>\n",
       "    <tr>\n",
       "      <th>...</th>\n",
       "      <th>...</th>\n",
       "      <td>...</td>\n",
       "      <td>...</td>\n",
       "      <td>...</td>\n",
       "    </tr>\n",
       "    <tr>\n",
       "      <th>52</th>\n",
       "      <th>2016</th>\n",
       "      <td>0.662458</td>\n",
       "      <td>0.683237</td>\n",
       "      <td>0.689554</td>\n",
       "    </tr>\n",
       "    <tr>\n",
       "      <th>50</th>\n",
       "      <th>2016</th>\n",
       "      <td>0.662647</td>\n",
       "      <td>0.683428</td>\n",
       "      <td>0.689677</td>\n",
       "    </tr>\n",
       "    <tr>\n",
       "      <th>47</th>\n",
       "      <th>2016</th>\n",
       "      <td>0.661809</td>\n",
       "      <td>0.682958</td>\n",
       "      <td>0.689801</td>\n",
       "    </tr>\n",
       "    <tr>\n",
       "      <th>49</th>\n",
       "      <th>2016</th>\n",
       "      <td>0.662572</td>\n",
       "      <td>0.683572</td>\n",
       "      <td>0.689942</td>\n",
       "    </tr>\n",
       "    <tr>\n",
       "      <th>48</th>\n",
       "      <th>2016</th>\n",
       "      <td>0.66226</td>\n",
       "      <td>0.683359</td>\n",
       "      <td>0.690002</td>\n",
       "    </tr>\n",
       "  </tbody>\n",
       "</table>\n",
       "<p>2200 rows × 3 columns</p>\n",
       "</div>"
      ],
      "text/plain": [
       "           train_val_auc   val_auc  test_auc\n",
       "epoch year                                  \n",
       "1     2019       0.54093  0.551275  0.542077\n",
       "      2009      0.556878  0.544989  0.542157\n",
       "      2010      0.564802  0.578818   0.54269\n",
       "      2011      0.567295  0.578977  0.543009\n",
       "      2012      0.570445  0.580087  0.543334\n",
       "...                  ...       ...       ...\n",
       "52    2016      0.662458  0.683237  0.689554\n",
       "50    2016      0.662647  0.683428  0.689677\n",
       "47    2016      0.661809  0.682958  0.689801\n",
       "49    2016      0.662572  0.683572  0.689942\n",
       "48    2016       0.66226  0.683359  0.690002\n",
       "\n",
       "[2200 rows x 3 columns]"
      ]
     },
     "execution_count": 19,
     "metadata": {},
     "output_type": "execute_result"
    }
   ],
   "source": [
    "model_auc_df.sort_values('test_auc')"
   ]
  },
  {
   "attachments": {},
   "cell_type": "markdown",
   "id": "31172b4a",
   "metadata": {},
   "source": [
    "## Model selection per year"
   ]
  },
  {
   "cell_type": "code",
   "execution_count": 21,
   "id": "abbf3b70",
   "metadata": {},
   "outputs": [
    {
     "data": {
      "text/plain": [
       "<matplotlib.legend.Legend at 0x7f5cbc1b3220>"
      ]
     },
     "execution_count": 21,
     "metadata": {},
     "output_type": "execute_result"
    },
    {
     "data": {
      "image/png": "[encoded data removed]",
      "text/plain": [
       "<Figure size 640x480 with 1 Axes>"
      ]
     },
     "metadata": {},
     "output_type": "display_data"
    }
   ],
   "source": [
    "val_auc_dict = {}\n",
    "test_auc_dict = {}\n",
    "for year in range(2009, 2020):\n",
    "    year_df = model_auc_df.query(f'year == {year}')\n",
    "    max_val_row = year_df.sort_values('train_val_auc', ascending=False).iloc[0]\n",
    "    train_val_auc, val_auc, test_auc = max_val_row.values\n",
    "    val_auc_dict[year] = train_val_auc\n",
    "    test_auc_dict[year] = test_auc\n",
    "\n",
    "pd.Series(val_auc_dict).plot(label='Validation')\n",
    "pd.Series(test_auc_dict).plot(label='Test')\n",
    "plt.legend()"
   ]
  },
  {
   "cell_type": "code",
   "execution_count": 90,
   "id": "46a809e2",
   "metadata": {},
   "outputs": [
    {
     "data": {
      "text/plain": [
       "0.6817513736739191"
      ]
     },
     "execution_count": 90,
     "metadata": {},
     "output_type": "execute_result"
    }
   ],
   "source": [
    "year_df['test_auc'].max()"
   ]
  },
  {
   "cell_type": "code",
   "execution_count": 29,
   "id": "bb8b7e49",
   "metadata": {},
   "outputs": [],
   "source": [
    "metrics = PositionalOmegaGraphSageCosSim.read_metrics(\n",
    "    n_layers=n_layers,\n",
    "    dataset='ogbn-arxiv'\n",
    ")"
   ]
  },
  {
   "cell_type": "code",
   "execution_count": null,
   "id": "6e344765",
   "metadata": {},
   "outputs": [],
   "source": []
  },
  {
   "cell_type": "code",
   "execution_count": null,
   "id": "873680b7",
   "metadata": {},
   "outputs": [],
   "source": []
  },
  {
   "attachments": {},
   "cell_type": "markdown",
   "id": "89a558f9",
   "metadata": {},
   "source": [
    "### Data splits"
   ]
  },
  {
   "cell_type": "code",
   "execution_count": 15,
   "id": "731c7597",
   "metadata": {},
   "outputs": [],
   "source": [
    "year_series = pd.Series(data.node_year.cpu().numpy().squeeze())"
   ]
  },
  {
   "cell_type": "code",
   "execution_count": 22,
   "id": "9e5591a9",
   "metadata": {},
   "outputs": [
    {
     "data": {
      "text/plain": [
       "<AxesSubplot: >"
      ]
     },
     "execution_count": 22,
     "metadata": {},
     "output_type": "execute_result"
    },
    {
     "data": {
      "image/png": "[encoded data removed]",
      "text/plain": [
       "<Figure size 640x480 with 1 Axes>"
      ]
     },
     "metadata": {},
     "output_type": "display_data"
    }
   ],
   "source": [
    "year_series.value_counts().sort_index().cumsum().plot()"
   ]
  },
  {
   "cell_type": "code",
   "execution_count": 42,
   "id": "62264772",
   "metadata": {},
   "outputs": [
    {
     "data": {
      "text/plain": [
       "Text(0.5, 1.0, 'Node Amounts per Year Threshold')"
      ]
     },
     "execution_count": 42,
     "metadata": {},
     "output_type": "execute_result"
    },
    {
     "data": {
      "image/png": "[encoded data removed]",
      "text/plain": [
       "<Figure size 640x480 with 1 Axes>"
      ]
     },
     "metadata": {},
     "output_type": "display_data"
    }
   ],
   "source": [
    "node_amounts = pd.DataFrame(columns=['Train', 'Validation', 'Test'])\n",
    "for year in range(2009, 2020):\n",
    "    train_amount = (year_series < year).sum()\n",
    "    validation_amount = (year_series == year).sum()\n",
    "    test_amount = (year_series > year).sum()\n",
    "    node_amounts.loc[year] = [train_amount, validation_amount, test_amount]\n",
    "\n",
    "node_amounts.plot()\n",
    "plt.title('Node Amounts per Year Threshold')"
   ]
  },
  {
   "cell_type": "code",
   "execution_count": 39,
   "id": "e79995b8",
   "metadata": {},
   "outputs": [],
   "source": [
    "node_years = data.node_year.cpu().numpy().squeeze()\n",
    "edge_index\n",
    "\n",
    "edge_amounts = pd.DataFrame(columns=['Train', 'Validation', 'Test'])\n",
    "for year in range(2009, 2020):\n",
    "    edges_train, edges_val, edges_test = get_train_val_test_edges_year(\n",
    "        node_years, edge_index.cpu(), year)\n",
    "    train_amount = edges_train.shape[1]\n",
    "    val_amount = edges_val.shape[1]\n",
    "    test_amount = edges_test.shape[1]\n",
    "    edge_amounts.loc[year] = [train_amount, validation_amount, test_amount]\n"
   ]
  },
  {
   "cell_type": "code",
   "execution_count": 44,
   "id": "a26873d9",
   "metadata": {},
   "outputs": [
    {
     "data": {
      "image/png": "[encoded data removed]",
      "text/plain": [
       "<Figure size 640x480 with 1 Axes>"
      ]
     },
     "metadata": {},
     "output_type": "display_data"
    }
   ],
   "source": [
    "edge_amounts.plot()\n",
    "plt.title('Edge Amounts per Year Threshold')\n",
    "plt.grid()"
   ]
  },
  {
   "cell_type": "code",
   "execution_count": null,
   "id": "4b6a5fae",
   "metadata": {},
   "outputs": [],
   "source": []
  },
  {
   "cell_type": "code",
   "execution_count": null,
   "id": "6a7dfe96",
   "metadata": {},
   "outputs": [],
   "source": []
  },
  {
   "cell_type": "code",
   "execution_count": null,
   "id": "1693b47f",
   "metadata": {},
   "outputs": [],
   "source": []
  },
  {
   "cell_type": "code",
   "execution_count": null,
   "id": "83612e09",
   "metadata": {},
   "outputs": [],
   "source": []
  },
  {
   "cell_type": "code",
   "execution_count": null,
   "id": "1f75f5ea",
   "metadata": {},
   "outputs": [],
   "source": []
  },
  {
   "cell_type": "code",
   "execution_count": null,
   "id": "fe30f9c9",
   "metadata": {},
   "outputs": [],
   "source": []
  },
  {
   "cell_type": "code",
   "execution_count": null,
   "id": "cadc60c3",
   "metadata": {},
   "outputs": [],
   "source": []
  }
 ],
 "metadata": {
  "kernelspec": {
   "display_name": "Arxiv Paper Classification Env",
   "language": "python",
   "name": "arxiv-env"
  },
  "language_info": {
   "codemirror_mode": {
    "name": "ipython",
    "version": 3
   },
   "file_extension": ".py",
   "mimetype": "text/x-python",
   "name": "python",
   "nbconvert_exporter": "python",
   "pygments_lexer": "ipython3",
   "version": "3.10.6"
  }
 },
 "nbformat": 4,
 "nbformat_minor": 5
}
