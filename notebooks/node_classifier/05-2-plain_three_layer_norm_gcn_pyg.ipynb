{
 "cells": [
  {
   "cell_type": "code",
   "execution_count": 1,
   "id": "bbcf865e-32c9-481a-b7fb-661fac566cd0",
   "metadata": {},
   "outputs": [],
   "source": [
    "%load_ext autoreload\n",
    "%autoreload 2"
   ]
  },
  {
   "cell_type": "code",
   "execution_count": 2,
   "id": "d6d50784-ae0a-4e9a-923f-a8a5da84c41f",
   "metadata": {},
   "outputs": [],
   "source": [
    "import os\n",
    "\n",
    "while 'notebooks' in os.getcwd():\n",
    "    os.chdir('..')\n",
    "\n",
    "import torch\n",
    "import torch.nn.functional as F\n",
    "from ogb.nodeproppred import PygNodePropPredDataset, Evaluator\n",
    "from sklearn.metrics import roc_auc_score\n",
    "import logging\n",
    "import matplotlib.pyplot as plt\n",
    "import plotly.express as px\n",
    "import plotly.offline as pyo\n",
    "import numpy as np\n",
    "\n",
    "from src.torch_geo_models import GCN\n",
    "from src.data.node_classifier.arxiv import load_dataset_pyg, data_to_sparse_symmetric_pyg"
   ]
  },
  {
   "cell_type": "code",
   "execution_count": 3,
   "id": "d302740f-dfae-4604-a1a7-75925122e68f",
   "metadata": {},
   "outputs": [],
   "source": [
    "logging.basicConfig(\n",
    "    format='%(asctime)s - %(levelname)s : %(message)s',\n",
    "    level=logging.INFO,\n",
    "    datefmt='%Y-%m-%d %H:%M:%S'\n",
    ")"
   ]
  },
  {
   "cell_type": "code",
   "execution_count": 4,
   "id": "5aac4a89-f43d-494e-92dd-4f8c0cb7d24e",
   "metadata": {},
   "outputs": [
    {
     "data": {
      "text/plain": [
       "True"
      ]
     },
     "execution_count": 4,
     "metadata": {},
     "output_type": "execute_result"
    }
   ],
   "source": [
    "torch.cuda.is_available()"
   ]
  },
  {
   "cell_type": "code",
   "execution_count": 5,
   "id": "5d7b6cb5-686a-4bba-99c0-7e954a656f4b",
   "metadata": {},
   "outputs": [
    {
     "data": {
      "text/plain": [
       "device(type='cuda', index=0)"
      ]
     },
     "execution_count": 5,
     "metadata": {},
     "output_type": "execute_result"
    }
   ],
   "source": [
    "device = f'cuda:0' if torch.cuda.is_available() else 'cpu'\n",
    "device = torch.device(device)\n",
    "device"
   ]
  },
  {
   "cell_type": "markdown",
   "id": "3ee35052-8c79-4ad5-bef5-0d0759048428",
   "metadata": {
    "tags": []
   },
   "source": [
    "## Data Loading"
   ]
  },
  {
   "cell_type": "code",
   "execution_count": 6,
   "id": "52be6a60-0244-4a36-9d35-11213ffd1d9a",
   "metadata": {},
   "outputs": [],
   "source": [
    "dataset = load_dataset_pyg()"
   ]
  },
  {
   "cell_type": "code",
   "execution_count": 7,
   "id": "803cf386-8014-44b7-9714-bfc2dc200637",
   "metadata": {},
   "outputs": [
    {
     "data": {
      "text/plain": [
       "{'train': tensor([     0,      1,      2,  ..., 169145, 169148, 169251]),\n",
       " 'valid': tensor([   349,    357,    366,  ..., 169185, 169261, 169296]),\n",
       " 'test': tensor([   346,    398,    451,  ..., 169340, 169341, 169342])}"
      ]
     },
     "execution_count": 7,
     "metadata": {},
     "output_type": "execute_result"
    }
   ],
   "source": [
    "dataset.get_idx_split()"
   ]
  },
  {
   "cell_type": "code",
   "execution_count": 8,
   "id": "3156b5a5-fd5d-4b8b-b65f-fb8e5e094d4b",
   "metadata": {},
   "outputs": [],
   "source": [
    "data = data_to_sparse_symmetric_pyg(dataset[0])"
   ]
  },
  {
   "cell_type": "code",
   "execution_count": 9,
   "id": "93838a75-3dd5-4b0d-8448-0c6cf63a0798",
   "metadata": {},
   "outputs": [],
   "source": [
    "split_idx = dataset.get_idx_split()"
   ]
  },
  {
   "cell_type": "code",
   "execution_count": 10,
   "id": "2ebd0211-5d18-47b5-9e59-c9fb21da2ed2",
   "metadata": {},
   "outputs": [
    {
     "data": {
      "text/plain": [
       "{'train': tensor([     0,      1,      2,  ..., 169145, 169148, 169251]),\n",
       " 'valid': tensor([   349,    357,    366,  ..., 169185, 169261, 169296]),\n",
       " 'test': tensor([   346,    398,    451,  ..., 169340, 169341, 169342])}"
      ]
     },
     "execution_count": 10,
     "metadata": {},
     "output_type": "execute_result"
    }
   ],
   "source": [
    "split_idx"
   ]
  },
  {
   "cell_type": "code",
   "execution_count": 11,
   "id": "ac277e37-bec7-46c9-be5c-9311da891fe2",
   "metadata": {},
   "outputs": [],
   "source": [
    "features = data.x.cuda()\n",
    "labels = data.y.cuda()\n",
    "train_mask = split_idx['train'].cuda()\n",
    "val_mask = split_idx['valid'].cuda()\n",
    "test_mask = split_idx['test'].cuda()"
   ]
  },
  {
   "cell_type": "code",
   "execution_count": 12,
   "id": "2954aaab-3e21-4128-87f6-289ea7f0c064",
   "metadata": {},
   "outputs": [],
   "source": [
    "train_nid = train_mask.nonzero().squeeze()\n",
    "val_nid = val_mask.nonzero().squeeze()\n",
    "test_nid = test_mask.nonzero().squeeze()"
   ]
  },
  {
   "cell_type": "code",
   "execution_count": 13,
   "id": "17ee820c-1cd7-4749-957d-3bf553733b1c",
   "metadata": {},
   "outputs": [],
   "source": [
    "data.adj_t = data.adj_t.to(device)"
   ]
  },
  {
   "cell_type": "code",
   "execution_count": 14,
   "id": "a59de90b-3eb5-4e49-9f91-9a4b298acfad",
   "metadata": {},
   "outputs": [],
   "source": [
    "n_layers = 3\n",
    "n_iters = 3000\n",
    "epochs = 5000\n",
    "log_steps = 100\n",
    "input_dim = features.shape[1]\n",
    "hidden_channels = input_dim * 2\n",
    "output_dim = dataset.num_classes\n",
    "lr_rate = 0.001\n",
    "dropout = 0.5"
   ]
  },
  {
   "cell_type": "code",
   "execution_count": 15,
   "id": "94314a0e-4181-4944-bbf8-590ce3cfbe64",
   "metadata": {},
   "outputs": [],
   "source": [
    "model = GCN(\n",
    "    n_layers=n_layers,\n",
    "    in_channels=input_dim,\n",
    "    hidden_channels=hidden_channels,\n",
    "    out_channels=output_dim,\n",
    "    dropout=dropout,\n",
    "    batch_norm=True)\\\n",
    "    .to(device)"
   ]
  },
  {
   "cell_type": "code",
   "execution_count": 16,
   "id": "c3c6e74d-4b9d-4393-8e25-4dc35f37cd72",
   "metadata": {},
   "outputs": [],
   "source": [
    "def train(model, graph, features, train_mask, optimizer, edge_weight=None):\n",
    "    model.train()\n",
    "\n",
    "    optimizer.zero_grad()\n",
    "    out = model(features, graph, edge_weight=edge_weight)[train_mask]\n",
    "    loss = F.nll_loss(out, labels.squeeze(1)[train_mask])\n",
    "    loss.backward()\n",
    "    optimizer.step()\n",
    "\n",
    "    return loss.item()"
   ]
  },
  {
   "cell_type": "code",
   "execution_count": 17,
   "id": "6987be0b-d612-4624-b900-0bd8aea80e4b",
   "metadata": {},
   "outputs": [],
   "source": [
    "@torch.no_grad()\n",
    "def test(model, graph, features, labels, train_mask, val_mask, test_mask, evaluator, edge_weight=None):\n",
    "    model.eval()\n",
    "\n",
    "    out = model(features, graph, edge_weight=edge_weight)\n",
    "    y_pred = out.argmax(dim=-1, keepdim=True)\n",
    "\n",
    "    train_acc = evaluator.eval({\n",
    "        'y_true': labels[train_mask],\n",
    "        'y_pred': y_pred[train_mask],\n",
    "    })['acc']\n",
    "    valid_acc = evaluator.eval({\n",
    "        'y_true': labels[val_mask],\n",
    "        'y_pred': y_pred[val_mask],\n",
    "    })['acc']\n",
    "    test_acc = evaluator.eval({\n",
    "        'y_true': labels[test_mask],\n",
    "        'y_pred': y_pred[test_mask],\n",
    "    })['acc']\n",
    "\n",
    "    return train_acc, valid_acc, test_acc"
   ]
  },
  {
   "cell_type": "code",
   "execution_count": 18,
   "id": "b3134806-ae8d-45ec-b3f7-bc41f62a101d",
   "metadata": {},
   "outputs": [],
   "source": [
    "evaluator = Evaluator(name='ogbn-arxiv')"
   ]
  },
  {
   "cell_type": "code",
   "execution_count": 19,
   "id": "f3ea6f10-bbbb-4715-bd54-6d3e65c2e178",
   "metadata": {},
   "outputs": [],
   "source": [
    "edge_weights = None"
   ]
  },
  {
   "cell_type": "code",
   "execution_count": 20,
   "id": "7eadedfb-b5c8-44c6-841a-dd2f1c584e88",
   "metadata": {},
   "outputs": [
    {
     "data": {
      "text/plain": [
       "tensor([     0,      1,      2,  ..., 169145, 169148, 169251], device='cuda:0')"
      ]
     },
     "execution_count": 20,
     "metadata": {},
     "output_type": "execute_result"
    }
   ],
   "source": [
    "train_mask"
   ]
  },
  {
   "cell_type": "code",
   "execution_count": 21,
   "id": "64808988-9806-4683-a07b-0c732402c239",
   "metadata": {},
   "outputs": [
    {
     "name": "stdout",
     "output_type": "stream",
     "text": [
      "Epoch: 100, Loss: 1.1010, Train: 70.71%, Valid: 69.90% Test: 68.73%\n",
      "Epoch: 200, Loss: 0.9845, Train: 73.13%, Valid: 71.48% Test: 70.15%\n",
      "Epoch: 300, Loss: 0.9292, Train: 74.31%, Valid: 71.91% Test: 70.99%\n",
      "Epoch: 400, Loss: 0.8900, Train: 75.14%, Valid: 72.28% Test: 71.42%\n",
      "Epoch: 500, Loss: 0.8575, Train: 76.17%, Valid: 72.42% Test: 71.04%\n",
      "Epoch: 600, Loss: 0.8355, Train: 76.80%, Valid: 72.42% Test: 70.93%\n",
      "Epoch: 700, Loss: 0.8124, Train: 77.49%, Valid: 72.45% Test: 70.64%\n",
      "Epoch: 800, Loss: 0.7965, Train: 78.00%, Valid: 72.64% Test: 71.52%\n",
      "Epoch: 900, Loss: 0.7796, Train: 78.36%, Valid: 72.27% Test: 70.23%\n",
      "Epoch: 1000, Loss: 0.7652, Train: 78.89%, Valid: 72.72% Test: 70.91%\n",
      "Epoch: 1100, Loss: 0.7520, Train: 79.20%, Valid: 72.90% Test: 71.39%\n",
      "Epoch: 1200, Loss: 0.7391, Train: 79.54%, Valid: 72.83% Test: 71.27%\n",
      "Epoch: 1300, Loss: 0.7279, Train: 80.03%, Valid: 72.73% Test: 71.22%\n",
      "Epoch: 1400, Loss: 0.7196, Train: 80.21%, Valid: 73.35% Test: 71.99%\n",
      "Epoch: 1500, Loss: 0.7135, Train: 80.54%, Valid: 73.29% Test: 71.33%\n",
      "Epoch: 1600, Loss: 0.7051, Train: 80.66%, Valid: 73.10% Test: 71.50%\n",
      "Epoch: 1700, Loss: 0.6967, Train: 80.75%, Valid: 73.32% Test: 72.08%\n",
      "Epoch: 1800, Loss: 0.6933, Train: 81.07%, Valid: 73.36% Test: 72.03%\n",
      "Epoch: 1900, Loss: 0.6883, Train: 81.29%, Valid: 72.49% Test: 70.76%\n",
      "Epoch: 2000, Loss: 0.6789, Train: 81.47%, Valid: 73.12% Test: 71.56%\n",
      "Epoch: 2100, Loss: 0.6786, Train: 81.60%, Valid: 72.98% Test: 71.39%\n",
      "Epoch: 2200, Loss: 0.6739, Train: 81.75%, Valid: 73.11% Test: 71.96%\n",
      "Epoch: 2300, Loss: 0.6677, Train: 81.81%, Valid: 73.02% Test: 71.39%\n",
      "Epoch: 2400, Loss: 0.6629, Train: 81.92%, Valid: 72.69% Test: 70.82%\n",
      "Epoch: 2500, Loss: 0.6596, Train: 82.12%, Valid: 72.87% Test: 71.13%\n",
      "Epoch: 2600, Loss: 0.6604, Train: 82.21%, Valid: 72.64% Test: 70.68%\n",
      "Epoch: 2700, Loss: 0.6599, Train: 82.27%, Valid: 72.96% Test: 71.11%\n",
      "Epoch: 2800, Loss: 0.6528, Train: 82.40%, Valid: 72.90% Test: 71.06%\n",
      "Epoch: 2900, Loss: 0.6550, Train: 82.36%, Valid: 72.04% Test: 69.70%\n",
      "Epoch: 3000, Loss: 0.6534, Train: 82.34%, Valid: 73.07% Test: 71.51%\n",
      "Epoch: 3100, Loss: 0.6471, Train: 82.53%, Valid: 73.21% Test: 71.69%\n",
      "Epoch: 3200, Loss: 0.6464, Train: 82.52%, Valid: 72.68% Test: 70.80%\n",
      "Epoch: 3300, Loss: 0.6423, Train: 82.55%, Valid: 72.47% Test: 70.48%\n",
      "Epoch: 3400, Loss: 0.6404, Train: 82.85%, Valid: 73.11% Test: 71.30%\n",
      "Epoch: 3500, Loss: 0.6401, Train: 82.94%, Valid: 72.95% Test: 71.00%\n",
      "Epoch: 3600, Loss: 0.6367, Train: 82.98%, Valid: 73.03% Test: 71.41%\n",
      "Epoch: 3700, Loss: 0.6369, Train: 82.89%, Valid: 72.88% Test: 70.99%\n",
      "Epoch: 3800, Loss: 0.6384, Train: 82.96%, Valid: 72.99% Test: 71.35%\n",
      "Epoch: 3900, Loss: 0.6355, Train: 82.94%, Valid: 72.98% Test: 71.16%\n",
      "Epoch: 4000, Loss: 0.6336, Train: 83.17%, Valid: 73.00% Test: 71.01%\n",
      "Epoch: 4100, Loss: 0.6313, Train: 83.12%, Valid: 72.79% Test: 70.76%\n",
      "Epoch: 4200, Loss: 0.6305, Train: 83.22%, Valid: 72.97% Test: 71.03%\n",
      "Epoch: 4300, Loss: 0.6316, Train: 83.16%, Valid: 73.15% Test: 71.52%\n",
      "Epoch: 4400, Loss: 0.6294, Train: 83.16%, Valid: 72.59% Test: 70.63%\n",
      "Epoch: 4500, Loss: 0.6282, Train: 83.24%, Valid: 72.70% Test: 70.58%\n",
      "Epoch: 4600, Loss: 0.6262, Train: 83.39%, Valid: 72.72% Test: 70.69%\n",
      "Epoch: 4700, Loss: 0.6238, Train: 83.36%, Valid: 72.64% Test: 70.57%\n",
      "Epoch: 4800, Loss: 0.6197, Train: 83.38%, Valid: 72.82% Test: 70.84%\n",
      "Epoch: 4900, Loss: 0.6200, Train: 83.63%, Valid: 72.95% Test: 70.83%\n",
      "Epoch: 5000, Loss: 0.6162, Train: 83.47%, Valid: 72.71% Test: 70.62%\n"
     ]
    }
   ],
   "source": [
    "optimizer = torch.optim.Adam(model.parameters(), lr=lr_rate)\n",
    "for epoch in range(1, 1 + epochs):\n",
    "    loss = train(model, data.adj_t, features, train_mask, optimizer, edge_weight=edge_weights)\n",
    "    result = test(model, data.adj_t, features, labels, train_mask, val_mask, test_mask, evaluator, edge_weight=edge_weights)\n",
    "\n",
    "    if epoch % log_steps == 0:\n",
    "        train_acc, valid_acc, test_acc = result\n",
    "        print(f'Epoch: {epoch:02d}, '\n",
    "              f'Loss: {loss:.4f}, '\n",
    "              f'Train: {100 * train_acc:.2f}%, '\n",
    "              f'Valid: {100 * valid_acc:.2f}% '\n",
    "              f'Test: {100 * test_acc:.2f}%')"
   ]
  }
 ],
 "metadata": {
  "kernelspec": {
   "display_name": "ArXiv Paper Classification",
   "language": "python",
   "name": "arxiv-paperclassification"
  },
  "language_info": {
   "codemirror_mode": {
    "name": "ipython",
    "version": 3
   },
   "file_extension": ".py",
   "mimetype": "text/x-python",
   "name": "python",
   "nbconvert_exporter": "python",
   "pygments_lexer": "ipython3",
   "version": "3.8.10"
  }
 },
 "nbformat": 4,
 "nbformat_minor": 5
}
