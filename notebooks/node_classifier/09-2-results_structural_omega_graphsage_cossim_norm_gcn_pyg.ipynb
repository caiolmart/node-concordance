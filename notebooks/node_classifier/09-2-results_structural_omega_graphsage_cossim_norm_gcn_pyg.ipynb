{
 "cells": [
  {
   "cell_type": "code",
   "execution_count": 1,
   "id": "bbcf865e-32c9-481a-b7fb-661fac566cd0",
   "metadata": {},
   "outputs": [],
   "source": [
    "%load_ext autoreload\n",
    "%autoreload 2"
   ]
  },
  {
   "cell_type": "code",
   "execution_count": 2,
   "id": "d6d50784-ae0a-4e9a-923f-a8a5da84c41f",
   "metadata": {},
   "outputs": [
    {
     "name": "stderr",
     "output_type": "stream",
     "text": [
      "/home/caiolmartinelli/.cache/pypoetry/virtualenvs/arxiv-paperclassification-f16XUvnj-py3.10/lib/python3.10/site-packages/tqdm/auto.py:22: TqdmWarning: IProgress not found. Please update jupyter and ipywidgets. See https://ipywidgets.readthedocs.io/en/stable/user_install.html\n",
      "  from .autonotebook import tqdm as notebook_tqdm\n"
     ]
    }
   ],
   "source": [
    "import os\n",
    "\n",
    "while 'notebooks' in os.getcwd():\n",
    "    os.chdir('..')\n",
    "\n",
    "from itertools import product\n",
    "import pandas as pd\n",
    "import torch\n",
    "import torch.nn.functional as F\n",
    "from torch_sparse.tensor import SparseTensor\n",
    "from ogb.nodeproppred import PygNodePropPredDataset, Evaluator\n",
    "from sklearn.metrics import roc_auc_score\n",
    "import logging\n",
    "import matplotlib.pyplot as plt\n",
    "import plotly.express as px\n",
    "import plotly.offline as pyo\n",
    "import numpy as np\n",
    "import seaborn as sns\n",
    "from scipy.stats import ttest_ind\n",
    "\n",
    "from src.train.gcn_node_classifier import GCNNodeClassifierTrainer\n",
    "from src.torch_geo_models import GCN\n",
    "from src.data.node_classifier.arxiv import load_dataset_pyg,\\\n",
    "    data_to_sparse_symmetric_pyg, get_edge_weights_pyg"
   ]
  },
  {
   "cell_type": "code",
   "execution_count": 3,
   "id": "1ce84b12",
   "metadata": {},
   "outputs": [],
   "source": [
    "weights_source = 'structural_omega_cossim'"
   ]
  },
  {
   "cell_type": "markdown",
   "id": "67a24aa8-5ed9-4cfe-b5e9-ab486351de1e",
   "metadata": {
    "tags": []
   },
   "source": [
    "### Read metrics"
   ]
  },
  {
   "cell_type": "code",
   "execution_count": 4,
   "id": "46783d88-f76a-4d44-a47c-a417112dbc5e",
   "metadata": {},
   "outputs": [
    {
     "name": "stdout",
     "output_type": "stream",
     "text": [
      "(3030, 10)\n"
     ]
    },
    {
     "data": {
      "text/html": [
       "<div>\n",
       "<style scoped>\n",
       "    .dataframe tbody tr th:only-of-type {\n",
       "        vertical-align: middle;\n",
       "    }\n",
       "\n",
       "    .dataframe tbody tr th {\n",
       "        vertical-align: top;\n",
       "    }\n",
       "\n",
       "    .dataframe thead th {\n",
       "        text-align: right;\n",
       "    }\n",
       "</style>\n",
       "<table border=\"1\" class=\"dataframe\">\n",
       "  <thead>\n",
       "    <tr style=\"text-align: right;\">\n",
       "      <th></th>\n",
       "      <th>run</th>\n",
       "      <th>epoch</th>\n",
       "      <th>has_edge_weights</th>\n",
       "      <th>n_layers</th>\n",
       "      <th>loss_train</th>\n",
       "      <th>loss_val</th>\n",
       "      <th>loss_test</th>\n",
       "      <th>acc_train</th>\n",
       "      <th>acc_val</th>\n",
       "      <th>acc_test</th>\n",
       "    </tr>\n",
       "  </thead>\n",
       "  <tbody>\n",
       "    <tr>\n",
       "      <th>0</th>\n",
       "      <td>1</td>\n",
       "      <td>0</td>\n",
       "      <td>False</td>\n",
       "      <td>1</td>\n",
       "      <td>3.741970</td>\n",
       "      <td>3.737498</td>\n",
       "      <td>3.734182</td>\n",
       "      <td>0.002804</td>\n",
       "      <td>0.001812</td>\n",
       "      <td>0.001955</td>\n",
       "    </tr>\n",
       "    <tr>\n",
       "      <th>1</th>\n",
       "      <td>1</td>\n",
       "      <td>50</td>\n",
       "      <td>False</td>\n",
       "      <td>1</td>\n",
       "      <td>3.188882</td>\n",
       "      <td>3.233963</td>\n",
       "      <td>3.262270</td>\n",
       "      <td>0.185032</td>\n",
       "      <td>0.182355</td>\n",
       "      <td>0.176429</td>\n",
       "    </tr>\n",
       "    <tr>\n",
       "      <th>2</th>\n",
       "      <td>1</td>\n",
       "      <td>100</td>\n",
       "      <td>False</td>\n",
       "      <td>1</td>\n",
       "      <td>2.976256</td>\n",
       "      <td>3.030072</td>\n",
       "      <td>3.065616</td>\n",
       "      <td>0.220693</td>\n",
       "      <td>0.168395</td>\n",
       "      <td>0.152028</td>\n",
       "    </tr>\n",
       "    <tr>\n",
       "      <th>3</th>\n",
       "      <td>1</td>\n",
       "      <td>150</td>\n",
       "      <td>False</td>\n",
       "      <td>1</td>\n",
       "      <td>2.837870</td>\n",
       "      <td>2.902633</td>\n",
       "      <td>2.946209</td>\n",
       "      <td>0.252823</td>\n",
       "      <td>0.231048</td>\n",
       "      <td>0.212477</td>\n",
       "    </tr>\n",
       "    <tr>\n",
       "      <th>4</th>\n",
       "      <td>1</td>\n",
       "      <td>200</td>\n",
       "      <td>False</td>\n",
       "      <td>1</td>\n",
       "      <td>2.722807</td>\n",
       "      <td>2.798740</td>\n",
       "      <td>2.850033</td>\n",
       "      <td>0.284272</td>\n",
       "      <td>0.282593</td>\n",
       "      <td>0.260457</td>\n",
       "    </tr>\n",
       "  </tbody>\n",
       "</table>\n",
       "</div>"
      ],
      "text/plain": [
       "   run  epoch  has_edge_weights  n_layers  loss_train  loss_val  loss_test  \\\n",
       "0    1      0             False         1    3.741970  3.737498   3.734182   \n",
       "1    1     50             False         1    3.188882  3.233963   3.262270   \n",
       "2    1    100             False         1    2.976256  3.030072   3.065616   \n",
       "3    1    150             False         1    2.837870  2.902633   2.946209   \n",
       "4    1    200             False         1    2.722807  2.798740   2.850033   \n",
       "\n",
       "   acc_train   acc_val  acc_test  \n",
       "0   0.002804  0.001812  0.001955  \n",
       "1   0.185032  0.182355  0.176429  \n",
       "2   0.220693  0.168395  0.152028  \n",
       "3   0.252823  0.231048  0.212477  \n",
       "4   0.284272  0.282593  0.260457  "
      ]
     },
     "execution_count": 4,
     "metadata": {},
     "output_type": "execute_result"
    }
   ],
   "source": [
    "metrics = GCNNodeClassifierTrainer.read_metrics(weights_source=weights_source)\n",
    "print(metrics.shape)\n",
    "metrics.head()"
   ]
  },
  {
   "cell_type": "markdown",
   "id": "98c6e22c-86bb-45d4-a424-bf60148bbc96",
   "metadata": {},
   "source": [
    "## Selected model results\n",
    "\n",
    "For each configuration we select a model based on the validation accuracy and compare on the test nodes."
   ]
  },
  {
   "cell_type": "code",
   "execution_count": 5,
   "id": "5992f31a-7795-45c3-bbd0-05f693b04447",
   "metadata": {
    "tags": []
   },
   "outputs": [
    {
     "name": "stdout",
     "output_type": "stream",
     "text": [
      "(30, 10)\n",
      "5\n"
     ]
    },
    {
     "data": {
      "text/html": [
       "<div>\n",
       "<style scoped>\n",
       "    .dataframe tbody tr th:only-of-type {\n",
       "        vertical-align: middle;\n",
       "    }\n",
       "\n",
       "    .dataframe tbody tr th {\n",
       "        vertical-align: top;\n",
       "    }\n",
       "\n",
       "    .dataframe thead th {\n",
       "        text-align: right;\n",
       "    }\n",
       "</style>\n",
       "<table border=\"1\" class=\"dataframe\">\n",
       "  <thead>\n",
       "    <tr style=\"text-align: right;\">\n",
       "      <th></th>\n",
       "      <th>run</th>\n",
       "      <th>epoch</th>\n",
       "      <th>has_edge_weights</th>\n",
       "      <th>n_layers</th>\n",
       "      <th>loss_train</th>\n",
       "      <th>loss_val</th>\n",
       "      <th>loss_test</th>\n",
       "      <th>acc_train</th>\n",
       "      <th>acc_val</th>\n",
       "      <th>acc_test</th>\n",
       "    </tr>\n",
       "  </thead>\n",
       "  <tbody>\n",
       "    <tr>\n",
       "      <th>25</th>\n",
       "      <td>5</td>\n",
       "      <td>9450</td>\n",
       "      <td>True</td>\n",
       "      <td>1</td>\n",
       "      <td>1.208284</td>\n",
       "      <td>1.175320</td>\n",
       "      <td>1.149445</td>\n",
       "      <td>0.651576</td>\n",
       "      <td>0.661096</td>\n",
       "      <td>0.662387</td>\n",
       "    </tr>\n",
       "    <tr>\n",
       "      <th>26</th>\n",
       "      <td>5</td>\n",
       "      <td>2300</td>\n",
       "      <td>False</td>\n",
       "      <td>2</td>\n",
       "      <td>0.651183</td>\n",
       "      <td>0.896970</td>\n",
       "      <td>0.931223</td>\n",
       "      <td>0.791513</td>\n",
       "      <td>0.723246</td>\n",
       "      <td>0.715347</td>\n",
       "    </tr>\n",
       "    <tr>\n",
       "      <th>27</th>\n",
       "      <td>5</td>\n",
       "      <td>2000</td>\n",
       "      <td>True</td>\n",
       "      <td>2</td>\n",
       "      <td>0.840273</td>\n",
       "      <td>1.094829</td>\n",
       "      <td>1.084594</td>\n",
       "      <td>0.752213</td>\n",
       "      <td>0.694554</td>\n",
       "      <td>0.696089</td>\n",
       "    </tr>\n",
       "    <tr>\n",
       "      <th>28</th>\n",
       "      <td>5</td>\n",
       "      <td>1800</td>\n",
       "      <td>False</td>\n",
       "      <td>3</td>\n",
       "      <td>0.567849</td>\n",
       "      <td>0.860679</td>\n",
       "      <td>0.906543</td>\n",
       "      <td>0.811295</td>\n",
       "      <td>0.733280</td>\n",
       "      <td>0.715717</td>\n",
       "    </tr>\n",
       "    <tr>\n",
       "      <th>29</th>\n",
       "      <td>5</td>\n",
       "      <td>1650</td>\n",
       "      <td>True</td>\n",
       "      <td>3</td>\n",
       "      <td>0.813395</td>\n",
       "      <td>1.043351</td>\n",
       "      <td>1.050196</td>\n",
       "      <td>0.760009</td>\n",
       "      <td>0.698748</td>\n",
       "      <td>0.699772</td>\n",
       "    </tr>\n",
       "  </tbody>\n",
       "</table>\n",
       "</div>"
      ],
      "text/plain": [
       "    run  epoch  has_edge_weights  n_layers  loss_train  loss_val  loss_test  \\\n",
       "25    5   9450              True         1    1.208284  1.175320   1.149445   \n",
       "26    5   2300             False         2    0.651183  0.896970   0.931223   \n",
       "27    5   2000              True         2    0.840273  1.094829   1.084594   \n",
       "28    5   1800             False         3    0.567849  0.860679   0.906543   \n",
       "29    5   1650              True         3    0.813395  1.043351   1.050196   \n",
       "\n",
       "    acc_train   acc_val  acc_test  \n",
       "25   0.651576  0.661096  0.662387  \n",
       "26   0.791513  0.723246  0.715347  \n",
       "27   0.752213  0.694554  0.696089  \n",
       "28   0.811295  0.733280  0.715717  \n",
       "29   0.760009  0.698748  0.699772  "
      ]
     },
     "execution_count": 5,
     "metadata": {},
     "output_type": "execute_result"
    }
   ],
   "source": [
    "def get_best_metrics(keys_df: pd.DataFrame):\n",
    "    return keys_df.sort_values('acc_val', ascending=False).iloc[0]\n",
    "\n",
    "best_epoch_metrics = metrics\\\n",
    "    .groupby(['run', 'n_layers', 'has_edge_weights'])\\\n",
    "    .apply(get_best_metrics)\\\n",
    "    .reset_index(drop=True)\n",
    "\n",
    "print(best_epoch_metrics.shape)\n",
    "print(best_epoch_metrics['run'].max())\n",
    "best_epoch_metrics.tail()"
   ]
  },
  {
   "cell_type": "code",
   "execution_count": 17,
   "id": "288cb034-aab9-4b1d-b28c-ba2d34fe3442",
   "metadata": {},
   "outputs": [
    {
     "data": {
      "image/png": "[encoded data removed]",
      "text/plain": [
       "<Figure size 1600x1000 with 1 Axes>"
      ]
     },
     "metadata": {},
     "output_type": "display_data"
    }
   ],
   "source": [
    "plt.rcParams['font.size'] = '14'\n",
    "fig, ax1 = plt.subplots(1, 1, figsize=(16, 10))\n",
    "\n",
    "plt.title('Weight Impact on GCN Node Classifier')\n",
    "\n",
    "sns.boxplot(\n",
    "    data=best_epoch_metrics,\n",
    "    x='n_layers',\n",
    "    y='acc_test',\n",
    "    hue='has_edge_weights')\n",
    "\n",
    "plt.ylabel('Test Accuracy')\n",
    "plt.xlabel('$L$')\n",
    "\n",
    "\n",
    "# plt.yscale('log')\n",
    "plt.legend(title='Has Edge Weights')\n",
    "plt.savefig('reports/images/structural_graph_sage_cossim_weight_impact_gcn_node_classifier.pdf')"
   ]
  },
  {
   "cell_type": "markdown",
   "id": "ff247ffb-6d03-4450-ace0-1af115273e5a",
   "metadata": {},
   "source": [
    "## T-test"
   ]
  },
  {
   "cell_type": "code",
   "execution_count": 7,
   "id": "dce902c9-2f44-47ae-9c60-1d344cf789c0",
   "metadata": {},
   "outputs": [
    {
     "name": "stdout",
     "output_type": "stream",
     "text": [
      "with: 0.6624 +- 4.6e-05, no: 0.646 +- 0.0003608, t: 100.7, pvalue: 1.057e-13\n",
      "with: 0.6957 +- 0.0017, no: 0.7161 +- 0.001778, t: -18.45, pvalue: 7.682e-08\n",
      "with: 0.6998 +- 0.0027, no: 0.7195 +- 0.002608, t: -11.64, pvalue: 2.701e-06\n"
     ]
    }
   ],
   "source": [
    "report = {\n",
    "    '$L$': [],\n",
    "    'Weighted': [],\n",
    "    'Unweighted': [],\n",
    "    '$t$': [],\n",
    "    'p-value': []\n",
    "}\n",
    "\n",
    "for n_layers in range(1, 4):\n",
    "    a = best_epoch_metrics\\\n",
    "        .query(f'n_layers == {n_layers} & has_edge_weights == True')\\\n",
    "        ['acc_test']\n",
    "        \n",
    "    b = best_epoch_metrics\\\n",
    "        .query(f'n_layers == {n_layers} & has_edge_weights == False')\\\n",
    "        ['acc_test']\n",
    "    ttest = ttest_ind(a, b)\n",
    "    \n",
    "    report['$L$'].append(f'${n_layers}$')\n",
    "    report['Weighted'].append(f'${a.mean():.4} \\pm {a.std():.2}$')\n",
    "    report['Unweighted'].append(f'${b.mean():.4} \\pm {b.std():.2}$')\n",
    "    report['$t$'].append(f'${ttest.statistic:.4}$')\n",
    "    report['p-value'].append(f'${ttest.pvalue:.4}$')\n",
    "    \n",
    "    \n",
    "    print(f'with: {a.mean():.4} +- {a.std():.2}, '\n",
    "          f'no: {b.mean():.4} +- {b.std():.4}, '\n",
    "          f't: {ttest.statistic:.4}, pvalue: {ttest.pvalue:.4}')"
   ]
  },
  {
   "cell_type": "code",
   "execution_count": 8,
   "id": "e3c1728b-cf1b-48c0-b426-b92592480382",
   "metadata": {},
   "outputs": [
    {
     "name": "stdout",
     "output_type": "stream",
     "text": [
      "\\begin{tabular}{llllll}\n",
      " & $L$ & Weighted & Unweighted & $t$ & p-value \\\\\n",
      "0 & $1$ & $0.6624 \\pm 4.6e-05$ & $0.646 \\pm 0.00036$ & $100.7$ & $1.057e-13$ \\\\\n",
      "1 & $2$ & $0.6957 \\pm 0.0017$ & $0.7161 \\pm 0.0018$ & $-18.45$ & $7.682e-08$ \\\\\n",
      "2 & $3$ & $0.6998 \\pm 0.0027$ & $0.7195 \\pm 0.0026$ & $-11.64$ & $2.701e-06$ \\\\\n",
      "\\end{tabular}\n",
      "\n"
     ]
    }
   ],
   "source": [
    "print(pd.DataFrame(report).style.to_latex())"
   ]
  },
  {
   "cell_type": "markdown",
   "id": "66e03f41-1dbc-4fde-9df4-a60d96f49cbc",
   "metadata": {},
   "source": [
    "## Epochs comparison"
   ]
  },
  {
   "cell_type": "code",
   "execution_count": 15,
   "id": "da325bd0-3642-442e-96f6-764ad6ea7e5a",
   "metadata": {},
   "outputs": [
    {
     "data": {
      "text/plain": [
       "<matplotlib.legend.Legend at 0x7fdf95b83c70>"
      ]
     },
     "execution_count": 15,
     "metadata": {},
     "output_type": "execute_result"
    },
    {
     "data": {
      "image/png": "[encoded data removed]",
      "text/plain": [
       "<Figure size 640x480 with 1 Axes>"
      ]
     },
     "metadata": {},
     "output_type": "display_data"
    }
   ],
   "source": [
    "n_layers = 2\n",
    "col = 'acc_test'\n",
    "\n",
    "sub_df = metrics.query(f'n_layers == {n_layers}')\n",
    "\n",
    "no_means = sub_df\\\n",
    "    .query('has_edge_weights == False')\\\n",
    "    .groupby('epoch')\\\n",
    "    [col]\\\n",
    "    .mean()\n",
    "\n",
    "w_means = sub_df\\\n",
    "    .query('has_edge_weights == True')\\\n",
    "    .groupby('epoch')\\\n",
    "    [col]\\\n",
    "    .mean()\n",
    "\n",
    "plt.plot(no_means, label='False')\n",
    "plt.plot(w_means, label='True')\n",
    "\n",
    "plt.legend(title='Has Edge Weights')\n",
    "# plt.yscale('log')\n",
    "# plt.xscale('log')\n",
    "# plt.xlim(200)\n",
    "# plt.ylim(0.65, 0.75)"
   ]
  },
  {
   "cell_type": "code",
   "execution_count": null,
   "id": "9d1b3027",
   "metadata": {},
   "outputs": [],
   "source": []
  }
 ],
 "metadata": {
  "kernelspec": {
   "display_name": "Arxiv Paper Classification Env",
   "language": "python",
   "name": "arxiv-env"
  },
  "language_info": {
   "codemirror_mode": {
    "name": "ipython",
    "version": 3
   },
   "file_extension": ".py",
   "mimetype": "text/x-python",
   "name": "python",
   "nbconvert_exporter": "python",
   "pygments_lexer": "ipython3",
   "version": "3.10.6"
  }
 },
 "nbformat": 4,
 "nbformat_minor": 5
}
