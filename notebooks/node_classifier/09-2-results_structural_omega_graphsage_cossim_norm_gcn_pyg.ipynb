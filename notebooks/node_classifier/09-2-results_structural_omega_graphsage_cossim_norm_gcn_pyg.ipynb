{
 "cells": [
  {
   "cell_type": "code",
   "execution_count": 25,
   "id": "bbcf865e-32c9-481a-b7fb-661fac566cd0",
   "metadata": {},
   "outputs": [
    {
     "name": "stdout",
     "output_type": "stream",
     "text": [
      "The autoreload extension is already loaded. To reload it, use:\n",
      "  %reload_ext autoreload\n"
     ]
    }
   ],
   "source": [
    "%load_ext autoreload\n",
    "%autoreload 2"
   ]
  },
  {
   "cell_type": "code",
   "execution_count": 26,
   "id": "d6d50784-ae0a-4e9a-923f-a8a5da84c41f",
   "metadata": {},
   "outputs": [],
   "source": [
    "import os\n",
    "\n",
    "while 'notebooks' in os.getcwd():\n",
    "    os.chdir('..')\n",
    "\n",
    "from itertools import product\n",
    "import pandas as pd\n",
    "import torch\n",
    "import torch.nn.functional as F\n",
    "from torch_sparse.tensor import SparseTensor\n",
    "from ogb.nodeproppred import PygNodePropPredDataset, Evaluator\n",
    "from sklearn.metrics import roc_auc_score\n",
    "import logging\n",
    "import matplotlib.pyplot as plt\n",
    "import plotly.express as px\n",
    "import plotly.offline as pyo\n",
    "import numpy as np\n",
    "import seaborn as sns\n",
    "from scipy.stats import ttest_ind\n",
    "\n",
    "from src.train.gcn_node_classifier import GCNNodeClassifierTrainer\n",
    "from src.torch_geo_models import GCN\n",
    "from src.data.node_classifier.arxiv import load_dataset_pyg,\\\n",
    "    data_to_sparse_symmetric_pyg, get_edge_weights_pyg"
   ]
  },
  {
   "cell_type": "code",
   "execution_count": 27,
   "id": "1ce84b12",
   "metadata": {},
   "outputs": [],
   "source": [
    "weights_source = 'structural_omega_graph_sage_cossim'"
   ]
  },
  {
   "cell_type": "markdown",
   "id": "67a24aa8-5ed9-4cfe-b5e9-ab486351de1e",
   "metadata": {
    "tags": []
   },
   "source": [
    "### Read metrics"
   ]
  },
  {
   "cell_type": "code",
   "execution_count": 28,
   "id": "46783d88-f76a-4d44-a47c-a417112dbc5e",
   "metadata": {},
   "outputs": [
    {
     "name": "stdout",
     "output_type": "stream",
     "text": [
      "(2435, 10)\n"
     ]
    },
    {
     "data": {
      "text/html": [
       "<div>\n",
       "<style scoped>\n",
       "    .dataframe tbody tr th:only-of-type {\n",
       "        vertical-align: middle;\n",
       "    }\n",
       "\n",
       "    .dataframe tbody tr th {\n",
       "        vertical-align: top;\n",
       "    }\n",
       "\n",
       "    .dataframe thead th {\n",
       "        text-align: right;\n",
       "    }\n",
       "</style>\n",
       "<table border=\"1\" class=\"dataframe\">\n",
       "  <thead>\n",
       "    <tr style=\"text-align: right;\">\n",
       "      <th></th>\n",
       "      <th>run</th>\n",
       "      <th>epoch</th>\n",
       "      <th>has_edge_weights</th>\n",
       "      <th>n_layers</th>\n",
       "      <th>loss_train</th>\n",
       "      <th>loss_val</th>\n",
       "      <th>loss_test</th>\n",
       "      <th>acc_train</th>\n",
       "      <th>acc_val</th>\n",
       "      <th>acc_test</th>\n",
       "    </tr>\n",
       "  </thead>\n",
       "  <tbody>\n",
       "    <tr>\n",
       "      <th>0</th>\n",
       "      <td>1</td>\n",
       "      <td>0</td>\n",
       "      <td>False</td>\n",
       "      <td>1</td>\n",
       "      <td>3.699463</td>\n",
       "      <td>3.730673</td>\n",
       "      <td>3.720882</td>\n",
       "      <td>0.010809</td>\n",
       "      <td>0.010537</td>\n",
       "      <td>0.011152</td>\n",
       "    </tr>\n",
       "    <tr>\n",
       "      <th>1</th>\n",
       "      <td>1</td>\n",
       "      <td>50</td>\n",
       "      <td>False</td>\n",
       "      <td>1</td>\n",
       "      <td>3.174638</td>\n",
       "      <td>3.246686</td>\n",
       "      <td>3.267643</td>\n",
       "      <td>0.182635</td>\n",
       "      <td>0.082956</td>\n",
       "      <td>0.066045</td>\n",
       "    </tr>\n",
       "    <tr>\n",
       "      <th>2</th>\n",
       "      <td>1</td>\n",
       "      <td>100</td>\n",
       "      <td>False</td>\n",
       "      <td>1</td>\n",
       "      <td>2.962414</td>\n",
       "      <td>3.025093</td>\n",
       "      <td>3.061114</td>\n",
       "      <td>0.190398</td>\n",
       "      <td>0.096648</td>\n",
       "      <td>0.076559</td>\n",
       "    </tr>\n",
       "    <tr>\n",
       "      <th>3</th>\n",
       "      <td>1</td>\n",
       "      <td>150</td>\n",
       "      <td>False</td>\n",
       "      <td>1</td>\n",
       "      <td>2.824658</td>\n",
       "      <td>2.892854</td>\n",
       "      <td>2.938430</td>\n",
       "      <td>0.255275</td>\n",
       "      <td>0.231350</td>\n",
       "      <td>0.208917</td>\n",
       "    </tr>\n",
       "    <tr>\n",
       "      <th>4</th>\n",
       "      <td>1</td>\n",
       "      <td>200</td>\n",
       "      <td>False</td>\n",
       "      <td>1</td>\n",
       "      <td>2.710433</td>\n",
       "      <td>2.789759</td>\n",
       "      <td>2.843210</td>\n",
       "      <td>0.293894</td>\n",
       "      <td>0.298030</td>\n",
       "      <td>0.276135</td>\n",
       "    </tr>\n",
       "  </tbody>\n",
       "</table>\n",
       "</div>"
      ],
      "text/plain": [
       "   run  epoch  has_edge_weights  n_layers  loss_train  loss_val  loss_test  \\\n",
       "0    1      0             False         1    3.699463  3.730673   3.720882   \n",
       "1    1     50             False         1    3.174638  3.246686   3.267643   \n",
       "2    1    100             False         1    2.962414  3.025093   3.061114   \n",
       "3    1    150             False         1    2.824658  2.892854   2.938430   \n",
       "4    1    200             False         1    2.710433  2.789759   2.843210   \n",
       "\n",
       "   acc_train   acc_val  acc_test  \n",
       "0   0.010809  0.010537  0.011152  \n",
       "1   0.182635  0.082956  0.066045  \n",
       "2   0.190398  0.096648  0.076559  \n",
       "3   0.255275  0.231350  0.208917  \n",
       "4   0.293894  0.298030  0.276135  "
      ]
     },
     "execution_count": 28,
     "metadata": {},
     "output_type": "execute_result"
    }
   ],
   "source": [
    "metrics = GCNNodeClassifierTrainer.read_metrics(weights_source=weights_source)\n",
    "print(metrics.shape)\n",
    "metrics.head()"
   ]
  },
  {
   "cell_type": "markdown",
   "id": "98c6e22c-86bb-45d4-a424-bf60148bbc96",
   "metadata": {},
   "source": [
    "## Selected model results\n",
    "\n",
    "For each configuration we select a model based on the validation accuracy and compare on the test nodes."
   ]
  },
  {
   "cell_type": "code",
   "execution_count": 29,
   "id": "5992f31a-7795-45c3-bbd0-05f693b04447",
   "metadata": {
    "tags": []
   },
   "outputs": [
    {
     "name": "stdout",
     "output_type": "stream",
     "text": [
      "(25, 10)\n",
      "5\n"
     ]
    },
    {
     "data": {
      "text/html": [
       "<div>\n",
       "<style scoped>\n",
       "    .dataframe tbody tr th:only-of-type {\n",
       "        vertical-align: middle;\n",
       "    }\n",
       "\n",
       "    .dataframe tbody tr th {\n",
       "        vertical-align: top;\n",
       "    }\n",
       "\n",
       "    .dataframe thead th {\n",
       "        text-align: right;\n",
       "    }\n",
       "</style>\n",
       "<table border=\"1\" class=\"dataframe\">\n",
       "  <thead>\n",
       "    <tr style=\"text-align: right;\">\n",
       "      <th></th>\n",
       "      <th>run</th>\n",
       "      <th>epoch</th>\n",
       "      <th>has_edge_weights</th>\n",
       "      <th>n_layers</th>\n",
       "      <th>loss_train</th>\n",
       "      <th>loss_val</th>\n",
       "      <th>loss_test</th>\n",
       "      <th>acc_train</th>\n",
       "      <th>acc_val</th>\n",
       "      <th>acc_test</th>\n",
       "    </tr>\n",
       "  </thead>\n",
       "  <tbody>\n",
       "    <tr>\n",
       "      <th>20</th>\n",
       "      <td>4</td>\n",
       "      <td>2200</td>\n",
       "      <td>False</td>\n",
       "      <td>2</td>\n",
       "      <td>0.657163</td>\n",
       "      <td>0.897757</td>\n",
       "      <td>0.933699</td>\n",
       "      <td>0.790271</td>\n",
       "      <td>0.725058</td>\n",
       "      <td>0.714647</td>\n",
       "    </tr>\n",
       "    <tr>\n",
       "      <th>21</th>\n",
       "      <td>4</td>\n",
       "      <td>2550</td>\n",
       "      <td>True</td>\n",
       "      <td>2</td>\n",
       "      <td>0.821963</td>\n",
       "      <td>1.094231</td>\n",
       "      <td>1.080312</td>\n",
       "      <td>0.756479</td>\n",
       "      <td>0.694621</td>\n",
       "      <td>0.695780</td>\n",
       "    </tr>\n",
       "    <tr>\n",
       "      <th>22</th>\n",
       "      <td>4</td>\n",
       "      <td>1300</td>\n",
       "      <td>False</td>\n",
       "      <td>3</td>\n",
       "      <td>0.610413</td>\n",
       "      <td>0.859170</td>\n",
       "      <td>0.906102</td>\n",
       "      <td>0.799024</td>\n",
       "      <td>0.732575</td>\n",
       "      <td>0.718001</td>\n",
       "    </tr>\n",
       "    <tr>\n",
       "      <th>23</th>\n",
       "      <td>4</td>\n",
       "      <td>2000</td>\n",
       "      <td>True</td>\n",
       "      <td>3</td>\n",
       "      <td>0.783433</td>\n",
       "      <td>1.046656</td>\n",
       "      <td>1.059485</td>\n",
       "      <td>0.766211</td>\n",
       "      <td>0.699218</td>\n",
       "      <td>0.700677</td>\n",
       "    </tr>\n",
       "    <tr>\n",
       "      <th>24</th>\n",
       "      <td>5</td>\n",
       "      <td>500</td>\n",
       "      <td>False</td>\n",
       "      <td>1</td>\n",
       "      <td>2.231807</td>\n",
       "      <td>2.343123</td>\n",
       "      <td>2.425748</td>\n",
       "      <td>0.466225</td>\n",
       "      <td>0.485654</td>\n",
       "      <td>0.469045</td>\n",
       "    </tr>\n",
       "  </tbody>\n",
       "</table>\n",
       "</div>"
      ],
      "text/plain": [
       "    run  epoch  has_edge_weights  n_layers  loss_train  loss_val  loss_test  \\\n",
       "20    4   2200             False         2    0.657163  0.897757   0.933699   \n",
       "21    4   2550              True         2    0.821963  1.094231   1.080312   \n",
       "22    4   1300             False         3    0.610413  0.859170   0.906102   \n",
       "23    4   2000              True         3    0.783433  1.046656   1.059485   \n",
       "24    5    500             False         1    2.231807  2.343123   2.425748   \n",
       "\n",
       "    acc_train   acc_val  acc_test  \n",
       "20   0.790271  0.725058  0.714647  \n",
       "21   0.756479  0.694621  0.695780  \n",
       "22   0.799024  0.732575  0.718001  \n",
       "23   0.766211  0.699218  0.700677  \n",
       "24   0.466225  0.485654  0.469045  "
      ]
     },
     "execution_count": 29,
     "metadata": {},
     "output_type": "execute_result"
    }
   ],
   "source": [
    "def get_best_metrics(keys_df: pd.DataFrame):\n",
    "    return keys_df.sort_values('acc_val', ascending=False).iloc[0]\n",
    "\n",
    "best_epoch_metrics = metrics\\\n",
    "    .groupby(['run', 'n_layers', 'has_edge_weights'])\\\n",
    "    .apply(get_best_metrics)\\\n",
    "    .reset_index(drop=True)\n",
    "\n",
    "print(best_epoch_metrics.shape)\n",
    "print(best_epoch_metrics['run'].max())\n",
    "best_epoch_metrics.tail()"
   ]
  },
  {
   "cell_type": "code",
   "execution_count": 30,
   "id": "288cb034-aab9-4b1d-b28c-ba2d34fe3442",
   "metadata": {},
   "outputs": [
    {
     "data": {
      "image/png": "[encoded data removed]",
      "text/plain": [
       "<Figure size 1600x1000 with 1 Axes>"
      ]
     },
     "metadata": {},
     "output_type": "display_data"
    }
   ],
   "source": [
    "plt.rcParams['font.size'] = '14'\n",
    "fig, ax1 = plt.subplots(1, 1, figsize=(16, 10))\n",
    "\n",
    "plt.title('Weight Impact on GCN Node Classifier')\n",
    "\n",
    "sns.boxplot(\n",
    "    data=best_epoch_metrics,\n",
    "    x='n_layers',\n",
    "    y='acc_test',\n",
    "    hue='has_edge_weights')\n",
    "\n",
    "plt.ylabel('Test Accuracy')\n",
    "plt.xlabel('$L$')\n",
    "\n",
    "\n",
    "# plt.yscale('log')\n",
    "plt.legend(title='Has Edge Weights')\n",
    "plt.savefig('reports/images/structural_graph_sage_cossim_weight_impact_gcn_node_classifier.pdf')"
   ]
  },
  {
   "cell_type": "markdown",
   "id": "ff247ffb-6d03-4450-ace0-1af115273e5a",
   "metadata": {},
   "source": [
    "## T-test"
   ]
  },
  {
   "cell_type": "code",
   "execution_count": 31,
   "id": "dce902c9-2f44-47ae-9c60-1d344cf789c0",
   "metadata": {},
   "outputs": [
    {
     "name": "stdout",
     "output_type": "stream",
     "text": [
      "with: 0.6624 +- 8.6e-05, no: 0.6103 +- 0.07897, t: 1.301, pvalue: 0.2345\n",
      "with: 0.6957 +- 0.00093, no: 0.7152 +- 0.0005833, t: -35.35, pvalue: 3.414e-08\n",
      "with: 0.7011 +- 0.0011, no: 0.7188 +- 0.002265, t: -14.22, pvalue: 7.557e-06\n"
     ]
    }
   ],
   "source": [
    "report = {\n",
    "    '$L$': [],\n",
    "    'Weighted': [],\n",
    "    'Unweighted': [],\n",
    "    '$t$': [],\n",
    "    'p-value': []\n",
    "}\n",
    "\n",
    "for n_layers in range(1, 4):\n",
    "    a = best_epoch_metrics\\\n",
    "        .query(f'n_layers == {n_layers} & has_edge_weights == True')\\\n",
    "        ['acc_test']\n",
    "        \n",
    "    b = best_epoch_metrics\\\n",
    "        .query(f'n_layers == {n_layers} & has_edge_weights == False')\\\n",
    "        ['acc_test']\n",
    "    ttest = ttest_ind(a, b)\n",
    "    \n",
    "    report['$L$'].append(f'${n_layers}$')\n",
    "    report['Weighted'].append(f'${a.mean():.4} \\pm {a.std():.2}$')\n",
    "    report['Unweighted'].append(f'${b.mean():.4} \\pm {b.std():.2}$')\n",
    "    report['$t$'].append(f'${ttest.statistic:.4}$')\n",
    "    report['p-value'].append(f'${ttest.pvalue:.4}$')\n",
    "    \n",
    "    \n",
    "    print(f'with: {a.mean():.4} +- {a.std():.2}, '\n",
    "          f'no: {b.mean():.4} +- {b.std():.4}, '\n",
    "          f't: {ttest.statistic:.4}, pvalue: {ttest.pvalue:.4}')"
   ]
  },
  {
   "cell_type": "code",
   "execution_count": 32,
   "id": "e3c1728b-cf1b-48c0-b426-b92592480382",
   "metadata": {},
   "outputs": [
    {
     "name": "stdout",
     "output_type": "stream",
     "text": [
      "\\begin{tabular}{llllll}\n",
      " & $L$ & Weighted & Unweighted & $t$ & p-value \\\\\n",
      "0 & $1$ & $0.6624 \\pm 8.6e-05$ & $0.6103 \\pm 0.079$ & $1.301$ & $0.2345$ \\\\\n",
      "1 & $2$ & $0.6957 \\pm 0.00093$ & $0.7152 \\pm 0.00058$ & $-35.35$ & $3.414e-08$ \\\\\n",
      "2 & $3$ & $0.7011 \\pm 0.0011$ & $0.7188 \\pm 0.0023$ & $-14.22$ & $7.557e-06$ \\\\\n",
      "\\end{tabular}\n",
      "\n"
     ]
    }
   ],
   "source": [
    "print(pd.DataFrame(report).style.to_latex())"
   ]
  },
  {
   "cell_type": "markdown",
   "id": "66e03f41-1dbc-4fde-9df4-a60d96f49cbc",
   "metadata": {},
   "source": [
    "## Epochs comparison"
   ]
  },
  {
   "cell_type": "code",
   "execution_count": 33,
   "id": "da325bd0-3642-442e-96f6-764ad6ea7e5a",
   "metadata": {},
   "outputs": [
    {
     "data": {
      "text/plain": [
       "<matplotlib.legend.Legend at 0x7fe15ddc6a40>"
      ]
     },
     "execution_count": 33,
     "metadata": {},
     "output_type": "execute_result"
    },
    {
     "data": {
      "image/png": "[encoded data removed]",
      "text/plain": [
       "<Figure size 640x480 with 1 Axes>"
      ]
     },
     "metadata": {},
     "output_type": "display_data"
    }
   ],
   "source": [
    "n_layers = 1\n",
    "col = 'acc_train'\n",
    "\n",
    "sub_df = metrics.query(f'n_layers == {n_layers}')\n",
    "\n",
    "no_means = sub_df\\\n",
    "    .query('has_edge_weights == False')\\\n",
    "    .groupby('epoch')\\\n",
    "    [col]\\\n",
    "    .mean()\n",
    "\n",
    "w_means = sub_df\\\n",
    "    .query('has_edge_weights == True')\\\n",
    "    .groupby('epoch')\\\n",
    "    [col]\\\n",
    "    .mean()\n",
    "\n",
    "plt.plot(no_means, label='False')\n",
    "plt.plot(w_means, label='True')\n",
    "\n",
    "plt.legend(title='Has Edge Weights')\n",
    "# plt.yscale('log')\n",
    "# plt.xscale('log')\n",
    "# plt.xlim(200)\n",
    "# plt.ylim(0.65, 0.75)"
   ]
  }
 ],
 "metadata": {
  "kernelspec": {
   "display_name": "Arxiv Paper Classification Env",
   "language": "python",
   "name": "arxiv-env"
  },
  "language_info": {
   "codemirror_mode": {
    "name": "ipython",
    "version": 3
   },
   "file_extension": ".py",
   "mimetype": "text/x-python",
   "name": "python",
   "nbconvert_exporter": "python",
   "pygments_lexer": "ipython3",
   "version": "3.10.6"
  }
 },
 "nbformat": 4,
 "nbformat_minor": 5
}
