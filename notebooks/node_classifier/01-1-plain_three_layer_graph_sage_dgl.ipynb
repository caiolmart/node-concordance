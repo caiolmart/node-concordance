{
 "cells": [
  {
   "cell_type": "code",
   "execution_count": 1,
   "id": "bbcf865e-32c9-481a-b7fb-661fac566cd0",
   "metadata": {},
   "outputs": [],
   "source": [
    "%load_ext autoreload\n",
    "%autoreload 2"
   ]
  },
  {
   "cell_type": "code",
   "execution_count": 2,
   "id": "d6d50784-ae0a-4e9a-923f-a8a5da84c41f",
   "metadata": {},
   "outputs": [],
   "source": [
    "import os\n",
    "\n",
    "while 'notebooks' in os.getcwd():\n",
    "    os.chdir('..')\n",
    "\n",
    "import torch\n",
    "import torch.nn.functional as F\n",
    "from ogb.nodeproppred import DglNodePropPredDataset, Evaluator\n",
    "from sklearn.metrics import roc_auc_score\n",
    "import logging\n",
    "import matplotlib.pyplot as plt\n",
    "import plotly.express as px\n",
    "import plotly.offline as pyo\n",
    "import numpy as np\n",
    "\n",
    "from src.dgl_models import GraphSAGE\n",
    "from src.data.node_classifier.arxiv import load_dataset, get_symmetric_graph\n",
    "from src.train.node_classifier import WeigthedGraphSageNodeClassifier"
   ]
  },
  {
   "cell_type": "code",
   "execution_count": 3,
   "id": "d302740f-dfae-4604-a1a7-75925122e68f",
   "metadata": {},
   "outputs": [],
   "source": [
    "logging.basicConfig(\n",
    "    format='%(asctime)s - %(levelname)s : %(message)s',\n",
    "    level=logging.INFO,\n",
    "    datefmt='%Y-%m-%d %H:%M:%S'\n",
    ")"
   ]
  },
  {
   "cell_type": "code",
   "execution_count": 4,
   "id": "5aac4a89-f43d-494e-92dd-4f8c0cb7d24e",
   "metadata": {},
   "outputs": [
    {
     "data": {
      "text/plain": [
       "True"
      ]
     },
     "execution_count": 4,
     "metadata": {},
     "output_type": "execute_result"
    }
   ],
   "source": [
    "torch.cuda.is_available()"
   ]
  },
  {
   "cell_type": "code",
   "execution_count": 5,
   "id": "5d7b6cb5-686a-4bba-99c0-7e954a656f4b",
   "metadata": {},
   "outputs": [
    {
     "data": {
      "text/plain": [
       "device(type='cuda', index=0)"
      ]
     },
     "execution_count": 5,
     "metadata": {},
     "output_type": "execute_result"
    }
   ],
   "source": [
    "device = f'cuda:0' if torch.cuda.is_available() else 'cpu'\n",
    "device = torch.device(device)\n",
    "device"
   ]
  },
  {
   "cell_type": "markdown",
   "id": "3ee35052-8c79-4ad5-bef5-0d0759048428",
   "metadata": {
    "tags": []
   },
   "source": [
    "## Data Loading"
   ]
  },
  {
   "cell_type": "code",
   "execution_count": 6,
   "id": "52be6a60-0244-4a36-9d35-11213ffd1d9a",
   "metadata": {},
   "outputs": [],
   "source": [
    "dataset = load_dataset()"
   ]
  },
  {
   "cell_type": "code",
   "execution_count": 7,
   "id": "3156b5a5-fd5d-4b8b-b65f-fb8e5e094d4b",
   "metadata": {},
   "outputs": [],
   "source": [
    "graph = get_symmetric_graph(dataset)"
   ]
  },
  {
   "cell_type": "code",
   "execution_count": 8,
   "id": "a00a55d4-9439-4a2d-b8ad-04312950705e",
   "metadata": {},
   "outputs": [
    {
     "data": {
      "text/plain": [
       "2332486"
      ]
     },
     "execution_count": 8,
     "metadata": {},
     "output_type": "execute_result"
    }
   ],
   "source": [
    "graph.number_of_edges()"
   ]
  },
  {
   "cell_type": "code",
   "execution_count": 9,
   "id": "7ede6493-7bc6-4817-aa2f-b198fece5bed",
   "metadata": {},
   "outputs": [
    {
     "data": {
      "text/plain": [
       "tensor(13.7737)"
      ]
     },
     "execution_count": 9,
     "metadata": {},
     "output_type": "execute_result"
    }
   ],
   "source": [
    "torch.mean(graph.out_degrees() * 1.)"
   ]
  },
  {
   "cell_type": "code",
   "execution_count": 10,
   "id": "cda95dc7-6b41-42a8-b9ec-e07e3b2536b9",
   "metadata": {},
   "outputs": [
    {
     "data": {
      "text/plain": [
       "tensor(13.7737)"
      ]
     },
     "execution_count": 10,
     "metadata": {},
     "output_type": "execute_result"
    }
   ],
   "source": [
    "torch.mean(graph.in_degrees() * 1.)"
   ]
  },
  {
   "cell_type": "code",
   "execution_count": 11,
   "id": "93838a75-3dd5-4b0d-8448-0c6cf63a0798",
   "metadata": {},
   "outputs": [],
   "source": [
    "split_idx = dataset.get_idx_split()"
   ]
  },
  {
   "cell_type": "code",
   "execution_count": 12,
   "id": "2ebd0211-5d18-47b5-9e59-c9fb21da2ed2",
   "metadata": {},
   "outputs": [
    {
     "data": {
      "text/plain": [
       "{'train': tensor([     0,      1,      2,  ..., 169145, 169148, 169251]),\n",
       " 'valid': tensor([   349,    357,    366,  ..., 169185, 169261, 169296]),\n",
       " 'test': tensor([   346,    398,    451,  ..., 169340, 169341, 169342])}"
      ]
     },
     "execution_count": 12,
     "metadata": {},
     "output_type": "execute_result"
    }
   ],
   "source": [
    "split_idx"
   ]
  },
  {
   "cell_type": "code",
   "execution_count": 13,
   "id": "ac277e37-bec7-46c9-be5c-9311da891fe2",
   "metadata": {},
   "outputs": [],
   "source": [
    "features = graph.ndata['feat'].cuda()\n",
    "labels = dataset.labels.cuda()\n",
    "train_mask = split_idx['train'].cuda()\n",
    "val_mask = split_idx['valid'].cuda()\n",
    "test_mask = split_idx['test'].cuda()"
   ]
  },
  {
   "cell_type": "code",
   "execution_count": 14,
   "id": "2954aaab-3e21-4128-87f6-289ea7f0c064",
   "metadata": {},
   "outputs": [],
   "source": [
    "train_nid = train_mask.nonzero().squeeze()\n",
    "val_nid = val_mask.nonzero().squeeze()\n",
    "test_nid = test_mask.nonzero().squeeze()"
   ]
  },
  {
   "cell_type": "code",
   "execution_count": 15,
   "id": "6d6bdb41-1f08-4900-b455-12e97dd51901",
   "metadata": {},
   "outputs": [],
   "source": [
    "n_edges = graph.number_of_edges()"
   ]
  },
  {
   "cell_type": "code",
   "execution_count": 16,
   "id": "702cddd7-76e6-435a-bd1e-5ab97fc3c53e",
   "metadata": {},
   "outputs": [
    {
     "data": {
      "text/plain": [
       "Graph(num_nodes=169343, num_edges=2332486,\n",
       "      ndata_schemes={'year': Scheme(shape=(1,), dtype=torch.int64), 'feat': Scheme(shape=(128,), dtype=torch.float32)}\n",
       "      edata_schemes={})"
      ]
     },
     "execution_count": 16,
     "metadata": {},
     "output_type": "execute_result"
    }
   ],
   "source": [
    "graph"
   ]
  },
  {
   "cell_type": "code",
   "execution_count": 17,
   "id": "ba8d07cf-1afd-42ac-9fa0-f58671239815",
   "metadata": {},
   "outputs": [
    {
     "data": {
      "text/plain": [
       "'11.3'"
      ]
     },
     "execution_count": 17,
     "metadata": {},
     "output_type": "execute_result"
    }
   ],
   "source": [
    "torch.version.cuda"
   ]
  },
  {
   "cell_type": "code",
   "execution_count": 18,
   "id": "17ee820c-1cd7-4749-957d-3bf553733b1c",
   "metadata": {},
   "outputs": [],
   "source": [
    "graph = graph.to(device)"
   ]
  },
  {
   "cell_type": "code",
   "execution_count": 19,
   "id": "a59de90b-3eb5-4e49-9f91-9a4b298acfad",
   "metadata": {},
   "outputs": [],
   "source": [
    "n_layers = 3\n",
    "n_iters = 3000\n",
    "epochs = 5000\n",
    "log_steps = 100\n",
    "input_dim = features.shape[1]\n",
    "hidden_channels = input_dim * 2\n",
    "output_dim = dataset.num_classes\n",
    "lr_rate = 0.001\n",
    "dropout = 0.5"
   ]
  },
  {
   "cell_type": "code",
   "execution_count": 20,
   "id": "94314a0e-4181-4944-bbf8-590ce3cfbe64",
   "metadata": {},
   "outputs": [],
   "source": [
    "model = GraphSAGE(\n",
    "    n_layers=n_layers,\n",
    "    in_channels=input_dim,\n",
    "    hidden_channels=hidden_channels,\n",
    "    out_channels=output_dim,\n",
    "    dropout=dropout)\\\n",
    "    .to(device)"
   ]
  },
  {
   "cell_type": "code",
   "execution_count": 21,
   "id": "c3c6e74d-4b9d-4393-8e25-4dc35f37cd72",
   "metadata": {},
   "outputs": [],
   "source": [
    "def train(model, graph, features, train_mask, optimizer, edge_weight=None):\n",
    "    model.train()\n",
    "\n",
    "    optimizer.zero_grad()\n",
    "    out = model(graph, features, edge_weight=edge_weight)[train_mask]\n",
    "    loss = F.nll_loss(out, labels.squeeze(1)[train_mask])\n",
    "    loss.backward()\n",
    "    optimizer.step()\n",
    "\n",
    "    return loss.item()"
   ]
  },
  {
   "cell_type": "code",
   "execution_count": 22,
   "id": "6987be0b-d612-4624-b900-0bd8aea80e4b",
   "metadata": {},
   "outputs": [],
   "source": [
    "@torch.no_grad()\n",
    "def test(model, graph, features, labels, train_mask, val_mask, test_mask, evaluator, edge_weight=None):\n",
    "    model.eval()\n",
    "\n",
    "    out = model(graph, features, edge_weight=edge_weight)\n",
    "    y_pred = out.argmax(dim=-1, keepdim=True)\n",
    "\n",
    "    train_acc = evaluator.eval({\n",
    "        'y_true': labels[train_mask],\n",
    "        'y_pred': y_pred[train_mask],\n",
    "    })['acc']\n",
    "    valid_acc = evaluator.eval({\n",
    "        'y_true': labels[val_mask],\n",
    "        'y_pred': y_pred[val_mask],\n",
    "    })['acc']\n",
    "    test_acc = evaluator.eval({\n",
    "        'y_true': labels[test_mask],\n",
    "        'y_pred': y_pred[test_mask],\n",
    "    })['acc']\n",
    "\n",
    "    return train_acc, valid_acc, test_acc"
   ]
  },
  {
   "cell_type": "code",
   "execution_count": 23,
   "id": "b3134806-ae8d-45ec-b3f7-bc41f62a101d",
   "metadata": {},
   "outputs": [],
   "source": [
    "evaluator = Evaluator(name='ogbn-arxiv')"
   ]
  },
  {
   "cell_type": "code",
   "execution_count": 24,
   "id": "f3ea6f10-bbbb-4715-bd54-6d3e65c2e178",
   "metadata": {},
   "outputs": [],
   "source": [
    "edge_weights = None"
   ]
  },
  {
   "cell_type": "code",
   "execution_count": 25,
   "id": "64808988-9806-4683-a07b-0c732402c239",
   "metadata": {},
   "outputs": [
    {
     "name": "stdout",
     "output_type": "stream",
     "text": [
      "Epoch: 100, Loss: 1.3237, Train: 66.12%, Valid: 66.65% Test: 65.82%\n",
      "Epoch: 200, Loss: 1.1231, Train: 69.88%, Valid: 69.59% Test: 68.58%\n",
      "Epoch: 300, Loss: 1.0452, Train: 71.56%, Valid: 70.61% Test: 69.55%\n",
      "Epoch: 400, Loss: 0.9965, Train: 72.69%, Valid: 71.08% Test: 69.96%\n",
      "Epoch: 500, Loss: 0.9572, Train: 73.43%, Valid: 71.38% Test: 70.20%\n",
      "Epoch: 600, Loss: 0.9321, Train: 74.17%, Valid: 71.72% Test: 70.92%\n",
      "Epoch: 700, Loss: 0.9073, Train: 74.82%, Valid: 71.83% Test: 70.95%\n",
      "Epoch: 800, Loss: 0.8832, Train: 75.38%, Valid: 71.97% Test: 71.11%\n",
      "Epoch: 900, Loss: 0.8636, Train: 75.98%, Valid: 72.25% Test: 71.21%\n",
      "Epoch: 1000, Loss: 0.8453, Train: 76.41%, Valid: 72.27% Test: 71.04%\n",
      "Epoch: 1100, Loss: 0.8335, Train: 76.90%, Valid: 72.45% Test: 71.36%\n",
      "Epoch: 1200, Loss: 0.8208, Train: 77.21%, Valid: 72.47% Test: 71.48%\n",
      "Epoch: 1300, Loss: 0.8072, Train: 77.70%, Valid: 72.62% Test: 71.31%\n",
      "Epoch: 1400, Loss: 0.7934, Train: 78.08%, Valid: 72.70% Test: 71.44%\n",
      "Epoch: 1500, Loss: 0.7798, Train: 78.48%, Valid: 72.80% Test: 71.81%\n",
      "Epoch: 1600, Loss: 0.7730, Train: 78.80%, Valid: 72.74% Test: 71.50%\n",
      "Epoch: 1700, Loss: 0.7597, Train: 79.04%, Valid: 72.81% Test: 71.49%\n",
      "Epoch: 1800, Loss: 0.7540, Train: 79.40%, Valid: 72.85% Test: 71.58%\n",
      "Epoch: 1900, Loss: 0.7466, Train: 79.63%, Valid: 72.99% Test: 71.76%\n",
      "Epoch: 2000, Loss: 0.7354, Train: 79.92%, Valid: 72.95% Test: 71.62%\n",
      "Epoch: 2100, Loss: 0.7294, Train: 80.25%, Valid: 73.12% Test: 71.81%\n",
      "Epoch: 2200, Loss: 0.7212, Train: 80.52%, Valid: 73.17% Test: 71.86%\n",
      "Epoch: 2300, Loss: 0.7128, Train: 80.71%, Valid: 73.09% Test: 71.78%\n",
      "Epoch: 2400, Loss: 0.7099, Train: 81.02%, Valid: 73.19% Test: 72.01%\n",
      "Epoch: 2500, Loss: 0.7035, Train: 81.23%, Valid: 73.08% Test: 71.67%\n",
      "Epoch: 2600, Loss: 0.6934, Train: 81.36%, Valid: 72.95% Test: 71.29%\n",
      "Epoch: 2700, Loss: 0.6888, Train: 81.73%, Valid: 73.13% Test: 71.61%\n",
      "Epoch: 2800, Loss: 0.6819, Train: 81.88%, Valid: 73.16% Test: 71.59%\n",
      "Epoch: 2900, Loss: 0.6820, Train: 82.16%, Valid: 73.25% Test: 71.70%\n",
      "Epoch: 3000, Loss: 0.6733, Train: 82.42%, Valid: 73.21% Test: 71.54%\n",
      "Epoch: 3100, Loss: 0.6692, Train: 82.58%, Valid: 73.17% Test: 71.46%\n",
      "Epoch: 3200, Loss: 0.6626, Train: 82.86%, Valid: 73.42% Test: 71.77%\n",
      "Epoch: 3300, Loss: 0.6596, Train: 82.96%, Valid: 73.27% Test: 71.62%\n",
      "Epoch: 3400, Loss: 0.6557, Train: 83.21%, Valid: 73.20% Test: 71.45%\n",
      "Epoch: 3500, Loss: 0.6504, Train: 83.39%, Valid: 73.25% Test: 71.48%\n",
      "Epoch: 3600, Loss: 0.6453, Train: 83.55%, Valid: 73.34% Test: 71.59%\n",
      "Epoch: 3700, Loss: 0.6462, Train: 83.68%, Valid: 73.16% Test: 71.38%\n",
      "Epoch: 3800, Loss: 0.6388, Train: 83.92%, Valid: 73.40% Test: 71.74%\n",
      "Epoch: 3900, Loss: 0.6376, Train: 84.05%, Valid: 73.25% Test: 71.47%\n",
      "Epoch: 4000, Loss: 0.6367, Train: 84.18%, Valid: 73.32% Test: 71.58%\n",
      "Epoch: 4100, Loss: 0.6317, Train: 84.26%, Valid: 73.25% Test: 71.46%\n",
      "Epoch: 4200, Loss: 0.6281, Train: 84.41%, Valid: 73.36% Test: 71.79%\n",
      "Epoch: 4300, Loss: 0.6205, Train: 84.65%, Valid: 73.18% Test: 71.32%\n",
      "Epoch: 4400, Loss: 0.6195, Train: 84.76%, Valid: 73.15% Test: 71.29%\n",
      "Epoch: 4500, Loss: 0.6198, Train: 84.90%, Valid: 73.30% Test: 71.40%\n",
      "Epoch: 4600, Loss: 0.6162, Train: 85.01%, Valid: 73.23% Test: 71.60%\n",
      "Epoch: 4700, Loss: 0.6100, Train: 85.14%, Valid: 73.12% Test: 71.22%\n",
      "Epoch: 4800, Loss: 0.6119, Train: 85.20%, Valid: 72.95% Test: 71.13%\n",
      "Epoch: 4900, Loss: 0.6065, Train: 85.34%, Valid: 73.04% Test: 71.29%\n",
      "Epoch: 5000, Loss: 0.6064, Train: 85.42%, Valid: 73.10% Test: 71.55%\n"
     ]
    }
   ],
   "source": [
    "optimizer = torch.optim.Adam(model.parameters(), lr=lr_rate)\n",
    "for epoch in range(1, 1 + epochs):\n",
    "    loss = train(model, graph, features, train_mask, optimizer, edge_weight=edge_weights)\n",
    "    result = test(model, graph, features, labels, train_mask, val_mask, test_mask, evaluator, edge_weight=edge_weights)\n",
    "\n",
    "    if epoch % log_steps == 0:\n",
    "        train_acc, valid_acc, test_acc = result\n",
    "        print(f'Epoch: {epoch:02d}, '\n",
    "              f'Loss: {loss:.4f}, '\n",
    "              f'Train: {100 * train_acc:.2f}%, '\n",
    "              f'Valid: {100 * valid_acc:.2f}% '\n",
    "              f'Test: {100 * test_acc:.2f}%')"
   ]
  }
 ],
 "metadata": {
  "kernelspec": {
   "display_name": "ArXiv Paper Classification",
   "language": "python",
   "name": "arxiv-paperclassification"
  },
  "language_info": {
   "codemirror_mode": {
    "name": "ipython",
    "version": 3
   },
   "file_extension": ".py",
   "mimetype": "text/x-python",
   "name": "python",
   "nbconvert_exporter": "python",
   "pygments_lexer": "ipython3",
   "version": "3.8.10"
  }
 },
 "nbformat": 4,
 "nbformat_minor": 5
}
