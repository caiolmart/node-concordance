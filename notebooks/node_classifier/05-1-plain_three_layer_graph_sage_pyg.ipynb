{
 "cells": [
  {
   "cell_type": "code",
   "execution_count": 1,
   "id": "bbcf865e-32c9-481a-b7fb-661fac566cd0",
   "metadata": {},
   "outputs": [],
   "source": [
    "%load_ext autoreload\n",
    "%autoreload 2"
   ]
  },
  {
   "cell_type": "code",
   "execution_count": 2,
   "id": "d6d50784-ae0a-4e9a-923f-a8a5da84c41f",
   "metadata": {},
   "outputs": [],
   "source": [
    "import os\n",
    "\n",
    "while 'notebooks' in os.getcwd():\n",
    "    os.chdir('..')\n",
    "\n",
    "import torch\n",
    "import torch.nn.functional as F\n",
    "from ogb.nodeproppred import PygNodePropPredDataset, Evaluator\n",
    "from sklearn.metrics import roc_auc_score\n",
    "import logging\n",
    "import matplotlib.pyplot as plt\n",
    "import plotly.express as px\n",
    "import plotly.offline as pyo\n",
    "import numpy as np\n",
    "\n",
    "from src.torch_geo_models import GCN\n",
    "from src.data.node_classifier.arxiv import load_dataset_pyg, data_to_sparse_symmetric_pyg"
   ]
  },
  {
   "cell_type": "code",
   "execution_count": 3,
   "id": "d302740f-dfae-4604-a1a7-75925122e68f",
   "metadata": {},
   "outputs": [],
   "source": [
    "logging.basicConfig(\n",
    "    format='%(asctime)s - %(levelname)s : %(message)s',\n",
    "    level=logging.INFO,\n",
    "    datefmt='%Y-%m-%d %H:%M:%S'\n",
    ")"
   ]
  },
  {
   "cell_type": "code",
   "execution_count": 4,
   "id": "5aac4a89-f43d-494e-92dd-4f8c0cb7d24e",
   "metadata": {},
   "outputs": [
    {
     "data": {
      "text/plain": [
       "True"
      ]
     },
     "execution_count": 4,
     "metadata": {},
     "output_type": "execute_result"
    }
   ],
   "source": [
    "torch.cuda.is_available()"
   ]
  },
  {
   "cell_type": "code",
   "execution_count": 5,
   "id": "5d7b6cb5-686a-4bba-99c0-7e954a656f4b",
   "metadata": {},
   "outputs": [
    {
     "data": {
      "text/plain": [
       "device(type='cuda', index=0)"
      ]
     },
     "execution_count": 5,
     "metadata": {},
     "output_type": "execute_result"
    }
   ],
   "source": [
    "device = f'cuda:0' if torch.cuda.is_available() else 'cpu'\n",
    "device = torch.device(device)\n",
    "device"
   ]
  },
  {
   "cell_type": "markdown",
   "id": "3ee35052-8c79-4ad5-bef5-0d0759048428",
   "metadata": {
    "tags": []
   },
   "source": [
    "## Data Loading"
   ]
  },
  {
   "cell_type": "code",
   "execution_count": 6,
   "id": "52be6a60-0244-4a36-9d35-11213ffd1d9a",
   "metadata": {},
   "outputs": [],
   "source": [
    "dataset = load_dataset_pyg()"
   ]
  },
  {
   "cell_type": "code",
   "execution_count": 7,
   "id": "803cf386-8014-44b7-9714-bfc2dc200637",
   "metadata": {},
   "outputs": [
    {
     "data": {
      "text/plain": [
       "{'train': tensor([     0,      1,      2,  ..., 169145, 169148, 169251]),\n",
       " 'valid': tensor([   349,    357,    366,  ..., 169185, 169261, 169296]),\n",
       " 'test': tensor([   346,    398,    451,  ..., 169340, 169341, 169342])}"
      ]
     },
     "execution_count": 7,
     "metadata": {},
     "output_type": "execute_result"
    }
   ],
   "source": [
    "dataset.get_idx_split()"
   ]
  },
  {
   "cell_type": "code",
   "execution_count": 8,
   "id": "3156b5a5-fd5d-4b8b-b65f-fb8e5e094d4b",
   "metadata": {},
   "outputs": [],
   "source": [
    "data = data_to_sparse_symmetric_pyg(dataset[0])"
   ]
  },
  {
   "cell_type": "code",
   "execution_count": 9,
   "id": "93838a75-3dd5-4b0d-8448-0c6cf63a0798",
   "metadata": {},
   "outputs": [],
   "source": [
    "split_idx = dataset.get_idx_split()"
   ]
  },
  {
   "cell_type": "code",
   "execution_count": 10,
   "id": "2ebd0211-5d18-47b5-9e59-c9fb21da2ed2",
   "metadata": {},
   "outputs": [
    {
     "data": {
      "text/plain": [
       "{'train': tensor([     0,      1,      2,  ..., 169145, 169148, 169251]),\n",
       " 'valid': tensor([   349,    357,    366,  ..., 169185, 169261, 169296]),\n",
       " 'test': tensor([   346,    398,    451,  ..., 169340, 169341, 169342])}"
      ]
     },
     "execution_count": 10,
     "metadata": {},
     "output_type": "execute_result"
    }
   ],
   "source": [
    "split_idx"
   ]
  },
  {
   "cell_type": "code",
   "execution_count": 11,
   "id": "ac277e37-bec7-46c9-be5c-9311da891fe2",
   "metadata": {},
   "outputs": [],
   "source": [
    "features = data.x.cuda()\n",
    "labels = data.y.cuda()\n",
    "train_mask = split_idx['train'].cuda()\n",
    "val_mask = split_idx['valid'].cuda()\n",
    "test_mask = split_idx['test'].cuda()"
   ]
  },
  {
   "cell_type": "code",
   "execution_count": 12,
   "id": "2954aaab-3e21-4128-87f6-289ea7f0c064",
   "metadata": {},
   "outputs": [],
   "source": [
    "train_nid = train_mask.nonzero().squeeze()\n",
    "val_nid = val_mask.nonzero().squeeze()\n",
    "test_nid = test_mask.nonzero().squeeze()"
   ]
  },
  {
   "cell_type": "code",
   "execution_count": 13,
   "id": "17ee820c-1cd7-4749-957d-3bf553733b1c",
   "metadata": {},
   "outputs": [],
   "source": [
    "data.adj_t = data.adj_t.to(device)"
   ]
  },
  {
   "cell_type": "code",
   "execution_count": 14,
   "id": "a59de90b-3eb5-4e49-9f91-9a4b298acfad",
   "metadata": {},
   "outputs": [],
   "source": [
    "n_layers = 3\n",
    "n_iters = 3000\n",
    "epochs = 5000\n",
    "log_steps = 100\n",
    "input_dim = features.shape[1]\n",
    "hidden_channels = input_dim * 2\n",
    "output_dim = dataset.num_classes\n",
    "lr_rate = 0.001\n",
    "dropout = 0.5"
   ]
  },
  {
   "cell_type": "code",
   "execution_count": 15,
   "id": "94314a0e-4181-4944-bbf8-590ce3cfbe64",
   "metadata": {},
   "outputs": [],
   "source": [
    "model = GCN(\n",
    "    n_layers=n_layers,\n",
    "    in_channels=input_dim,\n",
    "    hidden_channels=hidden_channels,\n",
    "    out_channels=output_dim,\n",
    "    dropout=dropout)\\\n",
    "    .to(device)"
   ]
  },
  {
   "cell_type": "code",
   "execution_count": 16,
   "id": "c3c6e74d-4b9d-4393-8e25-4dc35f37cd72",
   "metadata": {},
   "outputs": [],
   "source": [
    "def train(model, graph, features, train_mask, optimizer, edge_weight=None):\n",
    "    model.train()\n",
    "\n",
    "    optimizer.zero_grad()\n",
    "    out = model(features, graph, edge_weight=edge_weight)[train_mask]\n",
    "    loss = F.nll_loss(out, labels.squeeze(1)[train_mask])\n",
    "    loss.backward()\n",
    "    optimizer.step()\n",
    "\n",
    "    return loss.item()"
   ]
  },
  {
   "cell_type": "code",
   "execution_count": 17,
   "id": "6987be0b-d612-4624-b900-0bd8aea80e4b",
   "metadata": {},
   "outputs": [],
   "source": [
    "@torch.no_grad()\n",
    "def test(model, graph, features, labels, train_mask, val_mask, test_mask, evaluator, edge_weight=None):\n",
    "    model.eval()\n",
    "\n",
    "    out = model(features, graph, edge_weight=edge_weight)\n",
    "    y_pred = out.argmax(dim=-1, keepdim=True)\n",
    "\n",
    "    train_acc = evaluator.eval({\n",
    "        'y_true': labels[train_mask],\n",
    "        'y_pred': y_pred[train_mask],\n",
    "    })['acc']\n",
    "    valid_acc = evaluator.eval({\n",
    "        'y_true': labels[val_mask],\n",
    "        'y_pred': y_pred[val_mask],\n",
    "    })['acc']\n",
    "    test_acc = evaluator.eval({\n",
    "        'y_true': labels[test_mask],\n",
    "        'y_pred': y_pred[test_mask],\n",
    "    })['acc']\n",
    "\n",
    "    return train_acc, valid_acc, test_acc"
   ]
  },
  {
   "cell_type": "code",
   "execution_count": 18,
   "id": "b3134806-ae8d-45ec-b3f7-bc41f62a101d",
   "metadata": {},
   "outputs": [],
   "source": [
    "evaluator = Evaluator(name='ogbn-arxiv')"
   ]
  },
  {
   "cell_type": "code",
   "execution_count": 19,
   "id": "f3ea6f10-bbbb-4715-bd54-6d3e65c2e178",
   "metadata": {},
   "outputs": [],
   "source": [
    "edge_weights = None"
   ]
  },
  {
   "cell_type": "code",
   "execution_count": 20,
   "id": "7eadedfb-b5c8-44c6-841a-dd2f1c584e88",
   "metadata": {},
   "outputs": [
    {
     "data": {
      "text/plain": [
       "tensor([     0,      1,      2,  ..., 169145, 169148, 169251], device='cuda:0')"
      ]
     },
     "execution_count": 20,
     "metadata": {},
     "output_type": "execute_result"
    }
   ],
   "source": [
    "train_mask"
   ]
  },
  {
   "cell_type": "code",
   "execution_count": 21,
   "id": "64808988-9806-4683-a07b-0c732402c239",
   "metadata": {},
   "outputs": [
    {
     "name": "stdout",
     "output_type": "stream",
     "text": [
      "Epoch: 100, Loss: 1.4290, Train: 62.81%, Valid: 63.52% Test: 61.81%\n",
      "Epoch: 200, Loss: 1.1822, Train: 67.83%, Valid: 67.93% Test: 66.43%\n",
      "Epoch: 300, Loss: 1.0985, Train: 69.73%, Valid: 69.34% Test: 68.12%\n",
      "Epoch: 400, Loss: 1.0515, Train: 70.71%, Valid: 70.13% Test: 68.80%\n",
      "Epoch: 500, Loss: 1.0195, Train: 71.42%, Valid: 70.60% Test: 69.15%\n",
      "Epoch: 600, Loss: 0.9978, Train: 72.00%, Valid: 71.00% Test: 69.69%\n",
      "Epoch: 700, Loss: 0.9749, Train: 72.50%, Valid: 71.25% Test: 69.98%\n",
      "Epoch: 800, Loss: 0.9587, Train: 72.89%, Valid: 71.40% Test: 70.16%\n",
      "Epoch: 900, Loss: 0.9393, Train: 73.21%, Valid: 71.45% Test: 70.10%\n",
      "Epoch: 1000, Loss: 0.9282, Train: 73.51%, Valid: 71.63% Test: 70.17%\n",
      "Epoch: 1100, Loss: 0.9144, Train: 73.84%, Valid: 71.72% Test: 70.46%\n",
      "Epoch: 1200, Loss: 0.9044, Train: 74.09%, Valid: 71.77% Test: 70.58%\n",
      "Epoch: 1300, Loss: 0.8927, Train: 74.38%, Valid: 71.91% Test: 70.58%\n",
      "Epoch: 1400, Loss: 0.8820, Train: 74.59%, Valid: 72.02% Test: 70.70%\n",
      "Epoch: 1500, Loss: 0.8728, Train: 74.90%, Valid: 72.22% Test: 71.01%\n",
      "Epoch: 1600, Loss: 0.8637, Train: 75.13%, Valid: 72.27% Test: 71.10%\n",
      "Epoch: 1700, Loss: 0.8578, Train: 75.37%, Valid: 72.33% Test: 71.25%\n",
      "Epoch: 1800, Loss: 0.8501, Train: 75.59%, Valid: 72.31% Test: 70.85%\n",
      "Epoch: 1900, Loss: 0.8423, Train: 75.81%, Valid: 72.43% Test: 71.11%\n",
      "Epoch: 2000, Loss: 0.8360, Train: 76.05%, Valid: 72.51% Test: 71.22%\n",
      "Epoch: 2100, Loss: 0.8291, Train: 76.28%, Valid: 72.35% Test: 70.82%\n",
      "Epoch: 2200, Loss: 0.8224, Train: 76.46%, Valid: 72.65% Test: 71.23%\n",
      "Epoch: 2300, Loss: 0.8158, Train: 76.61%, Valid: 72.59% Test: 71.09%\n",
      "Epoch: 2400, Loss: 0.8116, Train: 76.79%, Valid: 72.64% Test: 71.24%\n",
      "Epoch: 2500, Loss: 0.8042, Train: 76.95%, Valid: 72.75% Test: 71.40%\n",
      "Epoch: 2600, Loss: 0.7985, Train: 77.09%, Valid: 72.84% Test: 71.42%\n",
      "Epoch: 2700, Loss: 0.7960, Train: 77.24%, Valid: 72.92% Test: 71.50%\n",
      "Epoch: 2800, Loss: 0.7910, Train: 77.43%, Valid: 73.01% Test: 71.45%\n",
      "Epoch: 2900, Loss: 0.7848, Train: 77.51%, Valid: 72.87% Test: 71.03%\n",
      "Epoch: 3000, Loss: 0.7815, Train: 77.73%, Valid: 72.96% Test: 71.34%\n",
      "Epoch: 3100, Loss: 0.7769, Train: 77.84%, Valid: 72.99% Test: 71.54%\n",
      "Epoch: 3200, Loss: 0.7731, Train: 77.97%, Valid: 73.01% Test: 71.35%\n",
      "Epoch: 3300, Loss: 0.7678, Train: 78.09%, Valid: 73.08% Test: 71.50%\n",
      "Epoch: 3400, Loss: 0.7676, Train: 78.22%, Valid: 73.02% Test: 71.72%\n",
      "Epoch: 3500, Loss: 0.7615, Train: 78.34%, Valid: 73.04% Test: 71.59%\n",
      "Epoch: 3600, Loss: 0.7597, Train: 78.45%, Valid: 73.04% Test: 71.83%\n",
      "Epoch: 3700, Loss: 0.7539, Train: 78.54%, Valid: 72.97% Test: 71.28%\n",
      "Epoch: 3800, Loss: 0.7531, Train: 78.65%, Valid: 73.02% Test: 71.70%\n",
      "Epoch: 3900, Loss: 0.7487, Train: 78.73%, Valid: 73.05% Test: 71.66%\n",
      "Epoch: 4000, Loss: 0.7465, Train: 78.84%, Valid: 73.05% Test: 71.52%\n",
      "Epoch: 4100, Loss: 0.7429, Train: 78.94%, Valid: 73.07% Test: 71.26%\n",
      "Epoch: 4200, Loss: 0.7400, Train: 79.03%, Valid: 72.95% Test: 71.25%\n",
      "Epoch: 4300, Loss: 0.7406, Train: 79.15%, Valid: 73.00% Test: 71.43%\n",
      "Epoch: 4400, Loss: 0.7352, Train: 79.20%, Valid: 73.05% Test: 71.54%\n",
      "Epoch: 4500, Loss: 0.7338, Train: 79.26%, Valid: 73.23% Test: 71.90%\n",
      "Epoch: 4600, Loss: 0.7308, Train: 79.40%, Valid: 72.98% Test: 71.18%\n",
      "Epoch: 4700, Loss: 0.7276, Train: 79.47%, Valid: 73.06% Test: 71.35%\n",
      "Epoch: 4800, Loss: 0.7263, Train: 79.55%, Valid: 73.01% Test: 71.29%\n",
      "Epoch: 4900, Loss: 0.7250, Train: 79.65%, Valid: 73.03% Test: 71.32%\n",
      "Epoch: 5000, Loss: 0.7199, Train: 79.72%, Valid: 73.00% Test: 71.10%\n"
     ]
    }
   ],
   "source": [
    "optimizer = torch.optim.Adam(model.parameters(), lr=lr_rate)\n",
    "for epoch in range(1, 1 + epochs):\n",
    "    loss = train(model, data.adj_t, features, train_mask, optimizer, edge_weight=edge_weights)\n",
    "    result = test(model, data.adj_t, features, labels, train_mask, val_mask, test_mask, evaluator, edge_weight=edge_weights)\n",
    "\n",
    "    if epoch % log_steps == 0:\n",
    "        train_acc, valid_acc, test_acc = result\n",
    "        print(f'Epoch: {epoch:02d}, '\n",
    "              f'Loss: {loss:.4f}, '\n",
    "              f'Train: {100 * train_acc:.2f}%, '\n",
    "              f'Valid: {100 * valid_acc:.2f}% '\n",
    "              f'Test: {100 * test_acc:.2f}%')"
   ]
  }
 ],
 "metadata": {
  "kernelspec": {
   "display_name": "ArXiv Paper Classification",
   "language": "python",
   "name": "arxiv-paperclassification"
  },
  "language_info": {
   "codemirror_mode": {
    "name": "ipython",
    "version": 3
   },
   "file_extension": ".py",
   "mimetype": "text/x-python",
   "name": "python",
   "nbconvert_exporter": "python",
   "pygments_lexer": "ipython3",
   "version": "3.8.10"
  }
 },
 "nbformat": 4,
 "nbformat_minor": 5
}
