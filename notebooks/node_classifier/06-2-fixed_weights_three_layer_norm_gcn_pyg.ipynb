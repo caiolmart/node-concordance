{
 "cells": [
  {
   "cell_type": "code",
   "execution_count": 1,
   "id": "bbcf865e-32c9-481a-b7fb-661fac566cd0",
   "metadata": {},
   "outputs": [],
   "source": [
    "%load_ext autoreload\n",
    "%autoreload 2"
   ]
  },
  {
   "cell_type": "code",
   "execution_count": 2,
   "id": "d6d50784-ae0a-4e9a-923f-a8a5da84c41f",
   "metadata": {},
   "outputs": [],
   "source": [
    "import os\n",
    "\n",
    "while 'notebooks' in os.getcwd():\n",
    "    os.chdir('..')\n",
    "\n",
    "import pandas as pd\n",
    "import torch\n",
    "import torch.nn.functional as F\n",
    "from torch_sparse.tensor import SparseTensor\n",
    "from ogb.nodeproppred import PygNodePropPredDataset, Evaluator\n",
    "from sklearn.metrics import roc_auc_score\n",
    "import logging\n",
    "import matplotlib.pyplot as plt\n",
    "import plotly.express as px\n",
    "import plotly.offline as pyo\n",
    "import numpy as np\n",
    "\n",
    "from src.torch_geo_models import GCN\n",
    "from src.data.node_classifier.arxiv import load_dataset_pyg, data_to_sparse_symmetric_pyg"
   ]
  },
  {
   "cell_type": "code",
   "execution_count": 3,
   "id": "d302740f-dfae-4604-a1a7-75925122e68f",
   "metadata": {},
   "outputs": [],
   "source": [
    "logging.basicConfig(\n",
    "    format='%(asctime)s - %(levelname)s : %(message)s',\n",
    "    level=logging.INFO,\n",
    "    datefmt='%Y-%m-%d %H:%M:%S'\n",
    ")"
   ]
  },
  {
   "cell_type": "code",
   "execution_count": 4,
   "id": "5aac4a89-f43d-494e-92dd-4f8c0cb7d24e",
   "metadata": {},
   "outputs": [
    {
     "data": {
      "text/plain": [
       "True"
      ]
     },
     "execution_count": 4,
     "metadata": {},
     "output_type": "execute_result"
    }
   ],
   "source": [
    "torch.cuda.is_available()"
   ]
  },
  {
   "cell_type": "code",
   "execution_count": 5,
   "id": "5d7b6cb5-686a-4bba-99c0-7e954a656f4b",
   "metadata": {},
   "outputs": [
    {
     "data": {
      "text/plain": [
       "device(type='cuda', index=0)"
      ]
     },
     "execution_count": 5,
     "metadata": {},
     "output_type": "execute_result"
    }
   ],
   "source": [
    "device = f'cuda:0' if torch.cuda.is_available() else 'cpu'\n",
    "device = torch.device(device)\n",
    "device"
   ]
  },
  {
   "cell_type": "markdown",
   "id": "3ee35052-8c79-4ad5-bef5-0d0759048428",
   "metadata": {
    "tags": []
   },
   "source": [
    "## Data Loading"
   ]
  },
  {
   "cell_type": "code",
   "execution_count": 6,
   "id": "52be6a60-0244-4a36-9d35-11213ffd1d9a",
   "metadata": {},
   "outputs": [],
   "source": [
    "dataset = load_dataset_pyg()"
   ]
  },
  {
   "cell_type": "code",
   "execution_count": 7,
   "id": "3156b5a5-fd5d-4b8b-b65f-fb8e5e094d4b",
   "metadata": {},
   "outputs": [],
   "source": [
    "data = data_to_sparse_symmetric_pyg(dataset[0])\n",
    "data.adj_t = data.adj_t.to(device)"
   ]
  },
  {
   "cell_type": "code",
   "execution_count": 8,
   "id": "93838a75-3dd5-4b0d-8448-0c6cf63a0798",
   "metadata": {},
   "outputs": [],
   "source": [
    "split_idx = dataset.get_idx_split()"
   ]
  },
  {
   "cell_type": "code",
   "execution_count": 9,
   "id": "2ebd0211-5d18-47b5-9e59-c9fb21da2ed2",
   "metadata": {},
   "outputs": [
    {
     "data": {
      "text/plain": [
       "{'train': tensor([     0,      1,      2,  ..., 169145, 169148, 169251]),\n",
       " 'valid': tensor([   349,    357,    366,  ..., 169185, 169261, 169296]),\n",
       " 'test': tensor([   346,    398,    451,  ..., 169340, 169341, 169342])}"
      ]
     },
     "execution_count": 9,
     "metadata": {},
     "output_type": "execute_result"
    }
   ],
   "source": [
    "split_idx"
   ]
  },
  {
   "cell_type": "markdown",
   "id": "d84d0d55-c3de-433b-be4d-5e63a344938a",
   "metadata": {},
   "source": [
    "## Create `edge_weights`"
   ]
  },
  {
   "cell_type": "code",
   "execution_count": 10,
   "id": "1e5d9e08-639c-4c16-b4d9-75098d956536",
   "metadata": {},
   "outputs": [
    {
     "name": "stdout",
     "output_type": "stream",
     "text": [
      "(2315598, 3)\n"
     ]
    },
    {
     "data": {
      "text/html": [
       "<div>\n",
       "<style scoped>\n",
       "    .dataframe tbody tr th:only-of-type {\n",
       "        vertical-align: middle;\n",
       "    }\n",
       "\n",
       "    .dataframe tbody tr th {\n",
       "        vertical-align: top;\n",
       "    }\n",
       "\n",
       "    .dataframe thead th {\n",
       "        text-align: right;\n",
       "    }\n",
       "</style>\n",
       "<table border=\"1\" class=\"dataframe\">\n",
       "  <thead>\n",
       "    <tr style=\"text-align: right;\">\n",
       "      <th></th>\n",
       "      <th>source</th>\n",
       "      <th>target</th>\n",
       "      <th>gamma_pred</th>\n",
       "    </tr>\n",
       "  </thead>\n",
       "  <tbody>\n",
       "    <tr>\n",
       "      <th>0</th>\n",
       "      <td>411</td>\n",
       "      <td>0</td>\n",
       "      <td>0.649669</td>\n",
       "    </tr>\n",
       "    <tr>\n",
       "      <th>1</th>\n",
       "      <td>640</td>\n",
       "      <td>0</td>\n",
       "      <td>0.784250</td>\n",
       "    </tr>\n",
       "    <tr>\n",
       "      <th>2</th>\n",
       "      <td>1162</td>\n",
       "      <td>0</td>\n",
       "      <td>0.787807</td>\n",
       "    </tr>\n",
       "    <tr>\n",
       "      <th>3</th>\n",
       "      <td>1897</td>\n",
       "      <td>0</td>\n",
       "      <td>0.787201</td>\n",
       "    </tr>\n",
       "    <tr>\n",
       "      <th>4</th>\n",
       "      <td>3396</td>\n",
       "      <td>0</td>\n",
       "      <td>0.784839</td>\n",
       "    </tr>\n",
       "  </tbody>\n",
       "</table>\n",
       "</div>"
      ],
      "text/plain": [
       "   source  target  gamma_pred\n",
       "0     411       0    0.649669\n",
       "1     640       0    0.784250\n",
       "2    1162       0    0.787807\n",
       "3    1897       0    0.787201\n",
       "4    3396       0    0.784839"
      ]
     },
     "execution_count": 10,
     "metadata": {},
     "output_type": "execute_result"
    }
   ],
   "source": [
    "edges_gamma_df = pd.read_csv('data/gamma_graph_sage/01-1_gamma_scored_edges.csv')\n",
    "print(edges_gamma_df.shape)\n",
    "edges_gamma_df.head()"
   ]
  },
  {
   "cell_type": "code",
   "execution_count": 11,
   "id": "6a946233-02ed-4952-810e-f422c73c48d1",
   "metadata": {},
   "outputs": [],
   "source": [
    "edge_weights = SparseTensor.from_torch_sparse_coo_tensor(\n",
    "    torch.sparse_coo_tensor(\n",
    "        edges_gamma_df[['source', 'target']].values.T,\n",
    "        edges_gamma_df['gamma_pred'].values,\n",
    "        size=(data.adj_t.size(0), data.adj_t.size(1))))\\\n",
    "    .to(device)"
   ]
  },
  {
   "cell_type": "code",
   "execution_count": 12,
   "id": "23825097-a340-41a2-aefd-847540079cf8",
   "metadata": {},
   "outputs": [
    {
     "data": {
      "text/plain": [
       "True"
      ]
     },
     "execution_count": 12,
     "metadata": {},
     "output_type": "execute_result"
    }
   ],
   "source": [
    "edge_weights.is_symmetric()"
   ]
  },
  {
   "cell_type": "code",
   "execution_count": 13,
   "id": "898fae50-41b7-41d9-9dd6-492727383191",
   "metadata": {},
   "outputs": [
    {
     "data": {
      "text/plain": [
       "(SparseTensor(row=tensor([0], device='cuda:0'),\n",
       "              col=tensor([0], device='cuda:0'),\n",
       "              val=tensor([0.7797], device='cuda:0', dtype=torch.float64),\n",
       "              size=(1, 1), nnz=1, density=100.00%),\n",
       " SparseTensor(row=tensor([0], device='cuda:0'),\n",
       "              col=tensor([0], device='cuda:0'),\n",
       "              val=tensor([0.7797], device='cuda:0', dtype=torch.float64),\n",
       "              size=(1, 1), nnz=1, density=100.00%))"
      ]
     },
     "execution_count": 13,
     "metadata": {},
     "output_type": "execute_result"
    }
   ],
   "source": [
    "samp = edges_gamma_df.sample(1).iloc[0]\n",
    "s, t = int(samp['source']), int(samp['target'])\n",
    "\n",
    "(edge_weights[s, t], edge_weights[t, s])"
   ]
  },
  {
   "cell_type": "markdown",
   "id": "67a24aa8-5ed9-4cfe-b5e9-ab486351de1e",
   "metadata": {},
   "source": [
    "### Model"
   ]
  },
  {
   "cell_type": "code",
   "execution_count": 14,
   "id": "ac277e37-bec7-46c9-be5c-9311da891fe2",
   "metadata": {},
   "outputs": [],
   "source": [
    "features = data.x.cuda()\n",
    "labels = data.y.cuda()\n",
    "train_mask = split_idx['train'].cuda()\n",
    "val_mask = split_idx['valid'].cuda()\n",
    "test_mask = split_idx['test'].cuda()"
   ]
  },
  {
   "cell_type": "code",
   "execution_count": 15,
   "id": "2954aaab-3e21-4128-87f6-289ea7f0c064",
   "metadata": {},
   "outputs": [],
   "source": [
    "train_nid = train_mask.nonzero().squeeze()\n",
    "val_nid = val_mask.nonzero().squeeze()\n",
    "test_nid = test_mask.nonzero().squeeze()"
   ]
  },
  {
   "cell_type": "code",
   "execution_count": 16,
   "id": "a59de90b-3eb5-4e49-9f91-9a4b298acfad",
   "metadata": {},
   "outputs": [],
   "source": [
    "n_layers = 3\n",
    "n_iters = 3000\n",
    "epochs = 5000\n",
    "log_steps = 100\n",
    "input_dim = features.shape[1]\n",
    "hidden_channels = input_dim * 2\n",
    "output_dim = dataset.num_classes\n",
    "lr_rate = 0.001\n",
    "dropout = 0.5"
   ]
  },
  {
   "cell_type": "code",
   "execution_count": 17,
   "id": "94314a0e-4181-4944-bbf8-590ce3cfbe64",
   "metadata": {},
   "outputs": [],
   "source": [
    "model = GCN(\n",
    "    n_layers=n_layers,\n",
    "    in_channels=input_dim,\n",
    "    hidden_channels=hidden_channels,\n",
    "    out_channels=output_dim,\n",
    "    dropout=dropout,\n",
    "    batch_norm=True)\\\n",
    "    .to(device)"
   ]
  },
  {
   "cell_type": "code",
   "execution_count": 18,
   "id": "c3c6e74d-4b9d-4393-8e25-4dc35f37cd72",
   "metadata": {},
   "outputs": [],
   "source": [
    "def train(model, graph, features, train_mask, optimizer, edge_weight=None):\n",
    "    model.train()\n",
    "\n",
    "    optimizer.zero_grad()\n",
    "    out = model(features, graph, edge_weight=edge_weight)[train_mask]\n",
    "    loss = F.nll_loss(out, labels.squeeze(1)[train_mask])\n",
    "    loss.backward()\n",
    "    optimizer.step()\n",
    "\n",
    "    return loss.item()"
   ]
  },
  {
   "cell_type": "code",
   "execution_count": 19,
   "id": "6987be0b-d612-4624-b900-0bd8aea80e4b",
   "metadata": {},
   "outputs": [],
   "source": [
    "@torch.no_grad()\n",
    "def test(model, graph, features, labels, train_mask, val_mask, test_mask, evaluator, edge_weight=None):\n",
    "    model.eval()\n",
    "\n",
    "    out = model(features, graph, edge_weight=edge_weight)\n",
    "    y_pred = out.argmax(dim=-1, keepdim=True)\n",
    "\n",
    "    train_acc = evaluator.eval({\n",
    "        'y_true': labels[train_mask],\n",
    "        'y_pred': y_pred[train_mask],\n",
    "    })['acc']\n",
    "    valid_acc = evaluator.eval({\n",
    "        'y_true': labels[val_mask],\n",
    "        'y_pred': y_pred[val_mask],\n",
    "    })['acc']\n",
    "    test_acc = evaluator.eval({\n",
    "        'y_true': labels[test_mask],\n",
    "        'y_pred': y_pred[test_mask],\n",
    "    })['acc']\n",
    "\n",
    "    return train_acc, valid_acc, test_acc"
   ]
  },
  {
   "cell_type": "code",
   "execution_count": 20,
   "id": "b3134806-ae8d-45ec-b3f7-bc41f62a101d",
   "metadata": {},
   "outputs": [],
   "source": [
    "evaluator = Evaluator(name='ogbn-arxiv')"
   ]
  },
  {
   "cell_type": "code",
   "execution_count": 21,
   "id": "64808988-9806-4683-a07b-0c732402c239",
   "metadata": {},
   "outputs": [
    {
     "name": "stdout",
     "output_type": "stream",
     "text": [
      "Epoch: 100, Loss: 1.0933, Train: 70.69%, Valid: 70.31% Test: 69.40%\n",
      "Epoch: 200, Loss: 0.9827, Train: 73.02%, Valid: 71.74% Test: 70.63%\n",
      "Epoch: 300, Loss: 0.9273, Train: 74.33%, Valid: 71.95% Test: 70.79%\n",
      "Epoch: 400, Loss: 0.8858, Train: 75.28%, Valid: 72.28% Test: 71.11%\n",
      "Epoch: 500, Loss: 0.8542, Train: 76.10%, Valid: 72.48% Test: 71.24%\n",
      "Epoch: 600, Loss: 0.8319, Train: 76.79%, Valid: 72.77% Test: 71.52%\n",
      "Epoch: 700, Loss: 0.8116, Train: 77.46%, Valid: 72.68% Test: 71.13%\n",
      "Epoch: 800, Loss: 0.7914, Train: 78.00%, Valid: 72.81% Test: 71.16%\n",
      "Epoch: 900, Loss: 0.7779, Train: 78.43%, Valid: 73.18% Test: 72.05%\n",
      "Epoch: 1000, Loss: 0.7607, Train: 78.80%, Valid: 73.33% Test: 72.49%\n",
      "Epoch: 1100, Loss: 0.7508, Train: 79.26%, Valid: 72.85% Test: 71.06%\n",
      "Epoch: 1200, Loss: 0.7392, Train: 79.52%, Valid: 72.45% Test: 70.67%\n",
      "Epoch: 1300, Loss: 0.7302, Train: 79.85%, Valid: 72.37% Test: 70.28%\n",
      "Epoch: 1400, Loss: 0.7153, Train: 80.25%, Valid: 73.16% Test: 71.68%\n",
      "Epoch: 1500, Loss: 0.7112, Train: 80.37%, Valid: 73.31% Test: 71.83%\n",
      "Epoch: 1600, Loss: 0.7020, Train: 80.60%, Valid: 72.79% Test: 70.93%\n",
      "Epoch: 1700, Loss: 0.6988, Train: 80.89%, Valid: 72.91% Test: 71.11%\n",
      "Epoch: 1800, Loss: 0.6919, Train: 81.06%, Valid: 73.18% Test: 71.58%\n",
      "Epoch: 1900, Loss: 0.6873, Train: 81.12%, Valid: 73.14% Test: 71.28%\n",
      "Epoch: 2000, Loss: 0.6804, Train: 81.42%, Valid: 72.97% Test: 70.95%\n",
      "Epoch: 2100, Loss: 0.6810, Train: 81.35%, Valid: 72.18% Test: 69.77%\n",
      "Epoch: 2200, Loss: 0.6749, Train: 81.70%, Valid: 72.82% Test: 70.78%\n",
      "Epoch: 2300, Loss: 0.6710, Train: 81.65%, Valid: 72.90% Test: 70.87%\n",
      "Epoch: 2400, Loss: 0.6663, Train: 81.89%, Valid: 73.42% Test: 71.54%\n",
      "Epoch: 2500, Loss: 0.6643, Train: 82.03%, Valid: 73.28% Test: 71.41%\n",
      "Epoch: 2600, Loss: 0.6593, Train: 82.17%, Valid: 73.20% Test: 71.31%\n",
      "Epoch: 2700, Loss: 0.6554, Train: 82.08%, Valid: 73.39% Test: 71.92%\n",
      "Epoch: 2800, Loss: 0.6552, Train: 82.27%, Valid: 72.81% Test: 70.46%\n",
      "Epoch: 2900, Loss: 0.6487, Train: 82.34%, Valid: 72.79% Test: 70.58%\n",
      "Epoch: 3000, Loss: 0.6528, Train: 82.45%, Valid: 73.20% Test: 71.34%\n",
      "Epoch: 3100, Loss: 0.6530, Train: 82.61%, Valid: 73.13% Test: 71.33%\n",
      "Epoch: 3200, Loss: 0.6458, Train: 82.58%, Valid: 73.03% Test: 70.93%\n",
      "Epoch: 3300, Loss: 0.6448, Train: 82.70%, Valid: 73.15% Test: 71.20%\n",
      "Epoch: 3400, Loss: 0.6396, Train: 82.68%, Valid: 73.08% Test: 71.29%\n",
      "Epoch: 3500, Loss: 0.6391, Train: 82.62%, Valid: 72.73% Test: 70.54%\n",
      "Epoch: 3600, Loss: 0.6384, Train: 82.77%, Valid: 73.01% Test: 70.94%\n",
      "Epoch: 3700, Loss: 0.6384, Train: 83.00%, Valid: 72.89% Test: 70.98%\n",
      "Epoch: 3800, Loss: 0.6372, Train: 82.77%, Valid: 72.85% Test: 71.01%\n",
      "Epoch: 3900, Loss: 0.6330, Train: 82.91%, Valid: 73.10% Test: 71.73%\n",
      "Epoch: 4000, Loss: 0.6335, Train: 83.08%, Valid: 72.87% Test: 70.76%\n",
      "Epoch: 4100, Loss: 0.6343, Train: 83.05%, Valid: 73.09% Test: 71.31%\n",
      "Epoch: 4200, Loss: 0.6323, Train: 83.05%, Valid: 73.06% Test: 71.40%\n",
      "Epoch: 4300, Loss: 0.6317, Train: 83.20%, Valid: 72.59% Test: 70.58%\n",
      "Epoch: 4400, Loss: 0.6293, Train: 83.21%, Valid: 72.95% Test: 71.12%\n",
      "Epoch: 4500, Loss: 0.6265, Train: 83.18%, Valid: 72.80% Test: 71.01%\n",
      "Epoch: 4600, Loss: 0.6307, Train: 83.29%, Valid: 72.74% Test: 70.89%\n",
      "Epoch: 4700, Loss: 0.6269, Train: 83.22%, Valid: 72.64% Test: 70.43%\n",
      "Epoch: 4800, Loss: 0.6285, Train: 83.37%, Valid: 72.83% Test: 70.58%\n",
      "Epoch: 4900, Loss: 0.6255, Train: 83.42%, Valid: 72.83% Test: 70.96%\n",
      "Epoch: 5000, Loss: 0.6202, Train: 83.42%, Valid: 72.63% Test: 70.48%\n"
     ]
    }
   ],
   "source": [
    "optimizer = torch.optim.Adam(model.parameters(), lr=lr_rate)\n",
    "for epoch in range(1, 1 + epochs):\n",
    "    loss = train(model, data.adj_t, features, train_mask, optimizer, edge_weight=edge_weights)\n",
    "    result = test(model, data.adj_t, features, labels, train_mask, val_mask, test_mask, evaluator, edge_weight=edge_weights)\n",
    "\n",
    "    if epoch % log_steps == 0:\n",
    "        train_acc, valid_acc, test_acc = result\n",
    "        print(f'Epoch: {epoch:02d}, '\n",
    "              f'Loss: {loss:.4f}, '\n",
    "              f'Train: {100 * train_acc:.2f}%, '\n",
    "              f'Valid: {100 * valid_acc:.2f}% '\n",
    "              f'Test: {100 * test_acc:.2f}%')"
   ]
  }
 ],
 "metadata": {
  "kernelspec": {
   "display_name": "ArXiv Paper Classification",
   "language": "python",
   "name": "arxiv-paperclassification"
  },
  "language_info": {
   "codemirror_mode": {
    "name": "ipython",
    "version": 3
   },
   "file_extension": ".py",
   "mimetype": "text/x-python",
   "name": "python",
   "nbconvert_exporter": "python",
   "pygments_lexer": "ipython3",
   "version": "3.8.10"
  }
 },
 "nbformat": 4,
 "nbformat_minor": 5
}
