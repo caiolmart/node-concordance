{
 "cells": [
  {
   "cell_type": "code",
   "execution_count": 1,
   "id": "bbcf865e-32c9-481a-b7fb-661fac566cd0",
   "metadata": {},
   "outputs": [],
   "source": [
    "%load_ext autoreload\n",
    "%autoreload 2"
   ]
  },
  {
   "cell_type": "code",
   "execution_count": 2,
   "id": "d6d50784-ae0a-4e9a-923f-a8a5da84c41f",
   "metadata": {},
   "outputs": [],
   "source": [
    "import os\n",
    "\n",
    "while 'notebooks' in os.getcwd():\n",
    "    os.chdir('..')\n",
    "\n",
    "import pandas as pd\n",
    "import torch\n",
    "import torch.nn.functional as F\n",
    "from ogb.nodeproppred import DglNodePropPredDataset, Evaluator\n",
    "from sklearn.metrics import roc_auc_score\n",
    "import logging\n",
    "import matplotlib.pyplot as plt\n",
    "import plotly.express as px\n",
    "import plotly.offline as pyo\n",
    "import numpy as np\n",
    "\n",
    "from src.dgl_models import GraphSAGE\n",
    "from src.data.node_classifier.arxiv import load_dataset, get_symmetric_graph\n",
    "from src.train.node_classifier import WeigthedGraphSageNodeClassifier"
   ]
  },
  {
   "cell_type": "code",
   "execution_count": 3,
   "id": "d302740f-dfae-4604-a1a7-75925122e68f",
   "metadata": {},
   "outputs": [],
   "source": [
    "logging.basicConfig(\n",
    "    format='%(asctime)s - %(levelname)s : %(message)s',\n",
    "    level=logging.INFO,\n",
    "    datefmt='%Y-%m-%d %H:%M:%S'\n",
    ")"
   ]
  },
  {
   "cell_type": "code",
   "execution_count": 4,
   "id": "5aac4a89-f43d-494e-92dd-4f8c0cb7d24e",
   "metadata": {},
   "outputs": [
    {
     "data": {
      "text/plain": [
       "True"
      ]
     },
     "execution_count": 4,
     "metadata": {},
     "output_type": "execute_result"
    }
   ],
   "source": [
    "torch.cuda.is_available()"
   ]
  },
  {
   "cell_type": "code",
   "execution_count": 5,
   "id": "5d7b6cb5-686a-4bba-99c0-7e954a656f4b",
   "metadata": {},
   "outputs": [
    {
     "data": {
      "text/plain": [
       "device(type='cuda', index=0)"
      ]
     },
     "execution_count": 5,
     "metadata": {},
     "output_type": "execute_result"
    }
   ],
   "source": [
    "device = f'cuda:0' if torch.cuda.is_available() else 'cpu'\n",
    "device = torch.device(device)\n",
    "device"
   ]
  },
  {
   "cell_type": "markdown",
   "id": "3ee35052-8c79-4ad5-bef5-0d0759048428",
   "metadata": {
    "tags": []
   },
   "source": [
    "## Data Loading"
   ]
  },
  {
   "cell_type": "code",
   "execution_count": 6,
   "id": "52be6a60-0244-4a36-9d35-11213ffd1d9a",
   "metadata": {},
   "outputs": [],
   "source": [
    "dataset = load_dataset()"
   ]
  },
  {
   "cell_type": "code",
   "execution_count": 7,
   "id": "8d34f526-d33f-4b9b-a7b5-717bdd2a0eca",
   "metadata": {},
   "outputs": [
    {
     "name": "stdout",
     "output_type": "stream",
     "text": [
      "(2315598, 3)\n"
     ]
    },
    {
     "data": {
      "text/html": [
       "<div>\n",
       "<style scoped>\n",
       "    .dataframe tbody tr th:only-of-type {\n",
       "        vertical-align: middle;\n",
       "    }\n",
       "\n",
       "    .dataframe tbody tr th {\n",
       "        vertical-align: top;\n",
       "    }\n",
       "\n",
       "    .dataframe thead th {\n",
       "        text-align: right;\n",
       "    }\n",
       "</style>\n",
       "<table border=\"1\" class=\"dataframe\">\n",
       "  <thead>\n",
       "    <tr style=\"text-align: right;\">\n",
       "      <th></th>\n",
       "      <th>source</th>\n",
       "      <th>target</th>\n",
       "      <th>weight</th>\n",
       "    </tr>\n",
       "  </thead>\n",
       "  <tbody>\n",
       "    <tr>\n",
       "      <th>0</th>\n",
       "      <td>0.0</td>\n",
       "      <td>161310.0</td>\n",
       "      <td>0.790365</td>\n",
       "    </tr>\n",
       "    <tr>\n",
       "      <th>1</th>\n",
       "      <td>0.0</td>\n",
       "      <td>113080.0</td>\n",
       "      <td>0.790083</td>\n",
       "    </tr>\n",
       "    <tr>\n",
       "      <th>2</th>\n",
       "      <td>0.0</td>\n",
       "      <td>139581.0</td>\n",
       "      <td>0.790068</td>\n",
       "    </tr>\n",
       "    <tr>\n",
       "      <th>3</th>\n",
       "      <td>0.0</td>\n",
       "      <td>21760.0</td>\n",
       "      <td>0.789761</td>\n",
       "    </tr>\n",
       "    <tr>\n",
       "      <th>4</th>\n",
       "      <td>0.0</td>\n",
       "      <td>10839.0</td>\n",
       "      <td>0.789665</td>\n",
       "    </tr>\n",
       "  </tbody>\n",
       "</table>\n",
       "</div>"
      ],
      "text/plain": [
       "   source    target    weight\n",
       "0     0.0  161310.0  0.790365\n",
       "1     0.0  113080.0  0.790083\n",
       "2     0.0  139581.0  0.790068\n",
       "3     0.0   21760.0  0.789761\n",
       "4     0.0   10839.0  0.789665"
      ]
     },
     "execution_count": 7,
     "metadata": {},
     "output_type": "execute_result"
    }
   ],
   "source": [
    "rewired_edges_df = pd.read_csv('data/graph_modifications/01-1-rewired_edges_same_degrees.csv')\n",
    "print(rewired_edges_df.shape)\n",
    "rewired_edges_df.head()"
   ]
  },
  {
   "cell_type": "code",
   "execution_count": 8,
   "id": "c8a61f0b-ac27-4a2f-af3a-bafec4290fcd",
   "metadata": {},
   "outputs": [
    {
     "data": {
      "text/plain": [
       "Graph(num_nodes=169343, num_edges=1166243,\n",
       "      ndata_schemes={'year': Scheme(shape=(1,), dtype=torch.int64), 'feat': Scheme(shape=(128,), dtype=torch.float32)}\n",
       "      edata_schemes={})"
      ]
     },
     "execution_count": 8,
     "metadata": {},
     "output_type": "execute_result"
    }
   ],
   "source": [
    "graph = dataset[0][0]\n",
    "graph"
   ]
  },
  {
   "cell_type": "markdown",
   "id": "1353e4a3-1dd0-4098-8ff3-2c1265faa7eb",
   "metadata": {},
   "source": [
    "### Remove all old edges"
   ]
  },
  {
   "cell_type": "code",
   "execution_count": 9,
   "id": "8e78364a-d7d6-406c-810e-bf33db671eec",
   "metadata": {},
   "outputs": [
    {
     "data": {
      "text/plain": [
       "Graph(num_nodes=169343, num_edges=0,\n",
       "      ndata_schemes={'year': Scheme(shape=(1,), dtype=torch.int64), 'feat': Scheme(shape=(128,), dtype=torch.float32)}\n",
       "      edata_schemes={})"
      ]
     },
     "execution_count": 9,
     "metadata": {},
     "output_type": "execute_result"
    }
   ],
   "source": [
    "graph.remove_edges(graph.edge_ids(graph.edges()[0], graph.edges()[1]))\n",
    "graph"
   ]
  },
  {
   "cell_type": "markdown",
   "id": "0c829d66-3303-4ce9-b588-0c815e94a59a",
   "metadata": {},
   "source": [
    "### Add rewired edges\n",
    "\n",
    "Reversed graph"
   ]
  },
  {
   "cell_type": "code",
   "execution_count": 10,
   "id": "a204a281-018e-41eb-aa55-6bd83e0d60c6",
   "metadata": {},
   "outputs": [],
   "source": [
    "graph.add_edges(\n",
    "    torch.tensor(rewired_edges_df['target'].astype(int), dtype=torch.int64),\n",
    "    torch.tensor(rewired_edges_df['source'].astype(int), dtype=torch.int64))"
   ]
  },
  {
   "cell_type": "code",
   "execution_count": 11,
   "id": "7199d67b-9861-40a0-9cea-3623c72a1863",
   "metadata": {},
   "outputs": [
    {
     "data": {
      "text/plain": [
       "Graph(num_nodes=169343, num_edges=2315598,\n",
       "      ndata_schemes={'year': Scheme(shape=(1,), dtype=torch.int64), 'feat': Scheme(shape=(128,), dtype=torch.float32)}\n",
       "      edata_schemes={})"
      ]
     },
     "execution_count": 11,
     "metadata": {},
     "output_type": "execute_result"
    }
   ],
   "source": [
    "graph"
   ]
  },
  {
   "cell_type": "code",
   "execution_count": 12,
   "id": "a00a55d4-9439-4a2d-b8ad-04312950705e",
   "metadata": {},
   "outputs": [
    {
     "data": {
      "text/plain": [
       "2315598"
      ]
     },
     "execution_count": 12,
     "metadata": {},
     "output_type": "execute_result"
    }
   ],
   "source": [
    "graph.number_of_edges()"
   ]
  },
  {
   "cell_type": "code",
   "execution_count": 13,
   "id": "7ede6493-7bc6-4817-aa2f-b198fece5bed",
   "metadata": {},
   "outputs": [
    {
     "data": {
      "text/plain": [
       "tensor(13.6740)"
      ]
     },
     "execution_count": 13,
     "metadata": {},
     "output_type": "execute_result"
    }
   ],
   "source": [
    "torch.mean(graph.out_degrees() * 1.)"
   ]
  },
  {
   "cell_type": "code",
   "execution_count": 14,
   "id": "cda95dc7-6b41-42a8-b9ec-e07e3b2536b9",
   "metadata": {},
   "outputs": [
    {
     "data": {
      "text/plain": [
       "tensor(13.6740)"
      ]
     },
     "execution_count": 14,
     "metadata": {},
     "output_type": "execute_result"
    }
   ],
   "source": [
    "torch.mean(graph.in_degrees() * 1.)"
   ]
  },
  {
   "cell_type": "code",
   "execution_count": 15,
   "id": "93838a75-3dd5-4b0d-8448-0c6cf63a0798",
   "metadata": {},
   "outputs": [],
   "source": [
    "split_idx = dataset.get_idx_split()"
   ]
  },
  {
   "cell_type": "code",
   "execution_count": 16,
   "id": "2ebd0211-5d18-47b5-9e59-c9fb21da2ed2",
   "metadata": {},
   "outputs": [
    {
     "data": {
      "text/plain": [
       "{'train': tensor([     0,      1,      2,  ..., 169145, 169148, 169251]),\n",
       " 'valid': tensor([   349,    357,    366,  ..., 169185, 169261, 169296]),\n",
       " 'test': tensor([   346,    398,    451,  ..., 169340, 169341, 169342])}"
      ]
     },
     "execution_count": 16,
     "metadata": {},
     "output_type": "execute_result"
    }
   ],
   "source": [
    "split_idx"
   ]
  },
  {
   "cell_type": "code",
   "execution_count": 17,
   "id": "ac277e37-bec7-46c9-be5c-9311da891fe2",
   "metadata": {},
   "outputs": [],
   "source": [
    "features = graph.ndata['feat'].cuda()\n",
    "labels = dataset.labels.cuda()\n",
    "train_mask = split_idx['train'].cuda()\n",
    "val_mask = split_idx['valid'].cuda()\n",
    "test_mask = split_idx['test'].cuda()"
   ]
  },
  {
   "cell_type": "code",
   "execution_count": 18,
   "id": "2954aaab-3e21-4128-87f6-289ea7f0c064",
   "metadata": {},
   "outputs": [],
   "source": [
    "train_nid = train_mask.nonzero().squeeze()\n",
    "val_nid = val_mask.nonzero().squeeze()\n",
    "test_nid = test_mask.nonzero().squeeze()"
   ]
  },
  {
   "cell_type": "code",
   "execution_count": 19,
   "id": "6d6bdb41-1f08-4900-b455-12e97dd51901",
   "metadata": {},
   "outputs": [],
   "source": [
    "n_edges = graph.number_of_edges()"
   ]
  },
  {
   "cell_type": "code",
   "execution_count": 20,
   "id": "702cddd7-76e6-435a-bd1e-5ab97fc3c53e",
   "metadata": {},
   "outputs": [
    {
     "data": {
      "text/plain": [
       "Graph(num_nodes=169343, num_edges=2315598,\n",
       "      ndata_schemes={'year': Scheme(shape=(1,), dtype=torch.int64), 'feat': Scheme(shape=(128,), dtype=torch.float32)}\n",
       "      edata_schemes={})"
      ]
     },
     "execution_count": 20,
     "metadata": {},
     "output_type": "execute_result"
    }
   ],
   "source": [
    "graph"
   ]
  },
  {
   "cell_type": "code",
   "execution_count": 21,
   "id": "17ee820c-1cd7-4749-957d-3bf553733b1c",
   "metadata": {},
   "outputs": [],
   "source": [
    "graph = graph.to(device)"
   ]
  },
  {
   "cell_type": "code",
   "execution_count": 22,
   "id": "a59de90b-3eb5-4e49-9f91-9a4b298acfad",
   "metadata": {},
   "outputs": [],
   "source": [
    "n_layers = 3\n",
    "n_iters = 3000\n",
    "epochs = 5000\n",
    "log_steps = 100\n",
    "input_dim = features.shape[1]\n",
    "hidden_channels = input_dim * 2\n",
    "output_dim = dataset.num_classes\n",
    "lr_rate = 0.001\n",
    "dropout = 0.5"
   ]
  },
  {
   "cell_type": "code",
   "execution_count": 23,
   "id": "94314a0e-4181-4944-bbf8-590ce3cfbe64",
   "metadata": {},
   "outputs": [],
   "source": [
    "model = GraphSAGE(\n",
    "    n_layers=n_layers,\n",
    "    in_channels=input_dim,\n",
    "    hidden_channels=hidden_channels,\n",
    "    out_channels=output_dim,\n",
    "    dropout=dropout)\\\n",
    "    .to(device)"
   ]
  },
  {
   "cell_type": "code",
   "execution_count": 24,
   "id": "c3c6e74d-4b9d-4393-8e25-4dc35f37cd72",
   "metadata": {},
   "outputs": [],
   "source": [
    "def train(model, graph, features, train_mask, optimizer, edge_weight=None):\n",
    "    model.train()\n",
    "\n",
    "    optimizer.zero_grad()\n",
    "    out = model(graph, features, edge_weight=edge_weight)[train_mask]\n",
    "    loss = F.nll_loss(out, labels.squeeze(1)[train_mask])\n",
    "    loss.backward()\n",
    "    optimizer.step()\n",
    "\n",
    "    return loss.item()"
   ]
  },
  {
   "cell_type": "code",
   "execution_count": 25,
   "id": "6987be0b-d612-4624-b900-0bd8aea80e4b",
   "metadata": {},
   "outputs": [],
   "source": [
    "@torch.no_grad()\n",
    "def test(model, graph, features, labels, train_mask, val_mask, test_mask, evaluator, edge_weight=None):\n",
    "    model.eval()\n",
    "\n",
    "    out = model(graph, features, edge_weight=edge_weight)\n",
    "    y_pred = out.argmax(dim=-1, keepdim=True)\n",
    "\n",
    "    train_acc = evaluator.eval({\n",
    "        'y_true': labels[train_mask],\n",
    "        'y_pred': y_pred[train_mask],\n",
    "    })['acc']\n",
    "    valid_acc = evaluator.eval({\n",
    "        'y_true': labels[val_mask],\n",
    "        'y_pred': y_pred[val_mask],\n",
    "    })['acc']\n",
    "    test_acc = evaluator.eval({\n",
    "        'y_true': labels[test_mask],\n",
    "        'y_pred': y_pred[test_mask],\n",
    "    })['acc']\n",
    "\n",
    "    return train_acc, valid_acc, test_acc"
   ]
  },
  {
   "cell_type": "code",
   "execution_count": 26,
   "id": "b3134806-ae8d-45ec-b3f7-bc41f62a101d",
   "metadata": {},
   "outputs": [],
   "source": [
    "evaluator = Evaluator(name='ogbn-arxiv')"
   ]
  },
  {
   "cell_type": "code",
   "execution_count": 27,
   "id": "7211fa3a-08ad-4fe5-a354-0fd0b85e221f",
   "metadata": {},
   "outputs": [],
   "source": [
    "edge_weights = None"
   ]
  },
  {
   "cell_type": "code",
   "execution_count": 28,
   "id": "64808988-9806-4683-a07b-0c732402c239",
   "metadata": {},
   "outputs": [
    {
     "name": "stdout",
     "output_type": "stream",
     "text": [
      "Epoch: 100, Loss: 1.3950, Train: 64.25%, Valid: 65.11% Test: 64.80%\n",
      "Epoch: 200, Loss: 1.2116, Train: 68.07%, Valid: 67.44% Test: 66.77%\n",
      "Epoch: 300, Loss: 1.1364, Train: 69.66%, Valid: 68.35% Test: 67.70%\n",
      "Epoch: 400, Loss: 1.0824, Train: 70.83%, Valid: 68.81% Test: 67.96%\n",
      "Epoch: 500, Loss: 1.0410, Train: 71.86%, Valid: 69.27% Test: 68.32%\n",
      "Epoch: 600, Loss: 1.0091, Train: 72.81%, Valid: 69.65% Test: 68.55%\n",
      "Epoch: 700, Loss: 0.9823, Train: 73.43%, Valid: 69.66% Test: 68.68%\n",
      "Epoch: 800, Loss: 0.9557, Train: 74.14%, Valid: 69.97% Test: 68.73%\n",
      "Epoch: 900, Loss: 0.9384, Train: 74.71%, Valid: 70.07% Test: 68.81%\n",
      "Epoch: 1000, Loss: 0.9203, Train: 75.25%, Valid: 70.08% Test: 69.02%\n",
      "Epoch: 1100, Loss: 0.9003, Train: 75.72%, Valid: 70.20% Test: 69.24%\n",
      "Epoch: 1200, Loss: 0.8866, Train: 76.23%, Valid: 70.43% Test: 69.35%\n",
      "Epoch: 1300, Loss: 0.8726, Train: 76.68%, Valid: 70.46% Test: 69.16%\n",
      "Epoch: 1400, Loss: 0.8579, Train: 77.17%, Valid: 70.43% Test: 69.21%\n",
      "Epoch: 1500, Loss: 0.8485, Train: 77.54%, Valid: 70.35% Test: 69.07%\n",
      "Epoch: 1600, Loss: 0.8385, Train: 78.00%, Valid: 70.49% Test: 69.23%\n",
      "Epoch: 1700, Loss: 0.8250, Train: 78.31%, Valid: 70.44% Test: 69.11%\n",
      "Epoch: 1800, Loss: 0.8181, Train: 78.66%, Valid: 70.48% Test: 69.36%\n",
      "Epoch: 1900, Loss: 0.8074, Train: 78.93%, Valid: 70.46% Test: 69.40%\n",
      "Epoch: 2000, Loss: 0.8007, Train: 79.26%, Valid: 70.46% Test: 69.29%\n",
      "Epoch: 2100, Loss: 0.7920, Train: 79.53%, Valid: 70.33% Test: 69.08%\n",
      "Epoch: 2200, Loss: 0.7803, Train: 79.83%, Valid: 70.42% Test: 69.29%\n",
      "Epoch: 2300, Loss: 0.7800, Train: 80.10%, Valid: 70.48% Test: 69.27%\n",
      "Epoch: 2400, Loss: 0.7757, Train: 80.35%, Valid: 70.44% Test: 69.12%\n",
      "Epoch: 2500, Loss: 0.7656, Train: 80.68%, Valid: 70.41% Test: 69.34%\n",
      "Epoch: 2600, Loss: 0.7632, Train: 80.90%, Valid: 70.51% Test: 69.44%\n",
      "Epoch: 2700, Loss: 0.7568, Train: 81.07%, Valid: 70.51% Test: 69.36%\n",
      "Epoch: 2800, Loss: 0.7484, Train: 81.24%, Valid: 70.44% Test: 69.34%\n",
      "Epoch: 2900, Loss: 0.7484, Train: 81.43%, Valid: 70.48% Test: 69.33%\n",
      "Epoch: 3000, Loss: 0.7365, Train: 81.77%, Valid: 70.52% Test: 69.31%\n",
      "Epoch: 3100, Loss: 0.7368, Train: 81.92%, Valid: 70.47% Test: 69.12%\n",
      "Epoch: 3200, Loss: 0.7337, Train: 82.14%, Valid: 70.60% Test: 69.29%\n",
      "Epoch: 3300, Loss: 0.7271, Train: 82.22%, Valid: 70.56% Test: 69.15%\n",
      "Epoch: 3400, Loss: 0.7267, Train: 82.50%, Valid: 70.44% Test: 69.09%\n",
      "Epoch: 3500, Loss: 0.7237, Train: 82.68%, Valid: 70.61% Test: 69.15%\n",
      "Epoch: 3600, Loss: 0.7207, Train: 82.86%, Valid: 70.43% Test: 69.14%\n",
      "Epoch: 3700, Loss: 0.7146, Train: 83.06%, Valid: 70.53% Test: 69.08%\n",
      "Epoch: 3800, Loss: 0.7122, Train: 83.14%, Valid: 70.46% Test: 69.23%\n",
      "Epoch: 3900, Loss: 0.7090, Train: 83.30%, Valid: 70.55% Test: 69.22%\n",
      "Epoch: 4000, Loss: 0.7075, Train: 83.45%, Valid: 70.60% Test: 69.17%\n",
      "Epoch: 4100, Loss: 0.7057, Train: 83.57%, Valid: 70.57% Test: 69.10%\n",
      "Epoch: 4200, Loss: 0.7034, Train: 83.65%, Valid: 70.67% Test: 69.28%\n",
      "Epoch: 4300, Loss: 0.6973, Train: 83.75%, Valid: 70.45% Test: 69.06%\n",
      "Epoch: 4400, Loss: 0.6965, Train: 83.96%, Valid: 70.52% Test: 69.03%\n",
      "Epoch: 4500, Loss: 0.6931, Train: 84.02%, Valid: 70.52% Test: 69.09%\n",
      "Epoch: 4600, Loss: 0.6918, Train: 84.17%, Valid: 70.60% Test: 69.12%\n",
      "Epoch: 4700, Loss: 0.6874, Train: 84.24%, Valid: 70.71% Test: 69.05%\n",
      "Epoch: 4800, Loss: 0.6875, Train: 84.31%, Valid: 70.78% Test: 69.26%\n",
      "Epoch: 4900, Loss: 0.6838, Train: 84.54%, Valid: 70.57% Test: 68.91%\n",
      "Epoch: 5000, Loss: 0.6823, Train: 84.60%, Valid: 70.58% Test: 69.10%\n"
     ]
    }
   ],
   "source": [
    "optimizer = torch.optim.Adam(model.parameters(), lr=lr_rate)\n",
    "for epoch in range(1, 1 + epochs):\n",
    "    loss = train(model, graph, features, train_mask, optimizer, edge_weight=edge_weights)\n",
    "    result = test(model, graph, features, labels, train_mask, val_mask, test_mask, evaluator, edge_weight=edge_weights)\n",
    "\n",
    "    if epoch % log_steps == 0:\n",
    "        train_acc, valid_acc, test_acc = result\n",
    "        print(f'Epoch: {epoch:02d}, '\n",
    "              f'Loss: {loss:.4f}, '\n",
    "              f'Train: {100 * train_acc:.2f}%, '\n",
    "              f'Valid: {100 * valid_acc:.2f}% '\n",
    "              f'Test: {100 * test_acc:.2f}%')"
   ]
  }
 ],
 "metadata": {
  "kernelspec": {
   "display_name": "ArXiv Paper Classification",
   "language": "python",
   "name": "arxiv-paperclassification"
  },
  "language_info": {
   "codemirror_mode": {
    "name": "ipython",
    "version": 3
   },
   "file_extension": ".py",
   "mimetype": "text/x-python",
   "name": "python",
   "nbconvert_exporter": "python",
   "pygments_lexer": "ipython3",
   "version": "3.8.10"
  }
 },
 "nbformat": 4,
 "nbformat_minor": 5
}
