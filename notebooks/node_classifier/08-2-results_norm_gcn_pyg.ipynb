{
 "cells": [
  {
   "cell_type": "code",
   "execution_count": 1,
   "id": "bbcf865e-32c9-481a-b7fb-661fac566cd0",
   "metadata": {},
   "outputs": [],
   "source": [
    "%load_ext autoreload\n",
    "%autoreload 2"
   ]
  },
  {
   "cell_type": "code",
   "execution_count": 2,
   "id": "d6d50784-ae0a-4e9a-923f-a8a5da84c41f",
   "metadata": {},
   "outputs": [
    {
     "name": "stderr",
     "output_type": "stream",
     "text": [
      "/home/caiolmartinelli/.cache/pypoetry/virtualenvs/arxiv-paperclassification-f16XUvnj-py3.10/lib/python3.10/site-packages/tqdm/auto.py:22: TqdmWarning: IProgress not found. Please update jupyter and ipywidgets. See https://ipywidgets.readthedocs.io/en/stable/user_install.html\n",
      "  from .autonotebook import tqdm as notebook_tqdm\n"
     ]
    }
   ],
   "source": [
    "import os\n",
    "\n",
    "while 'notebooks' in os.getcwd():\n",
    "    os.chdir('..')\n",
    "\n",
    "from itertools import product\n",
    "import pandas as pd\n",
    "import torch\n",
    "import torch.nn.functional as F\n",
    "from torch_sparse.tensor import SparseTensor\n",
    "from ogb.nodeproppred import PygNodePropPredDataset, Evaluator\n",
    "from sklearn.metrics import roc_auc_score\n",
    "import logging\n",
    "import matplotlib.pyplot as plt\n",
    "import plotly.express as px\n",
    "import plotly.offline as pyo\n",
    "import numpy as np\n",
    "import seaborn as sns\n",
    "from scipy.stats import ttest_ind\n",
    "\n",
    "from src.train.gcn_node_classifier import GCNNodeClassifierTrainer\n",
    "from src.torch_geo_models import GCN\n",
    "from src.data.node_classifier.arxiv import load_dataset_pyg,\\\n",
    "    data_to_sparse_symmetric_pyg, get_edge_weights_pyg"
   ]
  },
  {
   "cell_type": "markdown",
   "id": "67a24aa8-5ed9-4cfe-b5e9-ab486351de1e",
   "metadata": {
    "tags": []
   },
   "source": [
    "### Read metrics"
   ]
  },
  {
   "cell_type": "code",
   "execution_count": 3,
   "id": "46783d88-f76a-4d44-a47c-a417112dbc5e",
   "metadata": {},
   "outputs": [
    {
     "name": "stdout",
     "output_type": "stream",
     "text": [
      "(19562, 10)\n"
     ]
    },
    {
     "data": {
      "text/html": [
       "<div>\n",
       "<style scoped>\n",
       "    .dataframe tbody tr th:only-of-type {\n",
       "        vertical-align: middle;\n",
       "    }\n",
       "\n",
       "    .dataframe tbody tr th {\n",
       "        vertical-align: top;\n",
       "    }\n",
       "\n",
       "    .dataframe thead th {\n",
       "        text-align: right;\n",
       "    }\n",
       "</style>\n",
       "<table border=\"1\" class=\"dataframe\">\n",
       "  <thead>\n",
       "    <tr style=\"text-align: right;\">\n",
       "      <th></th>\n",
       "      <th>run</th>\n",
       "      <th>epoch</th>\n",
       "      <th>has_edge_weights</th>\n",
       "      <th>n_layers</th>\n",
       "      <th>loss_train</th>\n",
       "      <th>loss_val</th>\n",
       "      <th>loss_test</th>\n",
       "      <th>acc_train</th>\n",
       "      <th>acc_val</th>\n",
       "      <th>acc_test</th>\n",
       "    </tr>\n",
       "  </thead>\n",
       "  <tbody>\n",
       "    <tr>\n",
       "      <th>0</th>\n",
       "      <td>1</td>\n",
       "      <td>0</td>\n",
       "      <td>False</td>\n",
       "      <td>1</td>\n",
       "      <td>3.754721</td>\n",
       "      <td>3.737225</td>\n",
       "      <td>3.727600</td>\n",
       "      <td>0.032494</td>\n",
       "      <td>0.037954</td>\n",
       "      <td>0.038640</td>\n",
       "    </tr>\n",
       "    <tr>\n",
       "      <th>1</th>\n",
       "      <td>1</td>\n",
       "      <td>50</td>\n",
       "      <td>False</td>\n",
       "      <td>1</td>\n",
       "      <td>3.205070</td>\n",
       "      <td>3.247568</td>\n",
       "      <td>3.271204</td>\n",
       "      <td>0.168604</td>\n",
       "      <td>0.092251</td>\n",
       "      <td>0.082526</td>\n",
       "    </tr>\n",
       "    <tr>\n",
       "      <th>2</th>\n",
       "      <td>1</td>\n",
       "      <td>100</td>\n",
       "      <td>False</td>\n",
       "      <td>1</td>\n",
       "      <td>2.997951</td>\n",
       "      <td>3.041117</td>\n",
       "      <td>3.073672</td>\n",
       "      <td>0.209718</td>\n",
       "      <td>0.150374</td>\n",
       "      <td>0.131165</td>\n",
       "    </tr>\n",
       "    <tr>\n",
       "      <th>3</th>\n",
       "      <td>1</td>\n",
       "      <td>150</td>\n",
       "      <td>False</td>\n",
       "      <td>1</td>\n",
       "      <td>2.862897</td>\n",
       "      <td>2.917441</td>\n",
       "      <td>2.958255</td>\n",
       "      <td>0.249722</td>\n",
       "      <td>0.230847</td>\n",
       "      <td>0.211839</td>\n",
       "    </tr>\n",
       "    <tr>\n",
       "      <th>4</th>\n",
       "      <td>1</td>\n",
       "      <td>200</td>\n",
       "      <td>False</td>\n",
       "      <td>1</td>\n",
       "      <td>2.749364</td>\n",
       "      <td>2.816427</td>\n",
       "      <td>2.865221</td>\n",
       "      <td>0.278598</td>\n",
       "      <td>0.279204</td>\n",
       "      <td>0.258688</td>\n",
       "    </tr>\n",
       "  </tbody>\n",
       "</table>\n",
       "</div>"
      ],
      "text/plain": [
       "   run  epoch  has_edge_weights  n_layers  loss_train  loss_val  loss_test  \\\n",
       "0    1      0             False         1    3.754721  3.737225   3.727600   \n",
       "1    1     50             False         1    3.205070  3.247568   3.271204   \n",
       "2    1    100             False         1    2.997951  3.041117   3.073672   \n",
       "3    1    150             False         1    2.862897  2.917441   2.958255   \n",
       "4    1    200             False         1    2.749364  2.816427   2.865221   \n",
       "\n",
       "   acc_train   acc_val  acc_test  \n",
       "0   0.032494  0.037954  0.038640  \n",
       "1   0.168604  0.092251  0.082526  \n",
       "2   0.209718  0.150374  0.131165  \n",
       "3   0.249722  0.230847  0.211839  \n",
       "4   0.278598  0.279204  0.258688  "
      ]
     },
     "execution_count": 3,
     "metadata": {},
     "output_type": "execute_result"
    }
   ],
   "source": [
    "metrics = GCNNodeClassifierTrainer.read_metrics(weights_source='')\n",
    "print(metrics.shape)\n",
    "metrics.head()"
   ]
  },
  {
   "cell_type": "markdown",
   "id": "98c6e22c-86bb-45d4-a424-bf60148bbc96",
   "metadata": {},
   "source": [
    "## Selected model results\n",
    "\n",
    "For each configuration we select a model based on the validation accuracy and compare on the test nodes."
   ]
  },
  {
   "cell_type": "code",
   "execution_count": 4,
   "id": "5992f31a-7795-45c3-bbd0-05f693b04447",
   "metadata": {
    "tags": []
   },
   "outputs": [
    {
     "name": "stdout",
     "output_type": "stream",
     "text": [
      "(240, 10)\n",
      "30\n"
     ]
    },
    {
     "data": {
      "text/html": [
       "<div>\n",
       "<style scoped>\n",
       "    .dataframe tbody tr th:only-of-type {\n",
       "        vertical-align: middle;\n",
       "    }\n",
       "\n",
       "    .dataframe tbody tr th {\n",
       "        vertical-align: top;\n",
       "    }\n",
       "\n",
       "    .dataframe thead th {\n",
       "        text-align: right;\n",
       "    }\n",
       "</style>\n",
       "<table border=\"1\" class=\"dataframe\">\n",
       "  <thead>\n",
       "    <tr style=\"text-align: right;\">\n",
       "      <th></th>\n",
       "      <th>run</th>\n",
       "      <th>epoch</th>\n",
       "      <th>has_edge_weights</th>\n",
       "      <th>n_layers</th>\n",
       "      <th>loss_train</th>\n",
       "      <th>loss_val</th>\n",
       "      <th>loss_test</th>\n",
       "      <th>acc_train</th>\n",
       "      <th>acc_val</th>\n",
       "      <th>acc_test</th>\n",
       "    </tr>\n",
       "  </thead>\n",
       "  <tbody>\n",
       "    <tr>\n",
       "      <th>235</th>\n",
       "      <td>30</td>\n",
       "      <td>1850</td>\n",
       "      <td>True</td>\n",
       "      <td>2</td>\n",
       "      <td>0.679955</td>\n",
       "      <td>0.904585</td>\n",
       "      <td>0.938585</td>\n",
       "      <td>0.784069</td>\n",
       "      <td>0.723346</td>\n",
       "      <td>0.711479</td>\n",
       "    </tr>\n",
       "    <tr>\n",
       "      <th>236</th>\n",
       "      <td>30</td>\n",
       "      <td>1750</td>\n",
       "      <td>False</td>\n",
       "      <td>3</td>\n",
       "      <td>0.575366</td>\n",
       "      <td>0.857950</td>\n",
       "      <td>0.908895</td>\n",
       "      <td>0.808194</td>\n",
       "      <td>0.734152</td>\n",
       "      <td>0.716026</td>\n",
       "    </tr>\n",
       "    <tr>\n",
       "      <th>237</th>\n",
       "      <td>30</td>\n",
       "      <td>1450</td>\n",
       "      <td>True</td>\n",
       "      <td>3</td>\n",
       "      <td>0.598640</td>\n",
       "      <td>0.855878</td>\n",
       "      <td>0.891654</td>\n",
       "      <td>0.804115</td>\n",
       "      <td>0.732709</td>\n",
       "      <td>0.724173</td>\n",
       "    </tr>\n",
       "    <tr>\n",
       "      <th>238</th>\n",
       "      <td>30</td>\n",
       "      <td>700</td>\n",
       "      <td>False</td>\n",
       "      <td>4</td>\n",
       "      <td>0.694251</td>\n",
       "      <td>0.862063</td>\n",
       "      <td>0.905148</td>\n",
       "      <td>0.777768</td>\n",
       "      <td>0.733615</td>\n",
       "      <td>0.717219</td>\n",
       "    </tr>\n",
       "    <tr>\n",
       "      <th>239</th>\n",
       "      <td>30</td>\n",
       "      <td>950</td>\n",
       "      <td>True</td>\n",
       "      <td>4</td>\n",
       "      <td>0.649332</td>\n",
       "      <td>0.853313</td>\n",
       "      <td>0.885695</td>\n",
       "      <td>0.788379</td>\n",
       "      <td>0.733682</td>\n",
       "      <td>0.724976</td>\n",
       "    </tr>\n",
       "  </tbody>\n",
       "</table>\n",
       "</div>"
      ],
      "text/plain": [
       "     run  epoch  has_edge_weights  n_layers  loss_train  loss_val  loss_test  \\\n",
       "235   30   1850              True         2    0.679955  0.904585   0.938585   \n",
       "236   30   1750             False         3    0.575366  0.857950   0.908895   \n",
       "237   30   1450              True         3    0.598640  0.855878   0.891654   \n",
       "238   30    700             False         4    0.694251  0.862063   0.905148   \n",
       "239   30    950              True         4    0.649332  0.853313   0.885695   \n",
       "\n",
       "     acc_train   acc_val  acc_test  \n",
       "235   0.784069  0.723346  0.711479  \n",
       "236   0.808194  0.734152  0.716026  \n",
       "237   0.804115  0.732709  0.724173  \n",
       "238   0.777768  0.733615  0.717219  \n",
       "239   0.788379  0.733682  0.724976  "
      ]
     },
     "execution_count": 4,
     "metadata": {},
     "output_type": "execute_result"
    }
   ],
   "source": [
    "def get_best_metrics(keys_df: pd.DataFrame):\n",
    "    return keys_df.sort_values('acc_val', ascending=False).iloc[0]\n",
    "\n",
    "best_epoch_metrics = metrics\\\n",
    "    .groupby(['run', 'n_layers', 'has_edge_weights'])\\\n",
    "    .apply(get_best_metrics)\\\n",
    "    .reset_index(drop=True)\n",
    "\n",
    "print(best_epoch_metrics.shape)\n",
    "print(best_epoch_metrics['run'].max())\n",
    "best_epoch_metrics.tail()"
   ]
  },
  {
   "cell_type": "code",
   "execution_count": 5,
   "id": "288cb034-aab9-4b1d-b28c-ba2d34fe3442",
   "metadata": {},
   "outputs": [
    {
     "data": {
      "image/png": "[encoded data removed]",
      "text/plain": [
       "<Figure size 1600x1000 with 1 Axes>"
      ]
     },
     "metadata": {},
     "output_type": "display_data"
    }
   ],
   "source": [
    "plt.rcParams['font.size'] = '14'\n",
    "fig, ax1 = plt.subplots(1, 1, figsize=(16, 10))\n",
    "\n",
    "plt.title('Weight Impact on GCN Node Classifier')\n",
    "\n",
    "sns.boxplot(\n",
    "    data=best_epoch_metrics,\n",
    "    x='n_layers',\n",
    "    y='acc_test',\n",
    "    hue='has_edge_weights')\n",
    "\n",
    "plt.ylabel('Test Accuracy')\n",
    "plt.xlabel('$L$')\n",
    "\n",
    "\n",
    "# plt.yscale('log')\n",
    "plt.legend(title='Has Edge Weights')\n",
    "plt.savefig('reports/images/positional_graph_sage_weight_impact_gcn_node_classifier.pdf')"
   ]
  },
  {
   "cell_type": "markdown",
   "id": "ff247ffb-6d03-4450-ace0-1af115273e5a",
   "metadata": {},
   "source": [
    "## T-test"
   ]
  },
  {
   "cell_type": "code",
   "execution_count": 6,
   "id": "dce902c9-2f44-47ae-9c60-1d344cf789c0",
   "metadata": {},
   "outputs": [
    {
     "name": "stdout",
     "output_type": "stream",
     "text": [
      "with: 0.6459 +- 0.00021, no: 0.6458 +- 0.0003779, t: 1.185, pvalue: 0.2408\n",
      "with: 0.7124 +- 0.0019, no: 0.7144 +- 0.002017, t: -3.782, pvalue: 0.0003707\n",
      "with: 0.7196 +- 0.0026, no: 0.719 +- 0.003006, t: 0.8249, pvalue: 0.4128\n",
      "with: 0.7212 +- 0.0023, no: 0.7203 +- 0.002408, t: 1.454, pvalue: 0.1512\n"
     ]
    }
   ],
   "source": [
    "report = {\n",
    "    '$L$': [],\n",
    "    'Weighted': [],\n",
    "    'Unweighted': [],\n",
    "    '$t$': [],\n",
    "    'p-value': []\n",
    "}\n",
    "\n",
    "for n_layers in range(1, 5):\n",
    "    a = best_epoch_metrics\\\n",
    "        .query(f'n_layers == {n_layers} & has_edge_weights == True')\\\n",
    "        ['acc_test']\n",
    "        \n",
    "    b = best_epoch_metrics\\\n",
    "        .query(f'n_layers == {n_layers} & has_edge_weights == False')\\\n",
    "        ['acc_test']\n",
    "    ttest = ttest_ind(a, b)\n",
    "    \n",
    "    report['$L$'].append(f'${n_layers}$')\n",
    "    report['Weighted'].append(f'${a.mean():.4} \\pm {a.std():.2}$')\n",
    "    report['Unweighted'].append(f'${b.mean():.4} \\pm {b.std():.2}$')\n",
    "    report['$t$'].append(f'${ttest.statistic:.4}$')\n",
    "    report['p-value'].append(f'${ttest.pvalue:.4}$')\n",
    "    \n",
    "    \n",
    "    print(f'with: {a.mean():.4} +- {a.std():.2}, '\n",
    "          f'no: {b.mean():.4} +- {b.std():.4}, '\n",
    "          f't: {ttest.statistic:.4}, pvalue: {ttest.pvalue:.4}')"
   ]
  },
  {
   "cell_type": "code",
   "execution_count": 7,
   "id": "e3c1728b-cf1b-48c0-b426-b92592480382",
   "metadata": {},
   "outputs": [
    {
     "name": "stdout",
     "output_type": "stream",
     "text": [
      "\\begin{tabular}{llllll}\n",
      " & $L$ & Weighted & Unweighted & $t$ & p-value \\\\\n",
      "0 & $1$ & $0.6459 \\pm 0.00021$ & $0.6458 \\pm 0.00038$ & $1.185$ & $0.2408$ \\\\\n",
      "1 & $2$ & $0.7124 \\pm 0.0019$ & $0.7144 \\pm 0.002$ & $-3.782$ & $0.0003707$ \\\\\n",
      "2 & $3$ & $0.7196 \\pm 0.0026$ & $0.719 \\pm 0.003$ & $0.8249$ & $0.4128$ \\\\\n",
      "3 & $4$ & $0.7212 \\pm 0.0023$ & $0.7203 \\pm 0.0024$ & $1.454$ & $0.1512$ \\\\\n",
      "\\end{tabular}\n",
      "\n"
     ]
    }
   ],
   "source": [
    "print(pd.DataFrame(report).style.to_latex())"
   ]
  },
  {
   "cell_type": "markdown",
   "id": "66e03f41-1dbc-4fde-9df4-a60d96f49cbc",
   "metadata": {},
   "source": [
    "## Epochs comparison"
   ]
  },
  {
   "cell_type": "code",
   "execution_count": 8,
   "id": "da325bd0-3642-442e-96f6-764ad6ea7e5a",
   "metadata": {},
   "outputs": [
    {
     "data": {
      "text/plain": [
       "<matplotlib.legend.Legend at 0x7f21e27ff190>"
      ]
     },
     "execution_count": 8,
     "metadata": {},
     "output_type": "execute_result"
    },
    {
     "data": {
      "image/png": "[encoded data removed]",
      "text/plain": [
       "<Figure size 640x480 with 1 Axes>"
      ]
     },
     "metadata": {},
     "output_type": "display_data"
    }
   ],
   "source": [
    "n_layers = 2\n",
    "col = 'acc_val'\n",
    "\n",
    "sub_df = metrics.query(f'n_layers == {n_layers}')\n",
    "\n",
    "no_means = sub_df\\\n",
    "    .query('has_edge_weights == False')\\\n",
    "    .groupby('epoch')\\\n",
    "    [col]\\\n",
    "    .mean()\n",
    "\n",
    "w_means = sub_df\\\n",
    "    .query('has_edge_weights == True')\\\n",
    "    .groupby('epoch')\\\n",
    "    [col]\\\n",
    "    .mean()\n",
    "\n",
    "plt.plot(no_means, label='False')\n",
    "plt.plot(w_means, label='True')\n",
    "\n",
    "plt.legend(title='Has Edge Weights')\n",
    "# plt.yscale('log')\n",
    "# plt.xlim(200)\n",
    "# plt.ylim(0.65, 0.75)"
   ]
  }
 ],
 "metadata": {
  "kernelspec": {
   "display_name": "Arxiv Paper Classification Env",
   "language": "python",
   "name": "arxiv-env"
  },
  "language_info": {
   "codemirror_mode": {
    "name": "ipython",
    "version": 3
   },
   "file_extension": ".py",
   "mimetype": "text/x-python",
   "name": "python",
   "nbconvert_exporter": "python",
   "pygments_lexer": "ipython3",
   "version": "3.10.6"
  }
 },
 "nbformat": 4,
 "nbformat_minor": 5
}
