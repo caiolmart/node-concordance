{
 "cells": [
  {
   "cell_type": "code",
   "execution_count": 1,
   "id": "bbcf865e-32c9-481a-b7fb-661fac566cd0",
   "metadata": {},
   "outputs": [],
   "source": [
    "%load_ext autoreload\n",
    "%autoreload 2"
   ]
  },
  {
   "cell_type": "code",
   "execution_count": 2,
   "id": "d6d50784-ae0a-4e9a-923f-a8a5da84c41f",
   "metadata": {},
   "outputs": [],
   "source": [
    "import os\n",
    "\n",
    "while 'notebooks' in os.getcwd():\n",
    "    os.chdir('..')\n",
    "\n",
    "from itertools import product\n",
    "import pandas as pd\n",
    "import torch\n",
    "import torch.nn.functional as F\n",
    "from torch_sparse.tensor import SparseTensor\n",
    "from ogb.nodeproppred import PygNodePropPredDataset, Evaluator\n",
    "from sklearn.metrics import roc_auc_score\n",
    "import logging\n",
    "import matplotlib.pyplot as plt\n",
    "import plotly.express as px\n",
    "import plotly.offline as pyo\n",
    "import numpy as np\n",
    "import seaborn as sns\n",
    "from scipy.stats import ttest_ind\n",
    "\n",
    "from src.train.gcn_node_classifier import GCNNodeClassifierTrainer\n",
    "from src.torch_geo_models import GCN\n",
    "from src.data.node_classifier.arxiv import load_dataset_pyg,\\\n",
    "    data_to_sparse_symmetric_pyg, get_edge_weights_pyg"
   ]
  },
  {
   "cell_type": "markdown",
   "id": "67a24aa8-5ed9-4cfe-b5e9-ab486351de1e",
   "metadata": {
    "tags": []
   },
   "source": [
    "### Read metrics"
   ]
  },
  {
   "cell_type": "code",
   "execution_count": 8,
   "id": "46783d88-f76a-4d44-a47c-a417112dbc5e",
   "metadata": {},
   "outputs": [
    {
     "name": "stdout",
     "output_type": "stream",
     "text": [
      "(8381, 10)\n"
     ]
    },
    {
     "data": {
      "text/html": [
       "<div>\n",
       "<style scoped>\n",
       "    .dataframe tbody tr th:only-of-type {\n",
       "        vertical-align: middle;\n",
       "    }\n",
       "\n",
       "    .dataframe tbody tr th {\n",
       "        vertical-align: top;\n",
       "    }\n",
       "\n",
       "    .dataframe thead th {\n",
       "        text-align: right;\n",
       "    }\n",
       "</style>\n",
       "<table border=\"1\" class=\"dataframe\">\n",
       "  <thead>\n",
       "    <tr style=\"text-align: right;\">\n",
       "      <th></th>\n",
       "      <th>run</th>\n",
       "      <th>epoch</th>\n",
       "      <th>has_edge_weights</th>\n",
       "      <th>n_layers</th>\n",
       "      <th>loss_train</th>\n",
       "      <th>loss_val</th>\n",
       "      <th>loss_test</th>\n",
       "      <th>acc_train</th>\n",
       "      <th>acc_val</th>\n",
       "      <th>acc_test</th>\n",
       "    </tr>\n",
       "  </thead>\n",
       "  <tbody>\n",
       "    <tr>\n",
       "      <th>0</th>\n",
       "      <td>1</td>\n",
       "      <td>0</td>\n",
       "      <td>False</td>\n",
       "      <td>1</td>\n",
       "      <td>3.754721</td>\n",
       "      <td>3.737225</td>\n",
       "      <td>3.727600</td>\n",
       "      <td>0.032494</td>\n",
       "      <td>0.037954</td>\n",
       "      <td>0.038640</td>\n",
       "    </tr>\n",
       "    <tr>\n",
       "      <th>1</th>\n",
       "      <td>1</td>\n",
       "      <td>50</td>\n",
       "      <td>False</td>\n",
       "      <td>1</td>\n",
       "      <td>3.205070</td>\n",
       "      <td>3.247568</td>\n",
       "      <td>3.271204</td>\n",
       "      <td>0.168604</td>\n",
       "      <td>0.092251</td>\n",
       "      <td>0.082526</td>\n",
       "    </tr>\n",
       "    <tr>\n",
       "      <th>2</th>\n",
       "      <td>1</td>\n",
       "      <td>100</td>\n",
       "      <td>False</td>\n",
       "      <td>1</td>\n",
       "      <td>2.997951</td>\n",
       "      <td>3.041117</td>\n",
       "      <td>3.073672</td>\n",
       "      <td>0.209718</td>\n",
       "      <td>0.150374</td>\n",
       "      <td>0.131165</td>\n",
       "    </tr>\n",
       "    <tr>\n",
       "      <th>3</th>\n",
       "      <td>1</td>\n",
       "      <td>150</td>\n",
       "      <td>False</td>\n",
       "      <td>1</td>\n",
       "      <td>2.862897</td>\n",
       "      <td>2.917441</td>\n",
       "      <td>2.958255</td>\n",
       "      <td>0.249722</td>\n",
       "      <td>0.230847</td>\n",
       "      <td>0.211839</td>\n",
       "    </tr>\n",
       "    <tr>\n",
       "      <th>4</th>\n",
       "      <td>1</td>\n",
       "      <td>200</td>\n",
       "      <td>False</td>\n",
       "      <td>1</td>\n",
       "      <td>2.749364</td>\n",
       "      <td>2.816427</td>\n",
       "      <td>2.865221</td>\n",
       "      <td>0.278598</td>\n",
       "      <td>0.279204</td>\n",
       "      <td>0.258688</td>\n",
       "    </tr>\n",
       "  </tbody>\n",
       "</table>\n",
       "</div>"
      ],
      "text/plain": [
       "   run  epoch  has_edge_weights  n_layers  loss_train  loss_val  loss_test  \\\n",
       "0    1      0             False         1    3.754721  3.737225   3.727600   \n",
       "1    1     50             False         1    3.205070  3.247568   3.271204   \n",
       "2    1    100             False         1    2.997951  3.041117   3.073672   \n",
       "3    1    150             False         1    2.862897  2.917441   2.958255   \n",
       "4    1    200             False         1    2.749364  2.816427   2.865221   \n",
       "\n",
       "   acc_train   acc_val  acc_test  \n",
       "0   0.032494  0.037954  0.038640  \n",
       "1   0.168604  0.092251  0.082526  \n",
       "2   0.209718  0.150374  0.131165  \n",
       "3   0.249722  0.230847  0.211839  \n",
       "4   0.278598  0.279204  0.258688  "
      ]
     },
     "execution_count": 8,
     "metadata": {},
     "output_type": "execute_result"
    }
   ],
   "source": [
    "metrics = GCNNodeClassifierTrainer.read_metrics()\n",
    "print(metrics.shape)\n",
    "metrics.head()"
   ]
  },
  {
   "cell_type": "markdown",
   "id": "98c6e22c-86bb-45d4-a424-bf60148bbc96",
   "metadata": {},
   "source": [
    "## Selected model results\n",
    "\n",
    "For each configuration we select a model based on the validation accuracy and compare on the test nodes."
   ]
  },
  {
   "cell_type": "code",
   "execution_count": 9,
   "id": "5992f31a-7795-45c3-bbd0-05f693b04447",
   "metadata": {
    "tags": []
   },
   "outputs": [
    {
     "name": "stdout",
     "output_type": "stream",
     "text": [
      "(102, 10)\n",
      "13\n"
     ]
    },
    {
     "data": {
      "text/html": [
       "<div>\n",
       "<style scoped>\n",
       "    .dataframe tbody tr th:only-of-type {\n",
       "        vertical-align: middle;\n",
       "    }\n",
       "\n",
       "    .dataframe tbody tr th {\n",
       "        vertical-align: top;\n",
       "    }\n",
       "\n",
       "    .dataframe thead th {\n",
       "        text-align: right;\n",
       "    }\n",
       "</style>\n",
       "<table border=\"1\" class=\"dataframe\">\n",
       "  <thead>\n",
       "    <tr style=\"text-align: right;\">\n",
       "      <th></th>\n",
       "      <th>run</th>\n",
       "      <th>epoch</th>\n",
       "      <th>has_edge_weights</th>\n",
       "      <th>n_layers</th>\n",
       "      <th>loss_train</th>\n",
       "      <th>loss_val</th>\n",
       "      <th>loss_test</th>\n",
       "      <th>acc_train</th>\n",
       "      <th>acc_val</th>\n",
       "      <th>acc_test</th>\n",
       "    </tr>\n",
       "  </thead>\n",
       "  <tbody>\n",
       "    <tr>\n",
       "      <th>97</th>\n",
       "      <td>13</td>\n",
       "      <td>9700</td>\n",
       "      <td>True</td>\n",
       "      <td>1</td>\n",
       "      <td>1.115919</td>\n",
       "      <td>1.134110</td>\n",
       "      <td>1.181481</td>\n",
       "      <td>0.670809</td>\n",
       "      <td>0.662472</td>\n",
       "      <td>0.646133</td>\n",
       "    </tr>\n",
       "    <tr>\n",
       "      <th>98</th>\n",
       "      <td>13</td>\n",
       "      <td>2200</td>\n",
       "      <td>False</td>\n",
       "      <td>2</td>\n",
       "      <td>0.657311</td>\n",
       "      <td>0.898855</td>\n",
       "      <td>0.937827</td>\n",
       "      <td>0.790897</td>\n",
       "      <td>0.724857</td>\n",
       "      <td>0.712117</td>\n",
       "    </tr>\n",
       "    <tr>\n",
       "      <th>99</th>\n",
       "      <td>13</td>\n",
       "      <td>2200</td>\n",
       "      <td>True</td>\n",
       "      <td>2</td>\n",
       "      <td>0.661943</td>\n",
       "      <td>0.903274</td>\n",
       "      <td>0.937309</td>\n",
       "      <td>0.788874</td>\n",
       "      <td>0.723078</td>\n",
       "      <td>0.713392</td>\n",
       "    </tr>\n",
       "    <tr>\n",
       "      <th>100</th>\n",
       "      <td>13</td>\n",
       "      <td>1750</td>\n",
       "      <td>False</td>\n",
       "      <td>3</td>\n",
       "      <td>0.575364</td>\n",
       "      <td>0.859023</td>\n",
       "      <td>0.902914</td>\n",
       "      <td>0.808711</td>\n",
       "      <td>0.732273</td>\n",
       "      <td>0.718433</td>\n",
       "    </tr>\n",
       "    <tr>\n",
       "      <th>101</th>\n",
       "      <td>13</td>\n",
       "      <td>1600</td>\n",
       "      <td>True</td>\n",
       "      <td>3</td>\n",
       "      <td>0.591137</td>\n",
       "      <td>0.860652</td>\n",
       "      <td>0.899082</td>\n",
       "      <td>0.806402</td>\n",
       "      <td>0.733515</td>\n",
       "      <td>0.718886</td>\n",
       "    </tr>\n",
       "  </tbody>\n",
       "</table>\n",
       "</div>"
      ],
      "text/plain": [
       "     run  epoch  has_edge_weights  n_layers  loss_train  loss_val  loss_test  \\\n",
       "97    13   9700              True         1    1.115919  1.134110   1.181481   \n",
       "98    13   2200             False         2    0.657311  0.898855   0.937827   \n",
       "99    13   2200              True         2    0.661943  0.903274   0.937309   \n",
       "100   13   1750             False         3    0.575364  0.859023   0.902914   \n",
       "101   13   1600              True         3    0.591137  0.860652   0.899082   \n",
       "\n",
       "     acc_train   acc_val  acc_test  \n",
       "97    0.670809  0.662472  0.646133  \n",
       "98    0.790897  0.724857  0.712117  \n",
       "99    0.788874  0.723078  0.713392  \n",
       "100   0.808711  0.732273  0.718433  \n",
       "101   0.806402  0.733515  0.718886  "
      ]
     },
     "execution_count": 9,
     "metadata": {},
     "output_type": "execute_result"
    }
   ],
   "source": [
    "def get_best_metrics(keys_df: pd.DataFrame):\n",
    "    return keys_df.sort_values('acc_val', ascending=False).iloc[0]\n",
    "\n",
    "best_epoch_metrics = metrics\\\n",
    "    .groupby(['run', 'n_layers', 'has_edge_weights'])\\\n",
    "    .apply(get_best_metrics)\\\n",
    "    .reset_index(drop=True)\n",
    "\n",
    "print(best_epoch_metrics.shape)\n",
    "print(best_epoch_metrics['run'].max())\n",
    "best_epoch_metrics.tail()"
   ]
  },
  {
   "cell_type": "code",
   "execution_count": 10,
   "id": "288cb034-aab9-4b1d-b28c-ba2d34fe3442",
   "metadata": {},
   "outputs": [
    {
     "data": {
      "text/plain": [
       "<matplotlib.legend.Legend at 0x7f001ed9da00>"
      ]
     },
     "execution_count": 10,
     "metadata": {},
     "output_type": "execute_result"
    },
    {
     "data": {
      "image/png": "[encoded data removed]",
      "text/plain": [
       "<Figure size 900x576 with 1 Axes>"
      ]
     },
     "metadata": {
      "needs_background": "light"
     },
     "output_type": "display_data"
    }
   ],
   "source": [
    "plt.figure(figsize=(12.5, 8))\n",
    "sns.boxplot(\n",
    "    data=best_epoch_metrics,\n",
    "    x='n_layers',\n",
    "    y='acc_test',\n",
    "    hue='has_edge_weights')\n",
    "\n",
    "\n",
    "# plt.yscale('log')\n",
    "plt.legend(title='Has Edge Weights')"
   ]
  },
  {
   "cell_type": "markdown",
   "id": "ff247ffb-6d03-4450-ace0-1af115273e5a",
   "metadata": {},
   "source": [
    "## T-test"
   ]
  },
  {
   "cell_type": "code",
   "execution_count": 11,
   "id": "dce902c9-2f44-47ae-9c60-1d344cf789c0",
   "metadata": {},
   "outputs": [
    {
     "name": "stdout",
     "output_type": "stream",
     "text": [
      "with: 0.646 +- 0.0002322, no: 0.6457 +- 0.0004837, t: 1.744, pvalue: 0.09393\n",
      "with: 0.7132 +- 0.001835, no: 0.7143 +- 0.002146, t: -1.457, pvalue: 0.1581\n",
      "with: 0.7202 +- 0.002732, no: 0.7196 +- 0.002059, t: 0.6957, pvalue: 0.4933\n",
      "with: 0.721 +- 0.001893, no: 0.7208 +- 0.002434, t: 0.2504, pvalue: 0.8046\n"
     ]
    }
   ],
   "source": [
    "for n_layers in range(1, 5):\n",
    "    a = best_epoch_metrics\\\n",
    "        .query(f'n_layers == {n_layers} & has_edge_weights == True')\\\n",
    "        ['acc_test']\n",
    "        \n",
    "    b = best_epoch_metrics\\\n",
    "        .query(f'n_layers == {n_layers} & has_edge_weights == False')\\\n",
    "        ['acc_test']\n",
    "    ttest = ttest_ind(a, b)\n",
    "    print(f'with: {a.mean():.4} +- {a.std():.4}, '\n",
    "          f'no: {b.mean():.4} +- {b.std():.4}, '\n",
    "          f't: {ttest.statistic:.4}, pvalue: {ttest.pvalue:.4}')"
   ]
  },
  {
   "cell_type": "markdown",
   "id": "66e03f41-1dbc-4fde-9df4-a60d96f49cbc",
   "metadata": {},
   "source": [
    "## Epochs comparison"
   ]
  },
  {
   "cell_type": "code",
   "execution_count": 7,
   "id": "da325bd0-3642-442e-96f6-764ad6ea7e5a",
   "metadata": {},
   "outputs": [
    {
     "data": {
      "text/plain": [
       "<matplotlib.legend.Legend at 0x7f001ed7dc10>"
      ]
     },
     "execution_count": 7,
     "metadata": {},
     "output_type": "execute_result"
    },
    {
     "data": {
      "image/png": "[encoded data removed]",
      "text/plain": [
       "<Figure size 432x288 with 1 Axes>"
      ]
     },
     "metadata": {
      "needs_background": "light"
     },
     "output_type": "display_data"
    }
   ],
   "source": [
    "n_layers = 2\n",
    "col = 'acc_val'\n",
    "\n",
    "sub_df = metrics.query(f'n_layers == {n_layers}')\n",
    "\n",
    "no_means = sub_df\\\n",
    "    .query('has_edge_weights == False')\\\n",
    "    .groupby('epoch')\\\n",
    "    [col]\\\n",
    "    .mean()\n",
    "\n",
    "w_means = sub_df\\\n",
    "    .query('has_edge_weights == True')\\\n",
    "    .groupby('epoch')\\\n",
    "    [col]\\\n",
    "    .mean()\n",
    "\n",
    "plt.plot(no_means, label='False')\n",
    "plt.plot(w_means, label='True')\n",
    "\n",
    "plt.legend(title='Has Edge Weights')\n",
    "# plt.yscale('log')\n",
    "# plt.xlim(200)\n",
    "# plt.ylim(0.65, 0.75)"
   ]
  }
 ],
 "metadata": {
  "kernelspec": {
   "display_name": "ArXiv Paper Classification",
   "language": "python",
   "name": "arxiv-paperclassification"
  },
  "language_info": {
   "codemirror_mode": {
    "name": "ipython",
    "version": 3
   },
   "file_extension": ".py",
   "mimetype": "text/x-python",
   "name": "python",
   "nbconvert_exporter": "python",
   "pygments_lexer": "ipython3",
   "version": "3.8.10"
  }
 },
 "nbformat": 4,
 "nbformat_minor": 5
}
