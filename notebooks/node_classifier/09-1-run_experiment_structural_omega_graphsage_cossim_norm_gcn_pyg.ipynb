{
 "cells": [
  {
   "cell_type": "code",
   "execution_count": 1,
   "id": "bbcf865e-32c9-481a-b7fb-661fac566cd0",
   "metadata": {},
   "outputs": [],
   "source": [
    "%load_ext autoreload\n",
    "%autoreload 2"
   ]
  },
  {
   "cell_type": "code",
   "execution_count": 2,
   "id": "d6d50784-ae0a-4e9a-923f-a8a5da84c41f",
   "metadata": {},
   "outputs": [
    {
     "name": "stderr",
     "output_type": "stream",
     "text": [
      "/home/caiolmartinelli/.cache/pypoetry/virtualenvs/arxiv-paperclassification-f16XUvnj-py3.10/lib/python3.10/site-packages/tqdm/auto.py:22: TqdmWarning: IProgress not found. Please update jupyter and ipywidgets. See https://ipywidgets.readthedocs.io/en/stable/user_install.html\n",
      "  from .autonotebook import tqdm as notebook_tqdm\n"
     ]
    }
   ],
   "source": [
    "import os\n",
    "\n",
    "while 'notebooks' in os.getcwd():\n",
    "    os.chdir('..')\n",
    "\n",
    "from itertools import product\n",
    "import pandas as pd\n",
    "import torch\n",
    "import torch.nn.functional as F\n",
    "from torch_sparse.tensor import SparseTensor\n",
    "from ogb.nodeproppred import PygNodePropPredDataset, Evaluator\n",
    "from sklearn.metrics import roc_auc_score\n",
    "import logging\n",
    "import matplotlib.pyplot as plt\n",
    "import plotly.express as px\n",
    "import plotly.offline as pyo\n",
    "import numpy as np\n",
    "\n",
    "from src.train.gcn_node_classifier import GCNNodeClassifierTrainer\n",
    "from src.torch_geo_models import GCN\n",
    "from src.data.node_classifier.arxiv import load_dataset_pyg,\\\n",
    "    data_to_sparse_symmetric_pyg, get_edge_weights_pyg"
   ]
  },
  {
   "cell_type": "code",
   "execution_count": 3,
   "id": "a6e535f6-b32c-43ad-8848-609a2464b30a",
   "metadata": {},
   "outputs": [],
   "source": [
    "edge_weights_path = 'data/structural_omega_graph_sage_cossim/04-1_gamma_scored_edges.csv'\n",
    "log_file = 'logs/node_classifier/09-1-run_experiment_structural_omega_graphsage_cossim_norm_gcn_pyg'"
   ]
  },
  {
   "cell_type": "code",
   "execution_count": 4,
   "id": "d302740f-dfae-4604-a1a7-75925122e68f",
   "metadata": {},
   "outputs": [],
   "source": [
    "logging.basicConfig(\n",
    "    format='%(asctime)s - %(levelname)s : %(message)s',\n",
    "    level=logging.INFO,\n",
    "    datefmt='%Y-%m-%d %H:%M:%S',\n",
    "    filename=log_file,\n",
    "    filemode='a',\n",
    ")"
   ]
  },
  {
   "cell_type": "code",
   "execution_count": 5,
   "id": "5aac4a89-f43d-494e-92dd-4f8c0cb7d24e",
   "metadata": {},
   "outputs": [
    {
     "data": {
      "text/plain": [
       "True"
      ]
     },
     "execution_count": 5,
     "metadata": {},
     "output_type": "execute_result"
    }
   ],
   "source": [
    "torch.cuda.is_available()"
   ]
  },
  {
   "cell_type": "code",
   "execution_count": 6,
   "id": "5d7b6cb5-686a-4bba-99c0-7e954a656f4b",
   "metadata": {},
   "outputs": [
    {
     "data": {
      "text/plain": [
       "device(type='cuda', index=0)"
      ]
     },
     "execution_count": 6,
     "metadata": {},
     "output_type": "execute_result"
    }
   ],
   "source": [
    "device = f'cuda:0' if torch.cuda.is_available() else 'cpu'\n",
    "device = torch.device(device)\n",
    "device"
   ]
  },
  {
   "cell_type": "markdown",
   "id": "3ee35052-8c79-4ad5-bef5-0d0759048428",
   "metadata": {
    "tags": []
   },
   "source": [
    "## Data Loading"
   ]
  },
  {
   "cell_type": "code",
   "execution_count": 7,
   "id": "52be6a60-0244-4a36-9d35-11213ffd1d9a",
   "metadata": {},
   "outputs": [],
   "source": [
    "dataset = load_dataset_pyg()\n",
    "data = data_to_sparse_symmetric_pyg(dataset[0])\n",
    "adj_t = data.adj_t.to(device)\n",
    "split_idx = dataset.get_idx_split()\n",
    "weighted_adj_t = get_edge_weights_pyg(\n",
    "    edge_weights_path,\n",
    "    data.adj_t.size(0),\n",
    "    device)\n",
    "\n",
    "features = data.x.cuda()\n",
    "labels = data.y.cuda()\n",
    "train_mask = split_idx['train'].cuda()\n",
    "val_mask = split_idx['valid'].cuda()\n",
    "test_mask = split_idx['test'].cuda()\n",
    "evaluator = Evaluator(name='ogbn-arxiv')"
   ]
  },
  {
   "cell_type": "code",
   "execution_count": 8,
   "id": "ac277e37-bec7-46c9-be5c-9311da891fe2",
   "metadata": {},
   "outputs": [],
   "source": [
    "features = data.x.cuda()\n",
    "labels = data.y.cuda()\n",
    "train_mask = split_idx['train'].cuda()\n",
    "val_mask = split_idx['valid'].cuda()\n",
    "test_mask = split_idx['test'].cuda()"
   ]
  },
  {
   "cell_type": "markdown",
   "id": "67a24aa8-5ed9-4cfe-b5e9-ab486351de1e",
   "metadata": {},
   "source": [
    "### Run Experiment"
   ]
  },
  {
   "cell_type": "code",
   "execution_count": 9,
   "id": "709943b6-f69b-4d25-a766-42a301b470df",
   "metadata": {},
   "outputs": [
    {
     "name": "stdout",
     "output_type": "stream",
     "text": [
      "30\n"
     ]
    },
    {
     "data": {
      "text/plain": [
       "(1,\n",
       " 1,\n",
       " SparseTensor(row=tensor([     0,      0,      0,  ..., 169341, 169342, 169342], device='cuda:0'),\n",
       "              col=tensor([   411,    640,   1162,  ..., 163274,  27824, 158981], device='cuda:0'),\n",
       "              size=(169343, 169343), nnz=2315598, density=0.01%))"
      ]
     },
     "execution_count": 9,
     "metadata": {},
     "output_type": "execute_result"
    }
   ],
   "source": [
    "N_LAYERS = list(range(1, 4))\n",
    "RUNS = list(range(1, 6))\n",
    "EDGE_WEIGHTS = [adj_t, weighted_adj_t]\n",
    "\n",
    "search_space = list(product(RUNS, N_LAYERS, EDGE_WEIGHTS))\n",
    "print(len(search_space))\n",
    "search_space[0]"
   ]
  },
  {
   "cell_type": "code",
   "execution_count": 10,
   "id": "a9f96700-1e55-47f5-b487-397a5d124b5a",
   "metadata": {},
   "outputs": [
    {
     "ename": "KeyboardInterrupt",
     "evalue": "",
     "output_type": "error",
     "traceback": [
      "\u001b[0;31m---------------------------------------------------------------------------\u001b[0m",
      "\u001b[0;31mKeyboardInterrupt\u001b[0m                         Traceback (most recent call last)",
      "Cell \u001b[0;32mIn [10], line 12\u001b[0m\n\u001b[1;32m      1\u001b[0m \u001b[39mfor\u001b[39;00m run, n_layers, edges \u001b[39min\u001b[39;00m search_space:\n\u001b[1;32m      2\u001b[0m     trainer \u001b[39m=\u001b[39m GCNNodeClassifierTrainer(\n\u001b[1;32m      3\u001b[0m         adj_t\u001b[39m=\u001b[39medges,\n\u001b[1;32m      4\u001b[0m         device\u001b[39m=\u001b[39mdevice,\n\u001b[0;32m   (...)\u001b[0m\n\u001b[1;32m     10\u001b[0m         output_dim\u001b[39m=\u001b[39mdataset\u001b[39m.\u001b[39mnum_classes,\n\u001b[1;32m     11\u001b[0m         run\u001b[39m=\u001b[39mrun)\n\u001b[0;32m---> 12\u001b[0m     trainer\u001b[39m.\u001b[39;49mtrain(\n\u001b[1;32m     13\u001b[0m         features,\n\u001b[1;32m     14\u001b[0m         labels,\n\u001b[1;32m     15\u001b[0m         train_mask,\n\u001b[1;32m     16\u001b[0m         val_mask,\n\u001b[1;32m     17\u001b[0m         test_mask)\n",
      "File \u001b[0;32m~/usr/dev/mestrado/experiments/arxiv-paperclassification/src/train/gcn_node_classifier.py:219\u001b[0m, in \u001b[0;36mGCNNodeClassifierTrainer.train\u001b[0;34m(self, features, labels, train_mask, val_mask, test_mask)\u001b[0m\n\u001b[1;32m    209\u001b[0m \u001b[39mself\u001b[39m\u001b[39m.\u001b[39msave_metrics(\n\u001b[1;32m    210\u001b[0m     \u001b[39m0\u001b[39m,\n\u001b[1;32m    211\u001b[0m     acc_train,\n\u001b[0;32m   (...)\u001b[0m\n\u001b[1;32m    215\u001b[0m     loss_val,\n\u001b[1;32m    216\u001b[0m     loss_test)\n\u001b[1;32m    218\u001b[0m \u001b[39mfor\u001b[39;00m epoch \u001b[39min\u001b[39;00m \u001b[39mrange\u001b[39m(\u001b[39m1\u001b[39m, \u001b[39m1\u001b[39m \u001b[39m+\u001b[39m \u001b[39mself\u001b[39m\u001b[39m.\u001b[39mepochs):\n\u001b[0;32m--> 219\u001b[0m     loss_train \u001b[39m=\u001b[39m \u001b[39mself\u001b[39;49m\u001b[39m.\u001b[39;49mtrain_epoch(\n\u001b[1;32m    220\u001b[0m         features,\n\u001b[1;32m    221\u001b[0m         labels,\n\u001b[1;32m    222\u001b[0m         train_mask)\n\u001b[1;32m    224\u001b[0m     \u001b[39mif\u001b[39;00m epoch \u001b[39m%\u001b[39m \u001b[39mself\u001b[39m\u001b[39m.\u001b[39meval_steps \u001b[39m==\u001b[39m \u001b[39m0\u001b[39m:\n\u001b[1;32m    225\u001b[0m         acc_train, acc_val, acc_test, loss_train, loss_val, loss_test \u001b[39m=\u001b[39m\\\n\u001b[1;32m    226\u001b[0m             \u001b[39mself\u001b[39m\u001b[39m.\u001b[39meval(\n\u001b[1;32m    227\u001b[0m                 features,\n\u001b[0;32m   (...)\u001b[0m\n\u001b[1;32m    230\u001b[0m                 val_mask,\n\u001b[1;32m    231\u001b[0m                 test_mask)\n",
      "File \u001b[0;32m~/usr/dev/mestrado/experiments/arxiv-paperclassification/src/train/gcn_node_classifier.py:106\u001b[0m, in \u001b[0;36mGCNNodeClassifierTrainer.train_epoch\u001b[0;34m(self, features, labels, train_mask)\u001b[0m\n\u001b[1;32m    103\u001b[0m loss\u001b[39m.\u001b[39mbackward()\n\u001b[1;32m    104\u001b[0m \u001b[39mself\u001b[39m\u001b[39m.\u001b[39moptimizer\u001b[39m.\u001b[39mstep()\n\u001b[0;32m--> 106\u001b[0m \u001b[39mreturn\u001b[39;00m loss\u001b[39m.\u001b[39;49mitem()\n",
      "\u001b[0;31mKeyboardInterrupt\u001b[0m: "
     ]
    }
   ],
   "source": [
    "for run, n_layers, edges in search_space:\n",
    "    trainer = GCNNodeClassifierTrainer(\n",
    "        adj_t=edges,\n",
    "        device=device,\n",
    "        evaluator=evaluator,\n",
    "        weights_source='structural_omega_graph_sage_cossim',\n",
    "        n_layers=n_layers,\n",
    "        input_dim=features.shape[1],\n",
    "        hidden_channels=features.shape[1] * 2,\n",
    "        output_dim=dataset.num_classes,\n",
    "        run=run)\n",
    "    trainer.train(\n",
    "        features,\n",
    "        labels,\n",
    "        train_mask,\n",
    "        val_mask,\n",
    "        test_mask)"
   ]
  }
 ],
 "metadata": {
  "kernelspec": {
   "display_name": "Python 3.10.6 ('arxiv-paperclassification-f16XUvnj-py3.10')",
   "language": "python",
   "name": "python3"
  },
  "language_info": {
   "codemirror_mode": {
    "name": "ipython",
    "version": 3
   },
   "file_extension": ".py",
   "mimetype": "text/x-python",
   "name": "python",
   "nbconvert_exporter": "python",
   "pygments_lexer": "ipython3",
   "version": "3.10.6"
  },
  "vscode": {
   "interpreter": {
    "hash": "fdb85301831f0c8b69bd5f25df9eaeaebb1b06572b540a1d2c2409c8b1f5394f"
   }
  }
 },
 "nbformat": 4,
 "nbformat_minor": 5
}
