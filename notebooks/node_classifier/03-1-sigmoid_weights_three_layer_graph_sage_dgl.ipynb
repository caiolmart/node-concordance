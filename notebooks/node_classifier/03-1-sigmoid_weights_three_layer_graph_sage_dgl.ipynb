{
 "cells": [
  {
   "cell_type": "code",
   "execution_count": 1,
   "id": "bbcf865e-32c9-481a-b7fb-661fac566cd0",
   "metadata": {},
   "outputs": [],
   "source": [
    "%load_ext autoreload\n",
    "%autoreload 2"
   ]
  },
  {
   "cell_type": "code",
   "execution_count": 3,
   "id": "d6d50784-ae0a-4e9a-923f-a8a5da84c41f",
   "metadata": {},
   "outputs": [],
   "source": [
    "import os\n",
    "\n",
    "while 'notebooks' in os.getcwd():\n",
    "    os.chdir('..')\n",
    "\n",
    "import pandas as pd\n",
    "import torch\n",
    "import torch.nn.functional as F\n",
    "from ogb.nodeproppred import DglNodePropPredDataset, Evaluator\n",
    "from sklearn.metrics import roc_auc_score\n",
    "import logging\n",
    "import matplotlib.pyplot as plt\n",
    "import plotly.express as px\n",
    "import plotly.offline as pyo\n",
    "import numpy as np\n",
    "\n",
    "from src.dgl_models import GraphSAGE, EdgeWeigher\n",
    "from src.data.node_classifier.arxiv import load_dataset_dgl, get_symmetric_graph_dgl\n",
    "from src.train.node_classifier import WeigthedGraphSageNodeClassifier"
   ]
  },
  {
   "cell_type": "code",
   "execution_count": 4,
   "id": "d302740f-dfae-4604-a1a7-75925122e68f",
   "metadata": {},
   "outputs": [],
   "source": [
    "logging.basicConfig(\n",
    "    format='%(asctime)s - %(levelname)s : %(message)s',\n",
    "    level=logging.INFO,\n",
    "    datefmt='%Y-%m-%d %H:%M:%S'\n",
    ")"
   ]
  },
  {
   "cell_type": "code",
   "execution_count": 5,
   "id": "5aac4a89-f43d-494e-92dd-4f8c0cb7d24e",
   "metadata": {},
   "outputs": [
    {
     "data": {
      "text/plain": [
       "True"
      ]
     },
     "execution_count": 5,
     "metadata": {},
     "output_type": "execute_result"
    }
   ],
   "source": [
    "torch.cuda.is_available()"
   ]
  },
  {
   "cell_type": "code",
   "execution_count": 6,
   "id": "5d7b6cb5-686a-4bba-99c0-7e954a656f4b",
   "metadata": {},
   "outputs": [
    {
     "data": {
      "text/plain": [
       "device(type='cuda', index=0)"
      ]
     },
     "execution_count": 6,
     "metadata": {},
     "output_type": "execute_result"
    }
   ],
   "source": [
    "device = f'cuda:0' if torch.cuda.is_available() else 'cpu'\n",
    "device = torch.device(device)\n",
    "device"
   ]
  },
  {
   "cell_type": "markdown",
   "id": "3ee35052-8c79-4ad5-bef5-0d0759048428",
   "metadata": {
    "tags": []
   },
   "source": [
    "## Data Loading"
   ]
  },
  {
   "cell_type": "code",
   "execution_count": 7,
   "id": "52be6a60-0244-4a36-9d35-11213ffd1d9a",
   "metadata": {},
   "outputs": [],
   "source": [
    "dataset = load_dataset_dgl()"
   ]
  },
  {
   "cell_type": "code",
   "execution_count": 8,
   "id": "3156b5a5-fd5d-4b8b-b65f-fb8e5e094d4b",
   "metadata": {},
   "outputs": [],
   "source": [
    "graph = get_symmetric_graph_dgl(dataset)"
   ]
  },
  {
   "cell_type": "code",
   "execution_count": 9,
   "id": "a00a55d4-9439-4a2d-b8ad-04312950705e",
   "metadata": {},
   "outputs": [
    {
     "data": {
      "text/plain": [
       "2332486"
      ]
     },
     "execution_count": 9,
     "metadata": {},
     "output_type": "execute_result"
    }
   ],
   "source": [
    "graph.number_of_edges()"
   ]
  },
  {
   "cell_type": "code",
   "execution_count": 10,
   "id": "7ede6493-7bc6-4817-aa2f-b198fece5bed",
   "metadata": {},
   "outputs": [
    {
     "data": {
      "text/plain": [
       "tensor(13.7737)"
      ]
     },
     "execution_count": 10,
     "metadata": {},
     "output_type": "execute_result"
    }
   ],
   "source": [
    "torch.mean(graph.out_degrees() * 1.)"
   ]
  },
  {
   "cell_type": "code",
   "execution_count": 11,
   "id": "cda95dc7-6b41-42a8-b9ec-e07e3b2536b9",
   "metadata": {},
   "outputs": [
    {
     "data": {
      "text/plain": [
       "tensor(13.7737)"
      ]
     },
     "execution_count": 11,
     "metadata": {},
     "output_type": "execute_result"
    }
   ],
   "source": [
    "torch.mean(graph.in_degrees() * 1.)"
   ]
  },
  {
   "cell_type": "code",
   "execution_count": 12,
   "id": "93838a75-3dd5-4b0d-8448-0c6cf63a0798",
   "metadata": {},
   "outputs": [],
   "source": [
    "split_idx = dataset.get_idx_split()"
   ]
  },
  {
   "cell_type": "code",
   "execution_count": 13,
   "id": "2ebd0211-5d18-47b5-9e59-c9fb21da2ed2",
   "metadata": {},
   "outputs": [
    {
     "data": {
      "text/plain": [
       "{'train': tensor([     0,      1,      2,  ..., 169145, 169148, 169251]),\n",
       " 'valid': tensor([   349,    357,    366,  ..., 169185, 169261, 169296]),\n",
       " 'test': tensor([   346,    398,    451,  ..., 169340, 169341, 169342])}"
      ]
     },
     "execution_count": 13,
     "metadata": {},
     "output_type": "execute_result"
    }
   ],
   "source": [
    "split_idx"
   ]
  },
  {
   "cell_type": "code",
   "execution_count": 14,
   "id": "046f00b8-5605-46d1-8894-e9b85b713194",
   "metadata": {},
   "outputs": [
    {
     "name": "stdout",
     "output_type": "stream",
     "text": [
      "(2315598, 3)\n"
     ]
    },
    {
     "data": {
      "text/html": [
       "<div>\n",
       "<style scoped>\n",
       "    .dataframe tbody tr th:only-of-type {\n",
       "        vertical-align: middle;\n",
       "    }\n",
       "\n",
       "    .dataframe tbody tr th {\n",
       "        vertical-align: top;\n",
       "    }\n",
       "\n",
       "    .dataframe thead th {\n",
       "        text-align: right;\n",
       "    }\n",
       "</style>\n",
       "<table border=\"1\" class=\"dataframe\">\n",
       "  <thead>\n",
       "    <tr style=\"text-align: right;\">\n",
       "      <th></th>\n",
       "      <th>source</th>\n",
       "      <th>target</th>\n",
       "      <th>gamma_pred</th>\n",
       "    </tr>\n",
       "  </thead>\n",
       "  <tbody>\n",
       "    <tr>\n",
       "      <th>0</th>\n",
       "      <td>411</td>\n",
       "      <td>0</td>\n",
       "      <td>0.649669</td>\n",
       "    </tr>\n",
       "    <tr>\n",
       "      <th>1</th>\n",
       "      <td>640</td>\n",
       "      <td>0</td>\n",
       "      <td>0.784250</td>\n",
       "    </tr>\n",
       "    <tr>\n",
       "      <th>2</th>\n",
       "      <td>1162</td>\n",
       "      <td>0</td>\n",
       "      <td>0.787807</td>\n",
       "    </tr>\n",
       "    <tr>\n",
       "      <th>3</th>\n",
       "      <td>1897</td>\n",
       "      <td>0</td>\n",
       "      <td>0.787201</td>\n",
       "    </tr>\n",
       "    <tr>\n",
       "      <th>4</th>\n",
       "      <td>3396</td>\n",
       "      <td>0</td>\n",
       "      <td>0.784839</td>\n",
       "    </tr>\n",
       "  </tbody>\n",
       "</table>\n",
       "</div>"
      ],
      "text/plain": [
       "   source  target  gamma_pred\n",
       "0     411       0    0.649669\n",
       "1     640       0    0.784250\n",
       "2    1162       0    0.787807\n",
       "3    1897       0    0.787201\n",
       "4    3396       0    0.784839"
      ]
     },
     "execution_count": 14,
     "metadata": {},
     "output_type": "execute_result"
    }
   ],
   "source": [
    "edges_gamma_df = pd.read_csv('data/gamma_graph_sage/01-1_gamma_scored_edges.csv')\n",
    "print(edges_gamma_df.shape)\n",
    "edges_gamma_df.head()"
   ]
  },
  {
   "cell_type": "code",
   "execution_count": 15,
   "id": "6ea4ffcc-abaf-4ccc-8571-01c42006a61b",
   "metadata": {},
   "outputs": [],
   "source": [
    "keys = tuple(zip(edges_gamma_df['source'].values, edges_gamma_df['target'].values))\n",
    "pred_dict = dict(zip(keys, edges_gamma_df['gamma_pred'].values))"
   ]
  },
  {
   "cell_type": "code",
   "execution_count": 16,
   "id": "f9abf969-d316-421d-aa22-a27253a62c10",
   "metadata": {},
   "outputs": [
    {
     "data": {
      "text/plain": [
       "0.74366045"
      ]
     },
     "execution_count": 16,
     "metadata": {},
     "output_type": "execute_result"
    }
   ],
   "source": [
    "idx=0\n",
    "pred_dict[(graph.edges()[0][idx].item(), graph.edges()[1][idx].item())]"
   ]
  },
  {
   "cell_type": "code",
   "execution_count": 17,
   "id": "d43c938d-201c-4028-ac8d-df20e799650d",
   "metadata": {},
   "outputs": [],
   "source": [
    "source = graph.edges()[0].numpy()\n",
    "target = graph.edges()[1].numpy()\n",
    "graph_edge_keys = tuple(zip(source, target))"
   ]
  },
  {
   "cell_type": "code",
   "execution_count": 18,
   "id": "27644f8d-0393-43f9-a96e-c7eaca13c702",
   "metadata": {},
   "outputs": [
    {
     "data": {
      "text/plain": [
       "tensor([[0.7437],\n",
       "        [0.7242],\n",
       "        [0.5969],\n",
       "        [0.7571],\n",
       "        [0.7405]], device='cuda:0')"
      ]
     },
     "execution_count": 18,
     "metadata": {},
     "output_type": "execute_result"
    }
   ],
   "source": [
    "base_weights = [pred_dict[edge] for edge in graph_edge_keys]\n",
    "base_weights = torch.tensor(base_weights, dtype=torch.float32).view(-1, 1).to(device)\n",
    "base_weights[:5]"
   ]
  },
  {
   "cell_type": "code",
   "execution_count": 19,
   "id": "8f1003e8-cdcb-4bae-8fed-597a2ec9722d",
   "metadata": {},
   "outputs": [],
   "source": [
    "weigher = EdgeWeigher(base_weights).to(device)\n",
    "weigher.reset_parameters()"
   ]
  },
  {
   "cell_type": "code",
   "execution_count": 20,
   "id": "ac277e37-bec7-46c9-be5c-9311da891fe2",
   "metadata": {},
   "outputs": [],
   "source": [
    "features = graph.ndata['feat'].cuda()\n",
    "labels = dataset.labels.cuda()\n",
    "train_mask = split_idx['train'].cuda()\n",
    "val_mask = split_idx['valid'].cuda()\n",
    "test_mask = split_idx['test'].cuda()"
   ]
  },
  {
   "cell_type": "code",
   "execution_count": 21,
   "id": "2954aaab-3e21-4128-87f6-289ea7f0c064",
   "metadata": {},
   "outputs": [],
   "source": [
    "train_nid = train_mask.nonzero().squeeze()\n",
    "val_nid = val_mask.nonzero().squeeze()\n",
    "test_nid = test_mask.nonzero().squeeze()"
   ]
  },
  {
   "cell_type": "code",
   "execution_count": 22,
   "id": "6d6bdb41-1f08-4900-b455-12e97dd51901",
   "metadata": {},
   "outputs": [],
   "source": [
    "n_edges = graph.number_of_edges()"
   ]
  },
  {
   "cell_type": "code",
   "execution_count": 23,
   "id": "702cddd7-76e6-435a-bd1e-5ab97fc3c53e",
   "metadata": {},
   "outputs": [
    {
     "data": {
      "text/plain": [
       "Graph(num_nodes=169343, num_edges=2332486,\n",
       "      ndata_schemes={'year': Scheme(shape=(1,), dtype=torch.int64), 'feat': Scheme(shape=(128,), dtype=torch.float32)}\n",
       "      edata_schemes={})"
      ]
     },
     "execution_count": 23,
     "metadata": {},
     "output_type": "execute_result"
    }
   ],
   "source": [
    "graph"
   ]
  },
  {
   "cell_type": "code",
   "execution_count": 24,
   "id": "ba8d07cf-1afd-42ac-9fa0-f58671239815",
   "metadata": {},
   "outputs": [
    {
     "data": {
      "text/plain": [
       "'11.3'"
      ]
     },
     "execution_count": 24,
     "metadata": {},
     "output_type": "execute_result"
    }
   ],
   "source": [
    "torch.version.cuda"
   ]
  },
  {
   "cell_type": "code",
   "execution_count": 25,
   "id": "17ee820c-1cd7-4749-957d-3bf553733b1c",
   "metadata": {},
   "outputs": [],
   "source": [
    "graph = graph.to(device)"
   ]
  },
  {
   "cell_type": "code",
   "execution_count": 26,
   "id": "a59de90b-3eb5-4e49-9f91-9a4b298acfad",
   "metadata": {},
   "outputs": [],
   "source": [
    "n_layers = 3\n",
    "n_iters = 3000\n",
    "epochs = 5000\n",
    "log_steps = 100\n",
    "input_dim = features.shape[1]\n",
    "hidden_channels = input_dim * 2\n",
    "output_dim = dataset.num_classes\n",
    "lr_rate = 0.001\n",
    "dropout = 0.5"
   ]
  },
  {
   "cell_type": "code",
   "execution_count": 27,
   "id": "94314a0e-4181-4944-bbf8-590ce3cfbe64",
   "metadata": {},
   "outputs": [],
   "source": [
    "model = GraphSAGE(\n",
    "    n_layers=n_layers,\n",
    "    in_channels=input_dim,\n",
    "    hidden_channels=hidden_channels,\n",
    "    out_channels=output_dim,\n",
    "    dropout=dropout)\\\n",
    "    .to(device)"
   ]
  },
  {
   "cell_type": "code",
   "execution_count": 28,
   "id": "c3c6e74d-4b9d-4393-8e25-4dc35f37cd72",
   "metadata": {},
   "outputs": [],
   "source": [
    "def train(model, weigher, graph, features, train_mask, optimizer):\n",
    "    model.train()\n",
    "    weigher.train()\n",
    "\n",
    "    optimizer.zero_grad()\n",
    "    edge_weight = weigher()\n",
    "    out = model(graph, features, edge_weight=edge_weight)[train_mask]\n",
    "    loss = F.nll_loss(out, labels.squeeze(1)[train_mask])\n",
    "    loss.backward()\n",
    "    optimizer.step()\n",
    "\n",
    "    return loss.item()"
   ]
  },
  {
   "cell_type": "code",
   "execution_count": 29,
   "id": "6987be0b-d612-4624-b900-0bd8aea80e4b",
   "metadata": {},
   "outputs": [],
   "source": [
    "@torch.no_grad()\n",
    "def test(model, weigher, graph, features, labels, train_mask, val_mask, test_mask, evaluator):\n",
    "    model.eval()\n",
    "    weigher.eval()\n",
    "\n",
    "    edge_weight = weigher()\n",
    "    out = model(graph, features, edge_weight=edge_weight)\n",
    "    y_pred = out.argmax(dim=-1, keepdim=True)\n",
    "\n",
    "    train_acc = evaluator.eval({\n",
    "        'y_true': labels[train_mask],\n",
    "        'y_pred': y_pred[train_mask],\n",
    "    })['acc']\n",
    "    valid_acc = evaluator.eval({\n",
    "        'y_true': labels[val_mask],\n",
    "        'y_pred': y_pred[val_mask],\n",
    "    })['acc']\n",
    "    test_acc = evaluator.eval({\n",
    "        'y_true': labels[test_mask],\n",
    "        'y_pred': y_pred[test_mask],\n",
    "    })['acc']\n",
    "\n",
    "    return train_acc, valid_acc, test_acc"
   ]
  },
  {
   "cell_type": "code",
   "execution_count": 30,
   "id": "b3134806-ae8d-45ec-b3f7-bc41f62a101d",
   "metadata": {},
   "outputs": [],
   "source": [
    "evaluator = Evaluator(name='ogbn-arxiv')"
   ]
  },
  {
   "cell_type": "code",
   "execution_count": 31,
   "id": "64808988-9806-4683-a07b-0c732402c239",
   "metadata": {},
   "outputs": [
    {
     "name": "stdout",
     "output_type": "stream",
     "text": [
      "Epoch: 100, Loss: 1.3689, Train: 65.01%, Valid: 65.53% Test: 64.70%\n",
      "Epoch: 200, Loss: 1.1406, Train: 69.62%, Valid: 68.92% Test: 67.86%\n",
      "Epoch: 300, Loss: 1.0499, Train: 71.45%, Valid: 70.23% Test: 69.23%\n",
      "Epoch: 400, Loss: 0.9939, Train: 72.66%, Valid: 70.93% Test: 69.80%\n",
      "Epoch: 500, Loss: 0.9595, Train: 73.50%, Valid: 71.19% Test: 70.07%\n",
      "Epoch: 600, Loss: 0.9275, Train: 74.19%, Valid: 71.49% Test: 70.46%\n",
      "Epoch: 700, Loss: 0.9034, Train: 74.90%, Valid: 71.58% Test: 70.72%\n",
      "Epoch: 800, Loss: 0.8805, Train: 75.53%, Valid: 71.88% Test: 70.74%\n",
      "Epoch: 900, Loss: 0.8635, Train: 76.07%, Valid: 72.05% Test: 71.01%\n",
      "Epoch: 1000, Loss: 0.8430, Train: 76.58%, Valid: 72.29% Test: 71.10%\n",
      "Epoch: 1100, Loss: 0.8278, Train: 77.03%, Valid: 72.29% Test: 71.00%\n",
      "Epoch: 1200, Loss: 0.8130, Train: 77.54%, Valid: 72.45% Test: 71.24%\n",
      "Epoch: 1300, Loss: 0.7975, Train: 77.96%, Valid: 72.54% Test: 71.30%\n",
      "Epoch: 1400, Loss: 0.7865, Train: 78.36%, Valid: 72.50% Test: 71.38%\n",
      "Epoch: 1500, Loss: 0.7752, Train: 78.68%, Valid: 72.52% Test: 71.37%\n",
      "Epoch: 1600, Loss: 0.7635, Train: 79.13%, Valid: 72.68% Test: 71.46%\n",
      "Epoch: 1700, Loss: 0.7524, Train: 79.47%, Valid: 72.69% Test: 71.49%\n",
      "Epoch: 1800, Loss: 0.7422, Train: 79.85%, Valid: 72.67% Test: 71.40%\n",
      "Epoch: 1900, Loss: 0.7341, Train: 80.19%, Valid: 72.78% Test: 71.44%\n",
      "Epoch: 2000, Loss: 0.7290, Train: 80.44%, Valid: 72.88% Test: 71.79%\n",
      "Epoch: 2100, Loss: 0.7162, Train: 80.72%, Valid: 72.76% Test: 71.48%\n",
      "Epoch: 2200, Loss: 0.7092, Train: 81.02%, Valid: 72.84% Test: 71.68%\n",
      "Epoch: 2300, Loss: 0.7044, Train: 81.22%, Valid: 72.80% Test: 71.49%\n",
      "Epoch: 2400, Loss: 0.6969, Train: 81.49%, Valid: 72.84% Test: 71.56%\n",
      "Epoch: 2500, Loss: 0.6944, Train: 81.88%, Valid: 72.98% Test: 71.70%\n",
      "Epoch: 2600, Loss: 0.6865, Train: 82.04%, Valid: 72.95% Test: 71.62%\n",
      "Epoch: 2700, Loss: 0.6811, Train: 82.25%, Valid: 72.95% Test: 71.79%\n",
      "Epoch: 2800, Loss: 0.6765, Train: 82.47%, Valid: 72.99% Test: 71.67%\n",
      "Epoch: 2900, Loss: 0.6720, Train: 82.62%, Valid: 72.92% Test: 71.62%\n",
      "Epoch: 3000, Loss: 0.6650, Train: 82.81%, Valid: 72.88% Test: 71.39%\n",
      "Epoch: 3100, Loss: 0.6622, Train: 83.10%, Valid: 72.94% Test: 71.57%\n",
      "Epoch: 3200, Loss: 0.6555, Train: 83.31%, Valid: 72.95% Test: 71.52%\n",
      "Epoch: 3300, Loss: 0.6518, Train: 83.38%, Valid: 72.99% Test: 71.46%\n",
      "Epoch: 3400, Loss: 0.6458, Train: 83.56%, Valid: 72.90% Test: 71.52%\n",
      "Epoch: 3500, Loss: 0.6413, Train: 83.75%, Valid: 72.78% Test: 71.40%\n",
      "Epoch: 3600, Loss: 0.6403, Train: 83.96%, Valid: 72.81% Test: 71.42%\n",
      "Epoch: 3700, Loss: 0.6320, Train: 84.00%, Valid: 72.70% Test: 70.98%\n",
      "Epoch: 3800, Loss: 0.6333, Train: 84.24%, Valid: 72.88% Test: 71.66%\n",
      "Epoch: 3900, Loss: 0.6294, Train: 84.40%, Valid: 72.86% Test: 71.56%\n",
      "Epoch: 4000, Loss: 0.6275, Train: 84.58%, Valid: 72.93% Test: 71.64%\n",
      "Epoch: 4100, Loss: 0.6214, Train: 84.71%, Valid: 72.79% Test: 71.40%\n",
      "Epoch: 4200, Loss: 0.6202, Train: 84.97%, Valid: 72.88% Test: 71.51%\n",
      "Epoch: 4300, Loss: 0.6192, Train: 85.01%, Valid: 72.79% Test: 71.44%\n",
      "Epoch: 4400, Loss: 0.6141, Train: 85.16%, Valid: 72.82% Test: 71.53%\n",
      "Epoch: 4500, Loss: 0.6113, Train: 85.31%, Valid: 72.84% Test: 71.53%\n",
      "Epoch: 4600, Loss: 0.6065, Train: 85.41%, Valid: 72.96% Test: 71.61%\n",
      "Epoch: 4700, Loss: 0.6063, Train: 85.50%, Valid: 72.84% Test: 71.41%\n",
      "Epoch: 4800, Loss: 0.6027, Train: 85.63%, Valid: 72.94% Test: 71.48%\n",
      "Epoch: 4900, Loss: 0.6056, Train: 85.80%, Valid: 72.85% Test: 71.43%\n",
      "Epoch: 5000, Loss: 0.6018, Train: 85.80%, Valid: 72.92% Test: 71.56%\n"
     ]
    }
   ],
   "source": [
    "optimizer = torch.optim.Adam(\n",
    "    list(model.parameters()) +\n",
    "    list(weigher.parameters()),\n",
    "    lr=lr_rate)\n",
    "for epoch in range(1, 1 + epochs):\n",
    "    loss = train(model, weigher, graph, features, train_mask, optimizer)\n",
    "    result = test(model, weigher, graph, features, labels, train_mask, val_mask, test_mask, evaluator)\n",
    "\n",
    "    if epoch % log_steps == 0:\n",
    "        train_acc, valid_acc, test_acc = result\n",
    "        print(f'Epoch: {epoch:02d}, '\n",
    "              f'Loss: {loss:.4f}, '\n",
    "              f'Train: {100 * train_acc:.2f}%, '\n",
    "              f'Valid: {100 * valid_acc:.2f}% '\n",
    "              f'Test: {100 * test_acc:.2f}%')"
   ]
  },
  {
   "cell_type": "code",
   "execution_count": 32,
   "id": "438be163-084d-420d-a753-72f1d0be8496",
   "metadata": {},
   "outputs": [
    {
     "data": {
      "text/plain": [
       "Parameter containing:\n",
       "tensor([[2.6413]], device='cuda:0', requires_grad=True)"
      ]
     },
     "execution_count": 32,
     "metadata": {},
     "output_type": "execute_result"
    }
   ],
   "source": [
    "weigher.lin.weight"
   ]
  },
  {
   "cell_type": "code",
   "execution_count": 33,
   "id": "8bd67173-8f00-437f-af2a-4d1daa7a1f7c",
   "metadata": {},
   "outputs": [
    {
     "data": {
      "text/plain": [
       "Parameter containing:\n",
       "tensor([1.6046], device='cuda:0', requires_grad=True)"
      ]
     },
     "execution_count": 33,
     "metadata": {},
     "output_type": "execute_result"
    }
   ],
   "source": [
    "weigher.lin.bias"
   ]
  }
 ],
 "metadata": {
  "kernelspec": {
   "display_name": "ArXiv Paper Classification",
   "language": "python",
   "name": "arxiv-paperclassification"
  },
  "language_info": {
   "codemirror_mode": {
    "name": "ipython",
    "version": 3
   },
   "file_extension": ".py",
   "mimetype": "text/x-python",
   "name": "python",
   "nbconvert_exporter": "python",
   "pygments_lexer": "ipython3",
   "version": "3.8.10"
  }
 },
 "nbformat": 4,
 "nbformat_minor": 5
}
