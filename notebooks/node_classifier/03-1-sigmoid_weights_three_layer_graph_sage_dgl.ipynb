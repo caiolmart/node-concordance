{
 "cells": [
  {
   "cell_type": "code",
   "execution_count": 1,
   "id": "bbcf865e-32c9-481a-b7fb-661fac566cd0",
   "metadata": {},
   "outputs": [],
   "source": [
    "%load_ext autoreload\n",
    "%autoreload 2"
   ]
  },
  {
   "cell_type": "code",
   "execution_count": 2,
   "id": "d6d50784-ae0a-4e9a-923f-a8a5da84c41f",
   "metadata": {},
   "outputs": [],
   "source": [
    "import os\n",
    "\n",
    "while 'notebooks' in os.getcwd():\n",
    "    os.chdir('..')\n",
    "\n",
    "import pandas as pd\n",
    "import torch\n",
    "import torch.nn.functional as F\n",
    "from ogb.nodeproppred import DglNodePropPredDataset, Evaluator\n",
    "from sklearn.metrics import roc_auc_score\n",
    "import logging\n",
    "import matplotlib.pyplot as plt\n",
    "import plotly.express as px\n",
    "import plotly.offline as pyo\n",
    "import numpy as np\n",
    "\n",
    "from src.dgl_models import GraphSAGE, EdgeWeigher\n",
    "from src.data.node_classifier.arxiv import load_dataset, get_symmetric_graph\n",
    "from src.train.node_classifier import WeigthedGraphSageNodeClassifier"
   ]
  },
  {
   "cell_type": "code",
   "execution_count": 3,
   "id": "d302740f-dfae-4604-a1a7-75925122e68f",
   "metadata": {},
   "outputs": [],
   "source": [
    "logging.basicConfig(\n",
    "    format='%(asctime)s - %(levelname)s : %(message)s',\n",
    "    level=logging.INFO,\n",
    "    datefmt='%Y-%m-%d %H:%M:%S'\n",
    ")"
   ]
  },
  {
   "cell_type": "code",
   "execution_count": 4,
   "id": "5aac4a89-f43d-494e-92dd-4f8c0cb7d24e",
   "metadata": {},
   "outputs": [
    {
     "data": {
      "text/plain": [
       "True"
      ]
     },
     "execution_count": 4,
     "metadata": {},
     "output_type": "execute_result"
    }
   ],
   "source": [
    "torch.cuda.is_available()"
   ]
  },
  {
   "cell_type": "code",
   "execution_count": 5,
   "id": "5d7b6cb5-686a-4bba-99c0-7e954a656f4b",
   "metadata": {},
   "outputs": [
    {
     "data": {
      "text/plain": [
       "device(type='cuda', index=0)"
      ]
     },
     "execution_count": 5,
     "metadata": {},
     "output_type": "execute_result"
    }
   ],
   "source": [
    "device = f'cuda:0' if torch.cuda.is_available() else 'cpu'\n",
    "device = torch.device(device)\n",
    "device"
   ]
  },
  {
   "cell_type": "markdown",
   "id": "3ee35052-8c79-4ad5-bef5-0d0759048428",
   "metadata": {
    "tags": []
   },
   "source": [
    "## Data Loading"
   ]
  },
  {
   "cell_type": "code",
   "execution_count": 6,
   "id": "52be6a60-0244-4a36-9d35-11213ffd1d9a",
   "metadata": {},
   "outputs": [],
   "source": [
    "dataset = load_dataset()"
   ]
  },
  {
   "cell_type": "code",
   "execution_count": 7,
   "id": "3156b5a5-fd5d-4b8b-b65f-fb8e5e094d4b",
   "metadata": {},
   "outputs": [],
   "source": [
    "graph = get_symmetric_graph(dataset)"
   ]
  },
  {
   "cell_type": "code",
   "execution_count": 8,
   "id": "a00a55d4-9439-4a2d-b8ad-04312950705e",
   "metadata": {},
   "outputs": [
    {
     "data": {
      "text/plain": [
       "2332486"
      ]
     },
     "execution_count": 8,
     "metadata": {},
     "output_type": "execute_result"
    }
   ],
   "source": [
    "graph.number_of_edges()"
   ]
  },
  {
   "cell_type": "code",
   "execution_count": 9,
   "id": "7ede6493-7bc6-4817-aa2f-b198fece5bed",
   "metadata": {},
   "outputs": [
    {
     "data": {
      "text/plain": [
       "tensor(13.7737)"
      ]
     },
     "execution_count": 9,
     "metadata": {},
     "output_type": "execute_result"
    }
   ],
   "source": [
    "torch.mean(graph.out_degrees() * 1.)"
   ]
  },
  {
   "cell_type": "code",
   "execution_count": 10,
   "id": "cda95dc7-6b41-42a8-b9ec-e07e3b2536b9",
   "metadata": {},
   "outputs": [
    {
     "data": {
      "text/plain": [
       "tensor(13.7737)"
      ]
     },
     "execution_count": 10,
     "metadata": {},
     "output_type": "execute_result"
    }
   ],
   "source": [
    "torch.mean(graph.in_degrees() * 1.)"
   ]
  },
  {
   "cell_type": "code",
   "execution_count": 11,
   "id": "93838a75-3dd5-4b0d-8448-0c6cf63a0798",
   "metadata": {},
   "outputs": [],
   "source": [
    "split_idx = dataset.get_idx_split()"
   ]
  },
  {
   "cell_type": "code",
   "execution_count": 12,
   "id": "2ebd0211-5d18-47b5-9e59-c9fb21da2ed2",
   "metadata": {},
   "outputs": [
    {
     "data": {
      "text/plain": [
       "{'train': tensor([     0,      1,      2,  ..., 169145, 169148, 169251]),\n",
       " 'valid': tensor([   349,    357,    366,  ..., 169185, 169261, 169296]),\n",
       " 'test': tensor([   346,    398,    451,  ..., 169340, 169341, 169342])}"
      ]
     },
     "execution_count": 12,
     "metadata": {},
     "output_type": "execute_result"
    }
   ],
   "source": [
    "split_idx"
   ]
  },
  {
   "cell_type": "code",
   "execution_count": 13,
   "id": "046f00b8-5605-46d1-8894-e9b85b713194",
   "metadata": {},
   "outputs": [
    {
     "name": "stdout",
     "output_type": "stream",
     "text": [
      "(2315598, 3)\n"
     ]
    },
    {
     "data": {
      "text/html": [
       "<div>\n",
       "<style scoped>\n",
       "    .dataframe tbody tr th:only-of-type {\n",
       "        vertical-align: middle;\n",
       "    }\n",
       "\n",
       "    .dataframe tbody tr th {\n",
       "        vertical-align: top;\n",
       "    }\n",
       "\n",
       "    .dataframe thead th {\n",
       "        text-align: right;\n",
       "    }\n",
       "</style>\n",
       "<table border=\"1\" class=\"dataframe\">\n",
       "  <thead>\n",
       "    <tr style=\"text-align: right;\">\n",
       "      <th></th>\n",
       "      <th>source</th>\n",
       "      <th>target</th>\n",
       "      <th>gamma_pred</th>\n",
       "    </tr>\n",
       "  </thead>\n",
       "  <tbody>\n",
       "    <tr>\n",
       "      <th>0</th>\n",
       "      <td>411</td>\n",
       "      <td>0</td>\n",
       "      <td>0.649669</td>\n",
       "    </tr>\n",
       "    <tr>\n",
       "      <th>1</th>\n",
       "      <td>640</td>\n",
       "      <td>0</td>\n",
       "      <td>0.784250</td>\n",
       "    </tr>\n",
       "    <tr>\n",
       "      <th>2</th>\n",
       "      <td>1162</td>\n",
       "      <td>0</td>\n",
       "      <td>0.787807</td>\n",
       "    </tr>\n",
       "    <tr>\n",
       "      <th>3</th>\n",
       "      <td>1897</td>\n",
       "      <td>0</td>\n",
       "      <td>0.787201</td>\n",
       "    </tr>\n",
       "    <tr>\n",
       "      <th>4</th>\n",
       "      <td>3396</td>\n",
       "      <td>0</td>\n",
       "      <td>0.784839</td>\n",
       "    </tr>\n",
       "  </tbody>\n",
       "</table>\n",
       "</div>"
      ],
      "text/plain": [
       "   source  target  gamma_pred\n",
       "0     411       0    0.649669\n",
       "1     640       0    0.784250\n",
       "2    1162       0    0.787807\n",
       "3    1897       0    0.787201\n",
       "4    3396       0    0.784839"
      ]
     },
     "execution_count": 13,
     "metadata": {},
     "output_type": "execute_result"
    }
   ],
   "source": [
    "edges_gamma_df = pd.read_csv('data/gamma_graph_sage/01-1_gamma_scored_edges.csv')\n",
    "print(edges_gamma_df.shape)\n",
    "edges_gamma_df.head()"
   ]
  },
  {
   "cell_type": "code",
   "execution_count": 14,
   "id": "6ea4ffcc-abaf-4ccc-8571-01c42006a61b",
   "metadata": {},
   "outputs": [],
   "source": [
    "keys = tuple(zip(edges_gamma_df['source'].values, edges_gamma_df['target'].values))\n",
    "pred_dict = dict(zip(keys, edges_gamma_df['gamma_pred'].values))"
   ]
  },
  {
   "cell_type": "code",
   "execution_count": 15,
   "id": "f9abf969-d316-421d-aa22-a27253a62c10",
   "metadata": {},
   "outputs": [
    {
     "data": {
      "text/plain": [
       "0.74366045"
      ]
     },
     "execution_count": 15,
     "metadata": {},
     "output_type": "execute_result"
    }
   ],
   "source": [
    "idx=0\n",
    "pred_dict[(graph.edges()[0][idx].item(), graph.edges()[1][idx].item())]"
   ]
  },
  {
   "cell_type": "code",
   "execution_count": 16,
   "id": "d43c938d-201c-4028-ac8d-df20e799650d",
   "metadata": {},
   "outputs": [],
   "source": [
    "source = graph.edges()[0].numpy()\n",
    "target = graph.edges()[1].numpy()\n",
    "graph_edge_keys = tuple(zip(source, target))"
   ]
  },
  {
   "cell_type": "code",
   "execution_count": 17,
   "id": "27644f8d-0393-43f9-a96e-c7eaca13c702",
   "metadata": {},
   "outputs": [
    {
     "data": {
      "text/plain": [
       "tensor([[0.7437],\n",
       "        [0.7242],\n",
       "        [0.5969],\n",
       "        [0.7571],\n",
       "        [0.7405]], device='cuda:0')"
      ]
     },
     "execution_count": 17,
     "metadata": {},
     "output_type": "execute_result"
    }
   ],
   "source": [
    "base_weights = [pred_dict[edge] for edge in graph_edge_keys]\n",
    "base_weights = torch.tensor(base_weights, dtype=torch.float32).view(-1, 1).to(device)\n",
    "base_weights[:5]"
   ]
  },
  {
   "cell_type": "code",
   "execution_count": 18,
   "id": "8f1003e8-cdcb-4bae-8fed-597a2ec9722d",
   "metadata": {},
   "outputs": [],
   "source": [
    "weigher = EdgeWeigher(base_weights).to(device)\n",
    "weigher.reset_parameters()"
   ]
  },
  {
   "cell_type": "code",
   "execution_count": 19,
   "id": "ac277e37-bec7-46c9-be5c-9311da891fe2",
   "metadata": {},
   "outputs": [],
   "source": [
    "features = graph.ndata['feat'].cuda()\n",
    "labels = dataset.labels.cuda()\n",
    "train_mask = split_idx['train'].cuda()\n",
    "val_mask = split_idx['valid'].cuda()\n",
    "test_mask = split_idx['test'].cuda()"
   ]
  },
  {
   "cell_type": "code",
   "execution_count": 20,
   "id": "2954aaab-3e21-4128-87f6-289ea7f0c064",
   "metadata": {},
   "outputs": [],
   "source": [
    "train_nid = train_mask.nonzero().squeeze()\n",
    "val_nid = val_mask.nonzero().squeeze()\n",
    "test_nid = test_mask.nonzero().squeeze()"
   ]
  },
  {
   "cell_type": "code",
   "execution_count": 21,
   "id": "6d6bdb41-1f08-4900-b455-12e97dd51901",
   "metadata": {},
   "outputs": [],
   "source": [
    "n_edges = graph.number_of_edges()"
   ]
  },
  {
   "cell_type": "code",
   "execution_count": 22,
   "id": "702cddd7-76e6-435a-bd1e-5ab97fc3c53e",
   "metadata": {},
   "outputs": [
    {
     "data": {
      "text/plain": [
       "Graph(num_nodes=169343, num_edges=2332486,\n",
       "      ndata_schemes={'year': Scheme(shape=(1,), dtype=torch.int64), 'feat': Scheme(shape=(128,), dtype=torch.float32)}\n",
       "      edata_schemes={})"
      ]
     },
     "execution_count": 22,
     "metadata": {},
     "output_type": "execute_result"
    }
   ],
   "source": [
    "graph"
   ]
  },
  {
   "cell_type": "code",
   "execution_count": 23,
   "id": "ba8d07cf-1afd-42ac-9fa0-f58671239815",
   "metadata": {},
   "outputs": [
    {
     "data": {
      "text/plain": [
       "'11.3'"
      ]
     },
     "execution_count": 23,
     "metadata": {},
     "output_type": "execute_result"
    }
   ],
   "source": [
    "torch.version.cuda"
   ]
  },
  {
   "cell_type": "code",
   "execution_count": 24,
   "id": "17ee820c-1cd7-4749-957d-3bf553733b1c",
   "metadata": {},
   "outputs": [],
   "source": [
    "graph = graph.to(device)"
   ]
  },
  {
   "cell_type": "code",
   "execution_count": 25,
   "id": "a59de90b-3eb5-4e49-9f91-9a4b298acfad",
   "metadata": {},
   "outputs": [],
   "source": [
    "n_layers = 3\n",
    "n_iters = 3000\n",
    "epochs = 5000\n",
    "log_steps = 100\n",
    "input_dim = features.shape[1]\n",
    "hidden_channels = input_dim * 2\n",
    "output_dim = dataset.num_classes\n",
    "lr_rate = 0.001\n",
    "dropout = 0.5"
   ]
  },
  {
   "cell_type": "code",
   "execution_count": 26,
   "id": "94314a0e-4181-4944-bbf8-590ce3cfbe64",
   "metadata": {},
   "outputs": [],
   "source": [
    "model = GraphSAGE(\n",
    "    n_layers=n_layers,\n",
    "    in_channels=input_dim,\n",
    "    hidden_channels=hidden_channels,\n",
    "    out_channels=output_dim,\n",
    "    dropout=dropout)\\\n",
    "    .to(device)"
   ]
  },
  {
   "cell_type": "code",
   "execution_count": 27,
   "id": "c3c6e74d-4b9d-4393-8e25-4dc35f37cd72",
   "metadata": {},
   "outputs": [],
   "source": [
    "def train(model, weigher, graph, features, train_mask, optimizer):\n",
    "    model.train()\n",
    "    weigher.train()\n",
    "\n",
    "    edge_weight = weigher()\n",
    "    optimizer.zero_grad()\n",
    "    out = model(graph, features, edge_weight=edge_weight)[train_mask]\n",
    "    loss = F.nll_loss(out, labels.squeeze(1)[train_mask])\n",
    "    loss.backward()\n",
    "    optimizer.step()\n",
    "\n",
    "    return loss.item()"
   ]
  },
  {
   "cell_type": "code",
   "execution_count": 28,
   "id": "6987be0b-d612-4624-b900-0bd8aea80e4b",
   "metadata": {},
   "outputs": [],
   "source": [
    "@torch.no_grad()\n",
    "def test(model, weigher, graph, features, labels, train_mask, val_mask, test_mask, evaluator):\n",
    "    model.eval()\n",
    "    weigher.eval()\n",
    "\n",
    "    edge_weight = weigher()\n",
    "    out = model(graph, features, edge_weight=edge_weight)\n",
    "    y_pred = out.argmax(dim=-1, keepdim=True)\n",
    "\n",
    "    train_acc = evaluator.eval({\n",
    "        'y_true': labels[train_mask],\n",
    "        'y_pred': y_pred[train_mask],\n",
    "    })['acc']\n",
    "    valid_acc = evaluator.eval({\n",
    "        'y_true': labels[val_mask],\n",
    "        'y_pred': y_pred[val_mask],\n",
    "    })['acc']\n",
    "    test_acc = evaluator.eval({\n",
    "        'y_true': labels[test_mask],\n",
    "        'y_pred': y_pred[test_mask],\n",
    "    })['acc']\n",
    "\n",
    "    return train_acc, valid_acc, test_acc"
   ]
  },
  {
   "cell_type": "code",
   "execution_count": 29,
   "id": "b3134806-ae8d-45ec-b3f7-bc41f62a101d",
   "metadata": {},
   "outputs": [],
   "source": [
    "evaluator = Evaluator(name='ogbn-arxiv')"
   ]
  },
  {
   "cell_type": "code",
   "execution_count": 30,
   "id": "64808988-9806-4683-a07b-0c732402c239",
   "metadata": {},
   "outputs": [
    {
     "name": "stdout",
     "output_type": "stream",
     "text": [
      "Epoch: 100, Loss: 1.3725, Train: 64.98%, Valid: 65.68% Test: 64.79%\n",
      "Epoch: 200, Loss: 1.1446, Train: 69.44%, Valid: 68.98% Test: 67.95%\n",
      "Epoch: 300, Loss: 1.0526, Train: 71.22%, Valid: 70.17% Test: 69.06%\n",
      "Epoch: 400, Loss: 1.0034, Train: 72.47%, Valid: 70.78% Test: 69.77%\n",
      "Epoch: 500, Loss: 0.9638, Train: 73.35%, Valid: 71.08% Test: 70.03%\n",
      "Epoch: 600, Loss: 0.9308, Train: 74.14%, Valid: 71.52% Test: 70.36%\n",
      "Epoch: 700, Loss: 0.9062, Train: 74.80%, Valid: 71.75% Test: 70.78%\n",
      "Epoch: 800, Loss: 0.8843, Train: 75.35%, Valid: 71.79% Test: 70.46%\n",
      "Epoch: 900, Loss: 0.8640, Train: 75.87%, Valid: 72.07% Test: 70.90%\n",
      "Epoch: 1000, Loss: 0.8426, Train: 76.40%, Valid: 72.17% Test: 70.98%\n",
      "Epoch: 1100, Loss: 0.8298, Train: 76.89%, Valid: 72.24% Test: 71.14%\n",
      "Epoch: 1200, Loss: 0.8157, Train: 77.33%, Valid: 72.30% Test: 71.23%\n",
      "Epoch: 1300, Loss: 0.7998, Train: 77.81%, Valid: 72.42% Test: 71.35%\n",
      "Epoch: 1400, Loss: 0.7891, Train: 78.22%, Valid: 72.50% Test: 71.38%\n",
      "Epoch: 1500, Loss: 0.7771, Train: 78.60%, Valid: 72.66% Test: 71.65%\n",
      "Epoch: 1600, Loss: 0.7660, Train: 79.02%, Valid: 72.54% Test: 71.41%\n",
      "Epoch: 1700, Loss: 0.7553, Train: 79.34%, Valid: 72.74% Test: 71.44%\n",
      "Epoch: 1800, Loss: 0.7454, Train: 79.67%, Valid: 72.84% Test: 71.60%\n",
      "Epoch: 1900, Loss: 0.7333, Train: 79.99%, Valid: 72.95% Test: 71.56%\n",
      "Epoch: 2000, Loss: 0.7241, Train: 80.29%, Valid: 72.91% Test: 71.43%\n",
      "Epoch: 2100, Loss: 0.7197, Train: 80.68%, Valid: 72.86% Test: 71.36%\n",
      "Epoch: 2200, Loss: 0.7086, Train: 80.93%, Valid: 73.01% Test: 71.59%\n",
      "Epoch: 2300, Loss: 0.7074, Train: 81.13%, Valid: 72.75% Test: 71.22%\n",
      "Epoch: 2400, Loss: 0.6986, Train: 81.45%, Valid: 73.21% Test: 71.83%\n",
      "Epoch: 2500, Loss: 0.6905, Train: 81.62%, Valid: 72.94% Test: 71.40%\n",
      "Epoch: 2600, Loss: 0.6816, Train: 81.86%, Valid: 72.93% Test: 71.23%\n",
      "Epoch: 2700, Loss: 0.6844, Train: 82.20%, Valid: 73.06% Test: 71.45%\n",
      "Epoch: 2800, Loss: 0.6755, Train: 82.33%, Valid: 72.96% Test: 71.14%\n",
      "Epoch: 2900, Loss: 0.6699, Train: 82.58%, Valid: 73.03% Test: 71.41%\n",
      "Epoch: 3000, Loss: 0.6616, Train: 82.82%, Valid: 73.16% Test: 71.46%\n",
      "Epoch: 3100, Loss: 0.6606, Train: 82.98%, Valid: 73.18% Test: 71.54%\n",
      "Epoch: 3200, Loss: 0.6548, Train: 83.23%, Valid: 72.95% Test: 71.12%\n",
      "Epoch: 3300, Loss: 0.6530, Train: 83.38%, Valid: 73.20% Test: 71.51%\n",
      "Epoch: 3400, Loss: 0.6470, Train: 83.55%, Valid: 73.04% Test: 71.21%\n",
      "Epoch: 3500, Loss: 0.6432, Train: 83.69%, Valid: 73.02% Test: 71.18%\n",
      "Epoch: 3600, Loss: 0.6395, Train: 83.91%, Valid: 73.19% Test: 71.54%\n",
      "Epoch: 3700, Loss: 0.6381, Train: 84.11%, Valid: 73.12% Test: 71.25%\n",
      "Epoch: 3800, Loss: 0.6327, Train: 84.31%, Valid: 73.09% Test: 71.46%\n",
      "Epoch: 3900, Loss: 0.6286, Train: 84.41%, Valid: 73.04% Test: 71.38%\n",
      "Epoch: 4000, Loss: 0.6282, Train: 84.55%, Valid: 72.85% Test: 70.83%\n",
      "Epoch: 4100, Loss: 0.6255, Train: 84.64%, Valid: 73.02% Test: 71.15%\n",
      "Epoch: 4200, Loss: 0.6216, Train: 84.78%, Valid: 73.23% Test: 71.49%\n",
      "Epoch: 4300, Loss: 0.6171, Train: 84.92%, Valid: 73.11% Test: 71.41%\n",
      "Epoch: 4400, Loss: 0.6138, Train: 85.09%, Valid: 73.04% Test: 71.28%\n",
      "Epoch: 4500, Loss: 0.6162, Train: 85.23%, Valid: 73.14% Test: 71.54%\n",
      "Epoch: 4600, Loss: 0.6118, Train: 85.38%, Valid: 72.89% Test: 71.05%\n",
      "Epoch: 4700, Loss: 0.6016, Train: 85.44%, Valid: 72.95% Test: 71.32%\n",
      "Epoch: 4800, Loss: 0.6041, Train: 85.65%, Valid: 73.17% Test: 71.50%\n",
      "Epoch: 4900, Loss: 0.6043, Train: 85.73%, Valid: 73.12% Test: 71.44%\n",
      "Epoch: 5000, Loss: 0.6006, Train: 85.79%, Valid: 73.06% Test: 71.27%\n"
     ]
    }
   ],
   "source": [
    "optimizer = torch.optim.Adam(\n",
    "    list(model.parameters()) +\n",
    "    list(weigher.parameters()),\n",
    "    lr=lr_rate)\n",
    "for epoch in range(1, 1 + epochs):\n",
    "    loss = train(model, weigher, graph, features, train_mask, optimizer)\n",
    "    result = test(model, weigher, graph, features, labels, train_mask, val_mask, test_mask, evaluator)\n",
    "\n",
    "    if epoch % log_steps == 0:\n",
    "        train_acc, valid_acc, test_acc = result\n",
    "        print(f'Epoch: {epoch:02d}, '\n",
    "              f'Loss: {loss:.4f}, '\n",
    "              f'Train: {100 * train_acc:.2f}%, '\n",
    "              f'Valid: {100 * valid_acc:.2f}% '\n",
    "              f'Test: {100 * test_acc:.2f}%')"
   ]
  },
  {
   "cell_type": "code",
   "execution_count": 31,
   "id": "438be163-084d-420d-a753-72f1d0be8496",
   "metadata": {},
   "outputs": [
    {
     "data": {
      "text/plain": [
       "Parameter containing:\n",
       "tensor([[2.6578]], device='cuda:0', requires_grad=True)"
      ]
     },
     "execution_count": 31,
     "metadata": {},
     "output_type": "execute_result"
    }
   ],
   "source": [
    "weigher.lin.weight"
   ]
  },
  {
   "cell_type": "code",
   "execution_count": 32,
   "id": "8bd67173-8f00-437f-af2a-4d1daa7a1f7c",
   "metadata": {},
   "outputs": [
    {
     "data": {
      "text/plain": [
       "Parameter containing:\n",
       "tensor([1.6175], device='cuda:0', requires_grad=True)"
      ]
     },
     "execution_count": 32,
     "metadata": {},
     "output_type": "execute_result"
    }
   ],
   "source": [
    "weigher.lin.bias"
   ]
  }
 ],
 "metadata": {
  "kernelspec": {
   "display_name": "ArXiv Paper Classification",
   "language": "python",
   "name": "arxiv-paperclassification"
  },
  "language_info": {
   "codemirror_mode": {
    "name": "ipython",
    "version": 3
   },
   "file_extension": ".py",
   "mimetype": "text/x-python",
   "name": "python",
   "nbconvert_exporter": "python",
   "pygments_lexer": "ipython3",
   "version": "3.8.10"
  }
 },
 "nbformat": 4,
 "nbformat_minor": 5
}
