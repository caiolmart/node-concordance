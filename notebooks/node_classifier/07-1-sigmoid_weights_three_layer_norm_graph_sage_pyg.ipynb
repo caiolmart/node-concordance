{
 "cells": [
  {
   "cell_type": "code",
   "execution_count": 1,
   "id": "bbcf865e-32c9-481a-b7fb-661fac566cd0",
   "metadata": {},
   "outputs": [],
   "source": [
    "%load_ext autoreload\n",
    "%autoreload 2"
   ]
  },
  {
   "cell_type": "code",
   "execution_count": 2,
   "id": "d6d50784-ae0a-4e9a-923f-a8a5da84c41f",
   "metadata": {},
   "outputs": [],
   "source": [
    "import os\n",
    "\n",
    "while 'notebooks' in os.getcwd():\n",
    "    os.chdir('..')\n",
    "\n",
    "import pandas as pd\n",
    "import torch\n",
    "import torch.nn.functional as F\n",
    "from torch_sparse.tensor import SparseTensor\n",
    "from ogb.nodeproppred import PygNodePropPredDataset, Evaluator\n",
    "from sklearn.metrics import roc_auc_score\n",
    "import logging\n",
    "import matplotlib.pyplot as plt\n",
    "import plotly.express as px\n",
    "import plotly.offline as pyo\n",
    "import numpy as np\n",
    "\n",
    "from src.torch_geo_models import GCN, EdgeWeigher\n",
    "from src.data.node_classifier.arxiv import load_dataset_pyg, data_to_sparse_symmetric_pyg"
   ]
  },
  {
   "cell_type": "code",
   "execution_count": 3,
   "id": "d302740f-dfae-4604-a1a7-75925122e68f",
   "metadata": {},
   "outputs": [],
   "source": [
    "logging.basicConfig(\n",
    "    format='%(asctime)s - %(levelname)s : %(message)s',\n",
    "    level=logging.INFO,\n",
    "    datefmt='%Y-%m-%d %H:%M:%S'\n",
    ")"
   ]
  },
  {
   "cell_type": "code",
   "execution_count": 4,
   "id": "5aac4a89-f43d-494e-92dd-4f8c0cb7d24e",
   "metadata": {},
   "outputs": [
    {
     "data": {
      "text/plain": [
       "True"
      ]
     },
     "execution_count": 4,
     "metadata": {},
     "output_type": "execute_result"
    }
   ],
   "source": [
    "torch.cuda.is_available()"
   ]
  },
  {
   "cell_type": "code",
   "execution_count": 5,
   "id": "5d7b6cb5-686a-4bba-99c0-7e954a656f4b",
   "metadata": {},
   "outputs": [
    {
     "data": {
      "text/plain": [
       "device(type='cuda', index=0)"
      ]
     },
     "execution_count": 5,
     "metadata": {},
     "output_type": "execute_result"
    }
   ],
   "source": [
    "device = f'cuda:0' if torch.cuda.is_available() else 'cpu'\n",
    "device = torch.device(device)\n",
    "device"
   ]
  },
  {
   "cell_type": "markdown",
   "id": "3ee35052-8c79-4ad5-bef5-0d0759048428",
   "metadata": {
    "tags": []
   },
   "source": [
    "## Data Loading"
   ]
  },
  {
   "cell_type": "code",
   "execution_count": 6,
   "id": "52be6a60-0244-4a36-9d35-11213ffd1d9a",
   "metadata": {},
   "outputs": [],
   "source": [
    "dataset = load_dataset_pyg()"
   ]
  },
  {
   "cell_type": "code",
   "execution_count": 7,
   "id": "3156b5a5-fd5d-4b8b-b65f-fb8e5e094d4b",
   "metadata": {},
   "outputs": [],
   "source": [
    "data = data_to_sparse_symmetric_pyg(dataset[0])\n",
    "data.adj_t = data.adj_t.to(device)"
   ]
  },
  {
   "cell_type": "code",
   "execution_count": 8,
   "id": "93838a75-3dd5-4b0d-8448-0c6cf63a0798",
   "metadata": {},
   "outputs": [],
   "source": [
    "split_idx = dataset.get_idx_split()"
   ]
  },
  {
   "cell_type": "code",
   "execution_count": 9,
   "id": "2ebd0211-5d18-47b5-9e59-c9fb21da2ed2",
   "metadata": {},
   "outputs": [
    {
     "data": {
      "text/plain": [
       "{'train': tensor([     0,      1,      2,  ..., 169145, 169148, 169251]),\n",
       " 'valid': tensor([   349,    357,    366,  ..., 169185, 169261, 169296]),\n",
       " 'test': tensor([   346,    398,    451,  ..., 169340, 169341, 169342])}"
      ]
     },
     "execution_count": 9,
     "metadata": {},
     "output_type": "execute_result"
    }
   ],
   "source": [
    "split_idx"
   ]
  },
  {
   "cell_type": "markdown",
   "id": "d84d0d55-c3de-433b-be4d-5e63a344938a",
   "metadata": {},
   "source": [
    "## Create `base_weights`"
   ]
  },
  {
   "cell_type": "code",
   "execution_count": 10,
   "id": "1e5d9e08-639c-4c16-b4d9-75098d956536",
   "metadata": {},
   "outputs": [
    {
     "name": "stdout",
     "output_type": "stream",
     "text": [
      "(2315598, 3)\n"
     ]
    },
    {
     "data": {
      "text/html": [
       "<div>\n",
       "<style scoped>\n",
       "    .dataframe tbody tr th:only-of-type {\n",
       "        vertical-align: middle;\n",
       "    }\n",
       "\n",
       "    .dataframe tbody tr th {\n",
       "        vertical-align: top;\n",
       "    }\n",
       "\n",
       "    .dataframe thead th {\n",
       "        text-align: right;\n",
       "    }\n",
       "</style>\n",
       "<table border=\"1\" class=\"dataframe\">\n",
       "  <thead>\n",
       "    <tr style=\"text-align: right;\">\n",
       "      <th></th>\n",
       "      <th>source</th>\n",
       "      <th>target</th>\n",
       "      <th>gamma_pred</th>\n",
       "    </tr>\n",
       "  </thead>\n",
       "  <tbody>\n",
       "    <tr>\n",
       "      <th>0</th>\n",
       "      <td>411</td>\n",
       "      <td>0</td>\n",
       "      <td>0.649669</td>\n",
       "    </tr>\n",
       "    <tr>\n",
       "      <th>1</th>\n",
       "      <td>640</td>\n",
       "      <td>0</td>\n",
       "      <td>0.784250</td>\n",
       "    </tr>\n",
       "    <tr>\n",
       "      <th>2</th>\n",
       "      <td>1162</td>\n",
       "      <td>0</td>\n",
       "      <td>0.787807</td>\n",
       "    </tr>\n",
       "    <tr>\n",
       "      <th>3</th>\n",
       "      <td>1897</td>\n",
       "      <td>0</td>\n",
       "      <td>0.787201</td>\n",
       "    </tr>\n",
       "    <tr>\n",
       "      <th>4</th>\n",
       "      <td>3396</td>\n",
       "      <td>0</td>\n",
       "      <td>0.784839</td>\n",
       "    </tr>\n",
       "  </tbody>\n",
       "</table>\n",
       "</div>"
      ],
      "text/plain": [
       "   source  target  gamma_pred\n",
       "0     411       0    0.649669\n",
       "1     640       0    0.784250\n",
       "2    1162       0    0.787807\n",
       "3    1897       0    0.787201\n",
       "4    3396       0    0.784839"
      ]
     },
     "execution_count": 10,
     "metadata": {},
     "output_type": "execute_result"
    }
   ],
   "source": [
    "edges_gamma_df = pd.read_csv('data/gamma_graph_sage/01-1_gamma_scored_edges.csv')\n",
    "print(edges_gamma_df.shape)\n",
    "edges_gamma_df.head()"
   ]
  },
  {
   "cell_type": "code",
   "execution_count": 11,
   "id": "6a946233-02ed-4952-810e-f422c73c48d1",
   "metadata": {},
   "outputs": [],
   "source": [
    "base_weights = SparseTensor.from_torch_sparse_coo_tensor(\n",
    "    torch.sparse_coo_tensor(\n",
    "        edges_gamma_df[['source', 'target']].values.T,\n",
    "        edges_gamma_df['gamma_pred'].values,\n",
    "        size=(data.adj_t.size(0), data.adj_t.size(1))))\\\n",
    "    .to(torch.float32)\\\n",
    "    .to(device)"
   ]
  },
  {
   "cell_type": "code",
   "execution_count": 12,
   "id": "23825097-a340-41a2-aefd-847540079cf8",
   "metadata": {},
   "outputs": [
    {
     "data": {
      "text/plain": [
       "True"
      ]
     },
     "execution_count": 12,
     "metadata": {},
     "output_type": "execute_result"
    }
   ],
   "source": [
    "base_weights.is_symmetric()"
   ]
  },
  {
   "cell_type": "code",
   "execution_count": 13,
   "id": "73ea73fd-693d-4b66-a695-747df374754f",
   "metadata": {},
   "outputs": [],
   "source": [
    "weigher = EdgeWeigher(base_weights).to(device)\n",
    "weigher.reset_parameters()"
   ]
  },
  {
   "cell_type": "markdown",
   "id": "67a24aa8-5ed9-4cfe-b5e9-ab486351de1e",
   "metadata": {},
   "source": [
    "### Model"
   ]
  },
  {
   "cell_type": "code",
   "execution_count": 14,
   "id": "ac277e37-bec7-46c9-be5c-9311da891fe2",
   "metadata": {},
   "outputs": [],
   "source": [
    "features = data.x.cuda()\n",
    "labels = data.y.cuda()\n",
    "train_mask = split_idx['train'].cuda()\n",
    "val_mask = split_idx['valid'].cuda()\n",
    "test_mask = split_idx['test'].cuda()"
   ]
  },
  {
   "cell_type": "code",
   "execution_count": 15,
   "id": "2954aaab-3e21-4128-87f6-289ea7f0c064",
   "metadata": {},
   "outputs": [],
   "source": [
    "train_nid = train_mask.nonzero().squeeze()\n",
    "val_nid = val_mask.nonzero().squeeze()\n",
    "test_nid = test_mask.nonzero().squeeze()"
   ]
  },
  {
   "cell_type": "code",
   "execution_count": 16,
   "id": "a59de90b-3eb5-4e49-9f91-9a4b298acfad",
   "metadata": {},
   "outputs": [],
   "source": [
    "n_layers = 3\n",
    "n_iters = 3000\n",
    "epochs = 100\n",
    "log_steps = 100\n",
    "input_dim = features.shape[1]\n",
    "hidden_channels = input_dim * 2\n",
    "output_dim = dataset.num_classes\n",
    "lr_rate = 0.001\n",
    "dropout = 0.5"
   ]
  },
  {
   "cell_type": "code",
   "execution_count": 17,
   "id": "94314a0e-4181-4944-bbf8-590ce3cfbe64",
   "metadata": {},
   "outputs": [],
   "source": [
    "model = GCN(\n",
    "    n_layers=n_layers,\n",
    "    in_channels=input_dim,\n",
    "    hidden_channels=hidden_channels,\n",
    "    out_channels=output_dim,\n",
    "    dropout=dropout,\n",
    "    batch_norm=True)\\\n",
    "    .to(device)"
   ]
  },
  {
   "cell_type": "code",
   "execution_count": 18,
   "id": "c3c6e74d-4b9d-4393-8e25-4dc35f37cd72",
   "metadata": {},
   "outputs": [],
   "source": [
    "def train(model, weigher, graph, features, train_mask, optimizer):\n",
    "    model.train()\n",
    "    weigher.train()\n",
    "\n",
    "    optimizer.zero_grad()\n",
    "    edge_weight = weigher()\n",
    "    out = model(features, graph, edge_weight=edge_weight)[train_mask]\n",
    "    loss = F.nll_loss(out, labels.squeeze(1)[train_mask])\n",
    "    loss.backward()\n",
    "    optimizer.step()\n",
    "\n",
    "    return loss.item()"
   ]
  },
  {
   "cell_type": "code",
   "execution_count": 19,
   "id": "6987be0b-d612-4624-b900-0bd8aea80e4b",
   "metadata": {},
   "outputs": [],
   "source": [
    "@torch.no_grad()\n",
    "def test(model, weigher, graph, features, labels, train_mask, val_mask, test_mask, evaluator):\n",
    "    model.eval()\n",
    "    weigher.eval()\n",
    "\n",
    "    edge_weight = weigher()\n",
    "    out = model(features, graph, edge_weight=edge_weight)\n",
    "    y_pred = out.argmax(dim=-1, keepdim=True)\n",
    "\n",
    "    train_acc = evaluator.eval({\n",
    "        'y_true': labels[train_mask],\n",
    "        'y_pred': y_pred[train_mask],\n",
    "    })['acc']\n",
    "    valid_acc = evaluator.eval({\n",
    "        'y_true': labels[val_mask],\n",
    "        'y_pred': y_pred[val_mask],\n",
    "    })['acc']\n",
    "    test_acc = evaluator.eval({\n",
    "        'y_true': labels[test_mask],\n",
    "        'y_pred': y_pred[test_mask],\n",
    "    })['acc']\n",
    "\n",
    "    return train_acc, valid_acc, test_acc"
   ]
  },
  {
   "cell_type": "code",
   "execution_count": 20,
   "id": "b3134806-ae8d-45ec-b3f7-bc41f62a101d",
   "metadata": {},
   "outputs": [],
   "source": [
    "evaluator = Evaluator(name='ogbn-arxiv')"
   ]
  },
  {
   "cell_type": "code",
   "execution_count": 21,
   "id": "64808988-9806-4683-a07b-0c732402c239",
   "metadata": {},
   "outputs": [
    {
     "name": "stdout",
     "output_type": "stream",
     "text": [
      "Epoch: 100, Loss: 1.0914, Train: 70.86%, Valid: 70.04% Test: 69.23%\n"
     ]
    }
   ],
   "source": [
    "optimizer = torch.optim.Adam(\n",
    "    list(model.parameters()) +\n",
    "    list(weigher.parameters()),\n",
    "    lr=lr_rate)\n",
    "for epoch in range(1, 1 + epochs):\n",
    "    loss = train(model, weigher, data.adj_t, features, train_mask, optimizer)\n",
    "    result = test(model, weigher, data.adj_t, features, labels, train_mask, val_mask, test_mask, evaluator)\n",
    "\n",
    "    if epoch % log_steps == 0:\n",
    "        train_acc, valid_acc, test_acc = result\n",
    "        print(f'Epoch: {epoch:02d}, '\n",
    "              f'Loss: {loss:.4f}, '\n",
    "              f'Train: {100 * train_acc:.2f}%, '\n",
    "              f'Valid: {100 * valid_acc:.2f}% '\n",
    "              f'Test: {100 * test_acc:.2f}%')"
   ]
  },
  {
   "cell_type": "code",
   "execution_count": 24,
   "id": "a6875c3a-1773-41f5-9cfc-38604c6a5518",
   "metadata": {},
   "outputs": [
    {
     "data": {
      "text/plain": [
       "[Parameter containing:\n",
       " tensor(1., device='cuda:0', requires_grad=True),\n",
       " Parameter containing:\n",
       " tensor(0., device='cuda:0', requires_grad=True)]"
      ]
     },
     "execution_count": 24,
     "metadata": {},
     "output_type": "execute_result"
    }
   ],
   "source": [
    "list(weigher.parameters())"
   ]
  }
 ],
 "metadata": {
  "kernelspec": {
   "display_name": "ArXiv Paper Classification",
   "language": "python",
   "name": "arxiv-paperclassification"
  },
  "language_info": {
   "codemirror_mode": {
    "name": "ipython",
    "version": 3
   },
   "file_extension": ".py",
   "mimetype": "text/x-python",
   "name": "python",
   "nbconvert_exporter": "python",
   "pygments_lexer": "ipython3",
   "version": "3.8.10"
  }
 },
 "nbformat": 4,
 "nbformat_minor": 5
}
